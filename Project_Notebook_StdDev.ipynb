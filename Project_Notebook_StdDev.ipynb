{
 "cells": [
  {
   "cell_type": "markdown",
   "metadata": {},
   "source": [
    "# **Assignment 4: PySpark Structured Streaming Using Kafka Source**"
   ]
  },
  {
   "cell_type": "code",
   "execution_count": 1,
   "metadata": {},
   "outputs": [
    {
     "name": "stderr",
     "output_type": "stream",
     "text": [
      "Ivy Default Cache set to: /root/.ivy2/cache\n",
      "The jars for the packages stored in: /root/.ivy2/jars\n",
      ":: loading settings :: url = jar:file:/usr/local/lib/python3.9/dist-packages/pyspark/jars/ivy-2.4.0.jar!/org/apache/ivy/core/settings/ivysettings.xml\n",
      "org.apache.spark#spark-sql-kafka-0-10_2.12 added as a dependency\n",
      ":: resolving dependencies :: org.apache.spark#spark-submit-parent-e6bd46ec-7ead-4f56-8986-e6e3ea12c7ad;1.0\n",
      "\tconfs: [default]\n",
      "\tfound org.apache.spark#spark-sql-kafka-0-10_2.12;3.0.0 in central\n",
      "\tfound org.apache.spark#spark-token-provider-kafka-0-10_2.12;3.0.0 in central\n",
      "\tfound org.apache.kafka#kafka-clients;2.4.1 in central\n",
      "\tfound com.github.luben#zstd-jni;1.4.4-3 in central\n",
      "\tfound org.lz4#lz4-java;1.7.1 in central\n",
      "\tfound org.xerial.snappy#snappy-java;1.1.7.5 in central\n",
      "\tfound org.slf4j#slf4j-api;1.7.30 in central\n",
      "\tfound org.spark-project.spark#unused;1.0.0 in central\n",
      "\tfound org.apache.commons#commons-pool2;2.6.2 in central\n",
      ":: resolution report :: resolve 997ms :: artifacts dl 25ms\n",
      "\t:: modules in use:\n",
      "\tcom.github.luben#zstd-jni;1.4.4-3 from central in [default]\n",
      "\torg.apache.commons#commons-pool2;2.6.2 from central in [default]\n",
      "\torg.apache.kafka#kafka-clients;2.4.1 from central in [default]\n",
      "\torg.apache.spark#spark-sql-kafka-0-10_2.12;3.0.0 from central in [default]\n",
      "\torg.apache.spark#spark-token-provider-kafka-0-10_2.12;3.0.0 from central in [default]\n",
      "\torg.lz4#lz4-java;1.7.1 from central in [default]\n",
      "\torg.slf4j#slf4j-api;1.7.30 from central in [default]\n",
      "\torg.spark-project.spark#unused;1.0.0 from central in [default]\n",
      "\torg.xerial.snappy#snappy-java;1.1.7.5 from central in [default]\n",
      "\t---------------------------------------------------------------------\n",
      "\t|                  |            modules            ||   artifacts   |\n",
      "\t|       conf       | number| search|dwnlded|evicted|| number|dwnlded|\n",
      "\t---------------------------------------------------------------------\n",
      "\t|      default     |   9   |   0   |   0   |   0   ||   9   |   0   |\n",
      "\t---------------------------------------------------------------------\n",
      ":: retrieving :: org.apache.spark#spark-submit-parent-e6bd46ec-7ead-4f56-8986-e6e3ea12c7ad\n",
      "\tconfs: [default]\n",
      "\t0 artifacts copied, 9 already retrieved (0kB/14ms)\n",
      "23/04/12 16:25:42 WARN NativeCodeLoader: Unable to load native-hadoop library for your platform... using builtin-java classes where applicable\n",
      "Using Spark's default log4j profile: org/apache/spark/log4j-defaults.properties\n",
      "Setting default log level to \"WARN\".\n",
      "To adjust logging level use sc.setLogLevel(newLevel). For SparkR, use setLogLevel(newLevel).\n"
     ]
    }
   ],
   "source": [
    "from pyspark.sql import SparkSession\n",
    "\n",
    "spark = SparkSession.\\\n",
    "        builder.\\\n",
    "        appName(\"pyspark-kafka-streaming\").\\\n",
    "        master(\"spark://spark-master:7077\").\\\n",
    "        config(\"spark.jars.packages\", \"org.apache.spark:spark-sql-kafka-0-10_2.12:3.0.0\"). \\\n",
    "        config(\"spark.executor.memory\", \"512m\").\\\n",
    "        getOrCreate()"
   ]
  },
  {
   "cell_type": "markdown",
   "metadata": {},
   "source": [
    "## ==== Q2 ===="
   ]
  },
  {
   "cell_type": "markdown",
   "metadata": {},
   "source": [
    "#### **Q2.1:** All your code for 2.1 should be in the following cell"
   ]
  },
  {
   "cell_type": "code",
   "execution_count": 2,
   "metadata": {},
   "outputs": [],
   "source": [
    "#Answer to 2.1\n",
    "df_streamed_raw = (spark\n",
    "  .readStream\n",
    "  .format(\"kafka\") \\\n",
    "  .option(\"kafka.bootstrap.servers\", \"kafka:9093\") \\\n",
    "  .option(\"subscribe\", \"topic_test1\") \\\n",
    "  .load())\n"
   ]
  },
  {
   "cell_type": "code",
   "execution_count": 3,
   "metadata": {},
   "outputs": [
    {
     "name": "stderr",
     "output_type": "stream",
     "text": [
      "23/04/12 16:25:59 WARN StreamingQueryManager: Temporary checkpoint location created which is deleted normally when the query didn't fail: /tmp/temporary-66229bb6-00a2-4e8e-8f04-969f38ef27ec. If it's required to delete it under any circumstances, please set spark.sql.streaming.forceDeleteTempCheckpointLocation to true. Important to know deleting temp checkpoint folder is best effort.\n"
     ]
    }
   ],
   "source": [
    "from pyspark.sql.types import StringType\n",
    "from pyspark.sql.functions import col\n",
    "\n",
    "# convert byte stream to string\n",
    "df_streamed_kv = (df_streamed_raw\n",
    "    .withColumn(\"key\", df_streamed_raw[\"key\"].cast(StringType()))\n",
    "    .withColumn(\"value\", df_streamed_raw[\"value\"].cast(StringType())))\n",
    "\n",
    "test_query = (df_streamed_kv \n",
    "              .writeStream \\\n",
    "              .format(\"memory\") # output to memory \\\n",
    "              .outputMode(\"update\") # only write updated rows to the sink \\\n",
    "              .queryName(\"test_query_table\")  # Name of the in memory table \\\n",
    "              .start())"
   ]
  },
  {
   "cell_type": "markdown",
   "metadata": {},
   "source": [
    "#### If all goes well, the following cell should display a table populated with values being streamed from you Kafka producer. NOTE: If you recently ran the producer, it may take a while before the table is populated. Keep rerunning the cell to check for updates:"
   ]
  },
  {
   "cell_type": "code",
   "execution_count": null,
   "metadata": {},
   "outputs": [],
   "source": [
    "spark.sql(\"select * from test_query_table\").show()"
   ]
  },
  {
   "cell_type": "code",
   "execution_count": null,
   "metadata": {},
   "outputs": [],
   "source": [
    "test_query.stop()"
   ]
  },
  {
   "cell_type": "markdown",
   "metadata": {},
   "source": [
    "#### The following cells contain code that take the streamed dataframe and formats it properly into a table. If any of the given cells fails, there might be a formatting issue with one of your previous solutions. "
   ]
  },
  {
   "cell_type": "code",
   "execution_count": 4,
   "metadata": {},
   "outputs": [],
   "source": [
    "from pyspark.sql.functions import from_json\n",
    "from pyspark.sql.types import StructType, StructField, BooleanType, LongType, IntegerType\n",
    "\n",
    "event_schema = StructType([\n",
    "    StructField(\"station\", StringType()),\n",
    "    StructField(\"valid\", StringType()),\n",
    "    StructField(\"tmpf\", StringType()),\n",
    "    StructField(\"dwpf\", StringType()),\n",
    "    StructField(\"relh\", StringType()),\n",
    "    StructField(\"feel\", StringType()),\n",
    "    StructField(\"drct\", StringType()),\n",
    "    StructField(\"sped\", StringType()),\n",
    "    StructField(\"alti\", StringType()),\n",
    "    StructField(\"mslp\", StringType()),\n",
    "    StructField(\"p01m\", StringType()),\n",
    "    StructField(\"vsby\", StringType()),\n",
    "    StructField(\"skyc1\", StringType()),\n",
    "    StructField(\"skyl1\", StringType()),\n",
    "    StructField(\"wxcodes\", StringType()),\n",
    "    StructField(\"ice_acceretion_1hr\", StringType()),\n",
    "])\n",
    "\n",
    "# Parse the events from JSON format\n",
    "df_parsed = (df_streamed_kv\n",
    "           # Sets schema for event data\n",
    "           .withColumn(\"value\", from_json(\"value\", event_schema))\n",
    "          )"
   ]
  },
  {
   "cell_type": "code",
   "execution_count": 5,
   "metadata": {},
   "outputs": [],
   "source": [
    "from pyspark.sql.functions import to_timestamp, unix_timestamp\n",
    "\n",
    "# Here, we need to convert date_time string to date_time object in the \"dd/MMM/yyyy:HH:mm:ss Z\" format.\n",
    "\n",
    "df_formatted = (df_parsed.select(\n",
    "    col(\"key\").alias(\"event_key\")\n",
    "    ,col(\"topic\").alias(\"event_topic\")\n",
    "    ,col(\"timestamp\").alias(\"event_timestamp\")\n",
    "    ,col(\"value.station\").alias(\"station\")\n",
    "#     ,col(\"value.valid\").alias(\"valid\")\n",
    "    ,to_timestamp(col(\"value.valid\"), \"yyyy-MM-dd HH:mm\").alias(\"valid\")\n",
    "    ,col(\"value.tmpf\").alias(\"tmpf\")\n",
    "    ,col(\"value.dwpf\").alias(\"dwpf\")\n",
    "    ,col(\"value.relh\").alias(\"relh\")\n",
    "    ,col(\"value.feel\").alias(\"feel\")\n",
    "    ,col(\"value.drct\").alias(\"drct\")\n",
    "    ,col(\"value.sped\").alias(\"sped\")\n",
    "    ,col(\"value.alti\").alias(\"alti\")\n",
    "    ,col(\"value.mslp\").alias(\"mslp\")\n",
    "    ,col(\"value.p01m\").alias(\"p01m\")\n",
    "    ,col(\"value.vsby\").alias(\"vsby\")\n",
    "    ,col(\"value.skyc1\").alias(\"skyc1\")\n",
    "    ,col(\"value.skyl1\").alias(\"skyl1\")\n",
    "    ,col(\"value.wxcodes\").alias(\"wxcodes\")\n",
    "    ,col(\"value.ice_acceretion_1hr\").alias(\"ice_acceretion_1hr\")\n",
    "#     cast(IntegerType()).\n",
    "))"
   ]
  },
  {
   "cell_type": "markdown",
   "metadata": {},
   "source": [
    "#### **Q2.2:** All your code for 2.2 should be in the following cell\n"
   ]
  },
  {
   "cell_type": "code",
   "execution_count": 6,
   "metadata": {},
   "outputs": [
    {
     "name": "stderr",
     "output_type": "stream",
     "text": [
      "23/04/12 16:26:02 WARN StreamingQueryManager: Temporary checkpoint location created which is deleted normally when the query didn't fail: /tmp/temporary-7f524734-f72b-49e3-aabe-804bc14480e8. If it's required to delete it under any circumstances, please set spark.sql.streaming.forceDeleteTempCheckpointLocation to true. Important to know deleting temp checkpoint folder is best effort.\n",
      "                                                                                \r"
     ]
    },
    {
     "name": "stdout",
     "output_type": "stream",
     "text": [
      "-------------------------------------------\n",
      "Batch: 0\n",
      "-------------------------------------------\n"
     ]
    },
    {
     "name": "stderr",
     "output_type": "stream",
     "text": [
      "[Stage 1:>                                                          (0 + 1) / 1]\r"
     ]
    },
    {
     "name": "stdout",
     "output_type": "stream",
     "text": [
      "+---------+-----------+---------------+-------+-----+----+----+----+----+----+----+----+----+----+----+-----+-----+-------+------------------+\n",
      "|event_key|event_topic|event_timestamp|station|valid|tmpf|dwpf|relh|feel|drct|sped|alti|mslp|p01m|vsby|skyc1|skyl1|wxcodes|ice_acceretion_1hr|\n",
      "+---------+-----------+---------------+-------+-----+----+----+----+----+----+----+----+----+----+----+-----+-----+-------+------------------+\n",
      "+---------+-----------+---------------+-------+-----+----+----+----+----+----+----+----+----+----+----+-----+-----+-------+------------------+\n",
      "\n"
     ]
    },
    {
     "name": "stderr",
     "output_type": "stream",
     "text": [
      "23/04/12 16:26:08 WARN ProcessingTimeExecutor: Current batch is falling behind. The trigger interval is 5000 milliseconds, but spent 6190 milliseconds\n",
      "                                                                                \r"
     ]
    }
   ],
   "source": [
    "# Answer to 2.2\n",
    "query = (df_formatted\n",
    "            .writeStream\n",
    "            .format(\"console\")\n",
    "            .trigger(processingTime='5 seconds')\n",
    "            .outputMode(\"append\")\n",
    "            .option(\"truncate\",'false')\n",
    "            .start()\n",
    "        )"
   ]
  },
  {
   "cell_type": "code",
   "execution_count": null,
   "metadata": {},
   "outputs": [],
   "source": [
    "# Print the name of active streams (This may be useful during debugging)\n",
    "for s in spark.streams.active:\n",
    "    print(f\"ID:{s.id} | NAME:{s.name}\")"
   ]
  },
  {
   "cell_type": "code",
   "execution_count": 7,
   "metadata": {},
   "outputs": [
    {
     "name": "stderr",
     "output_type": "stream",
     "text": [
      "23/04/12 16:26:15 ERROR WriteToDataSourceV2Exec: Data source write support org.apache.spark.sql.execution.streaming.sources.MicroBatchWrite@552debf2 is aborting.\n",
      "23/04/12 16:26:15 ERROR WriteToDataSourceV2Exec: Data source write support org.apache.spark.sql.execution.streaming.sources.MicroBatchWrite@552debf2 aborted.\n",
      "23/04/12 16:26:18 WARN TaskSetManager: Lost task 0.0 in stage 2.0 (TID 2, 172.18.0.6, executor 1): TaskKilled (Stage cancelled)\n",
      "                                                                                \r"
     ]
    }
   ],
   "source": [
    "query.stop()"
   ]
  },
  {
   "cell_type": "markdown",
   "metadata": {},
   "source": [
    "# ==== Project - Start your feature extraction queries from here ===="
   ]
  },
  {
   "cell_type": "markdown",
   "metadata": {},
   "source": [
    "## Weekly"
   ]
  },
  {
   "cell_type": "code",
   "execution_count": null,
   "metadata": {},
   "outputs": [],
   "source": [
    "query_4 = df_stream_night\\\n",
    "    .writeStream\\\n",
    "    .format(\"console\")\\\n",
    "    .trigger(processingTime=\"10 seconds\")\\\n",
    "    .outputMode(\"complete\")\\\n",
    "    .option(\"truncate\", \"false\")\\\n",
    "    .start()"
   ]
  },
  {
   "cell_type": "code",
   "execution_count": null,
   "metadata": {},
   "outputs": [],
   "source": [
    "query_4.stop()"
   ]
  },
  {
   "cell_type": "code",
   "execution_count": null,
   "metadata": {},
   "outputs": [],
   "source": [
    "# df_day_night=df_stream_day.union(df_stream_night)"
   ]
  },
  {
   "cell_type": "code",
   "execution_count": null,
   "metadata": {},
   "outputs": [],
   "source": [
    "# query_day_night = df_day_night\\\n",
    "#     .writeStream\\\n",
    "#     .format(\"console\")\\\n",
    "#     .trigger(processingTime=\"10 seconds\")\\\n",
    "#     .outputMode(\"append\")\\\n",
    "#     .option(\"truncate\", \"false\")\\\n",
    "#     .start()"
   ]
  },
  {
   "cell_type": "code",
   "execution_count": null,
   "metadata": {},
   "outputs": [],
   "source": [
    "# query_day_night.stop()"
   ]
  },
  {
   "cell_type": "code",
   "execution_count": 8,
   "metadata": {},
   "outputs": [],
   "source": [
    "from pyspark.sql.functions import avg, col, window,stddev\n",
    "# assuming your input stream is named `input_stream`\n",
    "df_stream = (df_formatted\n",
    "    .groupBy(\"station\", window(\"valid\", \"7 days\", \"1 day\"))\\\n",
    "    .agg(avg(\"tmpf\").alias(\"avg_temp\"), stddev(\"tmpf\").alias(\"stddev_temp\")))\n"
   ]
  },
  {
   "cell_type": "code",
   "execution_count": 9,
   "metadata": {},
   "outputs": [
    {
     "name": "stderr",
     "output_type": "stream",
     "text": [
      "23/04/12 16:26:39 WARN StreamingQueryManager: Temporary checkpoint location created which is deleted normally when the query didn't fail: /tmp/temporary-cece2d47-7ade-43db-b36b-239cbb2d6148. If it's required to delete it under any circumstances, please set spark.sql.streaming.forceDeleteTempCheckpointLocation to true. Important to know deleting temp checkpoint folder is best effort.\n",
      "[Stage 10:======>        (85 + 2) / 200][Stage 11:>                 (0 + 0) / 1]\r"
     ]
    }
   ],
   "source": [
    "#batch\n",
    "\n",
    "first_aggregation_query = df_stream.writeStream \\\n",
    "    .outputMode(\"complete\") \\\n",
    "    .format(\"memory\") \\\n",
    "    .queryName(\"first_aggregation\") \\\n",
    "    .trigger(processingTime=\"10 seconds\") \\\n",
    "    .start()"
   ]
  },
  {
   "cell_type": "code",
   "execution_count": 19,
   "metadata": {},
   "outputs": [
    {
     "name": "stderr",
     "output_type": "stream",
     "text": [
      "23/04/12 16:29:50 ERROR WriteToDataSourceV2Exec: Data source write support org.apache.spark.sql.execution.streaming.sources.MicroBatchWrite@64744448 is aborting.\n",
      "23/04/12 16:29:50 ERROR WriteToDataSourceV2Exec: Data source write support org.apache.spark.sql.execution.streaming.sources.MicroBatchWrite@64744448 aborted.\n",
      "23/04/12 16:29:50 WARN TaskSetManager: Lost task 39.0 in stage 61.0 (TID 2484, 172.18.0.6, executor 1): TaskKilled (Stage cancelled)\n",
      "23/04/12 16:29:50 WARN TaskSetManager: Lost task 38.0 in stage 61.0 (TID 2483, 172.18.0.7, executor 0): TaskKilled (Stage cancelled)\n",
      "[Stage 64:======>                                                (23 + 2) / 200]\r"
     ]
    }
   ],
   "source": [
    "#batch\n",
    "first_aggregation_query.stop()"
   ]
  },
  {
   "cell_type": "code",
   "execution_count": 48,
   "metadata": {
    "collapsed": true,
    "jupyter": {
     "outputs_hidden": true
    }
   },
   "outputs": [
    {
     "name": "stderr",
     "output_type": "stream",
     "text": [
      "                                                                                \r"
     ]
    },
    {
     "name": "stdout",
     "output_type": "stream",
     "text": [
      "-------------------------------------------\n",
      "Batch: 103\n",
      "-------------------------------------------\n"
     ]
    },
    {
     "name": "stderr",
     "output_type": "stream",
     "text": [
      "[Stage 1201:=>                                                    (5 + 2) / 200]\r"
     ]
    },
    {
     "name": "stdout",
     "output_type": "stream",
     "text": [
      "+------------------------------------------+-------+-----------+-------+------------------------------------------+--------+-----------+\n",
      "|Window                                    |station|temperature|station|window                                    |avg_temp|stddev_temp|\n",
      "+------------------------------------------+-------+-----------+-------+------------------------------------------+--------+-----------+\n",
      "|[2013-01-01 22:00:00, 2013-01-02 00:00:00]|RUT    |14.0       |RUT    |[2012-12-29 00:00:00, 2013-01-05 00:00:00]|30.2    |0.0        |\n",
      "|[2013-01-01 22:00:00, 2013-01-02 00:00:00]|RUT    |14.0       |RUT    |[2013-01-01 00:00:00, 2013-01-08 00:00:00]|30.2    |0.0        |\n",
      "|[2013-01-01 22:00:00, 2013-01-02 00:00:00]|RUT    |14.0       |RUT    |[2012-12-28 00:00:00, 2013-01-04 00:00:00]|30.2    |0.0        |\n",
      "|[2013-01-01 22:00:00, 2013-01-02 00:00:00]|RUT    |14.0       |RUT    |[2012-12-31 00:00:00, 2013-01-07 00:00:00]|30.2    |0.0        |\n",
      "|[2013-01-01 22:00:00, 2013-01-02 00:00:00]|RUT    |14.0       |RUT    |[2012-12-26 00:00:00, 2013-01-02 00:00:00]|30.2    |0.0        |\n",
      "|[2013-01-01 22:00:00, 2013-01-02 00:00:00]|RUT    |14.0       |RUT    |[2012-12-30 00:00:00, 2013-01-06 00:00:00]|30.2    |0.0        |\n",
      "|[2013-01-01 22:00:00, 2013-01-02 00:00:00]|RUT    |14.0       |RUT    |[2012-12-27 00:00:00, 2013-01-03 00:00:00]|30.2    |0.0        |\n",
      "|[2013-01-01 22:00:00, 2013-01-02 00:00:00]|RUT    |14.0       |RUT    |[2012-12-29 00:00:00, 2013-01-05 00:00:00]|30.2    |0.0        |\n",
      "|[2013-01-01 22:00:00, 2013-01-02 00:00:00]|RUT    |14.0       |RUT    |[2013-01-01 00:00:00, 2013-01-08 00:00:00]|30.2    |0.0        |\n",
      "|[2013-01-01 22:00:00, 2013-01-02 00:00:00]|RUT    |14.0       |RUT    |[2012-12-28 00:00:00, 2013-01-04 00:00:00]|30.2    |0.0        |\n",
      "|[2013-01-01 22:00:00, 2013-01-02 00:00:00]|RUT    |14.0       |RUT    |[2012-12-31 00:00:00, 2013-01-07 00:00:00]|30.2    |0.0        |\n",
      "|[2013-01-01 22:00:00, 2013-01-02 00:00:00]|RUT    |14.0       |RUT    |[2012-12-26 00:00:00, 2013-01-02 00:00:00]|30.2    |0.0        |\n",
      "|[2013-01-01 22:00:00, 2013-01-02 00:00:00]|RUT    |14.0       |RUT    |[2012-12-30 00:00:00, 2013-01-06 00:00:00]|30.2    |0.0        |\n",
      "|[2013-01-01 22:00:00, 2013-01-02 00:00:00]|RUT    |14.0       |RUT    |[2012-12-27 00:00:00, 2013-01-03 00:00:00]|30.2    |0.0        |\n",
      "|[2013-01-01 22:00:00, 2013-01-02 00:00:00]|RUT    |14.0       |RUT    |[2012-12-29 00:00:00, 2013-01-05 00:00:00]|30.2    |0.0        |\n",
      "|[2013-01-01 22:00:00, 2013-01-02 00:00:00]|RUT    |14.0       |RUT    |[2013-01-01 00:00:00, 2013-01-08 00:00:00]|30.2    |0.0        |\n",
      "|[2013-01-01 22:00:00, 2013-01-02 00:00:00]|RUT    |14.0       |RUT    |[2012-12-28 00:00:00, 2013-01-04 00:00:00]|30.2    |0.0        |\n",
      "|[2013-01-01 22:00:00, 2013-01-02 00:00:00]|RUT    |14.0       |RUT    |[2012-12-31 00:00:00, 2013-01-07 00:00:00]|30.2    |0.0        |\n",
      "|[2013-01-01 22:00:00, 2013-01-02 00:00:00]|RUT    |14.0       |RUT    |[2012-12-26 00:00:00, 2013-01-02 00:00:00]|30.2    |0.0        |\n",
      "|[2013-01-01 22:00:00, 2013-01-02 00:00:00]|RUT    |14.0       |RUT    |[2012-12-30 00:00:00, 2013-01-06 00:00:00]|30.2    |0.0        |\n",
      "+------------------------------------------+-------+-----------+-------+------------------------------------------+--------+-----------+\n",
      "only showing top 20 rows\n",
      "\n"
     ]
    },
    {
     "name": "stderr",
     "output_type": "stream",
     "text": [
      "23/04/12 17:08:56 WARN ProcessingTimeExecutor: Current batch is falling behind. The trigger interval is 10000 milliseconds, but spent 30712 milliseconds\n",
      "                                                                                \r"
     ]
    },
    {
     "name": "stdout",
     "output_type": "stream",
     "text": [
      "-------------------------------------------\n",
      "Batch: 133\n",
      "-------------------------------------------\n",
      "+------------------------------------------+-------+-----------+\n",
      "|Window                                    |station|temperature|\n",
      "+------------------------------------------+-------+-----------+\n",
      "|[2013-01-01 22:00:00, 2013-01-02 00:00:00]|RUT    |14.0       |\n",
      "|[2013-01-01 22:00:00, 2013-01-02 00:00:00]|RUT    |14.0       |\n",
      "|[2013-01-01 22:00:00, 2013-01-02 00:00:00]|RUT    |14.0       |\n",
      "|[2013-01-01 22:00:00, 2013-01-02 00:00:00]|RUT    |12.2       |\n",
      "|[2013-01-01 22:00:00, 2013-01-02 00:00:00]|RUT    |12.2       |\n",
      "|[2013-01-01 14:00:00, 2013-01-01 16:00:00]|VSF    |26.06      |\n",
      "|[2013-01-01 14:00:00, 2013-01-01 16:00:00]|VSF    |24.98      |\n",
      "|[2013-01-01 06:00:00, 2013-01-01 08:00:00]|RUT    |30.2       |\n",
      "|[2013-01-01 06:00:00, 2013-01-01 08:00:00]|RUT    |30.2       |\n",
      "|[2013-01-01 06:00:00, 2013-01-01 08:00:00]|RUT    |30.2       |\n",
      "|[2013-01-01 06:00:00, 2013-01-01 08:00:00]|RUT    |30.2       |\n",
      "|[2013-01-01 06:00:00, 2013-01-01 08:00:00]|RUT    |30.2       |\n",
      "|[2013-01-01 22:00:00, 2013-01-02 00:00:00]|FSO    |6.98       |\n",
      "|[2013-01-01 22:00:00, 2013-01-02 00:00:00]|FSO    |6.8        |\n",
      "|[2013-01-01 22:00:00, 2013-01-02 00:00:00]|FSO    |6.8        |\n",
      "|[2013-01-01 22:00:00, 2013-01-02 00:00:00]|FSO    |6.8        |\n",
      "|[2013-01-01 22:00:00, 2013-01-02 00:00:00]|FSO    |6.8        |\n",
      "|[2013-01-01 22:00:00, 2013-01-02 00:00:00]|FSO    |6.8        |\n",
      "|[2013-01-01 19:00:00, 2013-01-01 21:00:00]|CDA    |14.0       |\n",
      "|[2013-01-01 19:00:00, 2013-01-01 21:00:00]|CDA    |14.36      |\n",
      "+------------------------------------------+-------+-----------+\n",
      "only showing top 20 rows\n",
      "\n"
     ]
    },
    {
     "name": "stderr",
     "output_type": "stream",
     "text": [
      "23/04/12 17:09:09 WARN ProcessingTimeExecutor: Current batch is falling behind. The trigger interval is 10000 milliseconds, but spent 35025 milliseconds\n",
      "23/04/12 17:09:17 WARN ProcessingTimeExecutor: Current batch is falling behind. The trigger interval is 10000 milliseconds, but spent 36520 milliseconds\n"
     ]
    },
    {
     "name": "stdout",
     "output_type": "stream",
     "text": [
      "-------------------------------------------\n",
      "Batch: 70\n",
      "-------------------------------------------\n",
      "+------+-------+-----------+-------+------+--------+-----------+\n",
      "|Window|station|temperature|station|window|avg_temp|stddev_temp|\n",
      "+------+-------+-----------+-------+------+--------+-----------+\n",
      "+------+-------+-----------+-------+------+--------+-----------+\n",
      "\n"
     ]
    },
    {
     "name": "stderr",
     "output_type": "stream",
     "text": [
      "                                                                                \r"
     ]
    },
    {
     "name": "stdout",
     "output_type": "stream",
     "text": [
      "-------------------------------------------\n",
      "Batch: 104\n",
      "-------------------------------------------\n",
      "+------------------------------------------+-------+-----------+-------+------------------------------------------+--------+-----------+\n",
      "|Window                                    |station|temperature|station|window                                    |avg_temp|stddev_temp|\n",
      "+------------------------------------------+-------+-----------+-------+------------------------------------------+--------+-----------+\n",
      "|[2013-01-01 22:00:00, 2013-01-02 00:00:00]|RUT    |14.0       |RUT    |[2012-12-29 00:00:00, 2013-01-05 00:00:00]|30.2    |0.0        |\n",
      "|[2013-01-01 22:00:00, 2013-01-02 00:00:00]|RUT    |14.0       |RUT    |[2013-01-01 00:00:00, 2013-01-08 00:00:00]|30.2    |0.0        |\n",
      "|[2013-01-01 22:00:00, 2013-01-02 00:00:00]|RUT    |14.0       |RUT    |[2012-12-28 00:00:00, 2013-01-04 00:00:00]|30.2    |0.0        |\n",
      "|[2013-01-01 22:00:00, 2013-01-02 00:00:00]|RUT    |14.0       |RUT    |[2012-12-31 00:00:00, 2013-01-07 00:00:00]|30.2    |0.0        |\n",
      "|[2013-01-01 22:00:00, 2013-01-02 00:00:00]|RUT    |14.0       |RUT    |[2012-12-26 00:00:00, 2013-01-02 00:00:00]|30.2    |0.0        |\n",
      "|[2013-01-01 22:00:00, 2013-01-02 00:00:00]|RUT    |14.0       |RUT    |[2012-12-30 00:00:00, 2013-01-06 00:00:00]|30.2    |0.0        |\n",
      "|[2013-01-01 22:00:00, 2013-01-02 00:00:00]|RUT    |14.0       |RUT    |[2012-12-27 00:00:00, 2013-01-03 00:00:00]|30.2    |0.0        |\n",
      "|[2013-01-01 22:00:00, 2013-01-02 00:00:00]|RUT    |14.0       |RUT    |[2012-12-29 00:00:00, 2013-01-05 00:00:00]|30.2    |0.0        |\n",
      "|[2013-01-01 22:00:00, 2013-01-02 00:00:00]|RUT    |14.0       |RUT    |[2013-01-01 00:00:00, 2013-01-08 00:00:00]|30.2    |0.0        |\n",
      "|[2013-01-01 22:00:00, 2013-01-02 00:00:00]|RUT    |14.0       |RUT    |[2012-12-28 00:00:00, 2013-01-04 00:00:00]|30.2    |0.0        |\n",
      "|[2013-01-01 22:00:00, 2013-01-02 00:00:00]|RUT    |14.0       |RUT    |[2012-12-31 00:00:00, 2013-01-07 00:00:00]|30.2    |0.0        |\n",
      "|[2013-01-01 22:00:00, 2013-01-02 00:00:00]|RUT    |14.0       |RUT    |[2012-12-26 00:00:00, 2013-01-02 00:00:00]|30.2    |0.0        |\n",
      "|[2013-01-01 22:00:00, 2013-01-02 00:00:00]|RUT    |14.0       |RUT    |[2012-12-30 00:00:00, 2013-01-06 00:00:00]|30.2    |0.0        |\n",
      "|[2013-01-01 22:00:00, 2013-01-02 00:00:00]|RUT    |14.0       |RUT    |[2012-12-27 00:00:00, 2013-01-03 00:00:00]|30.2    |0.0        |\n",
      "|[2013-01-01 22:00:00, 2013-01-02 00:00:00]|RUT    |14.0       |RUT    |[2012-12-29 00:00:00, 2013-01-05 00:00:00]|30.2    |0.0        |\n",
      "|[2013-01-01 22:00:00, 2013-01-02 00:00:00]|RUT    |14.0       |RUT    |[2013-01-01 00:00:00, 2013-01-08 00:00:00]|30.2    |0.0        |\n",
      "|[2013-01-01 22:00:00, 2013-01-02 00:00:00]|RUT    |14.0       |RUT    |[2012-12-28 00:00:00, 2013-01-04 00:00:00]|30.2    |0.0        |\n",
      "|[2013-01-01 22:00:00, 2013-01-02 00:00:00]|RUT    |14.0       |RUT    |[2012-12-31 00:00:00, 2013-01-07 00:00:00]|30.2    |0.0        |\n",
      "|[2013-01-01 22:00:00, 2013-01-02 00:00:00]|RUT    |14.0       |RUT    |[2012-12-26 00:00:00, 2013-01-02 00:00:00]|30.2    |0.0        |\n",
      "|[2013-01-01 22:00:00, 2013-01-02 00:00:00]|RUT    |14.0       |RUT    |[2012-12-30 00:00:00, 2013-01-06 00:00:00]|30.2    |0.0        |\n",
      "+------------------------------------------+-------+-----------+-------+------------------------------------------+--------+-----------+\n",
      "only showing top 20 rows\n",
      "\n"
     ]
    },
    {
     "name": "stderr",
     "output_type": "stream",
     "text": [
      "23/04/12 17:09:24 WARN ProcessingTimeExecutor: Current batch is falling behind. The trigger interval is 10000 milliseconds, but spent 28081 milliseconds\n",
      "                                                                                \r"
     ]
    },
    {
     "name": "stdout",
     "output_type": "stream",
     "text": [
      "-------------------------------------------\n",
      "Batch: 134\n",
      "-------------------------------------------\n",
      "+------------------------------------------+-------+-----------+\n",
      "|Window                                    |station|temperature|\n",
      "+------------------------------------------+-------+-----------+\n",
      "|[2013-01-01 22:00:00, 2013-01-02 00:00:00]|RUT    |14.0       |\n",
      "|[2013-01-01 22:00:00, 2013-01-02 00:00:00]|RUT    |14.0       |\n",
      "|[2013-01-01 22:00:00, 2013-01-02 00:00:00]|RUT    |14.0       |\n",
      "|[2013-01-01 22:00:00, 2013-01-02 00:00:00]|RUT    |12.2       |\n",
      "|[2013-01-01 22:00:00, 2013-01-02 00:00:00]|RUT    |12.2       |\n",
      "|[2013-01-01 14:00:00, 2013-01-01 16:00:00]|VSF    |26.06      |\n",
      "|[2013-01-01 14:00:00, 2013-01-01 16:00:00]|VSF    |24.98      |\n",
      "|[2013-01-01 06:00:00, 2013-01-01 08:00:00]|RUT    |30.2       |\n",
      "|[2013-01-01 06:00:00, 2013-01-01 08:00:00]|RUT    |30.2       |\n",
      "|[2013-01-01 06:00:00, 2013-01-01 08:00:00]|RUT    |30.2       |\n",
      "|[2013-01-01 06:00:00, 2013-01-01 08:00:00]|RUT    |30.2       |\n",
      "|[2013-01-01 06:00:00, 2013-01-01 08:00:00]|RUT    |30.2       |\n",
      "|[2013-01-01 22:00:00, 2013-01-02 00:00:00]|FSO    |6.98       |\n",
      "|[2013-01-01 22:00:00, 2013-01-02 00:00:00]|FSO    |6.8        |\n",
      "|[2013-01-01 22:00:00, 2013-01-02 00:00:00]|FSO    |6.8        |\n",
      "|[2013-01-01 22:00:00, 2013-01-02 00:00:00]|FSO    |6.8        |\n",
      "|[2013-01-01 22:00:00, 2013-01-02 00:00:00]|FSO    |6.8        |\n",
      "|[2013-01-01 22:00:00, 2013-01-02 00:00:00]|FSO    |6.8        |\n",
      "|[2013-01-01 19:00:00, 2013-01-01 21:00:00]|CDA    |14.0       |\n",
      "|[2013-01-01 19:00:00, 2013-01-01 21:00:00]|CDA    |14.36      |\n",
      "+------------------------------------------+-------+-----------+\n",
      "only showing top 20 rows\n",
      "\n"
     ]
    },
    {
     "name": "stderr",
     "output_type": "stream",
     "text": [
      "23/04/12 17:09:32 WARN ProcessingTimeExecutor: Current batch is falling behind. The trigger interval is 10000 milliseconds, but spent 22548 milliseconds\n",
      "                                                                                \r"
     ]
    },
    {
     "name": "stdout",
     "output_type": "stream",
     "text": [
      "-------------------------------------------\n",
      "Batch: 105\n",
      "-------------------------------------------\n",
      "+------------------------------------------+-------+-----------+-------+------------------------------------------+--------+-----------+\n",
      "|Window                                    |station|temperature|station|window                                    |avg_temp|stddev_temp|\n",
      "+------------------------------------------+-------+-----------+-------+------------------------------------------+--------+-----------+\n",
      "|[2013-01-01 22:00:00, 2013-01-02 00:00:00]|RUT    |14.0       |RUT    |[2012-12-29 00:00:00, 2013-01-05 00:00:00]|30.2    |0.0        |\n",
      "|[2013-01-01 22:00:00, 2013-01-02 00:00:00]|RUT    |14.0       |RUT    |[2013-01-01 00:00:00, 2013-01-08 00:00:00]|30.2    |0.0        |\n",
      "|[2013-01-01 22:00:00, 2013-01-02 00:00:00]|RUT    |14.0       |RUT    |[2012-12-28 00:00:00, 2013-01-04 00:00:00]|30.2    |0.0        |\n",
      "|[2013-01-01 22:00:00, 2013-01-02 00:00:00]|RUT    |14.0       |RUT    |[2012-12-31 00:00:00, 2013-01-07 00:00:00]|30.2    |0.0        |\n",
      "|[2013-01-01 22:00:00, 2013-01-02 00:00:00]|RUT    |14.0       |RUT    |[2012-12-26 00:00:00, 2013-01-02 00:00:00]|30.2    |0.0        |\n",
      "|[2013-01-01 22:00:00, 2013-01-02 00:00:00]|RUT    |14.0       |RUT    |[2012-12-30 00:00:00, 2013-01-06 00:00:00]|30.2    |0.0        |\n",
      "|[2013-01-01 22:00:00, 2013-01-02 00:00:00]|RUT    |14.0       |RUT    |[2012-12-27 00:00:00, 2013-01-03 00:00:00]|30.2    |0.0        |\n",
      "|[2013-01-01 22:00:00, 2013-01-02 00:00:00]|RUT    |14.0       |RUT    |[2012-12-29 00:00:00, 2013-01-05 00:00:00]|30.2    |0.0        |\n",
      "|[2013-01-01 22:00:00, 2013-01-02 00:00:00]|RUT    |14.0       |RUT    |[2013-01-01 00:00:00, 2013-01-08 00:00:00]|30.2    |0.0        |\n",
      "|[2013-01-01 22:00:00, 2013-01-02 00:00:00]|RUT    |14.0       |RUT    |[2012-12-28 00:00:00, 2013-01-04 00:00:00]|30.2    |0.0        |\n",
      "|[2013-01-01 22:00:00, 2013-01-02 00:00:00]|RUT    |14.0       |RUT    |[2012-12-31 00:00:00, 2013-01-07 00:00:00]|30.2    |0.0        |\n",
      "|[2013-01-01 22:00:00, 2013-01-02 00:00:00]|RUT    |14.0       |RUT    |[2012-12-26 00:00:00, 2013-01-02 00:00:00]|30.2    |0.0        |\n",
      "|[2013-01-01 22:00:00, 2013-01-02 00:00:00]|RUT    |14.0       |RUT    |[2012-12-30 00:00:00, 2013-01-06 00:00:00]|30.2    |0.0        |\n",
      "|[2013-01-01 22:00:00, 2013-01-02 00:00:00]|RUT    |14.0       |RUT    |[2012-12-27 00:00:00, 2013-01-03 00:00:00]|30.2    |0.0        |\n",
      "|[2013-01-01 22:00:00, 2013-01-02 00:00:00]|RUT    |14.0       |RUT    |[2012-12-29 00:00:00, 2013-01-05 00:00:00]|30.2    |0.0        |\n",
      "|[2013-01-01 22:00:00, 2013-01-02 00:00:00]|RUT    |14.0       |RUT    |[2013-01-01 00:00:00, 2013-01-08 00:00:00]|30.2    |0.0        |\n",
      "|[2013-01-01 22:00:00, 2013-01-02 00:00:00]|RUT    |14.0       |RUT    |[2012-12-28 00:00:00, 2013-01-04 00:00:00]|30.2    |0.0        |\n",
      "|[2013-01-01 22:00:00, 2013-01-02 00:00:00]|RUT    |14.0       |RUT    |[2012-12-31 00:00:00, 2013-01-07 00:00:00]|30.2    |0.0        |\n",
      "|[2013-01-01 22:00:00, 2013-01-02 00:00:00]|RUT    |14.0       |RUT    |[2012-12-26 00:00:00, 2013-01-02 00:00:00]|30.2    |0.0        |\n",
      "|[2013-01-01 22:00:00, 2013-01-02 00:00:00]|RUT    |14.0       |RUT    |[2012-12-30 00:00:00, 2013-01-06 00:00:00]|30.2    |0.0        |\n",
      "+------------------------------------------+-------+-----------+-------+------------------------------------------+--------+-----------+\n",
      "only showing top 20 rows\n",
      "\n"
     ]
    },
    {
     "name": "stderr",
     "output_type": "stream",
     "text": [
      "23/04/12 17:09:39 WARN ProcessingTimeExecutor: Current batch is falling behind. The trigger interval is 10000 milliseconds, but spent 15168 milliseconds\n",
      "                                                                                \r"
     ]
    },
    {
     "name": "stdout",
     "output_type": "stream",
     "text": [
      "-------------------------------------------\n",
      "Batch: 71\n",
      "-------------------------------------------\n",
      "+------+-------+-----------+-------+------+--------+-----------+\n",
      "|Window|station|temperature|station|window|avg_temp|stddev_temp|\n",
      "+------+-------+-----------+-------+------+--------+-----------+\n",
      "+------+-------+-----------+-------+------+--------+-----------+\n",
      "\n"
     ]
    },
    {
     "name": "stderr",
     "output_type": "stream",
     "text": [
      "23/04/12 17:09:51 WARN ProcessingTimeExecutor: Current batch is falling behind. The trigger interval is 10000 milliseconds, but spent 34309 milliseconds\n",
      "23/04/12 17:10:04 WARN ProcessingTimeExecutor: Current batch is falling behind. The trigger interval is 10000 milliseconds, but spent 32387 milliseconds\n"
     ]
    },
    {
     "name": "stdout",
     "output_type": "stream",
     "text": [
      "-------------------------------------------\n",
      "Batch: 135\n",
      "-------------------------------------------\n",
      "+------------------------------------------+-------+-----------+\n",
      "|Window                                    |station|temperature|\n",
      "+------------------------------------------+-------+-----------+\n",
      "|[2013-01-01 22:00:00, 2013-01-02 00:00:00]|RUT    |14.0       |\n",
      "|[2013-01-01 22:00:00, 2013-01-02 00:00:00]|RUT    |14.0       |\n",
      "|[2013-01-01 22:00:00, 2013-01-02 00:00:00]|RUT    |14.0       |\n",
      "|[2013-01-01 22:00:00, 2013-01-02 00:00:00]|RUT    |12.2       |\n",
      "|[2013-01-01 22:00:00, 2013-01-02 00:00:00]|RUT    |12.2       |\n",
      "|[2013-01-01 14:00:00, 2013-01-01 16:00:00]|VSF    |26.06      |\n",
      "|[2013-01-01 14:00:00, 2013-01-01 16:00:00]|VSF    |24.98      |\n",
      "|[2013-01-01 06:00:00, 2013-01-01 08:00:00]|RUT    |30.2       |\n",
      "|[2013-01-01 06:00:00, 2013-01-01 08:00:00]|RUT    |30.2       |\n",
      "|[2013-01-01 06:00:00, 2013-01-01 08:00:00]|RUT    |30.2       |\n",
      "|[2013-01-01 06:00:00, 2013-01-01 08:00:00]|RUT    |30.2       |\n",
      "|[2013-01-01 06:00:00, 2013-01-01 08:00:00]|RUT    |30.2       |\n",
      "|[2013-01-01 22:00:00, 2013-01-02 00:00:00]|FSO    |6.98       |\n",
      "|[2013-01-01 22:00:00, 2013-01-02 00:00:00]|FSO    |6.8        |\n",
      "|[2013-01-01 22:00:00, 2013-01-02 00:00:00]|FSO    |6.8        |\n",
      "|[2013-01-01 22:00:00, 2013-01-02 00:00:00]|FSO    |6.8        |\n",
      "|[2013-01-01 22:00:00, 2013-01-02 00:00:00]|FSO    |6.8        |\n",
      "|[2013-01-01 22:00:00, 2013-01-02 00:00:00]|FSO    |6.8        |\n",
      "|[2013-01-01 19:00:00, 2013-01-01 21:00:00]|CDA    |14.0       |\n",
      "|[2013-01-01 19:00:00, 2013-01-01 21:00:00]|CDA    |14.36      |\n",
      "+------------------------------------------+-------+-----------+\n",
      "only showing top 20 rows\n",
      "\n"
     ]
    },
    {
     "name": "stderr",
     "output_type": "stream",
     "text": [
      "                                                                                \r"
     ]
    },
    {
     "name": "stdout",
     "output_type": "stream",
     "text": [
      "-------------------------------------------\n",
      "Batch: 106\n",
      "-------------------------------------------\n",
      "+------------------------------------------+-------+-----------+-------+------------------------------------------+--------+-----------+\n",
      "|Window                                    |station|temperature|station|window                                    |avg_temp|stddev_temp|\n",
      "+------------------------------------------+-------+-----------+-------+------------------------------------------+--------+-----------+\n",
      "|[2013-01-01 22:00:00, 2013-01-02 00:00:00]|RUT    |14.0       |RUT    |[2012-12-29 00:00:00, 2013-01-05 00:00:00]|30.2    |0.0        |\n",
      "|[2013-01-01 22:00:00, 2013-01-02 00:00:00]|RUT    |14.0       |RUT    |[2013-01-01 00:00:00, 2013-01-08 00:00:00]|30.2    |0.0        |\n",
      "|[2013-01-01 22:00:00, 2013-01-02 00:00:00]|RUT    |14.0       |RUT    |[2012-12-28 00:00:00, 2013-01-04 00:00:00]|30.2    |0.0        |\n",
      "|[2013-01-01 22:00:00, 2013-01-02 00:00:00]|RUT    |14.0       |RUT    |[2012-12-31 00:00:00, 2013-01-07 00:00:00]|30.2    |0.0        |\n",
      "|[2013-01-01 22:00:00, 2013-01-02 00:00:00]|RUT    |14.0       |RUT    |[2012-12-26 00:00:00, 2013-01-02 00:00:00]|30.2    |0.0        |\n",
      "|[2013-01-01 22:00:00, 2013-01-02 00:00:00]|RUT    |14.0       |RUT    |[2012-12-30 00:00:00, 2013-01-06 00:00:00]|30.2    |0.0        |\n",
      "|[2013-01-01 22:00:00, 2013-01-02 00:00:00]|RUT    |14.0       |RUT    |[2012-12-27 00:00:00, 2013-01-03 00:00:00]|30.2    |0.0        |\n",
      "|[2013-01-01 22:00:00, 2013-01-02 00:00:00]|RUT    |14.0       |RUT    |[2012-12-29 00:00:00, 2013-01-05 00:00:00]|30.2    |0.0        |\n",
      "|[2013-01-01 22:00:00, 2013-01-02 00:00:00]|RUT    |14.0       |RUT    |[2013-01-01 00:00:00, 2013-01-08 00:00:00]|30.2    |0.0        |\n",
      "|[2013-01-01 22:00:00, 2013-01-02 00:00:00]|RUT    |14.0       |RUT    |[2012-12-28 00:00:00, 2013-01-04 00:00:00]|30.2    |0.0        |\n",
      "|[2013-01-01 22:00:00, 2013-01-02 00:00:00]|RUT    |14.0       |RUT    |[2012-12-31 00:00:00, 2013-01-07 00:00:00]|30.2    |0.0        |\n",
      "|[2013-01-01 22:00:00, 2013-01-02 00:00:00]|RUT    |14.0       |RUT    |[2012-12-26 00:00:00, 2013-01-02 00:00:00]|30.2    |0.0        |\n",
      "|[2013-01-01 22:00:00, 2013-01-02 00:00:00]|RUT    |14.0       |RUT    |[2012-12-30 00:00:00, 2013-01-06 00:00:00]|30.2    |0.0        |\n",
      "|[2013-01-01 22:00:00, 2013-01-02 00:00:00]|RUT    |14.0       |RUT    |[2012-12-27 00:00:00, 2013-01-03 00:00:00]|30.2    |0.0        |\n",
      "|[2013-01-01 22:00:00, 2013-01-02 00:00:00]|RUT    |14.0       |RUT    |[2012-12-29 00:00:00, 2013-01-05 00:00:00]|30.2    |0.0        |\n",
      "|[2013-01-01 22:00:00, 2013-01-02 00:00:00]|RUT    |14.0       |RUT    |[2013-01-01 00:00:00, 2013-01-08 00:00:00]|30.2    |0.0        |\n",
      "|[2013-01-01 22:00:00, 2013-01-02 00:00:00]|RUT    |14.0       |RUT    |[2012-12-28 00:00:00, 2013-01-04 00:00:00]|30.2    |0.0        |\n",
      "|[2013-01-01 22:00:00, 2013-01-02 00:00:00]|RUT    |14.0       |RUT    |[2012-12-31 00:00:00, 2013-01-07 00:00:00]|30.2    |0.0        |\n",
      "|[2013-01-01 22:00:00, 2013-01-02 00:00:00]|RUT    |14.0       |RUT    |[2012-12-26 00:00:00, 2013-01-02 00:00:00]|30.2    |0.0        |\n",
      "|[2013-01-01 22:00:00, 2013-01-02 00:00:00]|RUT    |14.0       |RUT    |[2012-12-30 00:00:00, 2013-01-06 00:00:00]|30.2    |0.0        |\n",
      "+------------------------------------------+-------+-----------+-------+------------------------------------------+--------+-----------+\n",
      "only showing top 20 rows\n",
      "\n"
     ]
    },
    {
     "name": "stderr",
     "output_type": "stream",
     "text": [
      "23/04/12 17:10:13 WARN ProcessingTimeExecutor: Current batch is falling behind. The trigger interval is 10000 milliseconds, but spent 33379 milliseconds\n",
      "23/04/12 17:10:22 WARN ProcessingTimeExecutor: Current batch is falling behind. The trigger interval is 10000 milliseconds, but spent 30656 milliseconds\n"
     ]
    },
    {
     "name": "stdout",
     "output_type": "stream",
     "text": [
      "-------------------------------------------\n",
      "Batch: 72\n",
      "-------------------------------------------\n",
      "+------+-------+-----------+-------+------+--------+-----------+\n",
      "|Window|station|temperature|station|window|avg_temp|stddev_temp|\n",
      "+------+-------+-----------+-------+------+--------+-----------+\n",
      "+------+-------+-----------+-------+------+--------+-----------+\n",
      "\n"
     ]
    },
    {
     "name": "stderr",
     "output_type": "stream",
     "text": [
      "[Stage 1231:(127 + 2) / 200][Stage 1232:> (0 + 0) / 1][Stage 1233:> (0 + 0) / 2]\r"
     ]
    }
   ],
   "source": [
    "#batch\n",
    "\n",
    "first_aggregation_output = spark.sql(\"SELECT * FROM first_aggregation\")"
   ]
  },
  {
   "cell_type": "code",
   "execution_count": null,
   "metadata": {},
   "outputs": [],
   "source": [
    "query_stream = df_stream\\\n",
    "    .writeStream\\\n",
    "    .format(\"console\")\\\n",
    "    .trigger(processingTime=\"10 seconds\")\\\n",
    "    .outputMode(\"update\")\\\n",
    "    .option(\"truncate\", \"false\")\\\n",
    "    .start()"
   ]
  },
  {
   "cell_type": "code",
   "execution_count": null,
   "metadata": {},
   "outputs": [],
   "source": [
    "query_stream.stop()"
   ]
  },
  {
   "cell_type": "markdown",
   "metadata": {},
   "source": [
    "## 2-hour Window "
   ]
  },
  {
   "cell_type": "code",
   "execution_count": 14,
   "metadata": {},
   "outputs": [
    {
     "name": "stderr",
     "output_type": "stream",
     "text": [
      "23/04/12 16:29:04 WARN ProcessingTimeExecutor: Current batch is falling behind. The trigger interval is 10000 milliseconds, but spent 11213 milliseconds\n",
      "23/04/12 16:29:15 WARN ProcessingTimeExecutor: Current batch is falling behind. The trigger interval is 10000 milliseconds, but spent 10351 milliseconds\n",
      "[Stage 50:=========>                                             (33 + 2) / 200]\r"
     ]
    }
   ],
   "source": [
    "from pyspark.sql.functions import *\n",
    "\n",
    "from pyspark.sql.functions import window\n",
    "df_windowed_2hrs = (df_formatted\n",
    "#     .withWatermark(\"valid\", \"30 minutes\")\n",
    "    .groupBy(\"station\", window(\"valid\", \"2 hours\",\"1 hour\"))\\\n",
    "    .agg(collect_list(\"tmpf\").alias(\"temp_list\")))"
   ]
  },
  {
   "cell_type": "code",
   "execution_count": 15,
   "metadata": {},
   "outputs": [
    {
     "name": "stderr",
     "output_type": "stream",
     "text": [
      "23/04/12 16:29:18 WARN StreamingQueryManager: Temporary checkpoint location created which is deleted normally when the query didn't fail: /tmp/temporary-71ff4c1b-4471-4dde-9d06-3821fb46d505. If it's required to delete it under any circumstances, please set spark.sql.streaming.forceDeleteTempCheckpointLocation to true. Important to know deleting temp checkpoint folder is best effort.\n",
      "[Stage 50:(119 + 2) / 200][Stage 51:>   (0 + 0) / 1][Stage 52:>   (0 + 0) / 1]1]\r"
     ]
    }
   ],
   "source": [
    "query_5=df_windowed_2hrs\\\n",
    "    .writeStream\\\n",
    "    .format(\"console\")\\\n",
    "    .trigger(processingTime=\"10 seconds\")\\\n",
    "    .outputMode(\"complete\")\\\n",
    "    .option(\"truncate\", \"false\")\\\n",
    "    .start()"
   ]
  },
  {
   "cell_type": "code",
   "execution_count": 16,
   "metadata": {},
   "outputs": [
    {
     "name": "stderr",
     "output_type": "stream",
     "text": [
      "23/04/12 16:29:23 ERROR WriteToDataSourceV2Exec: Data source write support org.apache.spark.sql.execution.streaming.sources.MicroBatchWrite@33ac857b is aborting.\n",
      "23/04/12 16:29:23 ERROR WriteToDataSourceV2Exec: Data source write support org.apache.spark.sql.execution.streaming.sources.MicroBatchWrite@33ac857b aborted.\n",
      "[Stage 50:=============>(192 + 2) / 200][Stage 51:>                 (0 + 0) / 1]\r"
     ]
    }
   ],
   "source": [
    "query_5.stop()"
   ]
  },
  {
   "cell_type": "code",
   "execution_count": 17,
   "metadata": {},
   "outputs": [
    {
     "name": "stderr",
     "output_type": "stream",
     "text": [
      "23/04/12 16:29:26 WARN ProcessingTimeExecutor: Current batch is falling behind. The trigger interval is 10000 milliseconds, but spent 11546 milliseconds\n"
     ]
    }
   ],
   "source": [
    "from pyspark.sql.functions import explode\n",
    "\n",
    "df_exploded = df_windowed_2hrs.select(\"Window\", \"station\", explode(\"temp_list\").alias(\"temperature\"))"
   ]
  },
  {
   "cell_type": "code",
   "execution_count": 35,
   "metadata": {},
   "outputs": [
    {
     "name": "stderr",
     "output_type": "stream",
     "text": [
      "[Stage 807:(160 + 2) / 200][Stage 809:>(0 + 0) / 200][Stage 810:>  (0 + 0) / 1]\r"
     ]
    }
   ],
   "source": [
    "df_exploded = df_exploded.withColumn(\"prev_week_start\", date_sub(\"window.start\", 7))\n",
    "df_exploded = df_exploded.withColumn(\"prev_week_end\", date_sub(\"window.start\", 1))"
   ]
  },
  {
   "cell_type": "code",
   "execution_count": 36,
   "metadata": {
    "collapsed": true,
    "jupyter": {
     "outputs_hidden": true
    }
   },
   "outputs": [
    {
     "name": "stderr",
     "output_type": "stream",
     "text": [
      "23/04/12 16:54:06 WARN StreamingQueryManager: Temporary checkpoint location created which is deleted normally when the query didn't fail: /tmp/temporary-f132deeb-e011-48c9-a891-c88325108b4a. If it's required to delete it under any circumstances, please set spark.sql.streaming.forceDeleteTempCheckpointLocation to true. Important to know deleting temp checkpoint folder is best effort.\n",
      "23/04/12 16:54:08 WARN ProcessingTimeExecutor: Current batch is falling behind. The trigger interval is 10000 milliseconds, but spent 17296 milliseconds\n"
     ]
    },
    {
     "name": "stdout",
     "output_type": "stream",
     "text": [
      "-------------------------------------------\n",
      "Batch: 35\n",
      "-------------------------------------------\n",
      "+------+-------+-----------+-------+------+--------+-----------+\n",
      "|Window|station|temperature|station|window|avg_temp|stddev_temp|\n",
      "+------+-------+-----------+-------+------+--------+-----------+\n",
      "+------+-------+-----------+-------+------+--------+-----------+\n",
      "\n"
     ]
    },
    {
     "name": "stderr",
     "output_type": "stream",
     "text": [
      "                                                                                \r"
     ]
    },
    {
     "name": "stdout",
     "output_type": "stream",
     "text": [
      "-------------------------------------------\n",
      "Batch: 69\n",
      "-------------------------------------------\n",
      "+------------------------------------------+-------+-----------+-------+------------------------------------------+--------+-----------+\n",
      "|Window                                    |station|temperature|station|window                                    |avg_temp|stddev_temp|\n",
      "+------------------------------------------+-------+-----------+-------+------------------------------------------+--------+-----------+\n",
      "|[2013-01-01 14:00:00, 2013-01-01 16:00:00]|VSF    |26.06      |VSF    |[2012-12-30 00:00:00, 2013-01-06 00:00:00]|32.0    |0.0        |\n",
      "|[2013-01-01 14:00:00, 2013-01-01 16:00:00]|VSF    |26.06      |VSF    |[2012-12-28 00:00:00, 2013-01-04 00:00:00]|32.0    |0.0        |\n",
      "|[2013-01-01 14:00:00, 2013-01-01 16:00:00]|VSF    |26.06      |VSF    |[2012-12-29 00:00:00, 2013-01-05 00:00:00]|32.0    |0.0        |\n",
      "|[2013-01-01 14:00:00, 2013-01-01 16:00:00]|VSF    |26.06      |VSF    |[2013-01-01 00:00:00, 2013-01-08 00:00:00]|32.0    |0.0        |\n",
      "|[2013-01-01 14:00:00, 2013-01-01 16:00:00]|VSF    |26.06      |VSF    |[2012-12-26 00:00:00, 2013-01-02 00:00:00]|32.0    |0.0        |\n",
      "|[2013-01-01 14:00:00, 2013-01-01 16:00:00]|VSF    |26.06      |VSF    |[2012-12-27 00:00:00, 2013-01-03 00:00:00]|32.0    |0.0        |\n",
      "|[2013-01-01 14:00:00, 2013-01-01 16:00:00]|VSF    |26.06      |VSF    |[2012-12-31 00:00:00, 2013-01-07 00:00:00]|32.0    |0.0        |\n",
      "|[2013-01-01 14:00:00, 2013-01-01 16:00:00]|VSF    |24.98      |VSF    |[2012-12-30 00:00:00, 2013-01-06 00:00:00]|32.0    |0.0        |\n",
      "|[2013-01-01 14:00:00, 2013-01-01 16:00:00]|VSF    |24.98      |VSF    |[2012-12-28 00:00:00, 2013-01-04 00:00:00]|32.0    |0.0        |\n",
      "|[2013-01-01 14:00:00, 2013-01-01 16:00:00]|VSF    |24.98      |VSF    |[2012-12-29 00:00:00, 2013-01-05 00:00:00]|32.0    |0.0        |\n",
      "|[2013-01-01 14:00:00, 2013-01-01 16:00:00]|VSF    |24.98      |VSF    |[2013-01-01 00:00:00, 2013-01-08 00:00:00]|32.0    |0.0        |\n",
      "|[2013-01-01 14:00:00, 2013-01-01 16:00:00]|VSF    |24.98      |VSF    |[2012-12-26 00:00:00, 2013-01-02 00:00:00]|32.0    |0.0        |\n",
      "|[2013-01-01 14:00:00, 2013-01-01 16:00:00]|VSF    |24.98      |VSF    |[2012-12-27 00:00:00, 2013-01-03 00:00:00]|32.0    |0.0        |\n",
      "|[2013-01-01 14:00:00, 2013-01-01 16:00:00]|VSF    |24.98      |VSF    |[2012-12-31 00:00:00, 2013-01-07 00:00:00]|32.0    |0.0        |\n",
      "|[2013-01-01 06:00:00, 2013-01-01 08:00:00]|RUT    |30.2       |RUT    |[2012-12-29 00:00:00, 2013-01-05 00:00:00]|30.2    |0.0        |\n",
      "|[2013-01-01 06:00:00, 2013-01-01 08:00:00]|RUT    |30.2       |RUT    |[2013-01-01 00:00:00, 2013-01-08 00:00:00]|30.2    |0.0        |\n",
      "|[2013-01-01 06:00:00, 2013-01-01 08:00:00]|RUT    |30.2       |RUT    |[2012-12-28 00:00:00, 2013-01-04 00:00:00]|30.2    |0.0        |\n",
      "|[2013-01-01 06:00:00, 2013-01-01 08:00:00]|RUT    |30.2       |RUT    |[2012-12-31 00:00:00, 2013-01-07 00:00:00]|30.2    |0.0        |\n",
      "|[2013-01-01 06:00:00, 2013-01-01 08:00:00]|RUT    |30.2       |RUT    |[2012-12-26 00:00:00, 2013-01-02 00:00:00]|30.2    |0.0        |\n",
      "|[2013-01-01 06:00:00, 2013-01-01 08:00:00]|RUT    |30.2       |RUT    |[2012-12-30 00:00:00, 2013-01-06 00:00:00]|30.2    |0.0        |\n",
      "+------------------------------------------+-------+-----------+-------+------------------------------------------+--------+-----------+\n",
      "only showing top 20 rows\n",
      "\n"
     ]
    },
    {
     "name": "stderr",
     "output_type": "stream",
     "text": [
      "23/04/12 16:54:15 WARN ProcessingTimeExecutor: Current batch is falling behind. The trigger interval is 10000 milliseconds, but spent 34262 milliseconds\n",
      "                                                                                \r"
     ]
    },
    {
     "name": "stdout",
     "output_type": "stream",
     "text": [
      "-------------------------------------------\n",
      "Batch: 96\n",
      "-------------------------------------------\n",
      "+------------------------------------------+-------+-----------+\n",
      "|Window                                    |station|temperature|\n",
      "+------------------------------------------+-------+-----------+\n",
      "|[2013-01-01 14:00:00, 2013-01-01 16:00:00]|VSF    |26.06      |\n",
      "|[2013-01-01 14:00:00, 2013-01-01 16:00:00]|VSF    |24.98      |\n",
      "|[2013-01-01 06:00:00, 2013-01-01 08:00:00]|RUT    |30.2       |\n",
      "|[2013-01-01 06:00:00, 2013-01-01 08:00:00]|RUT    |30.2       |\n",
      "|[2013-01-01 06:00:00, 2013-01-01 08:00:00]|RUT    |30.2       |\n",
      "|[2013-01-01 06:00:00, 2013-01-01 08:00:00]|RUT    |30.2       |\n",
      "|[2013-01-01 06:00:00, 2013-01-01 08:00:00]|RUT    |30.2       |\n",
      "|[2013-01-01 18:00:00, 2013-01-01 20:00:00]|EFK    |12.02      |\n",
      "|[2013-01-01 06:00:00, 2013-01-01 08:00:00]|MVL    |30.2       |\n",
      "|[2013-01-01 06:00:00, 2013-01-01 08:00:00]|MVL    |30.2       |\n",
      "|[2013-01-01 06:00:00, 2013-01-01 08:00:00]|MVL    |32.0       |\n",
      "|[2013-01-01 06:00:00, 2013-01-01 08:00:00]|MVL    |30.2       |\n",
      "|[2013-01-01 06:00:00, 2013-01-01 08:00:00]|MVL    |30.2       |\n",
      "|[2013-01-01 06:00:00, 2013-01-01 08:00:00]|MVL    |30.2       |\n",
      "|[2013-01-01 06:00:00, 2013-01-01 08:00:00]|MVL    |30.02      |\n",
      "|[2013-01-01 11:00:00, 2013-01-01 13:00:00]|DDH    |30.02      |\n",
      "|[2013-01-01 11:00:00, 2013-01-01 13:00:00]|DDH    |28.94      |\n",
      "|[2013-01-01 14:00:00, 2013-01-01 16:00:00]|MPV    |14.0       |\n",
      "|[2013-01-01 14:00:00, 2013-01-01 16:00:00]|MPV    |15.08      |\n",
      "|[2013-01-01 14:00:00, 2013-01-01 16:00:00]|MPV    |14.0       |\n",
      "+------------------------------------------+-------+-----------+\n",
      "only showing top 20 rows\n",
      "\n"
     ]
    },
    {
     "name": "stderr",
     "output_type": "stream",
     "text": [
      "23/04/12 16:54:23 WARN ProcessingTimeExecutor: Current batch is falling behind. The trigger interval is 10000 milliseconds, but spent 22779 milliseconds\n",
      "23/04/12 16:54:29 WARN ProcessingTimeExecutor: Current batch is falling behind. The trigger interval is 10000 milliseconds, but spent 22487 milliseconds\n"
     ]
    },
    {
     "name": "stdout",
     "output_type": "stream",
     "text": [
      "-------------------------------------------\n",
      "Batch: 0\n",
      "-------------------------------------------\n",
      "+------+-------+-----------+---------------+-------------+\n",
      "|Window|station|temperature|prev_week_start|prev_week_end|\n",
      "+------+-------+-----------+---------------+-------------+\n",
      "+------+-------+-----------+---------------+-------------+\n",
      "\n"
     ]
    },
    {
     "name": "stderr",
     "output_type": "stream",
     "text": [
      "                                                                                \r"
     ]
    },
    {
     "name": "stdout",
     "output_type": "stream",
     "text": [
      "-------------------------------------------\n",
      "Batch: 97\n",
      "-------------------------------------------\n",
      "+------------------------------------------+-------+-----------+\n",
      "|Window                                    |station|temperature|\n",
      "+------------------------------------------+-------+-----------+\n",
      "|[2013-01-01 14:00:00, 2013-01-01 16:00:00]|VSF    |26.06      |\n",
      "|[2013-01-01 14:00:00, 2013-01-01 16:00:00]|VSF    |24.98      |\n",
      "|[2013-01-01 06:00:00, 2013-01-01 08:00:00]|RUT    |30.2       |\n",
      "|[2013-01-01 06:00:00, 2013-01-01 08:00:00]|RUT    |30.2       |\n",
      "|[2013-01-01 06:00:00, 2013-01-01 08:00:00]|RUT    |30.2       |\n",
      "|[2013-01-01 06:00:00, 2013-01-01 08:00:00]|RUT    |30.2       |\n",
      "|[2013-01-01 06:00:00, 2013-01-01 08:00:00]|RUT    |30.2       |\n",
      "|[2013-01-01 18:00:00, 2013-01-01 20:00:00]|EFK    |12.02      |\n",
      "|[2013-01-01 18:00:00, 2013-01-01 20:00:00]|EFK    |12.2       |\n",
      "|[2013-01-01 06:00:00, 2013-01-01 08:00:00]|MVL    |30.2       |\n",
      "|[2013-01-01 06:00:00, 2013-01-01 08:00:00]|MVL    |30.2       |\n",
      "|[2013-01-01 06:00:00, 2013-01-01 08:00:00]|MVL    |32.0       |\n",
      "|[2013-01-01 06:00:00, 2013-01-01 08:00:00]|MVL    |30.2       |\n",
      "|[2013-01-01 06:00:00, 2013-01-01 08:00:00]|MVL    |30.2       |\n",
      "|[2013-01-01 06:00:00, 2013-01-01 08:00:00]|MVL    |30.2       |\n",
      "|[2013-01-01 06:00:00, 2013-01-01 08:00:00]|MVL    |30.02      |\n",
      "|[2013-01-01 11:00:00, 2013-01-01 13:00:00]|DDH    |30.02      |\n",
      "|[2013-01-01 11:00:00, 2013-01-01 13:00:00]|DDH    |28.94      |\n",
      "|[2013-01-01 14:00:00, 2013-01-01 16:00:00]|MPV    |14.0       |\n",
      "|[2013-01-01 14:00:00, 2013-01-01 16:00:00]|MPV    |15.08      |\n",
      "+------------------------------------------+-------+-----------+\n",
      "only showing top 20 rows\n",
      "\n"
     ]
    },
    {
     "name": "stderr",
     "output_type": "stream",
     "text": [
      "23/04/12 16:54:36 WARN ProcessingTimeExecutor: Current batch is falling behind. The trigger interval is 10000 milliseconds, but spent 13157 milliseconds\n",
      "[Stage 821:(173 + 2) / 200][Stage 823:>(0 + 0) / 200][Stage 824:>  (0 + 0) / 1]\r"
     ]
    }
   ],
   "source": [
    "query_6= (df_exploded\n",
    "            .writeStream\n",
    "            .outputMode(\"complete\")\n",
    "            .format(\"console\")\n",
    "            .option(\"truncate\",'false')\n",
    "            .trigger(processingTime=\"10 seconds\")\n",
    "            .start())"
   ]
  },
  {
   "cell_type": "code",
   "execution_count": 45,
   "metadata": {
    "collapsed": true,
    "jupyter": {
     "outputs_hidden": true
    }
   },
   "outputs": [
    {
     "name": "stderr",
     "output_type": "stream",
     "text": [
      "                                                                                \r"
     ]
    },
    {
     "name": "stdout",
     "output_type": "stream",
     "text": [
      "-------------------------------------------\n",
      "Batch: 1\n",
      "-------------------------------------------\n",
      "+------------------------------------------+-------+-----------+---------------+-------------+-------+------------------------------------------+--------+-------------------+-------------------+\n",
      "|Window                                    |station|temperature|prev_week_start|prev_week_end|station|window                                    |avg_temp|stddev_temp        |z_score            |\n",
      "+------------------------------------------+-------+-----------+---------------+-------------+-------+------------------------------------------+--------+-------------------+-------------------+\n",
      "|[2013-01-01 19:00:00, 2013-01-01 21:00:00]|CDA    |13.64      |2012-12-25     |2012-12-31   |CDA    |[2012-12-26 00:00:00, 2013-01-02 00:00:00]|23.252  |0.5489262245511686 |-17.510549815431542|\n",
      "|[2013-01-01 19:00:00, 2013-01-01 21:00:00]|CDA    |13.64      |2012-12-25     |2012-12-31   |CDA    |[2012-12-31 00:00:00, 2013-01-07 00:00:00]|23.252  |0.5489262245511686 |-17.510549815431542|\n",
      "|[2013-01-01 19:00:00, 2013-01-01 21:00:00]|CDA    |13.64      |2012-12-25     |2012-12-31   |CDA    |[2012-12-28 00:00:00, 2013-01-04 00:00:00]|23.252  |0.5489262245511686 |-17.510549815431542|\n",
      "|[2013-01-01 19:00:00, 2013-01-01 21:00:00]|CDA    |13.64      |2012-12-25     |2012-12-31   |CDA    |[2012-12-27 00:00:00, 2013-01-03 00:00:00]|23.252  |0.5489262245511686 |-17.510549815431542|\n",
      "|[2013-01-01 19:00:00, 2013-01-01 21:00:00]|CDA    |13.64      |2012-12-25     |2012-12-31   |CDA    |[2012-12-30 00:00:00, 2013-01-06 00:00:00]|23.252  |0.5489262245511686 |-17.510549815431542|\n",
      "|[2013-01-01 19:00:00, 2013-01-01 21:00:00]|CDA    |13.64      |2012-12-25     |2012-12-31   |CDA    |[2012-12-29 00:00:00, 2013-01-05 00:00:00]|23.252  |0.5489262245511686 |-17.510549815431542|\n",
      "|[2013-01-01 19:00:00, 2013-01-01 21:00:00]|CDA    |12.92      |2012-12-25     |2012-12-31   |CDA    |[2012-12-26 00:00:00, 2013-01-02 00:00:00]|23.252  |0.5489262245511686 |-18.82220148699945 |\n",
      "|[2013-01-01 19:00:00, 2013-01-01 21:00:00]|CDA    |12.92      |2012-12-25     |2012-12-31   |CDA    |[2012-12-31 00:00:00, 2013-01-07 00:00:00]|23.252  |0.5489262245511686 |-18.82220148699945 |\n",
      "|[2013-01-01 19:00:00, 2013-01-01 21:00:00]|CDA    |12.92      |2012-12-25     |2012-12-31   |CDA    |[2012-12-28 00:00:00, 2013-01-04 00:00:00]|23.252  |0.5489262245511686 |-18.82220148699945 |\n",
      "|[2013-01-01 19:00:00, 2013-01-01 21:00:00]|CDA    |12.92      |2012-12-25     |2012-12-31   |CDA    |[2012-12-27 00:00:00, 2013-01-03 00:00:00]|23.252  |0.5489262245511686 |-18.82220148699945 |\n",
      "|[2013-01-01 19:00:00, 2013-01-01 21:00:00]|CDA    |12.92      |2012-12-25     |2012-12-31   |CDA    |[2012-12-30 00:00:00, 2013-01-06 00:00:00]|23.252  |0.5489262245511686 |-18.82220148699945 |\n",
      "|[2013-01-01 19:00:00, 2013-01-01 21:00:00]|CDA    |12.92      |2012-12-25     |2012-12-31   |CDA    |[2012-12-29 00:00:00, 2013-01-05 00:00:00]|23.252  |0.5489262245511686 |-18.82220148699945 |\n",
      "|[2013-01-01 19:00:00, 2013-01-01 21:00:00]|CDA    |12.2       |2012-12-25     |2012-12-31   |CDA    |[2012-12-26 00:00:00, 2013-01-02 00:00:00]|23.252  |0.5489262245511686 |-20.13385315856736 |\n",
      "|[2013-01-01 19:00:00, 2013-01-01 21:00:00]|CDA    |12.2       |2012-12-25     |2012-12-31   |CDA    |[2012-12-31 00:00:00, 2013-01-07 00:00:00]|23.252  |0.5489262245511686 |-20.13385315856736 |\n",
      "|[2013-01-01 19:00:00, 2013-01-01 21:00:00]|CDA    |12.2       |2012-12-25     |2012-12-31   |CDA    |[2012-12-28 00:00:00, 2013-01-04 00:00:00]|23.252  |0.5489262245511686 |-20.13385315856736 |\n",
      "|[2013-01-01 19:00:00, 2013-01-01 21:00:00]|CDA    |12.2       |2012-12-25     |2012-12-31   |CDA    |[2012-12-27 00:00:00, 2013-01-03 00:00:00]|23.252  |0.5489262245511686 |-20.13385315856736 |\n",
      "|[2013-01-01 19:00:00, 2013-01-01 21:00:00]|CDA    |12.2       |2012-12-25     |2012-12-31   |CDA    |[2012-12-30 00:00:00, 2013-01-06 00:00:00]|23.252  |0.5489262245511686 |-20.13385315856736 |\n",
      "|[2013-01-01 19:00:00, 2013-01-01 21:00:00]|CDA    |12.2       |2012-12-25     |2012-12-31   |CDA    |[2012-12-29 00:00:00, 2013-01-05 00:00:00]|23.252  |0.5489262245511686 |-20.13385315856736 |\n",
      "|[2013-01-01 19:00:00, 2013-01-01 21:00:00]|MVL    |14.0       |2012-12-25     |2012-12-31   |MVL    |[2012-12-27 00:00:00, 2013-01-03 00:00:00]|30.14   |0.09295160030897816|-173.6387533549656 |\n",
      "|[2013-01-01 19:00:00, 2013-01-01 21:00:00]|MVL    |14.0       |2012-12-25     |2012-12-31   |MVL    |[2012-12-28 00:00:00, 2013-01-04 00:00:00]|30.14   |0.09295160030897816|-173.6387533549656 |\n",
      "+------------------------------------------+-------+-----------+---------------+-------------+-------+------------------------------------------+--------+-------------------+-------------------+\n",
      "only showing top 20 rows\n",
      "\n"
     ]
    },
    {
     "name": "stderr",
     "output_type": "stream",
     "text": [
      "23/04/12 16:58:18 WARN ProcessingTimeExecutor: Current batch is falling behind. The trigger interval is 10000 milliseconds, but spent 45014 milliseconds\n",
      "                                                                                \r"
     ]
    },
    {
     "name": "stdout",
     "output_type": "stream",
     "text": [
      "-------------------------------------------\n",
      "Batch: 77\n",
      "-------------------------------------------\n"
     ]
    },
    {
     "name": "stderr",
     "output_type": "stream",
     "text": [
      "23/04/12 16:58:25 WARN ProcessingTimeExecutor: Current batch is falling behind. The trigger interval is 10000 milliseconds, but spent 36103 milliseconds\n",
      "[Stage 922:(15 + 2) / 200][Stage 924:>(0 + 0) / 200][Stage 926:>  (0 + 0) / 1]\r"
     ]
    },
    {
     "name": "stdout",
     "output_type": "stream",
     "text": [
      "+------------------------------------------+-------+-----------+-------+------------------------------------------+--------+-----------+\n",
      "|Window                                    |station|temperature|station|window                                    |avg_temp|stddev_temp|\n",
      "+------------------------------------------+-------+-----------+-------+------------------------------------------+--------+-----------+\n",
      "|[2013-01-01 14:00:00, 2013-01-01 16:00:00]|VSF    |26.06      |VSF    |[2012-12-30 00:00:00, 2013-01-06 00:00:00]|32.0    |0.0        |\n",
      "|[2013-01-01 14:00:00, 2013-01-01 16:00:00]|VSF    |26.06      |VSF    |[2012-12-28 00:00:00, 2013-01-04 00:00:00]|32.0    |0.0        |\n",
      "|[2013-01-01 14:00:00, 2013-01-01 16:00:00]|VSF    |26.06      |VSF    |[2012-12-29 00:00:00, 2013-01-05 00:00:00]|32.0    |0.0        |\n",
      "|[2013-01-01 14:00:00, 2013-01-01 16:00:00]|VSF    |26.06      |VSF    |[2013-01-01 00:00:00, 2013-01-08 00:00:00]|32.0    |0.0        |\n",
      "|[2013-01-01 14:00:00, 2013-01-01 16:00:00]|VSF    |26.06      |VSF    |[2012-12-26 00:00:00, 2013-01-02 00:00:00]|32.0    |0.0        |\n",
      "|[2013-01-01 14:00:00, 2013-01-01 16:00:00]|VSF    |26.06      |VSF    |[2012-12-27 00:00:00, 2013-01-03 00:00:00]|32.0    |0.0        |\n",
      "|[2013-01-01 14:00:00, 2013-01-01 16:00:00]|VSF    |26.06      |VSF    |[2012-12-31 00:00:00, 2013-01-07 00:00:00]|32.0    |0.0        |\n",
      "|[2013-01-01 14:00:00, 2013-01-01 16:00:00]|VSF    |24.98      |VSF    |[2012-12-30 00:00:00, 2013-01-06 00:00:00]|32.0    |0.0        |\n",
      "|[2013-01-01 14:00:00, 2013-01-01 16:00:00]|VSF    |24.98      |VSF    |[2012-12-28 00:00:00, 2013-01-04 00:00:00]|32.0    |0.0        |\n",
      "|[2013-01-01 14:00:00, 2013-01-01 16:00:00]|VSF    |24.98      |VSF    |[2012-12-29 00:00:00, 2013-01-05 00:00:00]|32.0    |0.0        |\n",
      "|[2013-01-01 14:00:00, 2013-01-01 16:00:00]|VSF    |24.98      |VSF    |[2013-01-01 00:00:00, 2013-01-08 00:00:00]|32.0    |0.0        |\n",
      "|[2013-01-01 14:00:00, 2013-01-01 16:00:00]|VSF    |24.98      |VSF    |[2012-12-26 00:00:00, 2013-01-02 00:00:00]|32.0    |0.0        |\n",
      "|[2013-01-01 14:00:00, 2013-01-01 16:00:00]|VSF    |24.98      |VSF    |[2012-12-27 00:00:00, 2013-01-03 00:00:00]|32.0    |0.0        |\n",
      "|[2013-01-01 14:00:00, 2013-01-01 16:00:00]|VSF    |24.98      |VSF    |[2012-12-31 00:00:00, 2013-01-07 00:00:00]|32.0    |0.0        |\n",
      "|[2013-01-01 06:00:00, 2013-01-01 08:00:00]|RUT    |30.2       |RUT    |[2012-12-29 00:00:00, 2013-01-05 00:00:00]|30.2    |0.0        |\n",
      "|[2013-01-01 06:00:00, 2013-01-01 08:00:00]|RUT    |30.2       |RUT    |[2013-01-01 00:00:00, 2013-01-08 00:00:00]|30.2    |0.0        |\n",
      "|[2013-01-01 06:00:00, 2013-01-01 08:00:00]|RUT    |30.2       |RUT    |[2012-12-28 00:00:00, 2013-01-04 00:00:00]|30.2    |0.0        |\n",
      "|[2013-01-01 06:00:00, 2013-01-01 08:00:00]|RUT    |30.2       |RUT    |[2012-12-31 00:00:00, 2013-01-07 00:00:00]|30.2    |0.0        |\n",
      "|[2013-01-01 06:00:00, 2013-01-01 08:00:00]|RUT    |30.2       |RUT    |[2012-12-26 00:00:00, 2013-01-02 00:00:00]|30.2    |0.0        |\n",
      "|[2013-01-01 06:00:00, 2013-01-01 08:00:00]|RUT    |30.2       |RUT    |[2012-12-30 00:00:00, 2013-01-06 00:00:00]|30.2    |0.0        |\n",
      "+------------------------------------------+-------+-----------+-------+------------------------------------------+--------+-----------+\n",
      "only showing top 20 rows\n",
      "\n"
     ]
    },
    {
     "name": "stderr",
     "output_type": "stream",
     "text": [
      "                                                                                \r"
     ]
    },
    {
     "name": "stdout",
     "output_type": "stream",
     "text": [
      "-------------------------------------------\n",
      "Batch: 43\n",
      "-------------------------------------------\n",
      "+------+-------+-----------+-------+------+--------+-----------+\n",
      "|Window|station|temperature|station|window|avg_temp|stddev_temp|\n",
      "+------+-------+-----------+-------+------+--------+-----------+\n",
      "+------+-------+-----------+-------+------+--------+-----------+\n",
      "\n"
     ]
    },
    {
     "name": "stderr",
     "output_type": "stream",
     "text": [
      "23/04/12 16:58:31 WARN ProcessingTimeExecutor: Current batch is falling behind. The trigger interval is 10000 milliseconds, but spent 27466 milliseconds\n",
      "                                                                                \r"
     ]
    },
    {
     "name": "stdout",
     "output_type": "stream",
     "text": [
      "-------------------------------------------\n",
      "Batch: 106\n",
      "-------------------------------------------\n",
      "+------------------------------------------+-------+-----------+\n",
      "|Window                                    |station|temperature|\n",
      "+------------------------------------------+-------+-----------+\n",
      "|[2013-01-01 14:00:00, 2013-01-01 16:00:00]|VSF    |26.06      |\n",
      "|[2013-01-01 14:00:00, 2013-01-01 16:00:00]|VSF    |24.98      |\n",
      "|[2013-01-01 06:00:00, 2013-01-01 08:00:00]|RUT    |30.2       |\n",
      "|[2013-01-01 06:00:00, 2013-01-01 08:00:00]|RUT    |30.2       |\n",
      "|[2013-01-01 06:00:00, 2013-01-01 08:00:00]|RUT    |30.2       |\n",
      "|[2013-01-01 06:00:00, 2013-01-01 08:00:00]|RUT    |30.2       |\n",
      "|[2013-01-01 06:00:00, 2013-01-01 08:00:00]|RUT    |30.2       |\n",
      "|[2013-01-01 19:00:00, 2013-01-01 21:00:00]|CDA    |14.0       |\n",
      "|[2013-01-01 19:00:00, 2013-01-01 21:00:00]|CDA    |14.36      |\n",
      "|[2013-01-01 19:00:00, 2013-01-01 21:00:00]|CDA    |13.64      |\n",
      "|[2013-01-01 19:00:00, 2013-01-01 21:00:00]|CDA    |12.92      |\n",
      "|[2013-01-01 19:00:00, 2013-01-01 21:00:00]|CDA    |12.2       |\n",
      "|[2013-01-01 19:00:00, 2013-01-01 21:00:00]|BTV    |17.06      |\n",
      "|[2013-01-01 19:00:00, 2013-01-01 21:00:00]|BTV    |15.98      |\n",
      "|[2013-01-01 18:00:00, 2013-01-01 20:00:00]|EFK    |12.02      |\n",
      "|[2013-01-01 18:00:00, 2013-01-01 20:00:00]|EFK    |12.2       |\n",
      "|[2013-01-01 18:00:00, 2013-01-01 20:00:00]|EFK    |12.02      |\n",
      "|[2013-01-01 18:00:00, 2013-01-01 20:00:00]|EFK    |11.84      |\n",
      "|[2013-01-01 18:00:00, 2013-01-01 20:00:00]|EFK    |11.84      |\n",
      "|[2013-01-01 18:00:00, 2013-01-01 20:00:00]|EFK    |11.12      |\n",
      "+------------------------------------------+-------+-----------+\n",
      "only showing top 20 rows\n",
      "\n"
     ]
    },
    {
     "name": "stderr",
     "output_type": "stream",
     "text": [
      "23/04/12 16:58:37 WARN ProcessingTimeExecutor: Current batch is falling behind. The trigger interval is 10000 milliseconds, but spent 27020 milliseconds\n",
      "                                                                                \r"
     ]
    },
    {
     "name": "stdout",
     "output_type": "stream",
     "text": [
      "-------------------------------------------\n",
      "Batch: 2\n",
      "-------------------------------------------\n",
      "+------------------------------------------+-------+-----------+---------------+-------------+-------+------------------------------------------+--------+-------------------+-------------------+\n",
      "|Window                                    |station|temperature|prev_week_start|prev_week_end|station|window                                    |avg_temp|stddev_temp        |z_score            |\n",
      "+------------------------------------------+-------+-----------+---------------+-------------+-------+------------------------------------------+--------+-------------------+-------------------+\n",
      "|[2013-01-01 19:00:00, 2013-01-01 21:00:00]|CDA    |13.64      |2012-12-25     |2012-12-31   |CDA    |[2012-12-26 00:00:00, 2013-01-02 00:00:00]|23.252  |0.5489262245511686 |-17.510549815431542|\n",
      "|[2013-01-01 19:00:00, 2013-01-01 21:00:00]|CDA    |13.64      |2012-12-25     |2012-12-31   |CDA    |[2012-12-31 00:00:00, 2013-01-07 00:00:00]|23.252  |0.5489262245511686 |-17.510549815431542|\n",
      "|[2013-01-01 19:00:00, 2013-01-01 21:00:00]|CDA    |13.64      |2012-12-25     |2012-12-31   |CDA    |[2012-12-28 00:00:00, 2013-01-04 00:00:00]|23.252  |0.5489262245511686 |-17.510549815431542|\n",
      "|[2013-01-01 19:00:00, 2013-01-01 21:00:00]|CDA    |13.64      |2012-12-25     |2012-12-31   |CDA    |[2012-12-27 00:00:00, 2013-01-03 00:00:00]|23.252  |0.5489262245511686 |-17.510549815431542|\n",
      "|[2013-01-01 19:00:00, 2013-01-01 21:00:00]|CDA    |13.64      |2012-12-25     |2012-12-31   |CDA    |[2012-12-30 00:00:00, 2013-01-06 00:00:00]|23.252  |0.5489262245511686 |-17.510549815431542|\n",
      "|[2013-01-01 19:00:00, 2013-01-01 21:00:00]|CDA    |13.64      |2012-12-25     |2012-12-31   |CDA    |[2012-12-29 00:00:00, 2013-01-05 00:00:00]|23.252  |0.5489262245511686 |-17.510549815431542|\n",
      "|[2013-01-01 19:00:00, 2013-01-01 21:00:00]|CDA    |12.92      |2012-12-25     |2012-12-31   |CDA    |[2012-12-26 00:00:00, 2013-01-02 00:00:00]|23.252  |0.5489262245511686 |-18.82220148699945 |\n",
      "|[2013-01-01 19:00:00, 2013-01-01 21:00:00]|CDA    |12.92      |2012-12-25     |2012-12-31   |CDA    |[2012-12-31 00:00:00, 2013-01-07 00:00:00]|23.252  |0.5489262245511686 |-18.82220148699945 |\n",
      "|[2013-01-01 19:00:00, 2013-01-01 21:00:00]|CDA    |12.92      |2012-12-25     |2012-12-31   |CDA    |[2012-12-28 00:00:00, 2013-01-04 00:00:00]|23.252  |0.5489262245511686 |-18.82220148699945 |\n",
      "|[2013-01-01 19:00:00, 2013-01-01 21:00:00]|CDA    |12.92      |2012-12-25     |2012-12-31   |CDA    |[2012-12-27 00:00:00, 2013-01-03 00:00:00]|23.252  |0.5489262245511686 |-18.82220148699945 |\n",
      "|[2013-01-01 19:00:00, 2013-01-01 21:00:00]|CDA    |12.92      |2012-12-25     |2012-12-31   |CDA    |[2012-12-30 00:00:00, 2013-01-06 00:00:00]|23.252  |0.5489262245511686 |-18.82220148699945 |\n",
      "|[2013-01-01 19:00:00, 2013-01-01 21:00:00]|CDA    |12.92      |2012-12-25     |2012-12-31   |CDA    |[2012-12-29 00:00:00, 2013-01-05 00:00:00]|23.252  |0.5489262245511686 |-18.82220148699945 |\n",
      "|[2013-01-01 19:00:00, 2013-01-01 21:00:00]|CDA    |12.2       |2012-12-25     |2012-12-31   |CDA    |[2012-12-26 00:00:00, 2013-01-02 00:00:00]|23.252  |0.5489262245511686 |-20.13385315856736 |\n",
      "|[2013-01-01 19:00:00, 2013-01-01 21:00:00]|CDA    |12.2       |2012-12-25     |2012-12-31   |CDA    |[2012-12-31 00:00:00, 2013-01-07 00:00:00]|23.252  |0.5489262245511686 |-20.13385315856736 |\n",
      "|[2013-01-01 19:00:00, 2013-01-01 21:00:00]|CDA    |12.2       |2012-12-25     |2012-12-31   |CDA    |[2012-12-28 00:00:00, 2013-01-04 00:00:00]|23.252  |0.5489262245511686 |-20.13385315856736 |\n",
      "|[2013-01-01 19:00:00, 2013-01-01 21:00:00]|CDA    |12.2       |2012-12-25     |2012-12-31   |CDA    |[2012-12-27 00:00:00, 2013-01-03 00:00:00]|23.252  |0.5489262245511686 |-20.13385315856736 |\n",
      "|[2013-01-01 19:00:00, 2013-01-01 21:00:00]|CDA    |12.2       |2012-12-25     |2012-12-31   |CDA    |[2012-12-30 00:00:00, 2013-01-06 00:00:00]|23.252  |0.5489262245511686 |-20.13385315856736 |\n",
      "|[2013-01-01 19:00:00, 2013-01-01 21:00:00]|CDA    |12.2       |2012-12-25     |2012-12-31   |CDA    |[2012-12-29 00:00:00, 2013-01-05 00:00:00]|23.252  |0.5489262245511686 |-20.13385315856736 |\n",
      "|[2013-01-01 19:00:00, 2013-01-01 21:00:00]|BTV    |15.98      |2012-12-25     |2012-12-31   |BTV    |[2012-12-26 00:00:00, 2013-01-02 00:00:00]|30.11   |0.12727922061357835|-111.01576464628813|\n",
      "|[2013-01-01 19:00:00, 2013-01-01 21:00:00]|BTV    |15.98      |2012-12-25     |2012-12-31   |BTV    |[2012-12-29 00:00:00, 2013-01-05 00:00:00]|30.11   |0.12727922061357835|-111.01576464628813|\n",
      "+------------------------------------------+-------+-----------+---------------+-------------+-------+------------------------------------------+--------+-------------------+-------------------+\n",
      "only showing top 20 rows\n",
      "\n"
     ]
    },
    {
     "name": "stderr",
     "output_type": "stream",
     "text": [
      "23/04/12 16:58:44 WARN ProcessingTimeExecutor: Current batch is falling behind. The trigger interval is 10000 milliseconds, but spent 26217 milliseconds\n",
      "[Stage 932:(21 + 2) / 200][Stage 934:>(0 + 0) / 200][Stage 936:>  (0 + 0) / 1]\r"
     ]
    }
   ],
   "source": [
    "query_6.stop()"
   ]
  },
  {
   "cell_type": "markdown",
   "metadata": {},
   "source": [
    "### Join"
   ]
  },
  {
   "cell_type": "code",
   "execution_count": 49,
   "metadata": {},
   "outputs": [
    {
     "name": "stderr",
     "output_type": "stream",
     "text": [
      "                                                                                \r"
     ]
    }
   ],
   "source": [
    "from pyspark.sql import functions as F\n",
    "\n",
    "comparison_df = df_exploded.join(\n",
    "    first_aggregation_output,\n",
    "    (df_exploded[\"station\"] == first_aggregation_output[\"station\"]) \n",
    "       & (first_aggregation_output[\"window.start\"] >= df_exploded[\"prev_week_start\"])\n",
    "    & (first_aggregation_output[\"window.start\"] <= df_exploded[\"prev_week_end\"])\n",
    ")"
   ]
  },
  {
   "cell_type": "code",
   "execution_count": 50,
   "metadata": {
    "collapsed": true,
    "jupyter": {
     "outputs_hidden": true
    }
   },
   "outputs": [
    {
     "name": "stderr",
     "output_type": "stream",
     "text": [
      "23/04/12 17:10:32 WARN StreamingQueryManager: Temporary checkpoint location created which is deleted normally when the query didn't fail: /tmp/temporary-7ed384e1-ddd3-45d9-8436-6745e812387e. If it's required to delete it under any circumstances, please set spark.sql.streaming.forceDeleteTempCheckpointLocation to true. Important to know deleting temp checkpoint folder is best effort.\n",
      "                                                                                \r"
     ]
    },
    {
     "name": "stdout",
     "output_type": "stream",
     "text": [
      "-------------------------------------------\n",
      "Batch: 136\n",
      "-------------------------------------------\n",
      "+------------------------------------------+-------+-----------+\n",
      "|Window                                    |station|temperature|\n",
      "+------------------------------------------+-------+-----------+\n",
      "|[2013-01-01 22:00:00, 2013-01-02 00:00:00]|RUT    |14.0       |\n",
      "|[2013-01-01 22:00:00, 2013-01-02 00:00:00]|RUT    |14.0       |\n",
      "|[2013-01-01 22:00:00, 2013-01-02 00:00:00]|RUT    |14.0       |\n",
      "|[2013-01-01 22:00:00, 2013-01-02 00:00:00]|RUT    |12.2       |\n",
      "|[2013-01-01 22:00:00, 2013-01-02 00:00:00]|RUT    |12.2       |\n",
      "|[2013-01-01 14:00:00, 2013-01-01 16:00:00]|VSF    |26.06      |\n",
      "|[2013-01-01 14:00:00, 2013-01-01 16:00:00]|VSF    |24.98      |\n",
      "|[2013-01-02 05:00:00, 2013-01-02 07:00:00]|FSO    |4.46       |\n",
      "|[2013-01-01 06:00:00, 2013-01-01 08:00:00]|RUT    |30.2       |\n",
      "|[2013-01-01 06:00:00, 2013-01-01 08:00:00]|RUT    |30.2       |\n",
      "|[2013-01-01 06:00:00, 2013-01-01 08:00:00]|RUT    |30.2       |\n",
      "|[2013-01-01 06:00:00, 2013-01-01 08:00:00]|RUT    |30.2       |\n",
      "|[2013-01-01 06:00:00, 2013-01-01 08:00:00]|RUT    |30.2       |\n",
      "|[2013-01-01 22:00:00, 2013-01-02 00:00:00]|FSO    |6.98       |\n",
      "|[2013-01-01 22:00:00, 2013-01-02 00:00:00]|FSO    |6.8        |\n",
      "|[2013-01-01 22:00:00, 2013-01-02 00:00:00]|FSO    |6.8        |\n",
      "|[2013-01-01 22:00:00, 2013-01-02 00:00:00]|FSO    |6.8        |\n",
      "|[2013-01-01 22:00:00, 2013-01-02 00:00:00]|FSO    |6.8        |\n",
      "|[2013-01-01 22:00:00, 2013-01-02 00:00:00]|FSO    |6.8        |\n",
      "|[2013-01-01 19:00:00, 2013-01-01 21:00:00]|CDA    |14.0       |\n",
      "+------------------------------------------+-------+-----------+\n",
      "only showing top 20 rows\n",
      "\n"
     ]
    },
    {
     "name": "stderr",
     "output_type": "stream",
     "text": [
      "23/04/12 17:10:33 WARN ProcessingTimeExecutor: Current batch is falling behind. The trigger interval is 10000 milliseconds, but spent 29369 milliseconds\n",
      "                                                                                \r"
     ]
    },
    {
     "name": "stdout",
     "output_type": "stream",
     "text": [
      "-------------------------------------------\n",
      "Batch: 107\n",
      "-------------------------------------------\n",
      "+------------------------------------------+-------+-----------+-------+------------------------------------------+--------+-----------+\n",
      "|Window                                    |station|temperature|station|window                                    |avg_temp|stddev_temp|\n",
      "+------------------------------------------+-------+-----------+-------+------------------------------------------+--------+-----------+\n",
      "|[2013-01-01 22:00:00, 2013-01-02 00:00:00]|RUT    |14.0       |RUT    |[2012-12-29 00:00:00, 2013-01-05 00:00:00]|30.2    |0.0        |\n",
      "|[2013-01-01 22:00:00, 2013-01-02 00:00:00]|RUT    |14.0       |RUT    |[2013-01-01 00:00:00, 2013-01-08 00:00:00]|30.2    |0.0        |\n",
      "|[2013-01-01 22:00:00, 2013-01-02 00:00:00]|RUT    |14.0       |RUT    |[2012-12-28 00:00:00, 2013-01-04 00:00:00]|30.2    |0.0        |\n",
      "|[2013-01-01 22:00:00, 2013-01-02 00:00:00]|RUT    |14.0       |RUT    |[2012-12-31 00:00:00, 2013-01-07 00:00:00]|30.2    |0.0        |\n",
      "|[2013-01-01 22:00:00, 2013-01-02 00:00:00]|RUT    |14.0       |RUT    |[2012-12-26 00:00:00, 2013-01-02 00:00:00]|30.2    |0.0        |\n",
      "|[2013-01-01 22:00:00, 2013-01-02 00:00:00]|RUT    |14.0       |RUT    |[2012-12-30 00:00:00, 2013-01-06 00:00:00]|30.2    |0.0        |\n",
      "|[2013-01-01 22:00:00, 2013-01-02 00:00:00]|RUT    |14.0       |RUT    |[2012-12-27 00:00:00, 2013-01-03 00:00:00]|30.2    |0.0        |\n",
      "|[2013-01-01 22:00:00, 2013-01-02 00:00:00]|RUT    |14.0       |RUT    |[2012-12-29 00:00:00, 2013-01-05 00:00:00]|30.2    |0.0        |\n",
      "|[2013-01-01 22:00:00, 2013-01-02 00:00:00]|RUT    |14.0       |RUT    |[2013-01-01 00:00:00, 2013-01-08 00:00:00]|30.2    |0.0        |\n",
      "|[2013-01-01 22:00:00, 2013-01-02 00:00:00]|RUT    |14.0       |RUT    |[2012-12-28 00:00:00, 2013-01-04 00:00:00]|30.2    |0.0        |\n",
      "|[2013-01-01 22:00:00, 2013-01-02 00:00:00]|RUT    |14.0       |RUT    |[2012-12-31 00:00:00, 2013-01-07 00:00:00]|30.2    |0.0        |\n",
      "|[2013-01-01 22:00:00, 2013-01-02 00:00:00]|RUT    |14.0       |RUT    |[2012-12-26 00:00:00, 2013-01-02 00:00:00]|30.2    |0.0        |\n",
      "|[2013-01-01 22:00:00, 2013-01-02 00:00:00]|RUT    |14.0       |RUT    |[2012-12-30 00:00:00, 2013-01-06 00:00:00]|30.2    |0.0        |\n",
      "|[2013-01-01 22:00:00, 2013-01-02 00:00:00]|RUT    |14.0       |RUT    |[2012-12-27 00:00:00, 2013-01-03 00:00:00]|30.2    |0.0        |\n",
      "|[2013-01-01 22:00:00, 2013-01-02 00:00:00]|RUT    |14.0       |RUT    |[2012-12-29 00:00:00, 2013-01-05 00:00:00]|30.2    |0.0        |\n",
      "|[2013-01-01 22:00:00, 2013-01-02 00:00:00]|RUT    |14.0       |RUT    |[2013-01-01 00:00:00, 2013-01-08 00:00:00]|30.2    |0.0        |\n",
      "|[2013-01-01 22:00:00, 2013-01-02 00:00:00]|RUT    |14.0       |RUT    |[2012-12-28 00:00:00, 2013-01-04 00:00:00]|30.2    |0.0        |\n",
      "|[2013-01-01 22:00:00, 2013-01-02 00:00:00]|RUT    |14.0       |RUT    |[2012-12-31 00:00:00, 2013-01-07 00:00:00]|30.2    |0.0        |\n",
      "|[2013-01-01 22:00:00, 2013-01-02 00:00:00]|RUT    |14.0       |RUT    |[2012-12-26 00:00:00, 2013-01-02 00:00:00]|30.2    |0.0        |\n",
      "|[2013-01-01 22:00:00, 2013-01-02 00:00:00]|RUT    |14.0       |RUT    |[2012-12-30 00:00:00, 2013-01-06 00:00:00]|30.2    |0.0        |\n",
      "+------------------------------------------+-------+-----------+-------+------------------------------------------+--------+-----------+\n",
      "only showing top 20 rows\n",
      "\n"
     ]
    },
    {
     "name": "stderr",
     "output_type": "stream",
     "text": [
      "23/04/12 17:10:42 WARN ProcessingTimeExecutor: Current batch is falling behind. The trigger interval is 10000 milliseconds, but spent 29642 milliseconds\n",
      "                                                                                \r"
     ]
    },
    {
     "name": "stdout",
     "output_type": "stream",
     "text": [
      "-------------------------------------------\n",
      "Batch: 73\n",
      "-------------------------------------------\n",
      "+------+-------+-----------+-------+------+--------+-----------+\n",
      "|Window|station|temperature|station|window|avg_temp|stddev_temp|\n",
      "+------+-------+-----------+-------+------+--------+-----------+\n",
      "+------+-------+-----------+-------+------+--------+-----------+\n",
      "\n"
     ]
    },
    {
     "name": "stderr",
     "output_type": "stream",
     "text": [
      "23/04/12 17:10:57 WARN ProcessingTimeExecutor: Current batch is falling behind. The trigger interval is 10000 milliseconds, but spent 35345 milliseconds\n",
      "                                                                                \r"
     ]
    },
    {
     "name": "stdout",
     "output_type": "stream",
     "text": [
      "-------------------------------------------\n",
      "Batch: 137\n",
      "-------------------------------------------\n",
      "+------------------------------------------+-------+-----------+\n",
      "|Window                                    |station|temperature|\n",
      "+------------------------------------------+-------+-----------+\n",
      "|[2013-01-01 22:00:00, 2013-01-02 00:00:00]|RUT    |14.0       |\n",
      "|[2013-01-01 22:00:00, 2013-01-02 00:00:00]|RUT    |14.0       |\n",
      "|[2013-01-01 22:00:00, 2013-01-02 00:00:00]|RUT    |14.0       |\n",
      "|[2013-01-01 22:00:00, 2013-01-02 00:00:00]|RUT    |12.2       |\n",
      "|[2013-01-01 22:00:00, 2013-01-02 00:00:00]|RUT    |12.2       |\n",
      "|[2013-01-01 14:00:00, 2013-01-01 16:00:00]|VSF    |26.06      |\n",
      "|[2013-01-01 14:00:00, 2013-01-01 16:00:00]|VSF    |24.98      |\n",
      "|[2013-01-02 05:00:00, 2013-01-02 07:00:00]|FSO    |4.46       |\n",
      "|[2013-01-02 05:00:00, 2013-01-02 07:00:00]|FSO    |4.46       |\n",
      "|[2013-01-01 06:00:00, 2013-01-01 08:00:00]|RUT    |30.2       |\n",
      "|[2013-01-01 06:00:00, 2013-01-01 08:00:00]|RUT    |30.2       |\n",
      "|[2013-01-01 06:00:00, 2013-01-01 08:00:00]|RUT    |30.2       |\n",
      "|[2013-01-01 06:00:00, 2013-01-01 08:00:00]|RUT    |30.2       |\n",
      "|[2013-01-01 06:00:00, 2013-01-01 08:00:00]|RUT    |30.2       |\n",
      "|[2013-01-01 22:00:00, 2013-01-02 00:00:00]|FSO    |6.98       |\n",
      "|[2013-01-01 22:00:00, 2013-01-02 00:00:00]|FSO    |6.8        |\n",
      "|[2013-01-01 22:00:00, 2013-01-02 00:00:00]|FSO    |6.8        |\n",
      "|[2013-01-01 22:00:00, 2013-01-02 00:00:00]|FSO    |6.8        |\n",
      "|[2013-01-01 22:00:00, 2013-01-02 00:00:00]|FSO    |6.8        |\n",
      "|[2013-01-01 22:00:00, 2013-01-02 00:00:00]|FSO    |6.8        |\n",
      "+------------------------------------------+-------+-----------+\n",
      "only showing top 20 rows\n",
      "\n"
     ]
    },
    {
     "name": "stderr",
     "output_type": "stream",
     "text": [
      "23/04/12 17:11:07 WARN ProcessingTimeExecutor: Current batch is falling behind. The trigger interval is 10000 milliseconds, but spent 33513 milliseconds\n",
      "23/04/12 17:11:19 WARN ProcessingTimeExecutor: Current batch is falling behind. The trigger interval is 10000 milliseconds, but spent 46335 milliseconds\n"
     ]
    },
    {
     "name": "stdout",
     "output_type": "stream",
     "text": [
      "-------------------------------------------\n",
      "Batch: 0\n",
      "-------------------------------------------\n",
      "+------+-------+-----------+---------------+-------------+-------+------+--------+-----------+\n",
      "|Window|station|temperature|prev_week_start|prev_week_end|station|window|avg_temp|stddev_temp|\n",
      "+------+-------+-----------+---------------+-------------+-------+------+--------+-----------+\n",
      "+------+-------+-----------+---------------+-------------+-------+------+--------+-----------+\n",
      "\n"
     ]
    },
    {
     "name": "stderr",
     "output_type": "stream",
     "text": [
      "                                                                                \r"
     ]
    },
    {
     "name": "stdout",
     "output_type": "stream",
     "text": [
      "-------------------------------------------\n",
      "Batch: 108\n",
      "-------------------------------------------\n",
      "+------------------------------------------+-------+-----------+-------+------------------------------------------+--------+-----------+\n",
      "|Window                                    |station|temperature|station|window                                    |avg_temp|stddev_temp|\n",
      "+------------------------------------------+-------+-----------+-------+------------------------------------------+--------+-----------+\n",
      "|[2013-01-01 22:00:00, 2013-01-02 00:00:00]|RUT    |14.0       |RUT    |[2012-12-29 00:00:00, 2013-01-05 00:00:00]|30.2    |0.0        |\n",
      "|[2013-01-01 22:00:00, 2013-01-02 00:00:00]|RUT    |14.0       |RUT    |[2013-01-01 00:00:00, 2013-01-08 00:00:00]|30.2    |0.0        |\n",
      "|[2013-01-01 22:00:00, 2013-01-02 00:00:00]|RUT    |14.0       |RUT    |[2012-12-28 00:00:00, 2013-01-04 00:00:00]|30.2    |0.0        |\n",
      "|[2013-01-01 22:00:00, 2013-01-02 00:00:00]|RUT    |14.0       |RUT    |[2012-12-31 00:00:00, 2013-01-07 00:00:00]|30.2    |0.0        |\n",
      "|[2013-01-01 22:00:00, 2013-01-02 00:00:00]|RUT    |14.0       |RUT    |[2012-12-26 00:00:00, 2013-01-02 00:00:00]|30.2    |0.0        |\n",
      "|[2013-01-01 22:00:00, 2013-01-02 00:00:00]|RUT    |14.0       |RUT    |[2012-12-30 00:00:00, 2013-01-06 00:00:00]|30.2    |0.0        |\n",
      "|[2013-01-01 22:00:00, 2013-01-02 00:00:00]|RUT    |14.0       |RUT    |[2012-12-27 00:00:00, 2013-01-03 00:00:00]|30.2    |0.0        |\n",
      "|[2013-01-01 22:00:00, 2013-01-02 00:00:00]|RUT    |14.0       |RUT    |[2012-12-29 00:00:00, 2013-01-05 00:00:00]|30.2    |0.0        |\n",
      "|[2013-01-01 22:00:00, 2013-01-02 00:00:00]|RUT    |14.0       |RUT    |[2013-01-01 00:00:00, 2013-01-08 00:00:00]|30.2    |0.0        |\n",
      "|[2013-01-01 22:00:00, 2013-01-02 00:00:00]|RUT    |14.0       |RUT    |[2012-12-28 00:00:00, 2013-01-04 00:00:00]|30.2    |0.0        |\n",
      "|[2013-01-01 22:00:00, 2013-01-02 00:00:00]|RUT    |14.0       |RUT    |[2012-12-31 00:00:00, 2013-01-07 00:00:00]|30.2    |0.0        |\n",
      "|[2013-01-01 22:00:00, 2013-01-02 00:00:00]|RUT    |14.0       |RUT    |[2012-12-26 00:00:00, 2013-01-02 00:00:00]|30.2    |0.0        |\n",
      "|[2013-01-01 22:00:00, 2013-01-02 00:00:00]|RUT    |14.0       |RUT    |[2012-12-30 00:00:00, 2013-01-06 00:00:00]|30.2    |0.0        |\n",
      "|[2013-01-01 22:00:00, 2013-01-02 00:00:00]|RUT    |14.0       |RUT    |[2012-12-27 00:00:00, 2013-01-03 00:00:00]|30.2    |0.0        |\n",
      "|[2013-01-01 22:00:00, 2013-01-02 00:00:00]|RUT    |14.0       |RUT    |[2012-12-29 00:00:00, 2013-01-05 00:00:00]|30.2    |0.0        |\n",
      "|[2013-01-01 22:00:00, 2013-01-02 00:00:00]|RUT    |14.0       |RUT    |[2013-01-01 00:00:00, 2013-01-08 00:00:00]|30.2    |0.0        |\n",
      "|[2013-01-01 22:00:00, 2013-01-02 00:00:00]|RUT    |14.0       |RUT    |[2012-12-28 00:00:00, 2013-01-04 00:00:00]|30.2    |0.0        |\n",
      "|[2013-01-01 22:00:00, 2013-01-02 00:00:00]|RUT    |14.0       |RUT    |[2012-12-31 00:00:00, 2013-01-07 00:00:00]|30.2    |0.0        |\n",
      "|[2013-01-01 22:00:00, 2013-01-02 00:00:00]|RUT    |14.0       |RUT    |[2012-12-26 00:00:00, 2013-01-02 00:00:00]|30.2    |0.0        |\n",
      "|[2013-01-01 22:00:00, 2013-01-02 00:00:00]|RUT    |14.0       |RUT    |[2012-12-30 00:00:00, 2013-01-06 00:00:00]|30.2    |0.0        |\n",
      "+------------------------------------------+-------+-----------+-------+------------------------------------------+--------+-----------+\n",
      "only showing top 20 rows\n",
      "\n"
     ]
    },
    {
     "name": "stderr",
     "output_type": "stream",
     "text": [
      "23/04/12 17:11:27 WARN ProcessingTimeExecutor: Current batch is falling behind. The trigger interval is 10000 milliseconds, but spent 44693 milliseconds\n",
      "[Stage 1251:(55 + 2) / 200][Stage 1254:(0 + 0) / 200][Stage 1255:> (0 + 0) / 1]\r"
     ]
    }
   ],
   "source": [
    "#batch\n",
    "\n",
    "comparison_query = comparison_df.writeStream \\\n",
    "    .outputMode(\"complete\") \\\n",
    "    .format(\"console\") \\\n",
    "    .option(\"truncate\", \"false\") \\\n",
    "    .trigger(processingTime=\"10 seconds\") \\\n",
    "    .start()"
   ]
  },
  {
   "cell_type": "code",
   "execution_count": 44,
   "metadata": {},
   "outputs": [
    {
     "name": "stderr",
     "output_type": "stream",
     "text": [
      "                                                                                \r"
     ]
    },
    {
     "name": "stdout",
     "output_type": "stream",
     "text": [
      "-------------------------------------------\n",
      "Batch: 105\n",
      "-------------------------------------------\n",
      "+------------------------------------------+-------+-----------+\n",
      "|Window                                    |station|temperature|\n",
      "+------------------------------------------+-------+-----------+\n",
      "|[2013-01-01 14:00:00, 2013-01-01 16:00:00]|VSF    |26.06      |\n",
      "|[2013-01-01 14:00:00, 2013-01-01 16:00:00]|VSF    |24.98      |\n",
      "|[2013-01-01 06:00:00, 2013-01-01 08:00:00]|RUT    |30.2       |\n",
      "|[2013-01-01 06:00:00, 2013-01-01 08:00:00]|RUT    |30.2       |\n",
      "|[2013-01-01 06:00:00, 2013-01-01 08:00:00]|RUT    |30.2       |\n",
      "|[2013-01-01 06:00:00, 2013-01-01 08:00:00]|RUT    |30.2       |\n",
      "|[2013-01-01 06:00:00, 2013-01-01 08:00:00]|RUT    |30.2       |\n",
      "|[2013-01-01 19:00:00, 2013-01-01 21:00:00]|CDA    |14.0       |\n",
      "|[2013-01-01 19:00:00, 2013-01-01 21:00:00]|CDA    |14.36      |\n",
      "|[2013-01-01 19:00:00, 2013-01-01 21:00:00]|CDA    |13.64      |\n",
      "|[2013-01-01 19:00:00, 2013-01-01 21:00:00]|CDA    |12.92      |\n",
      "|[2013-01-01 19:00:00, 2013-01-01 21:00:00]|CDA    |12.2       |\n",
      "|[2013-01-01 19:00:00, 2013-01-01 21:00:00]|BTV    |17.06      |\n",
      "|[2013-01-01 18:00:00, 2013-01-01 20:00:00]|EFK    |12.02      |\n",
      "|[2013-01-01 18:00:00, 2013-01-01 20:00:00]|EFK    |12.2       |\n",
      "|[2013-01-01 18:00:00, 2013-01-01 20:00:00]|EFK    |12.02      |\n",
      "|[2013-01-01 18:00:00, 2013-01-01 20:00:00]|EFK    |11.84      |\n",
      "|[2013-01-01 18:00:00, 2013-01-01 20:00:00]|EFK    |11.84      |\n",
      "|[2013-01-01 18:00:00, 2013-01-01 20:00:00]|EFK    |11.12      |\n",
      "|[2013-01-01 18:00:00, 2013-01-01 20:00:00]|VSF    |24.08      |\n",
      "+------------------------------------------+-------+-----------+\n",
      "only showing top 20 rows\n",
      "\n"
     ]
    },
    {
     "name": "stderr",
     "output_type": "stream",
     "text": [
      "23/04/12 16:58:10 WARN ProcessingTimeExecutor: Current batch is falling behind. The trigger interval is 10000 milliseconds, but spent 31019 milliseconds\n",
      "[Stage 915:(44 + 2) / 200][Stage 918:>(7 + 0) / 200][Stage 920:>  (0 + 0) / 1]  \r"
     ]
    }
   ],
   "source": [
    "comparison_query.stop()"
   ]
  },
  {
   "cell_type": "markdown",
   "metadata": {},
   "source": [
    "### z_score"
   ]
  },
  {
   "cell_type": "code",
   "execution_count": 51,
   "metadata": {
    "collapsed": true,
    "jupyter": {
     "outputs_hidden": true
    }
   },
   "outputs": [
    {
     "name": "stderr",
     "output_type": "stream",
     "text": [
      "23/04/12 17:11:35 WARN ProcessingTimeExecutor: Current batch is falling behind. The trigger interval is 10000 milliseconds, but spent 37946 milliseconds\n"
     ]
    },
    {
     "name": "stdout",
     "output_type": "stream",
     "text": [
      "-------------------------------------------\n",
      "Batch: 74\n",
      "-------------------------------------------\n",
      "+------+-------+-----------+-------+------+--------+-----------+\n",
      "|Window|station|temperature|station|window|avg_temp|stddev_temp|\n",
      "+------+-------+-----------+-------+------+--------+-----------+\n",
      "+------+-------+-----------+-------+------+--------+-----------+\n",
      "\n"
     ]
    },
    {
     "name": "stderr",
     "output_type": "stream",
     "text": [
      "                                                                                \r"
     ]
    },
    {
     "name": "stdout",
     "output_type": "stream",
     "text": [
      "-------------------------------------------\n",
      "Batch: 138\n",
      "-------------------------------------------\n",
      "+------------------------------------------+-------+-----------+\n",
      "|Window                                    |station|temperature|\n",
      "+------------------------------------------+-------+-----------+\n",
      "|[2013-01-01 22:00:00, 2013-01-02 00:00:00]|RUT    |14.0       |\n",
      "|[2013-01-01 22:00:00, 2013-01-02 00:00:00]|RUT    |14.0       |\n",
      "|[2013-01-01 22:00:00, 2013-01-02 00:00:00]|RUT    |14.0       |\n",
      "|[2013-01-01 22:00:00, 2013-01-02 00:00:00]|RUT    |12.2       |\n",
      "|[2013-01-01 22:00:00, 2013-01-02 00:00:00]|RUT    |12.2       |\n",
      "|[2013-01-01 14:00:00, 2013-01-01 16:00:00]|VSF    |26.06      |\n",
      "|[2013-01-01 14:00:00, 2013-01-01 16:00:00]|VSF    |24.98      |\n",
      "|[2013-01-02 05:00:00, 2013-01-02 07:00:00]|FSO    |4.46       |\n",
      "|[2013-01-02 05:00:00, 2013-01-02 07:00:00]|FSO    |4.46       |\n",
      "|[2013-01-02 05:00:00, 2013-01-02 07:00:00]|FSO    |4.46       |\n",
      "|[2013-01-01 06:00:00, 2013-01-01 08:00:00]|RUT    |30.2       |\n",
      "|[2013-01-01 06:00:00, 2013-01-01 08:00:00]|RUT    |30.2       |\n",
      "|[2013-01-01 06:00:00, 2013-01-01 08:00:00]|RUT    |30.2       |\n",
      "|[2013-01-01 06:00:00, 2013-01-01 08:00:00]|RUT    |30.2       |\n",
      "|[2013-01-01 06:00:00, 2013-01-01 08:00:00]|RUT    |30.2       |\n",
      "|[2013-01-01 22:00:00, 2013-01-02 00:00:00]|FSO    |6.98       |\n",
      "|[2013-01-01 22:00:00, 2013-01-02 00:00:00]|FSO    |6.8        |\n",
      "|[2013-01-01 22:00:00, 2013-01-02 00:00:00]|FSO    |6.8        |\n",
      "|[2013-01-01 22:00:00, 2013-01-02 00:00:00]|FSO    |6.8        |\n",
      "|[2013-01-01 22:00:00, 2013-01-02 00:00:00]|FSO    |6.8        |\n",
      "+------------------------------------------+-------+-----------+\n",
      "only showing top 20 rows\n",
      "\n"
     ]
    },
    {
     "name": "stderr",
     "output_type": "stream",
     "text": [
      "23/04/12 17:11:44 WARN ProcessingTimeExecutor: Current batch is falling behind. The trigger interval is 10000 milliseconds, but spent 37168 milliseconds\n",
      "                                                                                ]\r"
     ]
    },
    {
     "name": "stdout",
     "output_type": "stream",
     "text": [
      "-------------------------------------------\n",
      "Batch: 1\n",
      "-------------------------------------------\n",
      "+------------------------------------------+-------+-----------+---------------+-------------+-------+------------------------------------------+--------+------------------+\n",
      "|Window                                    |station|temperature|prev_week_start|prev_week_end|station|window                                    |avg_temp|stddev_temp       |\n",
      "+------------------------------------------+-------+-----------+---------------+-------------+-------+------------------------------------------+--------+------------------+\n",
      "|[2013-01-02 05:00:00, 2013-01-02 07:00:00]|FSO    |4.46       |2012-12-26     |2013-01-01   |FSO    |[2012-12-29 00:00:00, 2013-01-05 00:00:00]|31.055  |1.0936635680134912|\n",
      "|[2013-01-02 05:00:00, 2013-01-02 07:00:00]|FSO    |4.46       |2012-12-26     |2013-01-01   |FSO    |[2012-12-30 00:00:00, 2013-01-06 00:00:00]|31.055  |1.0936635680134912|\n",
      "|[2013-01-02 05:00:00, 2013-01-02 07:00:00]|FSO    |4.46       |2012-12-26     |2013-01-01   |FSO    |[2012-12-31 00:00:00, 2013-01-07 00:00:00]|31.055  |1.0936635680134912|\n",
      "|[2013-01-02 05:00:00, 2013-01-02 07:00:00]|FSO    |4.46       |2012-12-26     |2013-01-01   |FSO    |[2012-12-26 00:00:00, 2013-01-02 00:00:00]|31.055  |1.0936635680134912|\n",
      "|[2013-01-02 05:00:00, 2013-01-02 07:00:00]|FSO    |4.46       |2012-12-26     |2013-01-01   |FSO    |[2012-12-28 00:00:00, 2013-01-04 00:00:00]|31.055  |1.0936635680134912|\n",
      "|[2013-01-02 05:00:00, 2013-01-02 07:00:00]|FSO    |4.46       |2012-12-26     |2013-01-01   |FSO    |[2012-12-27 00:00:00, 2013-01-03 00:00:00]|31.055  |1.0936635680134912|\n",
      "|[2013-01-02 05:00:00, 2013-01-02 07:00:00]|FSO    |4.46       |2012-12-26     |2013-01-01   |FSO    |[2013-01-01 00:00:00, 2013-01-08 00:00:00]|31.055  |1.0936635680134912|\n",
      "|[2013-01-02 04:00:00, 2013-01-02 06:00:00]|FSO    |4.46       |2012-12-26     |2013-01-01   |FSO    |[2012-12-29 00:00:00, 2013-01-05 00:00:00]|31.055  |1.0936635680134912|\n",
      "|[2013-01-02 04:00:00, 2013-01-02 06:00:00]|FSO    |4.46       |2012-12-26     |2013-01-01   |FSO    |[2012-12-30 00:00:00, 2013-01-06 00:00:00]|31.055  |1.0936635680134912|\n",
      "|[2013-01-02 04:00:00, 2013-01-02 06:00:00]|FSO    |4.46       |2012-12-26     |2013-01-01   |FSO    |[2012-12-31 00:00:00, 2013-01-07 00:00:00]|31.055  |1.0936635680134912|\n",
      "|[2013-01-02 04:00:00, 2013-01-02 06:00:00]|FSO    |4.46       |2012-12-26     |2013-01-01   |FSO    |[2012-12-26 00:00:00, 2013-01-02 00:00:00]|31.055  |1.0936635680134912|\n",
      "|[2013-01-02 04:00:00, 2013-01-02 06:00:00]|FSO    |4.46       |2012-12-26     |2013-01-01   |FSO    |[2012-12-28 00:00:00, 2013-01-04 00:00:00]|31.055  |1.0936635680134912|\n",
      "|[2013-01-02 04:00:00, 2013-01-02 06:00:00]|FSO    |4.46       |2012-12-26     |2013-01-01   |FSO    |[2012-12-27 00:00:00, 2013-01-03 00:00:00]|31.055  |1.0936635680134912|\n",
      "|[2013-01-02 04:00:00, 2013-01-02 06:00:00]|FSO    |4.46       |2012-12-26     |2013-01-01   |FSO    |[2013-01-01 00:00:00, 2013-01-08 00:00:00]|31.055  |1.0936635680134912|\n",
      "|[2013-01-02 05:00:00, 2013-01-02 07:00:00]|1V4    |8.06       |2012-12-26     |2013-01-01   |1V4    |[2012-12-26 00:00:00, 2013-01-02 00:00:00]|26.96   |NaN               |\n",
      "|[2013-01-02 05:00:00, 2013-01-02 07:00:00]|1V4    |8.06       |2012-12-26     |2013-01-01   |1V4    |[2012-12-30 00:00:00, 2013-01-06 00:00:00]|26.96   |NaN               |\n",
      "|[2013-01-02 05:00:00, 2013-01-02 07:00:00]|1V4    |8.06       |2012-12-26     |2013-01-01   |1V4    |[2012-12-27 00:00:00, 2013-01-03 00:00:00]|26.96   |NaN               |\n",
      "|[2013-01-02 05:00:00, 2013-01-02 07:00:00]|1V4    |8.06       |2012-12-26     |2013-01-01   |1V4    |[2012-12-28 00:00:00, 2013-01-04 00:00:00]|26.96   |NaN               |\n",
      "|[2013-01-02 05:00:00, 2013-01-02 07:00:00]|1V4    |8.06       |2012-12-26     |2013-01-01   |1V4    |[2012-12-31 00:00:00, 2013-01-07 00:00:00]|26.96   |NaN               |\n",
      "|[2013-01-02 05:00:00, 2013-01-02 07:00:00]|1V4    |8.06       |2012-12-26     |2013-01-01   |1V4    |[2013-01-01 00:00:00, 2013-01-08 00:00:00]|26.96   |NaN               |\n",
      "+------------------------------------------+-------+-----------+---------------+-------------+-------+------------------------------------------+--------+------------------+\n",
      "only showing top 20 rows\n",
      "\n"
     ]
    },
    {
     "name": "stderr",
     "output_type": "stream",
     "text": [
      "23/04/12 17:11:59 WARN ProcessingTimeExecutor: Current batch is falling behind. The trigger interval is 10000 milliseconds, but spent 40537 milliseconds\n",
      "[Stage 1263:(198 + 1) / 200][Stage 1265:(0 + 1) / 200][Stage 1266:> (0 + 0) / 1]\r"
     ]
    },
    {
     "name": "stdout",
     "output_type": "stream",
     "text": [
      "-------------------------------------------\n",
      "Batch: 109\n",
      "-------------------------------------------\n"
     ]
    },
    {
     "name": "stderr",
     "output_type": "stream",
     "text": [
      "[Stage 1265:(8 + 2) / 200][Stage 1266:> (0 + 0) / 1][Stage 1268:> (0 + 0) / 1]  \r"
     ]
    },
    {
     "name": "stdout",
     "output_type": "stream",
     "text": [
      "+------------------------------------------+-------+-----------+-------+------------------------------------------+--------+-----------+\n",
      "|Window                                    |station|temperature|station|window                                    |avg_temp|stddev_temp|\n",
      "+------------------------------------------+-------+-----------+-------+------------------------------------------+--------+-----------+\n",
      "|[2013-01-01 22:00:00, 2013-01-02 00:00:00]|RUT    |14.0       |RUT    |[2012-12-29 00:00:00, 2013-01-05 00:00:00]|30.2    |0.0        |\n",
      "|[2013-01-01 22:00:00, 2013-01-02 00:00:00]|RUT    |14.0       |RUT    |[2013-01-01 00:00:00, 2013-01-08 00:00:00]|30.2    |0.0        |\n",
      "|[2013-01-01 22:00:00, 2013-01-02 00:00:00]|RUT    |14.0       |RUT    |[2012-12-28 00:00:00, 2013-01-04 00:00:00]|30.2    |0.0        |\n",
      "|[2013-01-01 22:00:00, 2013-01-02 00:00:00]|RUT    |14.0       |RUT    |[2012-12-31 00:00:00, 2013-01-07 00:00:00]|30.2    |0.0        |\n",
      "|[2013-01-01 22:00:00, 2013-01-02 00:00:00]|RUT    |14.0       |RUT    |[2012-12-26 00:00:00, 2013-01-02 00:00:00]|30.2    |0.0        |\n",
      "|[2013-01-01 22:00:00, 2013-01-02 00:00:00]|RUT    |14.0       |RUT    |[2012-12-30 00:00:00, 2013-01-06 00:00:00]|30.2    |0.0        |\n",
      "|[2013-01-01 22:00:00, 2013-01-02 00:00:00]|RUT    |14.0       |RUT    |[2012-12-27 00:00:00, 2013-01-03 00:00:00]|30.2    |0.0        |\n",
      "|[2013-01-01 22:00:00, 2013-01-02 00:00:00]|RUT    |14.0       |RUT    |[2012-12-29 00:00:00, 2013-01-05 00:00:00]|30.2    |0.0        |\n",
      "|[2013-01-01 22:00:00, 2013-01-02 00:00:00]|RUT    |14.0       |RUT    |[2013-01-01 00:00:00, 2013-01-08 00:00:00]|30.2    |0.0        |\n",
      "|[2013-01-01 22:00:00, 2013-01-02 00:00:00]|RUT    |14.0       |RUT    |[2012-12-28 00:00:00, 2013-01-04 00:00:00]|30.2    |0.0        |\n",
      "|[2013-01-01 22:00:00, 2013-01-02 00:00:00]|RUT    |14.0       |RUT    |[2012-12-31 00:00:00, 2013-01-07 00:00:00]|30.2    |0.0        |\n",
      "|[2013-01-01 22:00:00, 2013-01-02 00:00:00]|RUT    |14.0       |RUT    |[2012-12-26 00:00:00, 2013-01-02 00:00:00]|30.2    |0.0        |\n",
      "|[2013-01-01 22:00:00, 2013-01-02 00:00:00]|RUT    |14.0       |RUT    |[2012-12-30 00:00:00, 2013-01-06 00:00:00]|30.2    |0.0        |\n",
      "|[2013-01-01 22:00:00, 2013-01-02 00:00:00]|RUT    |14.0       |RUT    |[2012-12-27 00:00:00, 2013-01-03 00:00:00]|30.2    |0.0        |\n",
      "|[2013-01-01 22:00:00, 2013-01-02 00:00:00]|RUT    |14.0       |RUT    |[2012-12-29 00:00:00, 2013-01-05 00:00:00]|30.2    |0.0        |\n",
      "|[2013-01-01 22:00:00, 2013-01-02 00:00:00]|RUT    |14.0       |RUT    |[2013-01-01 00:00:00, 2013-01-08 00:00:00]|30.2    |0.0        |\n",
      "|[2013-01-01 22:00:00, 2013-01-02 00:00:00]|RUT    |14.0       |RUT    |[2012-12-28 00:00:00, 2013-01-04 00:00:00]|30.2    |0.0        |\n",
      "|[2013-01-01 22:00:00, 2013-01-02 00:00:00]|RUT    |14.0       |RUT    |[2012-12-31 00:00:00, 2013-01-07 00:00:00]|30.2    |0.0        |\n",
      "|[2013-01-01 22:00:00, 2013-01-02 00:00:00]|RUT    |14.0       |RUT    |[2012-12-26 00:00:00, 2013-01-02 00:00:00]|30.2    |0.0        |\n",
      "|[2013-01-01 22:00:00, 2013-01-02 00:00:00]|RUT    |14.0       |RUT    |[2012-12-30 00:00:00, 2013-01-06 00:00:00]|30.2    |0.0        |\n",
      "+------------------------------------------+-------+-----------+-------+------------------------------------------+--------+-----------+\n",
      "only showing top 20 rows\n",
      "\n"
     ]
    },
    {
     "name": "stderr",
     "output_type": "stream",
     "text": [
      "23/04/12 17:12:09 WARN ProcessingTimeExecutor: Current batch is falling behind. The trigger interval is 10000 milliseconds, but spent 41603 milliseconds\n",
      "                                                                                \r"
     ]
    },
    {
     "name": "stdout",
     "output_type": "stream",
     "text": [
      "-------------------------------------------\n",
      "Batch: 75\n",
      "-------------------------------------------\n",
      "+------+-------+-----------+-------+------+--------+-----------+\n",
      "|Window|station|temperature|station|window|avg_temp|stddev_temp|\n",
      "+------+-------+-----------+-------+------+--------+-----------+\n",
      "+------+-------+-----------+-------+------+--------+-----------+\n",
      "\n"
     ]
    },
    {
     "name": "stderr",
     "output_type": "stream",
     "text": [
      "23/04/12 17:12:20 WARN ProcessingTimeExecutor: Current batch is falling behind. The trigger interval is 10000 milliseconds, but spent 44581 milliseconds\n",
      "                                                                                ]\r"
     ]
    },
    {
     "name": "stdout",
     "output_type": "stream",
     "text": [
      "-------------------------------------------\n",
      "Batch: 139\n",
      "-------------------------------------------\n",
      "+------------------------------------------+-------+-----------+\n",
      "|Window                                    |station|temperature|\n",
      "+------------------------------------------+-------+-----------+\n",
      "|[2013-01-01 22:00:00, 2013-01-02 00:00:00]|RUT    |14.0       |\n",
      "|[2013-01-01 22:00:00, 2013-01-02 00:00:00]|RUT    |14.0       |\n",
      "|[2013-01-01 22:00:00, 2013-01-02 00:00:00]|RUT    |14.0       |\n",
      "|[2013-01-01 22:00:00, 2013-01-02 00:00:00]|RUT    |12.2       |\n",
      "|[2013-01-01 22:00:00, 2013-01-02 00:00:00]|RUT    |12.2       |\n",
      "|[2013-01-01 14:00:00, 2013-01-01 16:00:00]|VSF    |26.06      |\n",
      "|[2013-01-01 14:00:00, 2013-01-01 16:00:00]|VSF    |24.98      |\n",
      "|[2013-01-02 05:00:00, 2013-01-02 07:00:00]|FSO    |4.46       |\n",
      "|[2013-01-02 05:00:00, 2013-01-02 07:00:00]|FSO    |4.46       |\n",
      "|[2013-01-02 05:00:00, 2013-01-02 07:00:00]|FSO    |4.46       |\n",
      "|[2013-01-02 05:00:00, 2013-01-02 07:00:00]|FSO    |4.46       |\n",
      "|[2013-01-01 06:00:00, 2013-01-01 08:00:00]|RUT    |30.2       |\n",
      "|[2013-01-01 06:00:00, 2013-01-01 08:00:00]|RUT    |30.2       |\n",
      "|[2013-01-01 06:00:00, 2013-01-01 08:00:00]|RUT    |30.2       |\n",
      "|[2013-01-01 06:00:00, 2013-01-01 08:00:00]|RUT    |30.2       |\n",
      "|[2013-01-01 06:00:00, 2013-01-01 08:00:00]|RUT    |30.2       |\n",
      "|[2013-01-01 22:00:00, 2013-01-02 00:00:00]|FSO    |6.98       |\n",
      "|[2013-01-01 22:00:00, 2013-01-02 00:00:00]|FSO    |6.8        |\n",
      "|[2013-01-01 22:00:00, 2013-01-02 00:00:00]|FSO    |6.8        |\n",
      "|[2013-01-01 22:00:00, 2013-01-02 00:00:00]|FSO    |6.8        |\n",
      "+------------------------------------------+-------+-----------+\n",
      "only showing top 20 rows\n",
      "\n"
     ]
    },
    {
     "name": "stderr",
     "output_type": "stream",
     "text": [
      "23/04/12 17:12:30 WARN ProcessingTimeExecutor: Current batch is falling behind. The trigger interval is 10000 milliseconds, but spent 46275 milliseconds\n",
      "                                                                                ]\r"
     ]
    },
    {
     "name": "stdout",
     "output_type": "stream",
     "text": [
      "-------------------------------------------\n",
      "Batch: 110\n",
      "-------------------------------------------\n",
      "+------------------------------------------+-------+-----------+-------+------------------------------------------+--------+-----------+\n",
      "|Window                                    |station|temperature|station|window                                    |avg_temp|stddev_temp|\n",
      "+------------------------------------------+-------+-----------+-------+------------------------------------------+--------+-----------+\n",
      "|[2013-01-01 22:00:00, 2013-01-02 00:00:00]|RUT    |14.0       |RUT    |[2012-12-29 00:00:00, 2013-01-05 00:00:00]|30.2    |0.0        |\n",
      "|[2013-01-01 22:00:00, 2013-01-02 00:00:00]|RUT    |14.0       |RUT    |[2013-01-01 00:00:00, 2013-01-08 00:00:00]|30.2    |0.0        |\n",
      "|[2013-01-01 22:00:00, 2013-01-02 00:00:00]|RUT    |14.0       |RUT    |[2012-12-28 00:00:00, 2013-01-04 00:00:00]|30.2    |0.0        |\n",
      "|[2013-01-01 22:00:00, 2013-01-02 00:00:00]|RUT    |14.0       |RUT    |[2012-12-31 00:00:00, 2013-01-07 00:00:00]|30.2    |0.0        |\n",
      "|[2013-01-01 22:00:00, 2013-01-02 00:00:00]|RUT    |14.0       |RUT    |[2012-12-26 00:00:00, 2013-01-02 00:00:00]|30.2    |0.0        |\n",
      "|[2013-01-01 22:00:00, 2013-01-02 00:00:00]|RUT    |14.0       |RUT    |[2012-12-30 00:00:00, 2013-01-06 00:00:00]|30.2    |0.0        |\n",
      "|[2013-01-01 22:00:00, 2013-01-02 00:00:00]|RUT    |14.0       |RUT    |[2012-12-27 00:00:00, 2013-01-03 00:00:00]|30.2    |0.0        |\n",
      "|[2013-01-01 22:00:00, 2013-01-02 00:00:00]|RUT    |14.0       |RUT    |[2012-12-29 00:00:00, 2013-01-05 00:00:00]|30.2    |0.0        |\n",
      "|[2013-01-01 22:00:00, 2013-01-02 00:00:00]|RUT    |14.0       |RUT    |[2013-01-01 00:00:00, 2013-01-08 00:00:00]|30.2    |0.0        |\n",
      "|[2013-01-01 22:00:00, 2013-01-02 00:00:00]|RUT    |14.0       |RUT    |[2012-12-28 00:00:00, 2013-01-04 00:00:00]|30.2    |0.0        |\n",
      "|[2013-01-01 22:00:00, 2013-01-02 00:00:00]|RUT    |14.0       |RUT    |[2012-12-31 00:00:00, 2013-01-07 00:00:00]|30.2    |0.0        |\n",
      "|[2013-01-01 22:00:00, 2013-01-02 00:00:00]|RUT    |14.0       |RUT    |[2012-12-26 00:00:00, 2013-01-02 00:00:00]|30.2    |0.0        |\n",
      "|[2013-01-01 22:00:00, 2013-01-02 00:00:00]|RUT    |14.0       |RUT    |[2012-12-30 00:00:00, 2013-01-06 00:00:00]|30.2    |0.0        |\n",
      "|[2013-01-01 22:00:00, 2013-01-02 00:00:00]|RUT    |14.0       |RUT    |[2012-12-27 00:00:00, 2013-01-03 00:00:00]|30.2    |0.0        |\n",
      "|[2013-01-01 22:00:00, 2013-01-02 00:00:00]|RUT    |14.0       |RUT    |[2012-12-29 00:00:00, 2013-01-05 00:00:00]|30.2    |0.0        |\n",
      "|[2013-01-01 22:00:00, 2013-01-02 00:00:00]|RUT    |14.0       |RUT    |[2013-01-01 00:00:00, 2013-01-08 00:00:00]|30.2    |0.0        |\n",
      "|[2013-01-01 22:00:00, 2013-01-02 00:00:00]|RUT    |14.0       |RUT    |[2012-12-28 00:00:00, 2013-01-04 00:00:00]|30.2    |0.0        |\n",
      "|[2013-01-01 22:00:00, 2013-01-02 00:00:00]|RUT    |14.0       |RUT    |[2012-12-31 00:00:00, 2013-01-07 00:00:00]|30.2    |0.0        |\n",
      "|[2013-01-01 22:00:00, 2013-01-02 00:00:00]|RUT    |14.0       |RUT    |[2012-12-26 00:00:00, 2013-01-02 00:00:00]|30.2    |0.0        |\n",
      "|[2013-01-01 22:00:00, 2013-01-02 00:00:00]|RUT    |14.0       |RUT    |[2012-12-30 00:00:00, 2013-01-06 00:00:00]|30.2    |0.0        |\n",
      "+------------------------------------------+-------+-----------+-------+------------------------------------------+--------+-----------+\n",
      "only showing top 20 rows\n",
      "\n"
     ]
    },
    {
     "name": "stderr",
     "output_type": "stream",
     "text": [
      "23/04/12 17:12:40 WARN ProcessingTimeExecutor: Current batch is falling behind. The trigger interval is 10000 milliseconds, but spent 30804 milliseconds\n",
      "23/04/12 17:12:49 WARN ProcessingTimeExecutor: Current batch is falling behind. The trigger interval is 10000 milliseconds, but spent 49440 milliseconds\n"
     ]
    },
    {
     "name": "stdout",
     "output_type": "stream",
     "text": [
      "-------------------------------------------\n",
      "Batch: 2\n",
      "-------------------------------------------\n",
      "+------------------------------------------+-------+-----------+---------------+-------------+-------+------------------------------------------+--------+------------------+\n",
      "|Window                                    |station|temperature|prev_week_start|prev_week_end|station|window                                    |avg_temp|stddev_temp       |\n",
      "+------------------------------------------+-------+-----------+---------------+-------------+-------+------------------------------------------+--------+------------------+\n",
      "|[2013-01-02 05:00:00, 2013-01-02 07:00:00]|FSO    |4.46       |2012-12-26     |2013-01-01   |FSO    |[2012-12-29 00:00:00, 2013-01-05 00:00:00]|31.055  |1.0936635680134912|\n",
      "|[2013-01-02 05:00:00, 2013-01-02 07:00:00]|FSO    |4.46       |2012-12-26     |2013-01-01   |FSO    |[2012-12-30 00:00:00, 2013-01-06 00:00:00]|31.055  |1.0936635680134912|\n",
      "|[2013-01-02 05:00:00, 2013-01-02 07:00:00]|FSO    |4.46       |2012-12-26     |2013-01-01   |FSO    |[2012-12-31 00:00:00, 2013-01-07 00:00:00]|31.055  |1.0936635680134912|\n",
      "|[2013-01-02 05:00:00, 2013-01-02 07:00:00]|FSO    |4.46       |2012-12-26     |2013-01-01   |FSO    |[2012-12-26 00:00:00, 2013-01-02 00:00:00]|31.055  |1.0936635680134912|\n",
      "|[2013-01-02 05:00:00, 2013-01-02 07:00:00]|FSO    |4.46       |2012-12-26     |2013-01-01   |FSO    |[2012-12-28 00:00:00, 2013-01-04 00:00:00]|31.055  |1.0936635680134912|\n",
      "|[2013-01-02 05:00:00, 2013-01-02 07:00:00]|FSO    |4.46       |2012-12-26     |2013-01-01   |FSO    |[2012-12-27 00:00:00, 2013-01-03 00:00:00]|31.055  |1.0936635680134912|\n",
      "|[2013-01-02 05:00:00, 2013-01-02 07:00:00]|FSO    |4.46       |2012-12-26     |2013-01-01   |FSO    |[2013-01-01 00:00:00, 2013-01-08 00:00:00]|31.055  |1.0936635680134912|\n",
      "|[2013-01-02 05:00:00, 2013-01-02 07:00:00]|FSO    |4.46       |2012-12-26     |2013-01-01   |FSO    |[2012-12-29 00:00:00, 2013-01-05 00:00:00]|31.055  |1.0936635680134912|\n",
      "|[2013-01-02 05:00:00, 2013-01-02 07:00:00]|FSO    |4.46       |2012-12-26     |2013-01-01   |FSO    |[2012-12-30 00:00:00, 2013-01-06 00:00:00]|31.055  |1.0936635680134912|\n",
      "|[2013-01-02 05:00:00, 2013-01-02 07:00:00]|FSO    |4.46       |2012-12-26     |2013-01-01   |FSO    |[2012-12-31 00:00:00, 2013-01-07 00:00:00]|31.055  |1.0936635680134912|\n",
      "|[2013-01-02 05:00:00, 2013-01-02 07:00:00]|FSO    |4.46       |2012-12-26     |2013-01-01   |FSO    |[2012-12-26 00:00:00, 2013-01-02 00:00:00]|31.055  |1.0936635680134912|\n",
      "|[2013-01-02 05:00:00, 2013-01-02 07:00:00]|FSO    |4.46       |2012-12-26     |2013-01-01   |FSO    |[2012-12-28 00:00:00, 2013-01-04 00:00:00]|31.055  |1.0936635680134912|\n",
      "|[2013-01-02 05:00:00, 2013-01-02 07:00:00]|FSO    |4.46       |2012-12-26     |2013-01-01   |FSO    |[2012-12-27 00:00:00, 2013-01-03 00:00:00]|31.055  |1.0936635680134912|\n",
      "|[2013-01-02 05:00:00, 2013-01-02 07:00:00]|FSO    |4.46       |2012-12-26     |2013-01-01   |FSO    |[2013-01-01 00:00:00, 2013-01-08 00:00:00]|31.055  |1.0936635680134912|\n",
      "|[2013-01-02 05:00:00, 2013-01-02 07:00:00]|FSO    |4.82       |2012-12-26     |2013-01-01   |FSO    |[2012-12-29 00:00:00, 2013-01-05 00:00:00]|31.055  |1.0936635680134912|\n",
      "|[2013-01-02 05:00:00, 2013-01-02 07:00:00]|FSO    |4.82       |2012-12-26     |2013-01-01   |FSO    |[2012-12-30 00:00:00, 2013-01-06 00:00:00]|31.055  |1.0936635680134912|\n",
      "|[2013-01-02 05:00:00, 2013-01-02 07:00:00]|FSO    |4.82       |2012-12-26     |2013-01-01   |FSO    |[2012-12-31 00:00:00, 2013-01-07 00:00:00]|31.055  |1.0936635680134912|\n",
      "|[2013-01-02 05:00:00, 2013-01-02 07:00:00]|FSO    |4.82       |2012-12-26     |2013-01-01   |FSO    |[2012-12-26 00:00:00, 2013-01-02 00:00:00]|31.055  |1.0936635680134912|\n",
      "|[2013-01-02 05:00:00, 2013-01-02 07:00:00]|FSO    |4.82       |2012-12-26     |2013-01-01   |FSO    |[2012-12-28 00:00:00, 2013-01-04 00:00:00]|31.055  |1.0936635680134912|\n",
      "|[2013-01-02 05:00:00, 2013-01-02 07:00:00]|FSO    |4.82       |2012-12-26     |2013-01-01   |FSO    |[2012-12-27 00:00:00, 2013-01-03 00:00:00]|31.055  |1.0936635680134912|\n",
      "+------------------------------------------+-------+-----------+---------------+-------------+-------+------------------------------------------+--------+------------------+\n",
      "only showing top 20 rows\n",
      "\n"
     ]
    },
    {
     "name": "stderr",
     "output_type": "stream",
     "text": [
      "                                                                                \r"
     ]
    },
    {
     "name": "stdout",
     "output_type": "stream",
     "text": [
      "-------------------------------------------\n",
      "Batch: 140\n",
      "-------------------------------------------\n",
      "+------------------------------------------+-------+-----------+\n",
      "|Window                                    |station|temperature|\n",
      "+------------------------------------------+-------+-----------+\n",
      "|[2013-01-01 22:00:00, 2013-01-02 00:00:00]|RUT    |14.0       |\n",
      "|[2013-01-01 22:00:00, 2013-01-02 00:00:00]|RUT    |14.0       |\n",
      "|[2013-01-01 22:00:00, 2013-01-02 00:00:00]|RUT    |14.0       |\n",
      "|[2013-01-01 22:00:00, 2013-01-02 00:00:00]|RUT    |12.2       |\n",
      "|[2013-01-01 22:00:00, 2013-01-02 00:00:00]|RUT    |12.2       |\n",
      "|[2013-01-01 14:00:00, 2013-01-01 16:00:00]|VSF    |26.06      |\n",
      "|[2013-01-01 14:00:00, 2013-01-01 16:00:00]|VSF    |24.98      |\n",
      "|[2013-01-02 05:00:00, 2013-01-02 07:00:00]|FSO    |4.46       |\n",
      "|[2013-01-02 05:00:00, 2013-01-02 07:00:00]|FSO    |4.46       |\n",
      "|[2013-01-02 05:00:00, 2013-01-02 07:00:00]|FSO    |4.46       |\n",
      "|[2013-01-02 05:00:00, 2013-01-02 07:00:00]|FSO    |4.46       |\n",
      "|[2013-01-02 05:00:00, 2013-01-02 07:00:00]|FSO    |4.82       |\n",
      "|[2013-01-01 06:00:00, 2013-01-01 08:00:00]|RUT    |30.2       |\n",
      "|[2013-01-01 06:00:00, 2013-01-01 08:00:00]|RUT    |30.2       |\n",
      "|[2013-01-01 06:00:00, 2013-01-01 08:00:00]|RUT    |30.2       |\n",
      "|[2013-01-01 06:00:00, 2013-01-01 08:00:00]|RUT    |30.2       |\n",
      "|[2013-01-01 06:00:00, 2013-01-01 08:00:00]|RUT    |30.2       |\n",
      "|[2013-01-01 22:00:00, 2013-01-02 00:00:00]|FSO    |6.98       |\n",
      "|[2013-01-01 22:00:00, 2013-01-02 00:00:00]|FSO    |6.8        |\n",
      "|[2013-01-01 22:00:00, 2013-01-02 00:00:00]|FSO    |6.8        |\n",
      "+------------------------------------------+-------+-----------+\n",
      "only showing top 20 rows\n",
      "\n"
     ]
    },
    {
     "name": "stderr",
     "output_type": "stream",
     "text": [
      "23/04/12 17:12:58 WARN ProcessingTimeExecutor: Current batch is falling behind. The trigger interval is 10000 milliseconds, but spent 27191 milliseconds\n",
      "23/04/12 17:13:04 WARN ProcessingTimeExecutor: Current batch is falling behind. The trigger interval is 10000 milliseconds, but spent 44233 milliseconds\n"
     ]
    },
    {
     "name": "stdout",
     "output_type": "stream",
     "text": [
      "-------------------------------------------\n",
      "Batch: 76\n",
      "-------------------------------------------\n",
      "+------+-------+-----------+-------+------+--------+-----------+\n",
      "|Window|station|temperature|station|window|avg_temp|stddev_temp|\n",
      "+------+-------+-----------+-------+------+--------+-----------+\n",
      "+------+-------+-----------+-------+------+--------+-----------+\n",
      "\n"
     ]
    },
    {
     "name": "stderr",
     "output_type": "stream",
     "text": [
      "                                                                                \r"
     ]
    },
    {
     "name": "stdout",
     "output_type": "stream",
     "text": [
      "-------------------------------------------\n",
      "Batch: 111\n",
      "-------------------------------------------\n",
      "+------------------------------------------+-------+-----------+-------+------------------------------------------+--------+-----------+\n",
      "|Window                                    |station|temperature|station|window                                    |avg_temp|stddev_temp|\n",
      "+------------------------------------------+-------+-----------+-------+------------------------------------------+--------+-----------+\n",
      "|[2013-01-01 22:00:00, 2013-01-02 00:00:00]|RUT    |14.0       |RUT    |[2012-12-29 00:00:00, 2013-01-05 00:00:00]|30.2    |0.0        |\n",
      "|[2013-01-01 22:00:00, 2013-01-02 00:00:00]|RUT    |14.0       |RUT    |[2013-01-01 00:00:00, 2013-01-08 00:00:00]|30.2    |0.0        |\n",
      "|[2013-01-01 22:00:00, 2013-01-02 00:00:00]|RUT    |14.0       |RUT    |[2012-12-28 00:00:00, 2013-01-04 00:00:00]|30.2    |0.0        |\n",
      "|[2013-01-01 22:00:00, 2013-01-02 00:00:00]|RUT    |14.0       |RUT    |[2012-12-31 00:00:00, 2013-01-07 00:00:00]|30.2    |0.0        |\n",
      "|[2013-01-01 22:00:00, 2013-01-02 00:00:00]|RUT    |14.0       |RUT    |[2012-12-26 00:00:00, 2013-01-02 00:00:00]|30.2    |0.0        |\n",
      "|[2013-01-01 22:00:00, 2013-01-02 00:00:00]|RUT    |14.0       |RUT    |[2012-12-30 00:00:00, 2013-01-06 00:00:00]|30.2    |0.0        |\n",
      "|[2013-01-01 22:00:00, 2013-01-02 00:00:00]|RUT    |14.0       |RUT    |[2012-12-27 00:00:00, 2013-01-03 00:00:00]|30.2    |0.0        |\n",
      "|[2013-01-01 22:00:00, 2013-01-02 00:00:00]|RUT    |14.0       |RUT    |[2012-12-29 00:00:00, 2013-01-05 00:00:00]|30.2    |0.0        |\n",
      "|[2013-01-01 22:00:00, 2013-01-02 00:00:00]|RUT    |14.0       |RUT    |[2013-01-01 00:00:00, 2013-01-08 00:00:00]|30.2    |0.0        |\n",
      "|[2013-01-01 22:00:00, 2013-01-02 00:00:00]|RUT    |14.0       |RUT    |[2012-12-28 00:00:00, 2013-01-04 00:00:00]|30.2    |0.0        |\n",
      "|[2013-01-01 22:00:00, 2013-01-02 00:00:00]|RUT    |14.0       |RUT    |[2012-12-31 00:00:00, 2013-01-07 00:00:00]|30.2    |0.0        |\n",
      "|[2013-01-01 22:00:00, 2013-01-02 00:00:00]|RUT    |14.0       |RUT    |[2012-12-26 00:00:00, 2013-01-02 00:00:00]|30.2    |0.0        |\n",
      "|[2013-01-01 22:00:00, 2013-01-02 00:00:00]|RUT    |14.0       |RUT    |[2012-12-30 00:00:00, 2013-01-06 00:00:00]|30.2    |0.0        |\n",
      "|[2013-01-01 22:00:00, 2013-01-02 00:00:00]|RUT    |14.0       |RUT    |[2012-12-27 00:00:00, 2013-01-03 00:00:00]|30.2    |0.0        |\n",
      "|[2013-01-01 22:00:00, 2013-01-02 00:00:00]|RUT    |14.0       |RUT    |[2012-12-29 00:00:00, 2013-01-05 00:00:00]|30.2    |0.0        |\n",
      "|[2013-01-01 22:00:00, 2013-01-02 00:00:00]|RUT    |14.0       |RUT    |[2013-01-01 00:00:00, 2013-01-08 00:00:00]|30.2    |0.0        |\n",
      "|[2013-01-01 22:00:00, 2013-01-02 00:00:00]|RUT    |14.0       |RUT    |[2012-12-28 00:00:00, 2013-01-04 00:00:00]|30.2    |0.0        |\n",
      "|[2013-01-01 22:00:00, 2013-01-02 00:00:00]|RUT    |14.0       |RUT    |[2012-12-31 00:00:00, 2013-01-07 00:00:00]|30.2    |0.0        |\n",
      "|[2013-01-01 22:00:00, 2013-01-02 00:00:00]|RUT    |14.0       |RUT    |[2012-12-26 00:00:00, 2013-01-02 00:00:00]|30.2    |0.0        |\n",
      "|[2013-01-01 22:00:00, 2013-01-02 00:00:00]|RUT    |14.0       |RUT    |[2012-12-30 00:00:00, 2013-01-06 00:00:00]|30.2    |0.0        |\n",
      "+------------------------------------------+-------+-----------+-------+------------------------------------------+--------+-----------+\n",
      "only showing top 20 rows\n",
      "\n"
     ]
    },
    {
     "name": "stderr",
     "output_type": "stream",
     "text": [
      "23/04/12 17:13:11 WARN ProcessingTimeExecutor: Current batch is falling behind. The trigger interval is 10000 milliseconds, but spent 31884 milliseconds\n",
      "23/04/12 17:13:20 WARN ProcessingTimeExecutor: Current batch is falling behind. The trigger interval is 10000 milliseconds, but spent 30863 milliseconds\n"
     ]
    },
    {
     "name": "stdout",
     "output_type": "stream",
     "text": [
      "-------------------------------------------\n",
      "Batch: 3\n",
      "-------------------------------------------\n",
      "+------------------------------------------+-------+-----------+---------------+-------------+-------+------------------------------------------+--------+------------------+\n",
      "|Window                                    |station|temperature|prev_week_start|prev_week_end|station|window                                    |avg_temp|stddev_temp       |\n",
      "+------------------------------------------+-------+-----------+---------------+-------------+-------+------------------------------------------+--------+------------------+\n",
      "|[2013-01-02 05:00:00, 2013-01-02 07:00:00]|FSO    |4.46       |2012-12-26     |2013-01-01   |FSO    |[2012-12-29 00:00:00, 2013-01-05 00:00:00]|31.055  |1.0936635680134912|\n",
      "|[2013-01-02 05:00:00, 2013-01-02 07:00:00]|FSO    |4.46       |2012-12-26     |2013-01-01   |FSO    |[2012-12-30 00:00:00, 2013-01-06 00:00:00]|31.055  |1.0936635680134912|\n",
      "|[2013-01-02 05:00:00, 2013-01-02 07:00:00]|FSO    |4.46       |2012-12-26     |2013-01-01   |FSO    |[2012-12-31 00:00:00, 2013-01-07 00:00:00]|31.055  |1.0936635680134912|\n",
      "|[2013-01-02 05:00:00, 2013-01-02 07:00:00]|FSO    |4.46       |2012-12-26     |2013-01-01   |FSO    |[2012-12-26 00:00:00, 2013-01-02 00:00:00]|31.055  |1.0936635680134912|\n",
      "|[2013-01-02 05:00:00, 2013-01-02 07:00:00]|FSO    |4.46       |2012-12-26     |2013-01-01   |FSO    |[2012-12-28 00:00:00, 2013-01-04 00:00:00]|31.055  |1.0936635680134912|\n",
      "|[2013-01-02 05:00:00, 2013-01-02 07:00:00]|FSO    |4.46       |2012-12-26     |2013-01-01   |FSO    |[2012-12-27 00:00:00, 2013-01-03 00:00:00]|31.055  |1.0936635680134912|\n",
      "|[2013-01-02 05:00:00, 2013-01-02 07:00:00]|FSO    |4.46       |2012-12-26     |2013-01-01   |FSO    |[2013-01-01 00:00:00, 2013-01-08 00:00:00]|31.055  |1.0936635680134912|\n",
      "|[2013-01-02 05:00:00, 2013-01-02 07:00:00]|FSO    |4.46       |2012-12-26     |2013-01-01   |FSO    |[2012-12-29 00:00:00, 2013-01-05 00:00:00]|31.055  |1.0936635680134912|\n",
      "|[2013-01-02 05:00:00, 2013-01-02 07:00:00]|FSO    |4.46       |2012-12-26     |2013-01-01   |FSO    |[2012-12-30 00:00:00, 2013-01-06 00:00:00]|31.055  |1.0936635680134912|\n",
      "|[2013-01-02 05:00:00, 2013-01-02 07:00:00]|FSO    |4.46       |2012-12-26     |2013-01-01   |FSO    |[2012-12-31 00:00:00, 2013-01-07 00:00:00]|31.055  |1.0936635680134912|\n",
      "|[2013-01-02 05:00:00, 2013-01-02 07:00:00]|FSO    |4.46       |2012-12-26     |2013-01-01   |FSO    |[2012-12-26 00:00:00, 2013-01-02 00:00:00]|31.055  |1.0936635680134912|\n",
      "|[2013-01-02 05:00:00, 2013-01-02 07:00:00]|FSO    |4.46       |2012-12-26     |2013-01-01   |FSO    |[2012-12-28 00:00:00, 2013-01-04 00:00:00]|31.055  |1.0936635680134912|\n",
      "|[2013-01-02 05:00:00, 2013-01-02 07:00:00]|FSO    |4.46       |2012-12-26     |2013-01-01   |FSO    |[2012-12-27 00:00:00, 2013-01-03 00:00:00]|31.055  |1.0936635680134912|\n",
      "|[2013-01-02 05:00:00, 2013-01-02 07:00:00]|FSO    |4.46       |2012-12-26     |2013-01-01   |FSO    |[2013-01-01 00:00:00, 2013-01-08 00:00:00]|31.055  |1.0936635680134912|\n",
      "|[2013-01-02 05:00:00, 2013-01-02 07:00:00]|FSO    |4.82       |2012-12-26     |2013-01-01   |FSO    |[2012-12-29 00:00:00, 2013-01-05 00:00:00]|31.055  |1.0936635680134912|\n",
      "|[2013-01-02 05:00:00, 2013-01-02 07:00:00]|FSO    |4.82       |2012-12-26     |2013-01-01   |FSO    |[2012-12-30 00:00:00, 2013-01-06 00:00:00]|31.055  |1.0936635680134912|\n",
      "|[2013-01-02 05:00:00, 2013-01-02 07:00:00]|FSO    |4.82       |2012-12-26     |2013-01-01   |FSO    |[2012-12-31 00:00:00, 2013-01-07 00:00:00]|31.055  |1.0936635680134912|\n",
      "|[2013-01-02 05:00:00, 2013-01-02 07:00:00]|FSO    |4.82       |2012-12-26     |2013-01-01   |FSO    |[2012-12-26 00:00:00, 2013-01-02 00:00:00]|31.055  |1.0936635680134912|\n",
      "|[2013-01-02 05:00:00, 2013-01-02 07:00:00]|FSO    |4.82       |2012-12-26     |2013-01-01   |FSO    |[2012-12-28 00:00:00, 2013-01-04 00:00:00]|31.055  |1.0936635680134912|\n",
      "|[2013-01-02 05:00:00, 2013-01-02 07:00:00]|FSO    |4.82       |2012-12-26     |2013-01-01   |FSO    |[2012-12-27 00:00:00, 2013-01-03 00:00:00]|31.055  |1.0936635680134912|\n",
      "+------------------------------------------+-------+-----------+---------------+-------------+-------+------------------------------------------+--------+------------------+\n",
      "only showing top 20 rows\n",
      "\n"
     ]
    },
    {
     "name": "stderr",
     "output_type": "stream",
     "text": [
      "                                                                                \r"
     ]
    },
    {
     "name": "stdout",
     "output_type": "stream",
     "text": [
      "-------------------------------------------\n",
      "Batch: 141\n",
      "-------------------------------------------\n",
      "+------------------------------------------+-------+-----------+\n",
      "|Window                                    |station|temperature|\n",
      "+------------------------------------------+-------+-----------+\n",
      "|[2013-01-01 22:00:00, 2013-01-02 00:00:00]|RUT    |14.0       |\n",
      "|[2013-01-01 22:00:00, 2013-01-02 00:00:00]|RUT    |14.0       |\n",
      "|[2013-01-01 22:00:00, 2013-01-02 00:00:00]|RUT    |14.0       |\n",
      "|[2013-01-01 22:00:00, 2013-01-02 00:00:00]|RUT    |12.2       |\n",
      "|[2013-01-01 22:00:00, 2013-01-02 00:00:00]|RUT    |12.2       |\n",
      "|[2013-01-01 14:00:00, 2013-01-01 16:00:00]|VSF    |26.06      |\n",
      "|[2013-01-01 14:00:00, 2013-01-01 16:00:00]|VSF    |24.98      |\n",
      "|[2013-01-02 05:00:00, 2013-01-02 07:00:00]|FSO    |4.46       |\n",
      "|[2013-01-02 05:00:00, 2013-01-02 07:00:00]|FSO    |4.46       |\n",
      "|[2013-01-02 05:00:00, 2013-01-02 07:00:00]|FSO    |4.46       |\n",
      "|[2013-01-02 05:00:00, 2013-01-02 07:00:00]|FSO    |4.46       |\n",
      "|[2013-01-02 05:00:00, 2013-01-02 07:00:00]|FSO    |4.82       |\n",
      "|[2013-01-02 05:00:00, 2013-01-02 07:00:00]|FSO    |5.18       |\n",
      "|[2013-01-01 06:00:00, 2013-01-01 08:00:00]|RUT    |30.2       |\n",
      "|[2013-01-01 06:00:00, 2013-01-01 08:00:00]|RUT    |30.2       |\n",
      "|[2013-01-01 06:00:00, 2013-01-01 08:00:00]|RUT    |30.2       |\n",
      "|[2013-01-01 06:00:00, 2013-01-01 08:00:00]|RUT    |30.2       |\n",
      "|[2013-01-01 06:00:00, 2013-01-01 08:00:00]|RUT    |30.2       |\n",
      "|[2013-01-01 22:00:00, 2013-01-02 00:00:00]|FSO    |6.98       |\n",
      "|[2013-01-01 22:00:00, 2013-01-02 00:00:00]|FSO    |6.8        |\n",
      "+------------------------------------------+-------+-----------+\n",
      "only showing top 20 rows\n",
      "\n"
     ]
    },
    {
     "name": "stderr",
     "output_type": "stream",
     "text": [
      "23/04/12 17:13:29 WARN ProcessingTimeExecutor: Current batch is falling behind. The trigger interval is 10000 milliseconds, but spent 31134 milliseconds\n",
      "23/04/12 17:13:36 WARN ProcessingTimeExecutor: Current batch is falling behind. The trigger interval is 10000 milliseconds, but spent 31388 milliseconds\n"
     ]
    },
    {
     "name": "stdout",
     "output_type": "stream",
     "text": [
      "-------------------------------------------\n",
      "Batch: 77\n",
      "-------------------------------------------\n",
      "+------+-------+-----------+-------+------+--------+-----------+\n",
      "|Window|station|temperature|station|window|avg_temp|stddev_temp|\n",
      "+------+-------+-----------+-------+------+--------+-----------+\n",
      "+------+-------+-----------+-------+------+--------+-----------+\n",
      "\n"
     ]
    },
    {
     "name": "stderr",
     "output_type": "stream",
     "text": [
      "                                                                                \r"
     ]
    },
    {
     "name": "stdout",
     "output_type": "stream",
     "text": [
      "-------------------------------------------\n",
      "Batch: 4\n",
      "-------------------------------------------\n",
      "+------------------------------------------+-------+-----------+---------------+-------------+-------+------------------------------------------+--------+------------------+\n",
      "|Window                                    |station|temperature|prev_week_start|prev_week_end|station|window                                    |avg_temp|stddev_temp       |\n",
      "+------------------------------------------+-------+-----------+---------------+-------------+-------+------------------------------------------+--------+------------------+\n",
      "|[2013-01-02 05:00:00, 2013-01-02 07:00:00]|FSO    |4.46       |2012-12-26     |2013-01-01   |FSO    |[2012-12-29 00:00:00, 2013-01-05 00:00:00]|31.055  |1.0936635680134912|\n",
      "|[2013-01-02 05:00:00, 2013-01-02 07:00:00]|FSO    |4.46       |2012-12-26     |2013-01-01   |FSO    |[2012-12-30 00:00:00, 2013-01-06 00:00:00]|31.055  |1.0936635680134912|\n",
      "|[2013-01-02 05:00:00, 2013-01-02 07:00:00]|FSO    |4.46       |2012-12-26     |2013-01-01   |FSO    |[2012-12-31 00:00:00, 2013-01-07 00:00:00]|31.055  |1.0936635680134912|\n",
      "|[2013-01-02 05:00:00, 2013-01-02 07:00:00]|FSO    |4.46       |2012-12-26     |2013-01-01   |FSO    |[2012-12-26 00:00:00, 2013-01-02 00:00:00]|31.055  |1.0936635680134912|\n",
      "|[2013-01-02 05:00:00, 2013-01-02 07:00:00]|FSO    |4.46       |2012-12-26     |2013-01-01   |FSO    |[2012-12-28 00:00:00, 2013-01-04 00:00:00]|31.055  |1.0936635680134912|\n",
      "|[2013-01-02 05:00:00, 2013-01-02 07:00:00]|FSO    |4.46       |2012-12-26     |2013-01-01   |FSO    |[2012-12-27 00:00:00, 2013-01-03 00:00:00]|31.055  |1.0936635680134912|\n",
      "|[2013-01-02 05:00:00, 2013-01-02 07:00:00]|FSO    |4.46       |2012-12-26     |2013-01-01   |FSO    |[2013-01-01 00:00:00, 2013-01-08 00:00:00]|31.055  |1.0936635680134912|\n",
      "|[2013-01-02 05:00:00, 2013-01-02 07:00:00]|FSO    |4.46       |2012-12-26     |2013-01-01   |FSO    |[2012-12-29 00:00:00, 2013-01-05 00:00:00]|31.055  |1.0936635680134912|\n",
      "|[2013-01-02 05:00:00, 2013-01-02 07:00:00]|FSO    |4.46       |2012-12-26     |2013-01-01   |FSO    |[2012-12-30 00:00:00, 2013-01-06 00:00:00]|31.055  |1.0936635680134912|\n",
      "|[2013-01-02 05:00:00, 2013-01-02 07:00:00]|FSO    |4.46       |2012-12-26     |2013-01-01   |FSO    |[2012-12-31 00:00:00, 2013-01-07 00:00:00]|31.055  |1.0936635680134912|\n",
      "|[2013-01-02 05:00:00, 2013-01-02 07:00:00]|FSO    |4.46       |2012-12-26     |2013-01-01   |FSO    |[2012-12-26 00:00:00, 2013-01-02 00:00:00]|31.055  |1.0936635680134912|\n",
      "|[2013-01-02 05:00:00, 2013-01-02 07:00:00]|FSO    |4.46       |2012-12-26     |2013-01-01   |FSO    |[2012-12-28 00:00:00, 2013-01-04 00:00:00]|31.055  |1.0936635680134912|\n",
      "|[2013-01-02 05:00:00, 2013-01-02 07:00:00]|FSO    |4.46       |2012-12-26     |2013-01-01   |FSO    |[2012-12-27 00:00:00, 2013-01-03 00:00:00]|31.055  |1.0936635680134912|\n",
      "|[2013-01-02 05:00:00, 2013-01-02 07:00:00]|FSO    |4.46       |2012-12-26     |2013-01-01   |FSO    |[2013-01-01 00:00:00, 2013-01-08 00:00:00]|31.055  |1.0936635680134912|\n",
      "|[2013-01-02 05:00:00, 2013-01-02 07:00:00]|FSO    |4.82       |2012-12-26     |2013-01-01   |FSO    |[2012-12-29 00:00:00, 2013-01-05 00:00:00]|31.055  |1.0936635680134912|\n",
      "|[2013-01-02 05:00:00, 2013-01-02 07:00:00]|FSO    |4.82       |2012-12-26     |2013-01-01   |FSO    |[2012-12-30 00:00:00, 2013-01-06 00:00:00]|31.055  |1.0936635680134912|\n",
      "|[2013-01-02 05:00:00, 2013-01-02 07:00:00]|FSO    |4.82       |2012-12-26     |2013-01-01   |FSO    |[2012-12-31 00:00:00, 2013-01-07 00:00:00]|31.055  |1.0936635680134912|\n",
      "|[2013-01-02 05:00:00, 2013-01-02 07:00:00]|FSO    |4.82       |2012-12-26     |2013-01-01   |FSO    |[2012-12-26 00:00:00, 2013-01-02 00:00:00]|31.055  |1.0936635680134912|\n",
      "|[2013-01-02 05:00:00, 2013-01-02 07:00:00]|FSO    |4.82       |2012-12-26     |2013-01-01   |FSO    |[2012-12-28 00:00:00, 2013-01-04 00:00:00]|31.055  |1.0936635680134912|\n",
      "|[2013-01-02 05:00:00, 2013-01-02 07:00:00]|FSO    |4.82       |2012-12-26     |2013-01-01   |FSO    |[2012-12-27 00:00:00, 2013-01-03 00:00:00]|31.055  |1.0936635680134912|\n",
      "+------------------------------------------+-------+-----------+---------------+-------------+-------+------------------------------------------+--------+------------------+\n",
      "only showing top 20 rows\n",
      "\n"
     ]
    },
    {
     "name": "stderr",
     "output_type": "stream",
     "text": [
      "23/04/12 17:13:43 WARN ProcessingTimeExecutor: Current batch is falling behind. The trigger interval is 10000 milliseconds, but spent 23510 milliseconds\n",
      "[Stage 1300:(196 + 2) / 200][Stage 1303:(0 + 0) / 200][Stage 1304:> (0 + 0) / 2]\r"
     ]
    },
    {
     "name": "stdout",
     "output_type": "stream",
     "text": [
      "-------------------------------------------\n",
      "Batch: 112\n",
      "-------------------------------------------\n"
     ]
    },
    {
     "name": "stderr",
     "output_type": "stream",
     "text": [
      "                                                                                \r"
     ]
    },
    {
     "name": "stdout",
     "output_type": "stream",
     "text": [
      "+------------------------------------------+-------+-----------+-------+------------------------------------------+--------+-----------+\n",
      "|Window                                    |station|temperature|station|window                                    |avg_temp|stddev_temp|\n",
      "+------------------------------------------+-------+-----------+-------+------------------------------------------+--------+-----------+\n",
      "|[2013-01-01 22:00:00, 2013-01-02 00:00:00]|RUT    |14.0       |RUT    |[2012-12-29 00:00:00, 2013-01-05 00:00:00]|30.2    |0.0        |\n",
      "|[2013-01-01 22:00:00, 2013-01-02 00:00:00]|RUT    |14.0       |RUT    |[2013-01-01 00:00:00, 2013-01-08 00:00:00]|30.2    |0.0        |\n",
      "|[2013-01-01 22:00:00, 2013-01-02 00:00:00]|RUT    |14.0       |RUT    |[2012-12-28 00:00:00, 2013-01-04 00:00:00]|30.2    |0.0        |\n",
      "|[2013-01-01 22:00:00, 2013-01-02 00:00:00]|RUT    |14.0       |RUT    |[2012-12-31 00:00:00, 2013-01-07 00:00:00]|30.2    |0.0        |\n",
      "|[2013-01-01 22:00:00, 2013-01-02 00:00:00]|RUT    |14.0       |RUT    |[2012-12-26 00:00:00, 2013-01-02 00:00:00]|30.2    |0.0        |\n",
      "|[2013-01-01 22:00:00, 2013-01-02 00:00:00]|RUT    |14.0       |RUT    |[2012-12-30 00:00:00, 2013-01-06 00:00:00]|30.2    |0.0        |\n",
      "|[2013-01-01 22:00:00, 2013-01-02 00:00:00]|RUT    |14.0       |RUT    |[2012-12-27 00:00:00, 2013-01-03 00:00:00]|30.2    |0.0        |\n",
      "|[2013-01-01 22:00:00, 2013-01-02 00:00:00]|RUT    |14.0       |RUT    |[2012-12-29 00:00:00, 2013-01-05 00:00:00]|30.2    |0.0        |\n",
      "|[2013-01-01 22:00:00, 2013-01-02 00:00:00]|RUT    |14.0       |RUT    |[2013-01-01 00:00:00, 2013-01-08 00:00:00]|30.2    |0.0        |\n",
      "|[2013-01-01 22:00:00, 2013-01-02 00:00:00]|RUT    |14.0       |RUT    |[2012-12-28 00:00:00, 2013-01-04 00:00:00]|30.2    |0.0        |\n",
      "|[2013-01-01 22:00:00, 2013-01-02 00:00:00]|RUT    |14.0       |RUT    |[2012-12-31 00:00:00, 2013-01-07 00:00:00]|30.2    |0.0        |\n",
      "|[2013-01-01 22:00:00, 2013-01-02 00:00:00]|RUT    |14.0       |RUT    |[2012-12-26 00:00:00, 2013-01-02 00:00:00]|30.2    |0.0        |\n",
      "|[2013-01-01 22:00:00, 2013-01-02 00:00:00]|RUT    |14.0       |RUT    |[2012-12-30 00:00:00, 2013-01-06 00:00:00]|30.2    |0.0        |\n",
      "|[2013-01-01 22:00:00, 2013-01-02 00:00:00]|RUT    |14.0       |RUT    |[2012-12-27 00:00:00, 2013-01-03 00:00:00]|30.2    |0.0        |\n",
      "|[2013-01-01 22:00:00, 2013-01-02 00:00:00]|RUT    |14.0       |RUT    |[2012-12-29 00:00:00, 2013-01-05 00:00:00]|30.2    |0.0        |\n",
      "|[2013-01-01 22:00:00, 2013-01-02 00:00:00]|RUT    |14.0       |RUT    |[2013-01-01 00:00:00, 2013-01-08 00:00:00]|30.2    |0.0        |\n",
      "|[2013-01-01 22:00:00, 2013-01-02 00:00:00]|RUT    |14.0       |RUT    |[2012-12-28 00:00:00, 2013-01-04 00:00:00]|30.2    |0.0        |\n",
      "|[2013-01-01 22:00:00, 2013-01-02 00:00:00]|RUT    |14.0       |RUT    |[2012-12-31 00:00:00, 2013-01-07 00:00:00]|30.2    |0.0        |\n",
      "|[2013-01-01 22:00:00, 2013-01-02 00:00:00]|RUT    |14.0       |RUT    |[2012-12-26 00:00:00, 2013-01-02 00:00:00]|30.2    |0.0        |\n",
      "|[2013-01-01 22:00:00, 2013-01-02 00:00:00]|RUT    |14.0       |RUT    |[2012-12-30 00:00:00, 2013-01-06 00:00:00]|30.2    |0.0        |\n",
      "+------------------------------------------+-------+-----------+-------+------------------------------------------+--------+-----------+\n",
      "only showing top 20 rows\n",
      "\n"
     ]
    },
    {
     "name": "stderr",
     "output_type": "stream",
     "text": [
      "23/04/12 17:13:57 WARN ProcessingTimeExecutor: Current batch is falling behind. The trigger interval is 10000 milliseconds, but spent 45079 milliseconds\n",
      "                                                                                \r"
     ]
    },
    {
     "name": "stdout",
     "output_type": "stream",
     "text": [
      "-------------------------------------------\n",
      "Batch: 142\n",
      "-------------------------------------------\n",
      "+------------------------------------------+-------+-----------+\n",
      "|Window                                    |station|temperature|\n",
      "+------------------------------------------+-------+-----------+\n",
      "|[2013-01-01 22:00:00, 2013-01-02 00:00:00]|RUT    |14.0       |\n",
      "|[2013-01-01 22:00:00, 2013-01-02 00:00:00]|RUT    |14.0       |\n",
      "|[2013-01-01 22:00:00, 2013-01-02 00:00:00]|RUT    |14.0       |\n",
      "|[2013-01-01 22:00:00, 2013-01-02 00:00:00]|RUT    |12.2       |\n",
      "|[2013-01-01 22:00:00, 2013-01-02 00:00:00]|RUT    |12.2       |\n",
      "|[2013-01-01 14:00:00, 2013-01-01 16:00:00]|VSF    |26.06      |\n",
      "|[2013-01-01 14:00:00, 2013-01-01 16:00:00]|VSF    |24.98      |\n",
      "|[2013-01-02 05:00:00, 2013-01-02 07:00:00]|FSO    |4.46       |\n",
      "|[2013-01-02 05:00:00, 2013-01-02 07:00:00]|FSO    |4.46       |\n",
      "|[2013-01-02 05:00:00, 2013-01-02 07:00:00]|FSO    |4.46       |\n",
      "|[2013-01-02 05:00:00, 2013-01-02 07:00:00]|FSO    |4.46       |\n",
      "|[2013-01-02 05:00:00, 2013-01-02 07:00:00]|FSO    |4.82       |\n",
      "|[2013-01-02 05:00:00, 2013-01-02 07:00:00]|FSO    |5.18       |\n",
      "|[2013-01-01 06:00:00, 2013-01-01 08:00:00]|RUT    |30.2       |\n",
      "|[2013-01-01 06:00:00, 2013-01-01 08:00:00]|RUT    |30.2       |\n",
      "|[2013-01-01 06:00:00, 2013-01-01 08:00:00]|RUT    |30.2       |\n",
      "|[2013-01-01 06:00:00, 2013-01-01 08:00:00]|RUT    |30.2       |\n",
      "|[2013-01-01 06:00:00, 2013-01-01 08:00:00]|RUT    |30.2       |\n",
      "|[2013-01-01 22:00:00, 2013-01-02 00:00:00]|FSO    |6.98       |\n",
      "|[2013-01-01 22:00:00, 2013-01-02 00:00:00]|FSO    |6.8        |\n",
      "+------------------------------------------+-------+-----------+\n",
      "only showing top 20 rows\n",
      "\n"
     ]
    },
    {
     "name": "stderr",
     "output_type": "stream",
     "text": [
      "23/04/12 17:14:03 WARN ProcessingTimeExecutor: Current batch is falling behind. The trigger interval is 10000 milliseconds, but spent 34443 milliseconds\n",
      "                                                                                \r"
     ]
    },
    {
     "name": "stdout",
     "output_type": "stream",
     "text": [
      "-------------------------------------------\n",
      "Batch: 5\n",
      "-------------------------------------------\n",
      "+------------------------------------------+-------+-----------+---------------+-------------+-------+------------------------------------------+--------+------------------+\n",
      "|Window                                    |station|temperature|prev_week_start|prev_week_end|station|window                                    |avg_temp|stddev_temp       |\n",
      "+------------------------------------------+-------+-----------+---------------+-------------+-------+------------------------------------------+--------+------------------+\n",
      "|[2013-01-02 05:00:00, 2013-01-02 07:00:00]|FSO    |4.46       |2012-12-26     |2013-01-01   |FSO    |[2012-12-29 00:00:00, 2013-01-05 00:00:00]|31.055  |1.0936635680134912|\n",
      "|[2013-01-02 05:00:00, 2013-01-02 07:00:00]|FSO    |4.46       |2012-12-26     |2013-01-01   |FSO    |[2012-12-30 00:00:00, 2013-01-06 00:00:00]|31.055  |1.0936635680134912|\n",
      "|[2013-01-02 05:00:00, 2013-01-02 07:00:00]|FSO    |4.46       |2012-12-26     |2013-01-01   |FSO    |[2012-12-31 00:00:00, 2013-01-07 00:00:00]|31.055  |1.0936635680134912|\n",
      "|[2013-01-02 05:00:00, 2013-01-02 07:00:00]|FSO    |4.46       |2012-12-26     |2013-01-01   |FSO    |[2012-12-26 00:00:00, 2013-01-02 00:00:00]|31.055  |1.0936635680134912|\n",
      "|[2013-01-02 05:00:00, 2013-01-02 07:00:00]|FSO    |4.46       |2012-12-26     |2013-01-01   |FSO    |[2012-12-28 00:00:00, 2013-01-04 00:00:00]|31.055  |1.0936635680134912|\n",
      "|[2013-01-02 05:00:00, 2013-01-02 07:00:00]|FSO    |4.46       |2012-12-26     |2013-01-01   |FSO    |[2012-12-27 00:00:00, 2013-01-03 00:00:00]|31.055  |1.0936635680134912|\n",
      "|[2013-01-02 05:00:00, 2013-01-02 07:00:00]|FSO    |4.46       |2012-12-26     |2013-01-01   |FSO    |[2013-01-01 00:00:00, 2013-01-08 00:00:00]|31.055  |1.0936635680134912|\n",
      "|[2013-01-02 05:00:00, 2013-01-02 07:00:00]|FSO    |4.46       |2012-12-26     |2013-01-01   |FSO    |[2012-12-29 00:00:00, 2013-01-05 00:00:00]|31.055  |1.0936635680134912|\n",
      "|[2013-01-02 05:00:00, 2013-01-02 07:00:00]|FSO    |4.46       |2012-12-26     |2013-01-01   |FSO    |[2012-12-30 00:00:00, 2013-01-06 00:00:00]|31.055  |1.0936635680134912|\n",
      "|[2013-01-02 05:00:00, 2013-01-02 07:00:00]|FSO    |4.46       |2012-12-26     |2013-01-01   |FSO    |[2012-12-31 00:00:00, 2013-01-07 00:00:00]|31.055  |1.0936635680134912|\n",
      "|[2013-01-02 05:00:00, 2013-01-02 07:00:00]|FSO    |4.46       |2012-12-26     |2013-01-01   |FSO    |[2012-12-26 00:00:00, 2013-01-02 00:00:00]|31.055  |1.0936635680134912|\n",
      "|[2013-01-02 05:00:00, 2013-01-02 07:00:00]|FSO    |4.46       |2012-12-26     |2013-01-01   |FSO    |[2012-12-28 00:00:00, 2013-01-04 00:00:00]|31.055  |1.0936635680134912|\n",
      "|[2013-01-02 05:00:00, 2013-01-02 07:00:00]|FSO    |4.46       |2012-12-26     |2013-01-01   |FSO    |[2012-12-27 00:00:00, 2013-01-03 00:00:00]|31.055  |1.0936635680134912|\n",
      "|[2013-01-02 05:00:00, 2013-01-02 07:00:00]|FSO    |4.46       |2012-12-26     |2013-01-01   |FSO    |[2013-01-01 00:00:00, 2013-01-08 00:00:00]|31.055  |1.0936635680134912|\n",
      "|[2013-01-02 05:00:00, 2013-01-02 07:00:00]|FSO    |4.82       |2012-12-26     |2013-01-01   |FSO    |[2012-12-29 00:00:00, 2013-01-05 00:00:00]|31.055  |1.0936635680134912|\n",
      "|[2013-01-02 05:00:00, 2013-01-02 07:00:00]|FSO    |4.82       |2012-12-26     |2013-01-01   |FSO    |[2012-12-30 00:00:00, 2013-01-06 00:00:00]|31.055  |1.0936635680134912|\n",
      "|[2013-01-02 05:00:00, 2013-01-02 07:00:00]|FSO    |4.82       |2012-12-26     |2013-01-01   |FSO    |[2012-12-31 00:00:00, 2013-01-07 00:00:00]|31.055  |1.0936635680134912|\n",
      "|[2013-01-02 05:00:00, 2013-01-02 07:00:00]|FSO    |4.82       |2012-12-26     |2013-01-01   |FSO    |[2012-12-26 00:00:00, 2013-01-02 00:00:00]|31.055  |1.0936635680134912|\n",
      "|[2013-01-02 05:00:00, 2013-01-02 07:00:00]|FSO    |4.82       |2012-12-26     |2013-01-01   |FSO    |[2012-12-28 00:00:00, 2013-01-04 00:00:00]|31.055  |1.0936635680134912|\n",
      "|[2013-01-02 05:00:00, 2013-01-02 07:00:00]|FSO    |4.82       |2012-12-26     |2013-01-01   |FSO    |[2012-12-27 00:00:00, 2013-01-03 00:00:00]|31.055  |1.0936635680134912|\n",
      "+------------------------------------------+-------+-----------+---------------+-------------+-------+------------------------------------------+--------+------------------+\n",
      "only showing top 20 rows\n",
      "\n"
     ]
    },
    {
     "name": "stderr",
     "output_type": "stream",
     "text": [
      "23/04/12 17:14:10 WARN ProcessingTimeExecutor: Current batch is falling behind. The trigger interval is 10000 milliseconds, but spent 27340 milliseconds\n",
      "                                                                                \r"
     ]
    },
    {
     "name": "stdout",
     "output_type": "stream",
     "text": [
      "-------------------------------------------\n",
      "Batch: 113\n",
      "-------------------------------------------\n",
      "+------------------------------------------+-------+-----------+-------+------------------------------------------+--------+-----------+\n",
      "|Window                                    |station|temperature|station|window                                    |avg_temp|stddev_temp|\n",
      "+------------------------------------------+-------+-----------+-------+------------------------------------------+--------+-----------+\n",
      "|[2013-01-01 22:00:00, 2013-01-02 00:00:00]|RUT    |14.0       |RUT    |[2012-12-29 00:00:00, 2013-01-05 00:00:00]|30.2    |0.0        |\n",
      "|[2013-01-01 22:00:00, 2013-01-02 00:00:00]|RUT    |14.0       |RUT    |[2013-01-01 00:00:00, 2013-01-08 00:00:00]|30.2    |0.0        |\n",
      "|[2013-01-01 22:00:00, 2013-01-02 00:00:00]|RUT    |14.0       |RUT    |[2012-12-28 00:00:00, 2013-01-04 00:00:00]|30.2    |0.0        |\n",
      "|[2013-01-01 22:00:00, 2013-01-02 00:00:00]|RUT    |14.0       |RUT    |[2012-12-31 00:00:00, 2013-01-07 00:00:00]|30.2    |0.0        |\n",
      "|[2013-01-01 22:00:00, 2013-01-02 00:00:00]|RUT    |14.0       |RUT    |[2012-12-26 00:00:00, 2013-01-02 00:00:00]|30.2    |0.0        |\n",
      "|[2013-01-01 22:00:00, 2013-01-02 00:00:00]|RUT    |14.0       |RUT    |[2012-12-30 00:00:00, 2013-01-06 00:00:00]|30.2    |0.0        |\n",
      "|[2013-01-01 22:00:00, 2013-01-02 00:00:00]|RUT    |14.0       |RUT    |[2012-12-27 00:00:00, 2013-01-03 00:00:00]|30.2    |0.0        |\n",
      "|[2013-01-01 22:00:00, 2013-01-02 00:00:00]|RUT    |14.0       |RUT    |[2012-12-29 00:00:00, 2013-01-05 00:00:00]|30.2    |0.0        |\n",
      "|[2013-01-01 22:00:00, 2013-01-02 00:00:00]|RUT    |14.0       |RUT    |[2013-01-01 00:00:00, 2013-01-08 00:00:00]|30.2    |0.0        |\n",
      "|[2013-01-01 22:00:00, 2013-01-02 00:00:00]|RUT    |14.0       |RUT    |[2012-12-28 00:00:00, 2013-01-04 00:00:00]|30.2    |0.0        |\n",
      "|[2013-01-01 22:00:00, 2013-01-02 00:00:00]|RUT    |14.0       |RUT    |[2012-12-31 00:00:00, 2013-01-07 00:00:00]|30.2    |0.0        |\n",
      "|[2013-01-01 22:00:00, 2013-01-02 00:00:00]|RUT    |14.0       |RUT    |[2012-12-26 00:00:00, 2013-01-02 00:00:00]|30.2    |0.0        |\n",
      "|[2013-01-01 22:00:00, 2013-01-02 00:00:00]|RUT    |14.0       |RUT    |[2012-12-30 00:00:00, 2013-01-06 00:00:00]|30.2    |0.0        |\n",
      "|[2013-01-01 22:00:00, 2013-01-02 00:00:00]|RUT    |14.0       |RUT    |[2012-12-27 00:00:00, 2013-01-03 00:00:00]|30.2    |0.0        |\n",
      "|[2013-01-01 22:00:00, 2013-01-02 00:00:00]|RUT    |14.0       |RUT    |[2012-12-29 00:00:00, 2013-01-05 00:00:00]|30.2    |0.0        |\n",
      "|[2013-01-01 22:00:00, 2013-01-02 00:00:00]|RUT    |14.0       |RUT    |[2013-01-01 00:00:00, 2013-01-08 00:00:00]|30.2    |0.0        |\n",
      "|[2013-01-01 22:00:00, 2013-01-02 00:00:00]|RUT    |14.0       |RUT    |[2012-12-28 00:00:00, 2013-01-04 00:00:00]|30.2    |0.0        |\n",
      "|[2013-01-01 22:00:00, 2013-01-02 00:00:00]|RUT    |14.0       |RUT    |[2012-12-31 00:00:00, 2013-01-07 00:00:00]|30.2    |0.0        |\n",
      "|[2013-01-01 22:00:00, 2013-01-02 00:00:00]|RUT    |14.0       |RUT    |[2012-12-26 00:00:00, 2013-01-02 00:00:00]|30.2    |0.0        |\n",
      "|[2013-01-01 22:00:00, 2013-01-02 00:00:00]|RUT    |14.0       |RUT    |[2012-12-30 00:00:00, 2013-01-06 00:00:00]|30.2    |0.0        |\n",
      "+------------------------------------------+-------+-----------+-------+------------------------------------------+--------+-----------+\n",
      "only showing top 20 rows\n",
      "\n"
     ]
    },
    {
     "name": "stderr",
     "output_type": "stream",
     "text": [
      "23/04/12 17:14:18 WARN ProcessingTimeExecutor: Current batch is falling behind. The trigger interval is 10000 milliseconds, but spent 21367 milliseconds\n",
      "                                                                                \r"
     ]
    },
    {
     "name": "stdout",
     "output_type": "stream",
     "text": [
      "-------------------------------------------\n",
      "Batch: 78\n",
      "-------------------------------------------\n",
      "+------+-------+-----------+-------+------+--------+-----------+\n",
      "|Window|station|temperature|station|window|avg_temp|stddev_temp|\n",
      "+------+-------+-----------+-------+------+--------+-----------+\n",
      "+------+-------+-----------+-------+------+--------+-----------+\n",
      "\n"
     ]
    },
    {
     "name": "stderr",
     "output_type": "stream",
     "text": [
      "23/04/12 17:14:24 WARN ProcessingTimeExecutor: Current batch is falling behind. The trigger interval is 10000 milliseconds, but spent 48457 milliseconds\n",
      "                                                                                \r"
     ]
    },
    {
     "name": "stdout",
     "output_type": "stream",
     "text": [
      "-------------------------------------------\n",
      "Batch: 143\n",
      "-------------------------------------------\n",
      "+------------------------------------------+-------+-----------+\n",
      "|Window                                    |station|temperature|\n",
      "+------------------------------------------+-------+-----------+\n",
      "|[2013-01-01 22:00:00, 2013-01-02 00:00:00]|RUT    |14.0       |\n",
      "|[2013-01-01 22:00:00, 2013-01-02 00:00:00]|RUT    |14.0       |\n",
      "|[2013-01-01 22:00:00, 2013-01-02 00:00:00]|RUT    |14.0       |\n",
      "|[2013-01-01 22:00:00, 2013-01-02 00:00:00]|RUT    |12.2       |\n",
      "|[2013-01-01 22:00:00, 2013-01-02 00:00:00]|RUT    |12.2       |\n",
      "|[2013-01-01 14:00:00, 2013-01-01 16:00:00]|VSF    |26.06      |\n",
      "|[2013-01-01 14:00:00, 2013-01-01 16:00:00]|VSF    |24.98      |\n",
      "|[2013-01-02 05:00:00, 2013-01-02 07:00:00]|FSO    |4.46       |\n",
      "|[2013-01-02 05:00:00, 2013-01-02 07:00:00]|FSO    |4.46       |\n",
      "|[2013-01-02 05:00:00, 2013-01-02 07:00:00]|FSO    |4.46       |\n",
      "|[2013-01-02 05:00:00, 2013-01-02 07:00:00]|FSO    |4.46       |\n",
      "|[2013-01-02 05:00:00, 2013-01-02 07:00:00]|FSO    |4.82       |\n",
      "|[2013-01-02 05:00:00, 2013-01-02 07:00:00]|FSO    |5.18       |\n",
      "|[2013-01-01 06:00:00, 2013-01-01 08:00:00]|RUT    |30.2       |\n",
      "|[2013-01-01 06:00:00, 2013-01-01 08:00:00]|RUT    |30.2       |\n",
      "|[2013-01-01 06:00:00, 2013-01-01 08:00:00]|RUT    |30.2       |\n",
      "|[2013-01-01 06:00:00, 2013-01-01 08:00:00]|RUT    |30.2       |\n",
      "|[2013-01-01 06:00:00, 2013-01-01 08:00:00]|RUT    |30.2       |\n",
      "|[2013-01-01 22:00:00, 2013-01-02 00:00:00]|FSO    |6.98       |\n",
      "|[2013-01-01 22:00:00, 2013-01-02 00:00:00]|FSO    |6.8        |\n",
      "+------------------------------------------+-------+-----------+\n",
      "only showing top 20 rows\n",
      "\n"
     ]
    },
    {
     "name": "stderr",
     "output_type": "stream",
     "text": [
      "23/04/12 17:14:31 WARN ProcessingTimeExecutor: Current batch is falling behind. The trigger interval is 10000 milliseconds, but spent 27460 milliseconds\n",
      "23/04/12 17:14:37 WARN ProcessingTimeExecutor: Current batch is falling behind. The trigger interval is 10000 milliseconds, but spent 26111 milliseconds\n"
     ]
    },
    {
     "name": "stdout",
     "output_type": "stream",
     "text": [
      "-------------------------------------------\n",
      "Batch: 6\n",
      "-------------------------------------------\n",
      "+------------------------------------------+-------+-----------+---------------+-------------+-------+------------------------------------------+--------+------------------+\n",
      "|Window                                    |station|temperature|prev_week_start|prev_week_end|station|window                                    |avg_temp|stddev_temp       |\n",
      "+------------------------------------------+-------+-----------+---------------+-------------+-------+------------------------------------------+--------+------------------+\n",
      "|[2013-01-02 05:00:00, 2013-01-02 07:00:00]|FSO    |4.46       |2012-12-26     |2013-01-01   |FSO    |[2012-12-29 00:00:00, 2013-01-05 00:00:00]|31.055  |1.0936635680134912|\n",
      "|[2013-01-02 05:00:00, 2013-01-02 07:00:00]|FSO    |4.46       |2012-12-26     |2013-01-01   |FSO    |[2012-12-30 00:00:00, 2013-01-06 00:00:00]|31.055  |1.0936635680134912|\n",
      "|[2013-01-02 05:00:00, 2013-01-02 07:00:00]|FSO    |4.46       |2012-12-26     |2013-01-01   |FSO    |[2012-12-31 00:00:00, 2013-01-07 00:00:00]|31.055  |1.0936635680134912|\n",
      "|[2013-01-02 05:00:00, 2013-01-02 07:00:00]|FSO    |4.46       |2012-12-26     |2013-01-01   |FSO    |[2012-12-26 00:00:00, 2013-01-02 00:00:00]|31.055  |1.0936635680134912|\n",
      "|[2013-01-02 05:00:00, 2013-01-02 07:00:00]|FSO    |4.46       |2012-12-26     |2013-01-01   |FSO    |[2012-12-28 00:00:00, 2013-01-04 00:00:00]|31.055  |1.0936635680134912|\n",
      "|[2013-01-02 05:00:00, 2013-01-02 07:00:00]|FSO    |4.46       |2012-12-26     |2013-01-01   |FSO    |[2012-12-27 00:00:00, 2013-01-03 00:00:00]|31.055  |1.0936635680134912|\n",
      "|[2013-01-02 05:00:00, 2013-01-02 07:00:00]|FSO    |4.46       |2012-12-26     |2013-01-01   |FSO    |[2013-01-01 00:00:00, 2013-01-08 00:00:00]|31.055  |1.0936635680134912|\n",
      "|[2013-01-02 05:00:00, 2013-01-02 07:00:00]|FSO    |4.46       |2012-12-26     |2013-01-01   |FSO    |[2012-12-29 00:00:00, 2013-01-05 00:00:00]|31.055  |1.0936635680134912|\n",
      "|[2013-01-02 05:00:00, 2013-01-02 07:00:00]|FSO    |4.46       |2012-12-26     |2013-01-01   |FSO    |[2012-12-30 00:00:00, 2013-01-06 00:00:00]|31.055  |1.0936635680134912|\n",
      "|[2013-01-02 05:00:00, 2013-01-02 07:00:00]|FSO    |4.46       |2012-12-26     |2013-01-01   |FSO    |[2012-12-31 00:00:00, 2013-01-07 00:00:00]|31.055  |1.0936635680134912|\n",
      "|[2013-01-02 05:00:00, 2013-01-02 07:00:00]|FSO    |4.46       |2012-12-26     |2013-01-01   |FSO    |[2012-12-26 00:00:00, 2013-01-02 00:00:00]|31.055  |1.0936635680134912|\n",
      "|[2013-01-02 05:00:00, 2013-01-02 07:00:00]|FSO    |4.46       |2012-12-26     |2013-01-01   |FSO    |[2012-12-28 00:00:00, 2013-01-04 00:00:00]|31.055  |1.0936635680134912|\n",
      "|[2013-01-02 05:00:00, 2013-01-02 07:00:00]|FSO    |4.46       |2012-12-26     |2013-01-01   |FSO    |[2012-12-27 00:00:00, 2013-01-03 00:00:00]|31.055  |1.0936635680134912|\n",
      "|[2013-01-02 05:00:00, 2013-01-02 07:00:00]|FSO    |4.46       |2012-12-26     |2013-01-01   |FSO    |[2013-01-01 00:00:00, 2013-01-08 00:00:00]|31.055  |1.0936635680134912|\n",
      "|[2013-01-02 05:00:00, 2013-01-02 07:00:00]|FSO    |4.82       |2012-12-26     |2013-01-01   |FSO    |[2012-12-29 00:00:00, 2013-01-05 00:00:00]|31.055  |1.0936635680134912|\n",
      "|[2013-01-02 05:00:00, 2013-01-02 07:00:00]|FSO    |4.82       |2012-12-26     |2013-01-01   |FSO    |[2012-12-30 00:00:00, 2013-01-06 00:00:00]|31.055  |1.0936635680134912|\n",
      "|[2013-01-02 05:00:00, 2013-01-02 07:00:00]|FSO    |4.82       |2012-12-26     |2013-01-01   |FSO    |[2012-12-31 00:00:00, 2013-01-07 00:00:00]|31.055  |1.0936635680134912|\n",
      "|[2013-01-02 05:00:00, 2013-01-02 07:00:00]|FSO    |4.82       |2012-12-26     |2013-01-01   |FSO    |[2012-12-26 00:00:00, 2013-01-02 00:00:00]|31.055  |1.0936635680134912|\n",
      "|[2013-01-02 05:00:00, 2013-01-02 07:00:00]|FSO    |4.82       |2012-12-26     |2013-01-01   |FSO    |[2012-12-28 00:00:00, 2013-01-04 00:00:00]|31.055  |1.0936635680134912|\n",
      "|[2013-01-02 05:00:00, 2013-01-02 07:00:00]|FSO    |4.82       |2012-12-26     |2013-01-01   |FSO    |[2012-12-27 00:00:00, 2013-01-03 00:00:00]|31.055  |1.0936635680134912|\n",
      "+------------------------------------------+-------+-----------+---------------+-------------+-------+------------------------------------------+--------+------------------+\n",
      "only showing top 20 rows\n",
      "\n"
     ]
    },
    {
     "name": "stderr",
     "output_type": "stream",
     "text": [
      "                                                                                \r"
     ]
    },
    {
     "name": "stdout",
     "output_type": "stream",
     "text": [
      "-------------------------------------------\n",
      "Batch: 114\n",
      "-------------------------------------------\n"
     ]
    },
    {
     "name": "stderr",
     "output_type": "stream",
     "text": [
      "[Stage 1327:(10 + 2) / 200][Stage 1329:> (0 + 0) / 1][Stage 1331:> (0 + 0) / 1]]\r"
     ]
    },
    {
     "name": "stdout",
     "output_type": "stream",
     "text": [
      "+------------------------------------------+-------+-----------+-------+------------------------------------------+--------+-----------+\n",
      "|Window                                    |station|temperature|station|window                                    |avg_temp|stddev_temp|\n",
      "+------------------------------------------+-------+-----------+-------+------------------------------------------+--------+-----------+\n",
      "|[2013-01-01 22:00:00, 2013-01-02 00:00:00]|RUT    |14.0       |RUT    |[2012-12-29 00:00:00, 2013-01-05 00:00:00]|30.2    |0.0        |\n",
      "|[2013-01-01 22:00:00, 2013-01-02 00:00:00]|RUT    |14.0       |RUT    |[2013-01-01 00:00:00, 2013-01-08 00:00:00]|30.2    |0.0        |\n",
      "|[2013-01-01 22:00:00, 2013-01-02 00:00:00]|RUT    |14.0       |RUT    |[2012-12-28 00:00:00, 2013-01-04 00:00:00]|30.2    |0.0        |\n",
      "|[2013-01-01 22:00:00, 2013-01-02 00:00:00]|RUT    |14.0       |RUT    |[2012-12-31 00:00:00, 2013-01-07 00:00:00]|30.2    |0.0        |\n",
      "|[2013-01-01 22:00:00, 2013-01-02 00:00:00]|RUT    |14.0       |RUT    |[2012-12-26 00:00:00, 2013-01-02 00:00:00]|30.2    |0.0        |\n",
      "|[2013-01-01 22:00:00, 2013-01-02 00:00:00]|RUT    |14.0       |RUT    |[2012-12-30 00:00:00, 2013-01-06 00:00:00]|30.2    |0.0        |\n",
      "|[2013-01-01 22:00:00, 2013-01-02 00:00:00]|RUT    |14.0       |RUT    |[2012-12-27 00:00:00, 2013-01-03 00:00:00]|30.2    |0.0        |\n",
      "|[2013-01-01 22:00:00, 2013-01-02 00:00:00]|RUT    |14.0       |RUT    |[2012-12-29 00:00:00, 2013-01-05 00:00:00]|30.2    |0.0        |\n",
      "|[2013-01-01 22:00:00, 2013-01-02 00:00:00]|RUT    |14.0       |RUT    |[2013-01-01 00:00:00, 2013-01-08 00:00:00]|30.2    |0.0        |\n",
      "|[2013-01-01 22:00:00, 2013-01-02 00:00:00]|RUT    |14.0       |RUT    |[2012-12-28 00:00:00, 2013-01-04 00:00:00]|30.2    |0.0        |\n",
      "|[2013-01-01 22:00:00, 2013-01-02 00:00:00]|RUT    |14.0       |RUT    |[2012-12-31 00:00:00, 2013-01-07 00:00:00]|30.2    |0.0        |\n",
      "|[2013-01-01 22:00:00, 2013-01-02 00:00:00]|RUT    |14.0       |RUT    |[2012-12-26 00:00:00, 2013-01-02 00:00:00]|30.2    |0.0        |\n",
      "|[2013-01-01 22:00:00, 2013-01-02 00:00:00]|RUT    |14.0       |RUT    |[2012-12-30 00:00:00, 2013-01-06 00:00:00]|30.2    |0.0        |\n",
      "|[2013-01-01 22:00:00, 2013-01-02 00:00:00]|RUT    |14.0       |RUT    |[2012-12-27 00:00:00, 2013-01-03 00:00:00]|30.2    |0.0        |\n",
      "|[2013-01-01 22:00:00, 2013-01-02 00:00:00]|RUT    |14.0       |RUT    |[2012-12-29 00:00:00, 2013-01-05 00:00:00]|30.2    |0.0        |\n",
      "|[2013-01-01 22:00:00, 2013-01-02 00:00:00]|RUT    |14.0       |RUT    |[2013-01-01 00:00:00, 2013-01-08 00:00:00]|30.2    |0.0        |\n",
      "|[2013-01-01 22:00:00, 2013-01-02 00:00:00]|RUT    |14.0       |RUT    |[2012-12-28 00:00:00, 2013-01-04 00:00:00]|30.2    |0.0        |\n",
      "|[2013-01-01 22:00:00, 2013-01-02 00:00:00]|RUT    |14.0       |RUT    |[2012-12-31 00:00:00, 2013-01-07 00:00:00]|30.2    |0.0        |\n",
      "|[2013-01-01 22:00:00, 2013-01-02 00:00:00]|RUT    |14.0       |RUT    |[2012-12-26 00:00:00, 2013-01-02 00:00:00]|30.2    |0.0        |\n",
      "|[2013-01-01 22:00:00, 2013-01-02 00:00:00]|RUT    |14.0       |RUT    |[2012-12-30 00:00:00, 2013-01-06 00:00:00]|30.2    |0.0        |\n",
      "+------------------------------------------+-------+-----------+-------+------------------------------------------+--------+-----------+\n",
      "only showing top 20 rows\n",
      "\n"
     ]
    },
    {
     "name": "stderr",
     "output_type": "stream",
     "text": [
      "23/04/12 17:14:46 WARN ProcessingTimeExecutor: Current batch is falling behind. The trigger interval is 10000 milliseconds, but spent 27664 milliseconds\n",
      "                                                                                \r"
     ]
    },
    {
     "name": "stdout",
     "output_type": "stream",
     "text": [
      "-------------------------------------------\n",
      "Batch: 144\n",
      "-------------------------------------------\n",
      "+------------------------------------------+-------+-----------+\n",
      "|Window                                    |station|temperature|\n",
      "+------------------------------------------+-------+-----------+\n",
      "|[2013-01-01 22:00:00, 2013-01-02 00:00:00]|RUT    |14.0       |\n",
      "|[2013-01-01 22:00:00, 2013-01-02 00:00:00]|RUT    |14.0       |\n",
      "|[2013-01-01 22:00:00, 2013-01-02 00:00:00]|RUT    |14.0       |\n",
      "|[2013-01-01 22:00:00, 2013-01-02 00:00:00]|RUT    |12.2       |\n",
      "|[2013-01-01 22:00:00, 2013-01-02 00:00:00]|RUT    |12.2       |\n",
      "|[2013-01-01 14:00:00, 2013-01-01 16:00:00]|VSF    |26.06      |\n",
      "|[2013-01-01 14:00:00, 2013-01-01 16:00:00]|VSF    |24.98      |\n",
      "|[2013-01-02 05:00:00, 2013-01-02 07:00:00]|FSO    |4.46       |\n",
      "|[2013-01-02 05:00:00, 2013-01-02 07:00:00]|FSO    |4.46       |\n",
      "|[2013-01-02 05:00:00, 2013-01-02 07:00:00]|FSO    |4.46       |\n",
      "|[2013-01-02 05:00:00, 2013-01-02 07:00:00]|FSO    |4.46       |\n",
      "|[2013-01-02 05:00:00, 2013-01-02 07:00:00]|FSO    |4.82       |\n",
      "|[2013-01-02 05:00:00, 2013-01-02 07:00:00]|FSO    |5.18       |\n",
      "|[2013-01-01 06:00:00, 2013-01-01 08:00:00]|RUT    |30.2       |\n",
      "|[2013-01-01 06:00:00, 2013-01-01 08:00:00]|RUT    |30.2       |\n",
      "|[2013-01-01 06:00:00, 2013-01-01 08:00:00]|RUT    |30.2       |\n",
      "|[2013-01-01 06:00:00, 2013-01-01 08:00:00]|RUT    |30.2       |\n",
      "|[2013-01-01 06:00:00, 2013-01-01 08:00:00]|RUT    |30.2       |\n",
      "|[2013-01-01 22:00:00, 2013-01-02 00:00:00]|FSO    |6.98       |\n",
      "|[2013-01-01 22:00:00, 2013-01-02 00:00:00]|FSO    |6.8        |\n",
      "+------------------------------------------+-------+-----------+\n",
      "only showing top 20 rows\n",
      "\n"
     ]
    },
    {
     "name": "stderr",
     "output_type": "stream",
     "text": [
      "23/04/12 17:15:06 WARN ProcessingTimeExecutor: Current batch is falling behind. The trigger interval is 10000 milliseconds, but spent 35870 milliseconds\n",
      "                                                                                \r"
     ]
    },
    {
     "name": "stdout",
     "output_type": "stream",
     "text": [
      "-------------------------------------------\n",
      "Batch: 79\n",
      "-------------------------------------------\n",
      "+------+-------+-----------+-------+------+--------+-----------+\n",
      "|Window|station|temperature|station|window|avg_temp|stddev_temp|\n",
      "+------+-------+-----------+-------+------+--------+-----------+\n",
      "+------+-------+-----------+-------+------+--------+-----------+\n",
      "\n"
     ]
    },
    {
     "name": "stderr",
     "output_type": "stream",
     "text": [
      "23/04/12 17:15:50 WARN ProcessingTimeExecutor: Current batch is falling behind. The trigger interval is 10000 milliseconds, but spent 86290 milliseconds\n",
      "                                                                                \r"
     ]
    },
    {
     "name": "stdout",
     "output_type": "stream",
     "text": [
      "-------------------------------------------\n",
      "Batch: 7\n",
      "-------------------------------------------\n",
      "+------------------------------------------+-------+-----------+---------------+-------------+-------+------------------------------------------+--------+------------------+\n",
      "|Window                                    |station|temperature|prev_week_start|prev_week_end|station|window                                    |avg_temp|stddev_temp       |\n",
      "+------------------------------------------+-------+-----------+---------------+-------------+-------+------------------------------------------+--------+------------------+\n",
      "|[2013-01-02 05:00:00, 2013-01-02 07:00:00]|FSO    |4.46       |2012-12-26     |2013-01-01   |FSO    |[2012-12-29 00:00:00, 2013-01-05 00:00:00]|31.055  |1.0936635680134912|\n",
      "|[2013-01-02 05:00:00, 2013-01-02 07:00:00]|FSO    |4.46       |2012-12-26     |2013-01-01   |FSO    |[2012-12-30 00:00:00, 2013-01-06 00:00:00]|31.055  |1.0936635680134912|\n",
      "|[2013-01-02 05:00:00, 2013-01-02 07:00:00]|FSO    |4.46       |2012-12-26     |2013-01-01   |FSO    |[2012-12-31 00:00:00, 2013-01-07 00:00:00]|31.055  |1.0936635680134912|\n",
      "|[2013-01-02 05:00:00, 2013-01-02 07:00:00]|FSO    |4.46       |2012-12-26     |2013-01-01   |FSO    |[2012-12-26 00:00:00, 2013-01-02 00:00:00]|31.055  |1.0936635680134912|\n",
      "|[2013-01-02 05:00:00, 2013-01-02 07:00:00]|FSO    |4.46       |2012-12-26     |2013-01-01   |FSO    |[2012-12-28 00:00:00, 2013-01-04 00:00:00]|31.055  |1.0936635680134912|\n",
      "|[2013-01-02 05:00:00, 2013-01-02 07:00:00]|FSO    |4.46       |2012-12-26     |2013-01-01   |FSO    |[2012-12-27 00:00:00, 2013-01-03 00:00:00]|31.055  |1.0936635680134912|\n",
      "|[2013-01-02 05:00:00, 2013-01-02 07:00:00]|FSO    |4.46       |2012-12-26     |2013-01-01   |FSO    |[2013-01-01 00:00:00, 2013-01-08 00:00:00]|31.055  |1.0936635680134912|\n",
      "|[2013-01-02 05:00:00, 2013-01-02 07:00:00]|FSO    |4.46       |2012-12-26     |2013-01-01   |FSO    |[2012-12-29 00:00:00, 2013-01-05 00:00:00]|31.055  |1.0936635680134912|\n",
      "|[2013-01-02 05:00:00, 2013-01-02 07:00:00]|FSO    |4.46       |2012-12-26     |2013-01-01   |FSO    |[2012-12-30 00:00:00, 2013-01-06 00:00:00]|31.055  |1.0936635680134912|\n",
      "|[2013-01-02 05:00:00, 2013-01-02 07:00:00]|FSO    |4.46       |2012-12-26     |2013-01-01   |FSO    |[2012-12-31 00:00:00, 2013-01-07 00:00:00]|31.055  |1.0936635680134912|\n",
      "|[2013-01-02 05:00:00, 2013-01-02 07:00:00]|FSO    |4.46       |2012-12-26     |2013-01-01   |FSO    |[2012-12-26 00:00:00, 2013-01-02 00:00:00]|31.055  |1.0936635680134912|\n",
      "|[2013-01-02 05:00:00, 2013-01-02 07:00:00]|FSO    |4.46       |2012-12-26     |2013-01-01   |FSO    |[2012-12-28 00:00:00, 2013-01-04 00:00:00]|31.055  |1.0936635680134912|\n",
      "|[2013-01-02 05:00:00, 2013-01-02 07:00:00]|FSO    |4.46       |2012-12-26     |2013-01-01   |FSO    |[2012-12-27 00:00:00, 2013-01-03 00:00:00]|31.055  |1.0936635680134912|\n",
      "|[2013-01-02 05:00:00, 2013-01-02 07:00:00]|FSO    |4.46       |2012-12-26     |2013-01-01   |FSO    |[2013-01-01 00:00:00, 2013-01-08 00:00:00]|31.055  |1.0936635680134912|\n",
      "|[2013-01-02 05:00:00, 2013-01-02 07:00:00]|FSO    |4.82       |2012-12-26     |2013-01-01   |FSO    |[2012-12-29 00:00:00, 2013-01-05 00:00:00]|31.055  |1.0936635680134912|\n",
      "|[2013-01-02 05:00:00, 2013-01-02 07:00:00]|FSO    |4.82       |2012-12-26     |2013-01-01   |FSO    |[2012-12-30 00:00:00, 2013-01-06 00:00:00]|31.055  |1.0936635680134912|\n",
      "|[2013-01-02 05:00:00, 2013-01-02 07:00:00]|FSO    |4.82       |2012-12-26     |2013-01-01   |FSO    |[2012-12-31 00:00:00, 2013-01-07 00:00:00]|31.055  |1.0936635680134912|\n",
      "|[2013-01-02 05:00:00, 2013-01-02 07:00:00]|FSO    |4.82       |2012-12-26     |2013-01-01   |FSO    |[2012-12-26 00:00:00, 2013-01-02 00:00:00]|31.055  |1.0936635680134912|\n",
      "|[2013-01-02 05:00:00, 2013-01-02 07:00:00]|FSO    |4.82       |2012-12-26     |2013-01-01   |FSO    |[2012-12-28 00:00:00, 2013-01-04 00:00:00]|31.055  |1.0936635680134912|\n",
      "|[2013-01-02 05:00:00, 2013-01-02 07:00:00]|FSO    |4.82       |2012-12-26     |2013-01-01   |FSO    |[2012-12-27 00:00:00, 2013-01-03 00:00:00]|31.055  |1.0936635680134912|\n",
      "+------------------------------------------+-------+-----------+---------------+-------------+-------+------------------------------------------+--------+------------------+\n",
      "only showing top 20 rows\n",
      "\n"
     ]
    },
    {
     "name": "stderr",
     "output_type": "stream",
     "text": [
      "23/04/12 17:17:01 WARN ProcessingTimeExecutor: Current batch is falling behind. The trigger interval is 10000 milliseconds, but spent 144168 milliseconds\n",
      "                                                                                ]\r"
     ]
    },
    {
     "name": "stdout",
     "output_type": "stream",
     "text": [
      "-------------------------------------------\n",
      "Batch: 145\n",
      "-------------------------------------------\n",
      "+------------------------------------------+-------+-----------+\n",
      "|Window                                    |station|temperature|\n",
      "+------------------------------------------+-------+-----------+\n",
      "|[2013-01-01 22:00:00, 2013-01-02 00:00:00]|RUT    |14.0       |\n",
      "|[2013-01-01 22:00:00, 2013-01-02 00:00:00]|RUT    |14.0       |\n",
      "|[2013-01-01 22:00:00, 2013-01-02 00:00:00]|RUT    |14.0       |\n",
      "|[2013-01-01 22:00:00, 2013-01-02 00:00:00]|RUT    |12.2       |\n",
      "|[2013-01-01 22:00:00, 2013-01-02 00:00:00]|RUT    |12.2       |\n",
      "|[2013-01-01 14:00:00, 2013-01-01 16:00:00]|VSF    |26.06      |\n",
      "|[2013-01-01 14:00:00, 2013-01-01 16:00:00]|VSF    |24.98      |\n",
      "|[2013-01-02 05:00:00, 2013-01-02 07:00:00]|FSO    |4.46       |\n",
      "|[2013-01-02 05:00:00, 2013-01-02 07:00:00]|FSO    |4.46       |\n",
      "|[2013-01-02 05:00:00, 2013-01-02 07:00:00]|FSO    |4.46       |\n",
      "|[2013-01-02 05:00:00, 2013-01-02 07:00:00]|FSO    |4.46       |\n",
      "|[2013-01-02 05:00:00, 2013-01-02 07:00:00]|FSO    |4.82       |\n",
      "|[2013-01-02 05:00:00, 2013-01-02 07:00:00]|FSO    |5.18       |\n",
      "|[2013-01-01 06:00:00, 2013-01-01 08:00:00]|RUT    |30.2       |\n",
      "|[2013-01-01 06:00:00, 2013-01-01 08:00:00]|RUT    |30.2       |\n",
      "|[2013-01-01 06:00:00, 2013-01-01 08:00:00]|RUT    |30.2       |\n",
      "|[2013-01-01 06:00:00, 2013-01-01 08:00:00]|RUT    |30.2       |\n",
      "|[2013-01-01 06:00:00, 2013-01-01 08:00:00]|RUT    |30.2       |\n",
      "|[2013-01-01 22:00:00, 2013-01-02 00:00:00]|FSO    |6.98       |\n",
      "|[2013-01-01 22:00:00, 2013-01-02 00:00:00]|FSO    |6.8        |\n",
      "+------------------------------------------+-------+-----------+\n",
      "only showing top 20 rows\n",
      "\n"
     ]
    },
    {
     "name": "stderr",
     "output_type": "stream",
     "text": [
      "23/04/12 17:17:24 WARN ProcessingTimeExecutor: Current batch is falling behind. The trigger interval is 10000 milliseconds, but spent 137445 milliseconds\n",
      "                                                                                ]\r"
     ]
    },
    {
     "name": "stdout",
     "output_type": "stream",
     "text": [
      "-------------------------------------------\n",
      "Batch: 115\n",
      "-------------------------------------------\n"
     ]
    },
    {
     "name": "stderr",
     "output_type": "stream",
     "text": [
      "[Stage 1343:(17 + 2) / 200][Stage 1346:(0 + 0) / 200][Stage 1347:> (0 + 0) / 1]\r"
     ]
    },
    {
     "name": "stdout",
     "output_type": "stream",
     "text": [
      "+------------------------------------------+-------+-----------+-------+------------------------------------------+--------+-----------+\n",
      "|Window                                    |station|temperature|station|window                                    |avg_temp|stddev_temp|\n",
      "+------------------------------------------+-------+-----------+-------+------------------------------------------+--------+-----------+\n",
      "|[2013-01-01 22:00:00, 2013-01-02 00:00:00]|RUT    |14.0       |RUT    |[2012-12-29 00:00:00, 2013-01-05 00:00:00]|30.2    |0.0        |\n",
      "|[2013-01-01 22:00:00, 2013-01-02 00:00:00]|RUT    |14.0       |RUT    |[2013-01-01 00:00:00, 2013-01-08 00:00:00]|30.2    |0.0        |\n",
      "|[2013-01-01 22:00:00, 2013-01-02 00:00:00]|RUT    |14.0       |RUT    |[2012-12-28 00:00:00, 2013-01-04 00:00:00]|30.2    |0.0        |\n",
      "|[2013-01-01 22:00:00, 2013-01-02 00:00:00]|RUT    |14.0       |RUT    |[2012-12-31 00:00:00, 2013-01-07 00:00:00]|30.2    |0.0        |\n",
      "|[2013-01-01 22:00:00, 2013-01-02 00:00:00]|RUT    |14.0       |RUT    |[2012-12-26 00:00:00, 2013-01-02 00:00:00]|30.2    |0.0        |\n",
      "|[2013-01-01 22:00:00, 2013-01-02 00:00:00]|RUT    |14.0       |RUT    |[2012-12-30 00:00:00, 2013-01-06 00:00:00]|30.2    |0.0        |\n",
      "|[2013-01-01 22:00:00, 2013-01-02 00:00:00]|RUT    |14.0       |RUT    |[2012-12-27 00:00:00, 2013-01-03 00:00:00]|30.2    |0.0        |\n",
      "|[2013-01-01 22:00:00, 2013-01-02 00:00:00]|RUT    |14.0       |RUT    |[2012-12-29 00:00:00, 2013-01-05 00:00:00]|30.2    |0.0        |\n",
      "|[2013-01-01 22:00:00, 2013-01-02 00:00:00]|RUT    |14.0       |RUT    |[2013-01-01 00:00:00, 2013-01-08 00:00:00]|30.2    |0.0        |\n",
      "|[2013-01-01 22:00:00, 2013-01-02 00:00:00]|RUT    |14.0       |RUT    |[2012-12-28 00:00:00, 2013-01-04 00:00:00]|30.2    |0.0        |\n",
      "|[2013-01-01 22:00:00, 2013-01-02 00:00:00]|RUT    |14.0       |RUT    |[2012-12-31 00:00:00, 2013-01-07 00:00:00]|30.2    |0.0        |\n",
      "|[2013-01-01 22:00:00, 2013-01-02 00:00:00]|RUT    |14.0       |RUT    |[2012-12-26 00:00:00, 2013-01-02 00:00:00]|30.2    |0.0        |\n",
      "|[2013-01-01 22:00:00, 2013-01-02 00:00:00]|RUT    |14.0       |RUT    |[2012-12-30 00:00:00, 2013-01-06 00:00:00]|30.2    |0.0        |\n",
      "|[2013-01-01 22:00:00, 2013-01-02 00:00:00]|RUT    |14.0       |RUT    |[2012-12-27 00:00:00, 2013-01-03 00:00:00]|30.2    |0.0        |\n",
      "|[2013-01-01 22:00:00, 2013-01-02 00:00:00]|RUT    |14.0       |RUT    |[2012-12-29 00:00:00, 2013-01-05 00:00:00]|30.2    |0.0        |\n",
      "|[2013-01-01 22:00:00, 2013-01-02 00:00:00]|RUT    |14.0       |RUT    |[2013-01-01 00:00:00, 2013-01-08 00:00:00]|30.2    |0.0        |\n",
      "|[2013-01-01 22:00:00, 2013-01-02 00:00:00]|RUT    |14.0       |RUT    |[2012-12-28 00:00:00, 2013-01-04 00:00:00]|30.2    |0.0        |\n",
      "|[2013-01-01 22:00:00, 2013-01-02 00:00:00]|RUT    |14.0       |RUT    |[2012-12-31 00:00:00, 2013-01-07 00:00:00]|30.2    |0.0        |\n",
      "|[2013-01-01 22:00:00, 2013-01-02 00:00:00]|RUT    |14.0       |RUT    |[2012-12-26 00:00:00, 2013-01-02 00:00:00]|30.2    |0.0        |\n",
      "|[2013-01-01 22:00:00, 2013-01-02 00:00:00]|RUT    |14.0       |RUT    |[2012-12-30 00:00:00, 2013-01-06 00:00:00]|30.2    |0.0        |\n",
      "+------------------------------------------+-------+-----------+-------+------------------------------------------+--------+-----------+\n",
      "only showing top 20 rows\n",
      "\n"
     ]
    },
    {
     "name": "stderr",
     "output_type": "stream",
     "text": [
      "23/04/12 17:17:43 WARN ProcessingTimeExecutor: Current batch is falling behind. The trigger interval is 10000 milliseconds, but spent 177865 milliseconds\n",
      "[Stage 1343:(199 + 1) / 200][Stage 1346:(15 + 1) / 200][Stage 1347:> (0 + 0) / 1]\r"
     ]
    },
    {
     "name": "stdout",
     "output_type": "stream",
     "text": [
      "-------------------------------------------\n",
      "Batch: 80\n",
      "-------------------------------------------\n",
      "+------+-------+-----------+-------+------+--------+-----------+\n",
      "|Window|station|temperature|station|window|avg_temp|stddev_temp|\n",
      "+------+-------+-----------+-------+------+--------+-----------+\n",
      "+------+-------+-----------+-------+------+--------+-----------+\n",
      "\n"
     ]
    },
    {
     "name": "stderr",
     "output_type": "stream",
     "text": [
      "23/04/12 17:18:18 WARN ProcessingTimeExecutor: Current batch is falling behind. The trigger interval is 10000 milliseconds, but spent 147915 milliseconds\n",
      "                                                                                \r"
     ]
    },
    {
     "name": "stdout",
     "output_type": "stream",
     "text": [
      "-------------------------------------------\n",
      "Batch: 146\n",
      "-------------------------------------------\n",
      "+------------------------------------------+-------+-----------+\n",
      "|Window                                    |station|temperature|\n",
      "+------------------------------------------+-------+-----------+\n",
      "|[2013-01-01 22:00:00, 2013-01-02 00:00:00]|RUT    |14.0       |\n",
      "|[2013-01-01 22:00:00, 2013-01-02 00:00:00]|RUT    |14.0       |\n",
      "|[2013-01-01 22:00:00, 2013-01-02 00:00:00]|RUT    |14.0       |\n",
      "|[2013-01-01 22:00:00, 2013-01-02 00:00:00]|RUT    |12.2       |\n",
      "|[2013-01-01 22:00:00, 2013-01-02 00:00:00]|RUT    |12.2       |\n",
      "|[2013-01-01 14:00:00, 2013-01-01 16:00:00]|VSF    |26.06      |\n",
      "|[2013-01-01 14:00:00, 2013-01-01 16:00:00]|VSF    |24.98      |\n",
      "|[2013-01-02 05:00:00, 2013-01-02 07:00:00]|FSO    |4.46       |\n",
      "|[2013-01-02 05:00:00, 2013-01-02 07:00:00]|FSO    |4.46       |\n",
      "|[2013-01-02 05:00:00, 2013-01-02 07:00:00]|FSO    |4.46       |\n",
      "|[2013-01-02 05:00:00, 2013-01-02 07:00:00]|FSO    |4.46       |\n",
      "|[2013-01-02 05:00:00, 2013-01-02 07:00:00]|FSO    |4.82       |\n",
      "|[2013-01-02 05:00:00, 2013-01-02 07:00:00]|FSO    |5.18       |\n",
      "|[2013-01-01 06:00:00, 2013-01-01 08:00:00]|RUT    |30.2       |\n",
      "|[2013-01-01 06:00:00, 2013-01-01 08:00:00]|RUT    |30.2       |\n",
      "|[2013-01-01 06:00:00, 2013-01-01 08:00:00]|RUT    |30.2       |\n",
      "|[2013-01-01 06:00:00, 2013-01-01 08:00:00]|RUT    |30.2       |\n",
      "|[2013-01-01 06:00:00, 2013-01-01 08:00:00]|RUT    |30.2       |\n",
      "|[2013-01-01 22:00:00, 2013-01-02 00:00:00]|FSO    |6.98       |\n",
      "|[2013-01-01 22:00:00, 2013-01-02 00:00:00]|FSO    |6.8        |\n",
      "+------------------------------------------+-------+-----------+\n",
      "only showing top 20 rows\n",
      "\n"
     ]
    },
    {
     "name": "stderr",
     "output_type": "stream",
     "text": [
      "23/04/12 17:19:44 WARN ProcessingTimeExecutor: Current batch is falling behind. The trigger interval is 10000 milliseconds, but spent 140463 milliseconds\n",
      "[Stage 1349:(199 + 1) / 200][Stage 1354:(1 + 1) / 200][Stage 1356:(0 + 0) / 200]\r"
     ]
    },
    {
     "name": "stdout",
     "output_type": "stream",
     "text": [
      "-------------------------------------------\n",
      "Batch: 8\n",
      "-------------------------------------------\n"
     ]
    },
    {
     "name": "stderr",
     "output_type": "stream",
     "text": [
      "                                                                                \r"
     ]
    },
    {
     "name": "stdout",
     "output_type": "stream",
     "text": [
      "+------------------------------------------+-------+-----------+---------------+-------------+-------+------------------------------------------+--------+------------------+\n",
      "|Window                                    |station|temperature|prev_week_start|prev_week_end|station|window                                    |avg_temp|stddev_temp       |\n",
      "+------------------------------------------+-------+-----------+---------------+-------------+-------+------------------------------------------+--------+------------------+\n",
      "|[2013-01-02 05:00:00, 2013-01-02 07:00:00]|FSO    |4.46       |2012-12-26     |2013-01-01   |FSO    |[2012-12-29 00:00:00, 2013-01-05 00:00:00]|31.055  |1.0936635680134912|\n",
      "|[2013-01-02 05:00:00, 2013-01-02 07:00:00]|FSO    |4.46       |2012-12-26     |2013-01-01   |FSO    |[2012-12-30 00:00:00, 2013-01-06 00:00:00]|31.055  |1.0936635680134912|\n",
      "|[2013-01-02 05:00:00, 2013-01-02 07:00:00]|FSO    |4.46       |2012-12-26     |2013-01-01   |FSO    |[2012-12-31 00:00:00, 2013-01-07 00:00:00]|31.055  |1.0936635680134912|\n",
      "|[2013-01-02 05:00:00, 2013-01-02 07:00:00]|FSO    |4.46       |2012-12-26     |2013-01-01   |FSO    |[2012-12-26 00:00:00, 2013-01-02 00:00:00]|31.055  |1.0936635680134912|\n",
      "|[2013-01-02 05:00:00, 2013-01-02 07:00:00]|FSO    |4.46       |2012-12-26     |2013-01-01   |FSO    |[2012-12-28 00:00:00, 2013-01-04 00:00:00]|31.055  |1.0936635680134912|\n",
      "|[2013-01-02 05:00:00, 2013-01-02 07:00:00]|FSO    |4.46       |2012-12-26     |2013-01-01   |FSO    |[2012-12-27 00:00:00, 2013-01-03 00:00:00]|31.055  |1.0936635680134912|\n",
      "|[2013-01-02 05:00:00, 2013-01-02 07:00:00]|FSO    |4.46       |2012-12-26     |2013-01-01   |FSO    |[2013-01-01 00:00:00, 2013-01-08 00:00:00]|31.055  |1.0936635680134912|\n",
      "|[2013-01-02 05:00:00, 2013-01-02 07:00:00]|FSO    |4.46       |2012-12-26     |2013-01-01   |FSO    |[2012-12-29 00:00:00, 2013-01-05 00:00:00]|31.055  |1.0936635680134912|\n",
      "|[2013-01-02 05:00:00, 2013-01-02 07:00:00]|FSO    |4.46       |2012-12-26     |2013-01-01   |FSO    |[2012-12-30 00:00:00, 2013-01-06 00:00:00]|31.055  |1.0936635680134912|\n",
      "|[2013-01-02 05:00:00, 2013-01-02 07:00:00]|FSO    |4.46       |2012-12-26     |2013-01-01   |FSO    |[2012-12-31 00:00:00, 2013-01-07 00:00:00]|31.055  |1.0936635680134912|\n",
      "|[2013-01-02 05:00:00, 2013-01-02 07:00:00]|FSO    |4.46       |2012-12-26     |2013-01-01   |FSO    |[2012-12-26 00:00:00, 2013-01-02 00:00:00]|31.055  |1.0936635680134912|\n",
      "|[2013-01-02 05:00:00, 2013-01-02 07:00:00]|FSO    |4.46       |2012-12-26     |2013-01-01   |FSO    |[2012-12-28 00:00:00, 2013-01-04 00:00:00]|31.055  |1.0936635680134912|\n",
      "|[2013-01-02 05:00:00, 2013-01-02 07:00:00]|FSO    |4.46       |2012-12-26     |2013-01-01   |FSO    |[2012-12-27 00:00:00, 2013-01-03 00:00:00]|31.055  |1.0936635680134912|\n",
      "|[2013-01-02 05:00:00, 2013-01-02 07:00:00]|FSO    |4.46       |2012-12-26     |2013-01-01   |FSO    |[2013-01-01 00:00:00, 2013-01-08 00:00:00]|31.055  |1.0936635680134912|\n",
      "|[2013-01-02 05:00:00, 2013-01-02 07:00:00]|FSO    |4.82       |2012-12-26     |2013-01-01   |FSO    |[2012-12-29 00:00:00, 2013-01-05 00:00:00]|31.055  |1.0936635680134912|\n",
      "|[2013-01-02 05:00:00, 2013-01-02 07:00:00]|FSO    |4.82       |2012-12-26     |2013-01-01   |FSO    |[2012-12-30 00:00:00, 2013-01-06 00:00:00]|31.055  |1.0936635680134912|\n",
      "|[2013-01-02 05:00:00, 2013-01-02 07:00:00]|FSO    |4.82       |2012-12-26     |2013-01-01   |FSO    |[2012-12-31 00:00:00, 2013-01-07 00:00:00]|31.055  |1.0936635680134912|\n",
      "|[2013-01-02 05:00:00, 2013-01-02 07:00:00]|FSO    |4.82       |2012-12-26     |2013-01-01   |FSO    |[2012-12-26 00:00:00, 2013-01-02 00:00:00]|31.055  |1.0936635680134912|\n",
      "|[2013-01-02 05:00:00, 2013-01-02 07:00:00]|FSO    |4.82       |2012-12-26     |2013-01-01   |FSO    |[2012-12-28 00:00:00, 2013-01-04 00:00:00]|31.055  |1.0936635680134912|\n",
      "|[2013-01-02 05:00:00, 2013-01-02 07:00:00]|FSO    |4.82       |2012-12-26     |2013-01-01   |FSO    |[2012-12-27 00:00:00, 2013-01-03 00:00:00]|31.055  |1.0936635680134912|\n",
      "+------------------------------------------+-------+-----------+---------------+-------------+-------+------------------------------------------+--------+------------------+\n",
      "only showing top 20 rows\n",
      "\n"
     ]
    },
    {
     "name": "stderr",
     "output_type": "stream",
     "text": [
      "23/04/12 17:21:54 WARN ProcessingTimeExecutor: Current batch is falling behind. The trigger interval is 10000 milliseconds, but spent 293251 milliseconds\n",
      "[Stage 1354:(199 + 1) / 200][Stage 1356:(4 + 1) / 200][Stage 1357:> (0 + 0) / 1]\r"
     ]
    },
    {
     "name": "stdout",
     "output_type": "stream",
     "text": [
      "-------------------------------------------\n",
      "Batch: 81\n",
      "-------------------------------------------\n",
      "+------+-------+-----------+-------+------+--------+-----------+\n",
      "|Window|station|temperature|station|window|avg_temp|stddev_temp|\n",
      "+------+-------+-----------+-------+------+--------+-----------+\n",
      "+------+-------+-----------+-------+------+--------+-----------+\n",
      "\n"
     ]
    },
    {
     "name": "stderr",
     "output_type": "stream",
     "text": [
      "23/04/12 17:22:26 WARN ProcessingTimeExecutor: Current batch is falling behind. The trigger interval is 10000 milliseconds, but spent 247349 milliseconds\n",
      "                                                                                \r"
     ]
    },
    {
     "name": "stdout",
     "output_type": "stream",
     "text": [
      "-------------------------------------------\n",
      "Batch: 116\n",
      "-------------------------------------------\n"
     ]
    },
    {
     "name": "stderr",
     "output_type": "stream",
     "text": [
      "[Stage 1358:(4 + 2) / 200][Stage 1360:> (0 + 0) / 2][Stage 1361:> (0 + 0) / 2]\r"
     ]
    },
    {
     "name": "stdout",
     "output_type": "stream",
     "text": [
      "+------------------------------------------+-------+-----------+-------+------------------------------------------+--------+-----------+\n",
      "|Window                                    |station|temperature|station|window                                    |avg_temp|stddev_temp|\n",
      "+------------------------------------------+-------+-----------+-------+------------------------------------------+--------+-----------+\n",
      "|[2013-01-01 22:00:00, 2013-01-02 00:00:00]|RUT    |14.0       |RUT    |[2012-12-29 00:00:00, 2013-01-05 00:00:00]|30.2    |0.0        |\n",
      "|[2013-01-01 22:00:00, 2013-01-02 00:00:00]|RUT    |14.0       |RUT    |[2013-01-01 00:00:00, 2013-01-08 00:00:00]|30.2    |0.0        |\n",
      "|[2013-01-01 22:00:00, 2013-01-02 00:00:00]|RUT    |14.0       |RUT    |[2012-12-28 00:00:00, 2013-01-04 00:00:00]|30.2    |0.0        |\n",
      "|[2013-01-01 22:00:00, 2013-01-02 00:00:00]|RUT    |14.0       |RUT    |[2012-12-31 00:00:00, 2013-01-07 00:00:00]|30.2    |0.0        |\n",
      "|[2013-01-01 22:00:00, 2013-01-02 00:00:00]|RUT    |14.0       |RUT    |[2012-12-26 00:00:00, 2013-01-02 00:00:00]|30.2    |0.0        |\n",
      "|[2013-01-01 22:00:00, 2013-01-02 00:00:00]|RUT    |14.0       |RUT    |[2012-12-30 00:00:00, 2013-01-06 00:00:00]|30.2    |0.0        |\n",
      "|[2013-01-01 22:00:00, 2013-01-02 00:00:00]|RUT    |14.0       |RUT    |[2012-12-27 00:00:00, 2013-01-03 00:00:00]|30.2    |0.0        |\n",
      "|[2013-01-01 22:00:00, 2013-01-02 00:00:00]|RUT    |14.0       |RUT    |[2012-12-29 00:00:00, 2013-01-05 00:00:00]|30.2    |0.0        |\n",
      "|[2013-01-01 22:00:00, 2013-01-02 00:00:00]|RUT    |14.0       |RUT    |[2013-01-01 00:00:00, 2013-01-08 00:00:00]|30.2    |0.0        |\n",
      "|[2013-01-01 22:00:00, 2013-01-02 00:00:00]|RUT    |14.0       |RUT    |[2012-12-28 00:00:00, 2013-01-04 00:00:00]|30.2    |0.0        |\n",
      "|[2013-01-01 22:00:00, 2013-01-02 00:00:00]|RUT    |14.0       |RUT    |[2012-12-31 00:00:00, 2013-01-07 00:00:00]|30.2    |0.0        |\n",
      "|[2013-01-01 22:00:00, 2013-01-02 00:00:00]|RUT    |14.0       |RUT    |[2012-12-26 00:00:00, 2013-01-02 00:00:00]|30.2    |0.0        |\n",
      "|[2013-01-01 22:00:00, 2013-01-02 00:00:00]|RUT    |14.0       |RUT    |[2012-12-30 00:00:00, 2013-01-06 00:00:00]|30.2    |0.0        |\n",
      "|[2013-01-01 22:00:00, 2013-01-02 00:00:00]|RUT    |14.0       |RUT    |[2012-12-27 00:00:00, 2013-01-03 00:00:00]|30.2    |0.0        |\n",
      "|[2013-01-01 22:00:00, 2013-01-02 00:00:00]|RUT    |14.0       |RUT    |[2012-12-29 00:00:00, 2013-01-05 00:00:00]|30.2    |0.0        |\n",
      "|[2013-01-01 22:00:00, 2013-01-02 00:00:00]|RUT    |14.0       |RUT    |[2013-01-01 00:00:00, 2013-01-08 00:00:00]|30.2    |0.0        |\n",
      "|[2013-01-01 22:00:00, 2013-01-02 00:00:00]|RUT    |14.0       |RUT    |[2012-12-28 00:00:00, 2013-01-04 00:00:00]|30.2    |0.0        |\n",
      "|[2013-01-01 22:00:00, 2013-01-02 00:00:00]|RUT    |14.0       |RUT    |[2012-12-31 00:00:00, 2013-01-07 00:00:00]|30.2    |0.0        |\n",
      "|[2013-01-01 22:00:00, 2013-01-02 00:00:00]|RUT    |14.0       |RUT    |[2012-12-26 00:00:00, 2013-01-02 00:00:00]|30.2    |0.0        |\n",
      "|[2013-01-01 22:00:00, 2013-01-02 00:00:00]|RUT    |14.0       |RUT    |[2012-12-30 00:00:00, 2013-01-06 00:00:00]|30.2    |0.0        |\n",
      "+------------------------------------------+-------+-----------+-------+------------------------------------------+--------+-----------+\n",
      "only showing top 20 rows\n",
      "\n"
     ]
    },
    {
     "name": "stderr",
     "output_type": "stream",
     "text": [
      "23/04/12 17:23:19 WARN ProcessingTimeExecutor: Current batch is falling behind. The trigger interval is 10000 milliseconds, but spent 335819 milliseconds\n",
      "                                                                                \r"
     ]
    },
    {
     "name": "stdout",
     "output_type": "stream",
     "text": [
      "-------------------------------------------\n",
      "Batch: 147\n",
      "-------------------------------------------\n"
     ]
    },
    {
     "name": "stderr",
     "output_type": "stream",
     "text": [
      "[Stage 1365:(0 + 2) / 200][Stage 1366:> (0 + 1) / 1][Stage 1368:> (0 + 0) / 1]\r"
     ]
    },
    {
     "name": "stdout",
     "output_type": "stream",
     "text": [
      "+------------------------------------------+-------+-----------+\n",
      "|Window                                    |station|temperature|\n",
      "+------------------------------------------+-------+-----------+\n",
      "|[2013-01-01 22:00:00, 2013-01-02 00:00:00]|RUT    |14.0       |\n",
      "|[2013-01-01 22:00:00, 2013-01-02 00:00:00]|RUT    |14.0       |\n",
      "|[2013-01-01 22:00:00, 2013-01-02 00:00:00]|RUT    |14.0       |\n",
      "|[2013-01-01 22:00:00, 2013-01-02 00:00:00]|RUT    |12.2       |\n",
      "|[2013-01-01 22:00:00, 2013-01-02 00:00:00]|RUT    |12.2       |\n",
      "|[2013-01-01 14:00:00, 2013-01-01 16:00:00]|VSF    |26.06      |\n",
      "|[2013-01-01 14:00:00, 2013-01-01 16:00:00]|VSF    |24.98      |\n",
      "|[2013-01-02 05:00:00, 2013-01-02 07:00:00]|FSO    |4.46       |\n",
      "|[2013-01-02 05:00:00, 2013-01-02 07:00:00]|FSO    |4.46       |\n",
      "|[2013-01-02 05:00:00, 2013-01-02 07:00:00]|FSO    |4.46       |\n",
      "|[2013-01-02 05:00:00, 2013-01-02 07:00:00]|FSO    |4.46       |\n",
      "|[2013-01-02 05:00:00, 2013-01-02 07:00:00]|FSO    |4.82       |\n",
      "|[2013-01-02 05:00:00, 2013-01-02 07:00:00]|FSO    |5.18       |\n",
      "|[2013-01-01 06:00:00, 2013-01-01 08:00:00]|RUT    |30.2       |\n",
      "|[2013-01-01 06:00:00, 2013-01-01 08:00:00]|RUT    |30.2       |\n",
      "|[2013-01-01 06:00:00, 2013-01-01 08:00:00]|RUT    |30.2       |\n",
      "|[2013-01-01 06:00:00, 2013-01-01 08:00:00]|RUT    |30.2       |\n",
      "|[2013-01-01 06:00:00, 2013-01-01 08:00:00]|RUT    |30.2       |\n",
      "|[2013-01-01 22:00:00, 2013-01-02 00:00:00]|FSO    |6.98       |\n",
      "|[2013-01-01 22:00:00, 2013-01-02 00:00:00]|FSO    |6.8        |\n",
      "+------------------------------------------+-------+-----------+\n",
      "only showing top 20 rows\n",
      "\n"
     ]
    },
    {
     "name": "stderr",
     "output_type": "stream",
     "text": [
      "23/04/12 17:24:20 WARN ProcessingTimeExecutor: Current batch is falling behind. The trigger interval is 10000 milliseconds, but spent 275898 milliseconds\n",
      "[Stage 1365:(179 + 2) / 200][Stage 1367:(0 + 0) / 200][Stage 1368:> (0 + 0) / 1]\r"
     ]
    }
   ],
   "source": [
    "df_with_zscore = comparison_df.withColumn('z_score', expr('(temperature - avg_temp) / stddev_temp'))"
   ]
  },
  {
   "cell_type": "code",
   "execution_count": 42,
   "metadata": {
    "collapsed": true,
    "jupyter": {
     "outputs_hidden": true
    }
   },
   "outputs": [
    {
     "name": "stderr",
     "output_type": "stream",
     "text": [
      "[Stage 869:(195 + 2) / 200][Stage 871:>  (0 + 0) / 1][Stage 873:>  (0 + 0) / 1]\r"
     ]
    },
    {
     "name": "stdout",
     "output_type": "stream",
     "text": [
      "-------------------------------------------\n",
      "Batch: 102\n",
      "-------------------------------------------\n",
      "+------------------------------------------+-------+-----------+\n",
      "|Window                                    |station|temperature|\n",
      "+------------------------------------------+-------+-----------+\n",
      "|[2013-01-01 14:00:00, 2013-01-01 16:00:00]|VSF    |26.06      |\n",
      "|[2013-01-01 14:00:00, 2013-01-01 16:00:00]|VSF    |24.98      |\n",
      "|[2013-01-01 06:00:00, 2013-01-01 08:00:00]|RUT    |30.2       |\n",
      "|[2013-01-01 06:00:00, 2013-01-01 08:00:00]|RUT    |30.2       |\n",
      "|[2013-01-01 06:00:00, 2013-01-01 08:00:00]|RUT    |30.2       |\n",
      "|[2013-01-01 06:00:00, 2013-01-01 08:00:00]|RUT    |30.2       |\n",
      "|[2013-01-01 06:00:00, 2013-01-01 08:00:00]|RUT    |30.2       |\n",
      "|[2013-01-01 19:00:00, 2013-01-01 21:00:00]|CDA    |14.0       |\n",
      "|[2013-01-01 19:00:00, 2013-01-01 21:00:00]|CDA    |14.36      |\n",
      "|[2013-01-01 18:00:00, 2013-01-01 20:00:00]|EFK    |12.02      |\n",
      "|[2013-01-01 18:00:00, 2013-01-01 20:00:00]|EFK    |12.2       |\n",
      "|[2013-01-01 18:00:00, 2013-01-01 20:00:00]|EFK    |12.02      |\n",
      "|[2013-01-01 18:00:00, 2013-01-01 20:00:00]|EFK    |11.84      |\n",
      "|[2013-01-01 18:00:00, 2013-01-01 20:00:00]|EFK    |11.84      |\n",
      "|[2013-01-01 18:00:00, 2013-01-01 20:00:00]|VSF    |24.08      |\n",
      "|[2013-01-01 18:00:00, 2013-01-01 20:00:00]|VSF    |21.92      |\n",
      "|[2013-01-01 19:00:00, 2013-01-01 21:00:00]|MVL    |14.0       |\n",
      "|[2013-01-01 06:00:00, 2013-01-01 08:00:00]|MVL    |30.2       |\n",
      "|[2013-01-01 06:00:00, 2013-01-01 08:00:00]|MVL    |30.2       |\n",
      "|[2013-01-01 06:00:00, 2013-01-01 08:00:00]|MVL    |32.0       |\n",
      "+------------------------------------------+-------+-----------+\n",
      "only showing top 20 rows\n",
      "\n"
     ]
    },
    {
     "name": "stderr",
     "output_type": "stream",
     "text": [
      "23/04/12 16:56:36 WARN ProcessingTimeExecutor: Current batch is falling behind. The trigger interval is 10000 milliseconds, but spent 21160 milliseconds\n"
     ]
    }
   ],
   "source": [
    "df_anomalous_requests = (df_with_zscore.filter(~isnan(col(\"z_score\")))\n",
    "                      .filter(\"z_score > 2 or z_score < -2\"))"
   ]
  },
  {
   "cell_type": "code",
   "execution_count": 43,
   "metadata": {
    "collapsed": true,
    "jupyter": {
     "outputs_hidden": true
    }
   },
   "outputs": [
    {
     "name": "stderr",
     "output_type": "stream",
     "text": [
      "23/04/12 16:56:37 WARN StreamingQueryManager: Temporary checkpoint location created which is deleted normally when the query didn't fail: /tmp/temporary-6b13bbb8-49f4-46fe-8e90-c7108d82b876. If it's required to delete it under any circumstances, please set spark.sql.streaming.forceDeleteTempCheckpointLocation to true. Important to know deleting temp checkpoint folder is best effort.\n",
      "                                                                                \r"
     ]
    },
    {
     "name": "stdout",
     "output_type": "stream",
     "text": [
      "-------------------------------------------\n",
      "Batch: 1\n",
      "-------------------------------------------\n",
      "+------------------------------------------+-------+-----------+---------------+-------------+-------+------------------------------------------+------------------+-------------------+\n",
      "|Window                                    |station|temperature|prev_week_start|prev_week_end|station|window                                    |avg_temp          |stddev_temp        |\n",
      "+------------------------------------------+-------+-----------+---------------+-------------+-------+------------------------------------------+------------------+-------------------+\n",
      "|[2013-01-01 19:00:00, 2013-01-01 21:00:00]|CDA    |14.0       |2012-12-25     |2012-12-31   |CDA    |[2012-12-26 00:00:00, 2013-01-02 00:00:00]|23.252            |0.5489262245511686 |\n",
      "|[2013-01-01 19:00:00, 2013-01-01 21:00:00]|CDA    |14.0       |2012-12-25     |2012-12-31   |CDA    |[2012-12-31 00:00:00, 2013-01-07 00:00:00]|23.252            |0.5489262245511686 |\n",
      "|[2013-01-01 19:00:00, 2013-01-01 21:00:00]|CDA    |14.0       |2012-12-25     |2012-12-31   |CDA    |[2012-12-28 00:00:00, 2013-01-04 00:00:00]|23.252            |0.5489262245511686 |\n",
      "|[2013-01-01 19:00:00, 2013-01-01 21:00:00]|CDA    |14.0       |2012-12-25     |2012-12-31   |CDA    |[2012-12-27 00:00:00, 2013-01-03 00:00:00]|23.252            |0.5489262245511686 |\n",
      "|[2013-01-01 19:00:00, 2013-01-01 21:00:00]|CDA    |14.0       |2012-12-25     |2012-12-31   |CDA    |[2012-12-30 00:00:00, 2013-01-06 00:00:00]|23.252            |0.5489262245511686 |\n",
      "|[2013-01-01 19:00:00, 2013-01-01 21:00:00]|CDA    |14.0       |2012-12-25     |2012-12-31   |CDA    |[2012-12-29 00:00:00, 2013-01-05 00:00:00]|23.252            |0.5489262245511686 |\n",
      "|[2013-01-01 19:00:00, 2013-01-01 21:00:00]|CDA    |14.36      |2012-12-25     |2012-12-31   |CDA    |[2012-12-26 00:00:00, 2013-01-02 00:00:00]|23.252            |0.5489262245511686 |\n",
      "|[2013-01-01 19:00:00, 2013-01-01 21:00:00]|CDA    |14.36      |2012-12-25     |2012-12-31   |CDA    |[2012-12-31 00:00:00, 2013-01-07 00:00:00]|23.252            |0.5489262245511686 |\n",
      "|[2013-01-01 19:00:00, 2013-01-01 21:00:00]|CDA    |14.36      |2012-12-25     |2012-12-31   |CDA    |[2012-12-28 00:00:00, 2013-01-04 00:00:00]|23.252            |0.5489262245511686 |\n",
      "|[2013-01-01 19:00:00, 2013-01-01 21:00:00]|CDA    |14.36      |2012-12-25     |2012-12-31   |CDA    |[2012-12-27 00:00:00, 2013-01-03 00:00:00]|23.252            |0.5489262245511686 |\n",
      "|[2013-01-01 19:00:00, 2013-01-01 21:00:00]|CDA    |14.36      |2012-12-25     |2012-12-31   |CDA    |[2012-12-30 00:00:00, 2013-01-06 00:00:00]|23.252            |0.5489262245511686 |\n",
      "|[2013-01-01 19:00:00, 2013-01-01 21:00:00]|CDA    |14.36      |2012-12-25     |2012-12-31   |CDA    |[2012-12-29 00:00:00, 2013-01-05 00:00:00]|23.252            |0.5489262245511686 |\n",
      "|[2013-01-01 18:00:00, 2013-01-01 20:00:00]|EFK    |11.84      |2012-12-25     |2012-12-31   |EFK    |[2012-12-31 00:00:00, 2013-01-07 00:00:00]|28.147999999999996|0.41439111959596653|\n",
      "|[2013-01-01 18:00:00, 2013-01-01 20:00:00]|EFK    |11.84      |2012-12-25     |2012-12-31   |EFK    |[2012-12-30 00:00:00, 2013-01-06 00:00:00]|28.147999999999996|0.41439111959596653|\n",
      "|[2013-01-01 18:00:00, 2013-01-01 20:00:00]|EFK    |11.84      |2012-12-25     |2012-12-31   |EFK    |[2012-12-27 00:00:00, 2013-01-03 00:00:00]|28.147999999999996|0.41439111959596653|\n",
      "|[2013-01-01 18:00:00, 2013-01-01 20:00:00]|EFK    |11.84      |2012-12-25     |2012-12-31   |EFK    |[2012-12-29 00:00:00, 2013-01-05 00:00:00]|28.147999999999996|0.41439111959596653|\n",
      "|[2013-01-01 18:00:00, 2013-01-01 20:00:00]|EFK    |11.84      |2012-12-25     |2012-12-31   |EFK    |[2012-12-26 00:00:00, 2013-01-02 00:00:00]|28.147999999999996|0.41439111959596653|\n",
      "|[2013-01-01 18:00:00, 2013-01-01 20:00:00]|EFK    |11.84      |2012-12-25     |2012-12-31   |EFK    |[2012-12-28 00:00:00, 2013-01-04 00:00:00]|28.147999999999996|0.41439111959596653|\n",
      "|[2013-01-01 18:00:00, 2013-01-01 20:00:00]|MPV    |12.92      |2012-12-25     |2012-12-31   |MPV    |[2012-12-29 00:00:00, 2013-01-05 00:00:00]|28.445            |0.37107950630559094|\n",
      "|[2013-01-01 18:00:00, 2013-01-01 20:00:00]|MPV    |12.92      |2012-12-25     |2012-12-31   |MPV    |[2012-12-27 00:00:00, 2013-01-03 00:00:00]|28.445            |0.37107950630559094|\n",
      "+------------------------------------------+-------+-----------+---------------+-------------+-------+------------------------------------------+------------------+-------------------+\n",
      "only showing top 20 rows\n",
      "\n"
     ]
    },
    {
     "name": "stderr",
     "output_type": "stream",
     "text": [
      "23/04/12 16:56:44 WARN ProcessingTimeExecutor: Current batch is falling behind. The trigger interval is 10000 milliseconds, but spent 35474 milliseconds\n",
      "                                                                                \r"
     ]
    },
    {
     "name": "stdout",
     "output_type": "stream",
     "text": [
      "-------------------------------------------\n",
      "Batch: 74\n",
      "-------------------------------------------\n"
     ]
    },
    {
     "name": "stderr",
     "output_type": "stream",
     "text": [
      "23/04/12 16:56:53 WARN ProcessingTimeExecutor: Current batch is falling behind. The trigger interval is 10000 milliseconds, but spent 30391 milliseconds\n",
      "[Stage 879:(14 + 2) / 200][Stage 882:>  (0 + 0) / 2][Stage 883:>  (0 + 0) / 2]\r"
     ]
    },
    {
     "name": "stdout",
     "output_type": "stream",
     "text": [
      "+------------------------------------------+-------+-----------+-------+------------------------------------------+--------+-----------+\n",
      "|Window                                    |station|temperature|station|window                                    |avg_temp|stddev_temp|\n",
      "+------------------------------------------+-------+-----------+-------+------------------------------------------+--------+-----------+\n",
      "|[2013-01-01 14:00:00, 2013-01-01 16:00:00]|VSF    |26.06      |VSF    |[2012-12-30 00:00:00, 2013-01-06 00:00:00]|32.0    |0.0        |\n",
      "|[2013-01-01 14:00:00, 2013-01-01 16:00:00]|VSF    |26.06      |VSF    |[2012-12-28 00:00:00, 2013-01-04 00:00:00]|32.0    |0.0        |\n",
      "|[2013-01-01 14:00:00, 2013-01-01 16:00:00]|VSF    |26.06      |VSF    |[2012-12-29 00:00:00, 2013-01-05 00:00:00]|32.0    |0.0        |\n",
      "|[2013-01-01 14:00:00, 2013-01-01 16:00:00]|VSF    |26.06      |VSF    |[2013-01-01 00:00:00, 2013-01-08 00:00:00]|32.0    |0.0        |\n",
      "|[2013-01-01 14:00:00, 2013-01-01 16:00:00]|VSF    |26.06      |VSF    |[2012-12-26 00:00:00, 2013-01-02 00:00:00]|32.0    |0.0        |\n",
      "|[2013-01-01 14:00:00, 2013-01-01 16:00:00]|VSF    |26.06      |VSF    |[2012-12-27 00:00:00, 2013-01-03 00:00:00]|32.0    |0.0        |\n",
      "|[2013-01-01 14:00:00, 2013-01-01 16:00:00]|VSF    |26.06      |VSF    |[2012-12-31 00:00:00, 2013-01-07 00:00:00]|32.0    |0.0        |\n",
      "|[2013-01-01 14:00:00, 2013-01-01 16:00:00]|VSF    |24.98      |VSF    |[2012-12-30 00:00:00, 2013-01-06 00:00:00]|32.0    |0.0        |\n",
      "|[2013-01-01 14:00:00, 2013-01-01 16:00:00]|VSF    |24.98      |VSF    |[2012-12-28 00:00:00, 2013-01-04 00:00:00]|32.0    |0.0        |\n",
      "|[2013-01-01 14:00:00, 2013-01-01 16:00:00]|VSF    |24.98      |VSF    |[2012-12-29 00:00:00, 2013-01-05 00:00:00]|32.0    |0.0        |\n",
      "|[2013-01-01 14:00:00, 2013-01-01 16:00:00]|VSF    |24.98      |VSF    |[2013-01-01 00:00:00, 2013-01-08 00:00:00]|32.0    |0.0        |\n",
      "|[2013-01-01 14:00:00, 2013-01-01 16:00:00]|VSF    |24.98      |VSF    |[2012-12-26 00:00:00, 2013-01-02 00:00:00]|32.0    |0.0        |\n",
      "|[2013-01-01 14:00:00, 2013-01-01 16:00:00]|VSF    |24.98      |VSF    |[2012-12-27 00:00:00, 2013-01-03 00:00:00]|32.0    |0.0        |\n",
      "|[2013-01-01 14:00:00, 2013-01-01 16:00:00]|VSF    |24.98      |VSF    |[2012-12-31 00:00:00, 2013-01-07 00:00:00]|32.0    |0.0        |\n",
      "|[2013-01-01 06:00:00, 2013-01-01 08:00:00]|RUT    |30.2       |RUT    |[2012-12-29 00:00:00, 2013-01-05 00:00:00]|30.2    |0.0        |\n",
      "|[2013-01-01 06:00:00, 2013-01-01 08:00:00]|RUT    |30.2       |RUT    |[2013-01-01 00:00:00, 2013-01-08 00:00:00]|30.2    |0.0        |\n",
      "|[2013-01-01 06:00:00, 2013-01-01 08:00:00]|RUT    |30.2       |RUT    |[2012-12-28 00:00:00, 2013-01-04 00:00:00]|30.2    |0.0        |\n",
      "|[2013-01-01 06:00:00, 2013-01-01 08:00:00]|RUT    |30.2       |RUT    |[2012-12-31 00:00:00, 2013-01-07 00:00:00]|30.2    |0.0        |\n",
      "|[2013-01-01 06:00:00, 2013-01-01 08:00:00]|RUT    |30.2       |RUT    |[2012-12-26 00:00:00, 2013-01-02 00:00:00]|30.2    |0.0        |\n",
      "|[2013-01-01 06:00:00, 2013-01-01 08:00:00]|RUT    |30.2       |RUT    |[2012-12-30 00:00:00, 2013-01-06 00:00:00]|30.2    |0.0        |\n",
      "+------------------------------------------+-------+-----------+-------+------------------------------------------+--------+-----------+\n",
      "only showing top 20 rows\n",
      "\n"
     ]
    },
    {
     "name": "stderr",
     "output_type": "stream",
     "text": [
      "23/04/12 16:56:58 WARN ProcessingTimeExecutor: Current batch is falling behind. The trigger interval is 10000 milliseconds, but spent 28721 milliseconds\n"
     ]
    },
    {
     "name": "stdout",
     "output_type": "stream",
     "text": [
      "-------------------------------------------\n",
      "Batch: 40\n",
      "-------------------------------------------\n",
      "+------+-------+-----------+-------+------+--------+-----------+\n",
      "|Window|station|temperature|station|window|avg_temp|stddev_temp|\n",
      "+------+-------+-----------+-------+------+--------+-----------+\n",
      "+------+-------+-----------+-------+------+--------+-----------+\n",
      "\n"
     ]
    },
    {
     "name": "stderr",
     "output_type": "stream",
     "text": [
      "                                                                                \r"
     ]
    },
    {
     "name": "stdout",
     "output_type": "stream",
     "text": [
      "-------------------------------------------\n",
      "Batch: 103\n",
      "-------------------------------------------\n",
      "+------------------------------------------+-------+-----------+\n",
      "|Window                                    |station|temperature|\n",
      "+------------------------------------------+-------+-----------+\n",
      "|[2013-01-01 14:00:00, 2013-01-01 16:00:00]|VSF    |26.06      |\n",
      "|[2013-01-01 14:00:00, 2013-01-01 16:00:00]|VSF    |24.98      |\n",
      "|[2013-01-01 06:00:00, 2013-01-01 08:00:00]|RUT    |30.2       |\n",
      "|[2013-01-01 06:00:00, 2013-01-01 08:00:00]|RUT    |30.2       |\n",
      "|[2013-01-01 06:00:00, 2013-01-01 08:00:00]|RUT    |30.2       |\n",
      "|[2013-01-01 06:00:00, 2013-01-01 08:00:00]|RUT    |30.2       |\n",
      "|[2013-01-01 06:00:00, 2013-01-01 08:00:00]|RUT    |30.2       |\n",
      "|[2013-01-01 19:00:00, 2013-01-01 21:00:00]|CDA    |14.0       |\n",
      "|[2013-01-01 19:00:00, 2013-01-01 21:00:00]|CDA    |14.36      |\n",
      "|[2013-01-01 19:00:00, 2013-01-01 21:00:00]|BTV    |17.06      |\n",
      "|[2013-01-01 18:00:00, 2013-01-01 20:00:00]|EFK    |12.02      |\n",
      "|[2013-01-01 18:00:00, 2013-01-01 20:00:00]|EFK    |12.2       |\n",
      "|[2013-01-01 18:00:00, 2013-01-01 20:00:00]|EFK    |12.02      |\n",
      "|[2013-01-01 18:00:00, 2013-01-01 20:00:00]|EFK    |11.84      |\n",
      "|[2013-01-01 18:00:00, 2013-01-01 20:00:00]|EFK    |11.84      |\n",
      "|[2013-01-01 18:00:00, 2013-01-01 20:00:00]|EFK    |11.12      |\n",
      "|[2013-01-01 18:00:00, 2013-01-01 20:00:00]|VSF    |24.08      |\n",
      "|[2013-01-01 18:00:00, 2013-01-01 20:00:00]|VSF    |21.92      |\n",
      "|[2013-01-01 19:00:00, 2013-01-01 21:00:00]|MVL    |14.0       |\n",
      "|[2013-01-01 06:00:00, 2013-01-01 08:00:00]|MVL    |30.2       |\n",
      "+------------------------------------------+-------+-----------+\n",
      "only showing top 20 rows\n",
      "\n"
     ]
    },
    {
     "name": "stderr",
     "output_type": "stream",
     "text": [
      "23/04/12 16:57:04 WARN ProcessingTimeExecutor: Current batch is falling behind. The trigger interval is 10000 milliseconds, but spent 27526 milliseconds\n",
      "                                                                                \r"
     ]
    },
    {
     "name": "stdout",
     "output_type": "stream",
     "text": [
      "-------------------------------------------\n",
      "Batch: 75\n",
      "-------------------------------------------\n",
      "+------------------------------------------+-------+-----------+-------+------------------------------------------+--------+-----------+\n",
      "|Window                                    |station|temperature|station|window                                    |avg_temp|stddev_temp|\n",
      "+------------------------------------------+-------+-----------+-------+------------------------------------------+--------+-----------+\n",
      "|[2013-01-01 14:00:00, 2013-01-01 16:00:00]|VSF    |26.06      |VSF    |[2012-12-30 00:00:00, 2013-01-06 00:00:00]|32.0    |0.0        |\n",
      "|[2013-01-01 14:00:00, 2013-01-01 16:00:00]|VSF    |26.06      |VSF    |[2012-12-28 00:00:00, 2013-01-04 00:00:00]|32.0    |0.0        |\n",
      "|[2013-01-01 14:00:00, 2013-01-01 16:00:00]|VSF    |26.06      |VSF    |[2012-12-29 00:00:00, 2013-01-05 00:00:00]|32.0    |0.0        |\n",
      "|[2013-01-01 14:00:00, 2013-01-01 16:00:00]|VSF    |26.06      |VSF    |[2013-01-01 00:00:00, 2013-01-08 00:00:00]|32.0    |0.0        |\n",
      "|[2013-01-01 14:00:00, 2013-01-01 16:00:00]|VSF    |26.06      |VSF    |[2012-12-26 00:00:00, 2013-01-02 00:00:00]|32.0    |0.0        |\n",
      "|[2013-01-01 14:00:00, 2013-01-01 16:00:00]|VSF    |26.06      |VSF    |[2012-12-27 00:00:00, 2013-01-03 00:00:00]|32.0    |0.0        |\n",
      "|[2013-01-01 14:00:00, 2013-01-01 16:00:00]|VSF    |26.06      |VSF    |[2012-12-31 00:00:00, 2013-01-07 00:00:00]|32.0    |0.0        |\n",
      "|[2013-01-01 14:00:00, 2013-01-01 16:00:00]|VSF    |24.98      |VSF    |[2012-12-30 00:00:00, 2013-01-06 00:00:00]|32.0    |0.0        |\n",
      "|[2013-01-01 14:00:00, 2013-01-01 16:00:00]|VSF    |24.98      |VSF    |[2012-12-28 00:00:00, 2013-01-04 00:00:00]|32.0    |0.0        |\n",
      "|[2013-01-01 14:00:00, 2013-01-01 16:00:00]|VSF    |24.98      |VSF    |[2012-12-29 00:00:00, 2013-01-05 00:00:00]|32.0    |0.0        |\n",
      "|[2013-01-01 14:00:00, 2013-01-01 16:00:00]|VSF    |24.98      |VSF    |[2013-01-01 00:00:00, 2013-01-08 00:00:00]|32.0    |0.0        |\n",
      "|[2013-01-01 14:00:00, 2013-01-01 16:00:00]|VSF    |24.98      |VSF    |[2012-12-26 00:00:00, 2013-01-02 00:00:00]|32.0    |0.0        |\n",
      "|[2013-01-01 14:00:00, 2013-01-01 16:00:00]|VSF    |24.98      |VSF    |[2012-12-27 00:00:00, 2013-01-03 00:00:00]|32.0    |0.0        |\n",
      "|[2013-01-01 14:00:00, 2013-01-01 16:00:00]|VSF    |24.98      |VSF    |[2012-12-31 00:00:00, 2013-01-07 00:00:00]|32.0    |0.0        |\n",
      "|[2013-01-01 06:00:00, 2013-01-01 08:00:00]|RUT    |30.2       |RUT    |[2012-12-29 00:00:00, 2013-01-05 00:00:00]|30.2    |0.0        |\n",
      "|[2013-01-01 06:00:00, 2013-01-01 08:00:00]|RUT    |30.2       |RUT    |[2013-01-01 00:00:00, 2013-01-08 00:00:00]|30.2    |0.0        |\n",
      "|[2013-01-01 06:00:00, 2013-01-01 08:00:00]|RUT    |30.2       |RUT    |[2012-12-28 00:00:00, 2013-01-04 00:00:00]|30.2    |0.0        |\n",
      "|[2013-01-01 06:00:00, 2013-01-01 08:00:00]|RUT    |30.2       |RUT    |[2012-12-31 00:00:00, 2013-01-07 00:00:00]|30.2    |0.0        |\n",
      "|[2013-01-01 06:00:00, 2013-01-01 08:00:00]|RUT    |30.2       |RUT    |[2012-12-26 00:00:00, 2013-01-02 00:00:00]|30.2    |0.0        |\n",
      "|[2013-01-01 06:00:00, 2013-01-01 08:00:00]|RUT    |30.2       |RUT    |[2012-12-30 00:00:00, 2013-01-06 00:00:00]|30.2    |0.0        |\n",
      "+------------------------------------------+-------+-----------+-------+------------------------------------------+--------+-----------+\n",
      "only showing top 20 rows\n",
      "\n"
     ]
    },
    {
     "name": "stderr",
     "output_type": "stream",
     "text": [
      "23/04/12 16:57:11 WARN ProcessingTimeExecutor: Current batch is falling behind. The trigger interval is 10000 milliseconds, but spent 18400 milliseconds\n",
      "23/04/12 16:57:18 WARN ProcessingTimeExecutor: Current batch is falling behind. The trigger interval is 10000 milliseconds, but spent 34124 milliseconds\n"
     ]
    },
    {
     "name": "stdout",
     "output_type": "stream",
     "text": [
      "-------------------------------------------\n",
      "Batch: 2\n",
      "-------------------------------------------\n",
      "+------------------------------------------+-------+-----------+---------------+-------------+-------+------------------------------------------+--------+-------------------+\n",
      "|Window                                    |station|temperature|prev_week_start|prev_week_end|station|window                                    |avg_temp|stddev_temp        |\n",
      "+------------------------------------------+-------+-----------+---------------+-------------+-------+------------------------------------------+--------+-------------------+\n",
      "|[2013-01-01 19:00:00, 2013-01-01 21:00:00]|CDA    |14.0       |2012-12-25     |2012-12-31   |CDA    |[2012-12-26 00:00:00, 2013-01-02 00:00:00]|23.252  |0.5489262245511686 |\n",
      "|[2013-01-01 19:00:00, 2013-01-01 21:00:00]|CDA    |14.0       |2012-12-25     |2012-12-31   |CDA    |[2012-12-31 00:00:00, 2013-01-07 00:00:00]|23.252  |0.5489262245511686 |\n",
      "|[2013-01-01 19:00:00, 2013-01-01 21:00:00]|CDA    |14.0       |2012-12-25     |2012-12-31   |CDA    |[2012-12-28 00:00:00, 2013-01-04 00:00:00]|23.252  |0.5489262245511686 |\n",
      "|[2013-01-01 19:00:00, 2013-01-01 21:00:00]|CDA    |14.0       |2012-12-25     |2012-12-31   |CDA    |[2012-12-27 00:00:00, 2013-01-03 00:00:00]|23.252  |0.5489262245511686 |\n",
      "|[2013-01-01 19:00:00, 2013-01-01 21:00:00]|CDA    |14.0       |2012-12-25     |2012-12-31   |CDA    |[2012-12-30 00:00:00, 2013-01-06 00:00:00]|23.252  |0.5489262245511686 |\n",
      "|[2013-01-01 19:00:00, 2013-01-01 21:00:00]|CDA    |14.0       |2012-12-25     |2012-12-31   |CDA    |[2012-12-29 00:00:00, 2013-01-05 00:00:00]|23.252  |0.5489262245511686 |\n",
      "|[2013-01-01 19:00:00, 2013-01-01 21:00:00]|CDA    |14.36      |2012-12-25     |2012-12-31   |CDA    |[2012-12-26 00:00:00, 2013-01-02 00:00:00]|23.252  |0.5489262245511686 |\n",
      "|[2013-01-01 19:00:00, 2013-01-01 21:00:00]|CDA    |14.36      |2012-12-25     |2012-12-31   |CDA    |[2012-12-31 00:00:00, 2013-01-07 00:00:00]|23.252  |0.5489262245511686 |\n",
      "|[2013-01-01 19:00:00, 2013-01-01 21:00:00]|CDA    |14.36      |2012-12-25     |2012-12-31   |CDA    |[2012-12-28 00:00:00, 2013-01-04 00:00:00]|23.252  |0.5489262245511686 |\n",
      "|[2013-01-01 19:00:00, 2013-01-01 21:00:00]|CDA    |14.36      |2012-12-25     |2012-12-31   |CDA    |[2012-12-27 00:00:00, 2013-01-03 00:00:00]|23.252  |0.5489262245511686 |\n",
      "|[2013-01-01 19:00:00, 2013-01-01 21:00:00]|CDA    |14.36      |2012-12-25     |2012-12-31   |CDA    |[2012-12-30 00:00:00, 2013-01-06 00:00:00]|23.252  |0.5489262245511686 |\n",
      "|[2013-01-01 19:00:00, 2013-01-01 21:00:00]|CDA    |14.36      |2012-12-25     |2012-12-31   |CDA    |[2012-12-29 00:00:00, 2013-01-05 00:00:00]|23.252  |0.5489262245511686 |\n",
      "|[2013-01-01 19:00:00, 2013-01-01 21:00:00]|CDA    |13.64      |2012-12-25     |2012-12-31   |CDA    |[2012-12-26 00:00:00, 2013-01-02 00:00:00]|23.252  |0.5489262245511686 |\n",
      "|[2013-01-01 19:00:00, 2013-01-01 21:00:00]|CDA    |13.64      |2012-12-25     |2012-12-31   |CDA    |[2012-12-31 00:00:00, 2013-01-07 00:00:00]|23.252  |0.5489262245511686 |\n",
      "|[2013-01-01 19:00:00, 2013-01-01 21:00:00]|CDA    |13.64      |2012-12-25     |2012-12-31   |CDA    |[2012-12-28 00:00:00, 2013-01-04 00:00:00]|23.252  |0.5489262245511686 |\n",
      "|[2013-01-01 19:00:00, 2013-01-01 21:00:00]|CDA    |13.64      |2012-12-25     |2012-12-31   |CDA    |[2012-12-27 00:00:00, 2013-01-03 00:00:00]|23.252  |0.5489262245511686 |\n",
      "|[2013-01-01 19:00:00, 2013-01-01 21:00:00]|CDA    |13.64      |2012-12-25     |2012-12-31   |CDA    |[2012-12-30 00:00:00, 2013-01-06 00:00:00]|23.252  |0.5489262245511686 |\n",
      "|[2013-01-01 19:00:00, 2013-01-01 21:00:00]|CDA    |13.64      |2012-12-25     |2012-12-31   |CDA    |[2012-12-29 00:00:00, 2013-01-05 00:00:00]|23.252  |0.5489262245511686 |\n",
      "|[2013-01-01 19:00:00, 2013-01-01 21:00:00]|BTV    |17.06      |2012-12-25     |2012-12-31   |BTV    |[2012-12-26 00:00:00, 2013-01-02 00:00:00]|30.11   |0.12727922061357835|\n",
      "|[2013-01-01 19:00:00, 2013-01-01 21:00:00]|BTV    |17.06      |2012-12-25     |2012-12-31   |BTV    |[2012-12-29 00:00:00, 2013-01-05 00:00:00]|30.11   |0.12727922061357835|\n",
      "+------------------------------------------+-------+-----------+---------------+-------------+-------+------------------------------------------+--------+-------------------+\n",
      "only showing top 20 rows\n",
      "\n"
     ]
    },
    {
     "name": "stderr",
     "output_type": "stream",
     "text": [
      "                                                                                \r"
     ]
    },
    {
     "name": "stdout",
     "output_type": "stream",
     "text": [
      "-------------------------------------------\n",
      "Batch: 41\n",
      "-------------------------------------------\n",
      "+------+-------+-----------+-------+------+--------+-----------+\n",
      "|Window|station|temperature|station|window|avg_temp|stddev_temp|\n",
      "+------+-------+-----------+-------+------+--------+-----------+\n",
      "+------+-------+-----------+-------+------+--------+-----------+\n",
      "\n"
     ]
    },
    {
     "name": "stderr",
     "output_type": "stream",
     "text": [
      "23/04/12 16:57:25 WARN ProcessingTimeExecutor: Current batch is falling behind. The trigger interval is 10000 milliseconds, but spent 26346 milliseconds\n",
      "[Stage 895:(194 + 2) / 200][Stage 896:>  (0 + 0) / 1][Stage 898:>  (0 + 0) / 2]\r"
     ]
    },
    {
     "name": "stdout",
     "output_type": "stream",
     "text": [
      "-------------------------------------------\n",
      "Batch: 0\n",
      "-------------------------------------------\n"
     ]
    },
    {
     "name": "stderr",
     "output_type": "stream",
     "text": [
      "                                                                                \r"
     ]
    },
    {
     "name": "stdout",
     "output_type": "stream",
     "text": [
      "+------+-------+-----------+---------------+-------------+-------+------+--------+-----------+-------+\n",
      "|Window|station|temperature|prev_week_start|prev_week_end|station|window|avg_temp|stddev_temp|z_score|\n",
      "+------+-------+-----------+---------------+-------------+-------+------+--------+-----------+-------+\n",
      "+------+-------+-----------+---------------+-------------+-------+------+--------+-----------+-------+\n",
      "\n"
     ]
    },
    {
     "name": "stderr",
     "output_type": "stream",
     "text": [
      "23/04/12 16:57:33 WARN ProcessingTimeExecutor: Current batch is falling behind. The trigger interval is 10000 milliseconds, but spent 55698 milliseconds\n",
      "23/04/12 16:57:39 WARN ProcessingTimeExecutor: Current batch is falling behind. The trigger interval is 10000 milliseconds, but spent 35428 milliseconds\n"
     ]
    },
    {
     "name": "stdout",
     "output_type": "stream",
     "text": [
      "-------------------------------------------\n",
      "Batch: 104\n",
      "-------------------------------------------\n",
      "+------------------------------------------+-------+-----------+\n",
      "|Window                                    |station|temperature|\n",
      "+------------------------------------------+-------+-----------+\n",
      "|[2013-01-01 14:00:00, 2013-01-01 16:00:00]|VSF    |26.06      |\n",
      "|[2013-01-01 14:00:00, 2013-01-01 16:00:00]|VSF    |24.98      |\n",
      "|[2013-01-01 06:00:00, 2013-01-01 08:00:00]|RUT    |30.2       |\n",
      "|[2013-01-01 06:00:00, 2013-01-01 08:00:00]|RUT    |30.2       |\n",
      "|[2013-01-01 06:00:00, 2013-01-01 08:00:00]|RUT    |30.2       |\n",
      "|[2013-01-01 06:00:00, 2013-01-01 08:00:00]|RUT    |30.2       |\n",
      "|[2013-01-01 06:00:00, 2013-01-01 08:00:00]|RUT    |30.2       |\n",
      "|[2013-01-01 19:00:00, 2013-01-01 21:00:00]|CDA    |14.0       |\n",
      "|[2013-01-01 19:00:00, 2013-01-01 21:00:00]|CDA    |14.36      |\n",
      "|[2013-01-01 19:00:00, 2013-01-01 21:00:00]|CDA    |13.64      |\n",
      "|[2013-01-01 19:00:00, 2013-01-01 21:00:00]|CDA    |12.92      |\n",
      "|[2013-01-01 19:00:00, 2013-01-01 21:00:00]|BTV    |17.06      |\n",
      "|[2013-01-01 18:00:00, 2013-01-01 20:00:00]|EFK    |12.02      |\n",
      "|[2013-01-01 18:00:00, 2013-01-01 20:00:00]|EFK    |12.2       |\n",
      "|[2013-01-01 18:00:00, 2013-01-01 20:00:00]|EFK    |12.02      |\n",
      "|[2013-01-01 18:00:00, 2013-01-01 20:00:00]|EFK    |11.84      |\n",
      "|[2013-01-01 18:00:00, 2013-01-01 20:00:00]|EFK    |11.84      |\n",
      "|[2013-01-01 18:00:00, 2013-01-01 20:00:00]|EFK    |11.12      |\n",
      "|[2013-01-01 18:00:00, 2013-01-01 20:00:00]|VSF    |24.08      |\n",
      "|[2013-01-01 18:00:00, 2013-01-01 20:00:00]|VSF    |21.92      |\n",
      "+------------------------------------------+-------+-----------+\n",
      "only showing top 20 rows\n",
      "\n"
     ]
    },
    {
     "name": "stderr",
     "output_type": "stream",
     "text": [
      "                                                                                \r"
     ]
    },
    {
     "name": "stdout",
     "output_type": "stream",
     "text": [
      "-------------------------------------------\n",
      "Batch: 76\n",
      "-------------------------------------------\n",
      "+------------------------------------------+-------+-----------+-------+------------------------------------------+--------+-----------+\n",
      "|Window                                    |station|temperature|station|window                                    |avg_temp|stddev_temp|\n",
      "+------------------------------------------+-------+-----------+-------+------------------------------------------+--------+-----------+\n",
      "|[2013-01-01 14:00:00, 2013-01-01 16:00:00]|VSF    |26.06      |VSF    |[2012-12-30 00:00:00, 2013-01-06 00:00:00]|32.0    |0.0        |\n",
      "|[2013-01-01 14:00:00, 2013-01-01 16:00:00]|VSF    |26.06      |VSF    |[2012-12-28 00:00:00, 2013-01-04 00:00:00]|32.0    |0.0        |\n",
      "|[2013-01-01 14:00:00, 2013-01-01 16:00:00]|VSF    |26.06      |VSF    |[2012-12-29 00:00:00, 2013-01-05 00:00:00]|32.0    |0.0        |\n",
      "|[2013-01-01 14:00:00, 2013-01-01 16:00:00]|VSF    |26.06      |VSF    |[2013-01-01 00:00:00, 2013-01-08 00:00:00]|32.0    |0.0        |\n",
      "|[2013-01-01 14:00:00, 2013-01-01 16:00:00]|VSF    |26.06      |VSF    |[2012-12-26 00:00:00, 2013-01-02 00:00:00]|32.0    |0.0        |\n",
      "|[2013-01-01 14:00:00, 2013-01-01 16:00:00]|VSF    |26.06      |VSF    |[2012-12-27 00:00:00, 2013-01-03 00:00:00]|32.0    |0.0        |\n",
      "|[2013-01-01 14:00:00, 2013-01-01 16:00:00]|VSF    |26.06      |VSF    |[2012-12-31 00:00:00, 2013-01-07 00:00:00]|32.0    |0.0        |\n",
      "|[2013-01-01 14:00:00, 2013-01-01 16:00:00]|VSF    |24.98      |VSF    |[2012-12-30 00:00:00, 2013-01-06 00:00:00]|32.0    |0.0        |\n",
      "|[2013-01-01 14:00:00, 2013-01-01 16:00:00]|VSF    |24.98      |VSF    |[2012-12-28 00:00:00, 2013-01-04 00:00:00]|32.0    |0.0        |\n",
      "|[2013-01-01 14:00:00, 2013-01-01 16:00:00]|VSF    |24.98      |VSF    |[2012-12-29 00:00:00, 2013-01-05 00:00:00]|32.0    |0.0        |\n",
      "|[2013-01-01 14:00:00, 2013-01-01 16:00:00]|VSF    |24.98      |VSF    |[2013-01-01 00:00:00, 2013-01-08 00:00:00]|32.0    |0.0        |\n",
      "|[2013-01-01 14:00:00, 2013-01-01 16:00:00]|VSF    |24.98      |VSF    |[2012-12-26 00:00:00, 2013-01-02 00:00:00]|32.0    |0.0        |\n",
      "|[2013-01-01 14:00:00, 2013-01-01 16:00:00]|VSF    |24.98      |VSF    |[2012-12-27 00:00:00, 2013-01-03 00:00:00]|32.0    |0.0        |\n",
      "|[2013-01-01 14:00:00, 2013-01-01 16:00:00]|VSF    |24.98      |VSF    |[2012-12-31 00:00:00, 2013-01-07 00:00:00]|32.0    |0.0        |\n",
      "|[2013-01-01 06:00:00, 2013-01-01 08:00:00]|RUT    |30.2       |RUT    |[2012-12-29 00:00:00, 2013-01-05 00:00:00]|30.2    |0.0        |\n",
      "|[2013-01-01 06:00:00, 2013-01-01 08:00:00]|RUT    |30.2       |RUT    |[2013-01-01 00:00:00, 2013-01-08 00:00:00]|30.2    |0.0        |\n",
      "|[2013-01-01 06:00:00, 2013-01-01 08:00:00]|RUT    |30.2       |RUT    |[2012-12-28 00:00:00, 2013-01-04 00:00:00]|30.2    |0.0        |\n",
      "|[2013-01-01 06:00:00, 2013-01-01 08:00:00]|RUT    |30.2       |RUT    |[2012-12-31 00:00:00, 2013-01-07 00:00:00]|30.2    |0.0        |\n",
      "|[2013-01-01 06:00:00, 2013-01-01 08:00:00]|RUT    |30.2       |RUT    |[2012-12-26 00:00:00, 2013-01-02 00:00:00]|30.2    |0.0        |\n",
      "|[2013-01-01 06:00:00, 2013-01-01 08:00:00]|RUT    |30.2       |RUT    |[2012-12-30 00:00:00, 2013-01-06 00:00:00]|30.2    |0.0        |\n",
      "+------------------------------------------+-------+-----------+-------+------------------------------------------+--------+-----------+\n",
      "only showing top 20 rows\n",
      "\n"
     ]
    },
    {
     "name": "stderr",
     "output_type": "stream",
     "text": [
      "23/04/12 16:57:49 WARN ProcessingTimeExecutor: Current batch is falling behind. The trigger interval is 10000 milliseconds, but spent 37547 milliseconds\n",
      "[Stage 905:(199 + 1) / 200][Stage 907:>(0 + 2) / 200][Stage 908:>  (0 + 0) / 1]\r"
     ]
    },
    {
     "name": "stdout",
     "output_type": "stream",
     "text": [
      "-------------------------------------------\n",
      "Batch: 3\n",
      "-------------------------------------------\n",
      "+------------------------------------------+-------+-----------+---------------+-------------+-------+------------------------------------------+--------+------------------+\n",
      "|Window                                    |station|temperature|prev_week_start|prev_week_end|station|window                                    |avg_temp|stddev_temp       |\n",
      "+------------------------------------------+-------+-----------+---------------+-------------+-------+------------------------------------------+--------+------------------+\n",
      "|[2013-01-01 19:00:00, 2013-01-01 21:00:00]|CDA    |14.0       |2012-12-25     |2012-12-31   |CDA    |[2012-12-26 00:00:00, 2013-01-02 00:00:00]|23.252  |0.5489262245511686|\n",
      "|[2013-01-01 19:00:00, 2013-01-01 21:00:00]|CDA    |14.0       |2012-12-25     |2012-12-31   |CDA    |[2012-12-31 00:00:00, 2013-01-07 00:00:00]|23.252  |0.5489262245511686|\n",
      "|[2013-01-01 19:00:00, 2013-01-01 21:00:00]|CDA    |14.0       |2012-12-25     |2012-12-31   |CDA    |[2012-12-28 00:00:00, 2013-01-04 00:00:00]|23.252  |0.5489262245511686|\n",
      "|[2013-01-01 19:00:00, 2013-01-01 21:00:00]|CDA    |14.0       |2012-12-25     |2012-12-31   |CDA    |[2012-12-27 00:00:00, 2013-01-03 00:00:00]|23.252  |0.5489262245511686|\n",
      "|[2013-01-01 19:00:00, 2013-01-01 21:00:00]|CDA    |14.0       |2012-12-25     |2012-12-31   |CDA    |[2012-12-30 00:00:00, 2013-01-06 00:00:00]|23.252  |0.5489262245511686|\n",
      "|[2013-01-01 19:00:00, 2013-01-01 21:00:00]|CDA    |14.0       |2012-12-25     |2012-12-31   |CDA    |[2012-12-29 00:00:00, 2013-01-05 00:00:00]|23.252  |0.5489262245511686|\n",
      "|[2013-01-01 19:00:00, 2013-01-01 21:00:00]|CDA    |14.36      |2012-12-25     |2012-12-31   |CDA    |[2012-12-26 00:00:00, 2013-01-02 00:00:00]|23.252  |0.5489262245511686|\n",
      "|[2013-01-01 19:00:00, 2013-01-01 21:00:00]|CDA    |14.36      |2012-12-25     |2012-12-31   |CDA    |[2012-12-31 00:00:00, 2013-01-07 00:00:00]|23.252  |0.5489262245511686|\n",
      "|[2013-01-01 19:00:00, 2013-01-01 21:00:00]|CDA    |14.36      |2012-12-25     |2012-12-31   |CDA    |[2012-12-28 00:00:00, 2013-01-04 00:00:00]|23.252  |0.5489262245511686|\n",
      "|[2013-01-01 19:00:00, 2013-01-01 21:00:00]|CDA    |14.36      |2012-12-25     |2012-12-31   |CDA    |[2012-12-27 00:00:00, 2013-01-03 00:00:00]|23.252  |0.5489262245511686|\n",
      "|[2013-01-01 19:00:00, 2013-01-01 21:00:00]|CDA    |14.36      |2012-12-25     |2012-12-31   |CDA    |[2012-12-30 00:00:00, 2013-01-06 00:00:00]|23.252  |0.5489262245511686|\n",
      "|[2013-01-01 19:00:00, 2013-01-01 21:00:00]|CDA    |14.36      |2012-12-25     |2012-12-31   |CDA    |[2012-12-29 00:00:00, 2013-01-05 00:00:00]|23.252  |0.5489262245511686|\n",
      "|[2013-01-01 19:00:00, 2013-01-01 21:00:00]|CDA    |13.64      |2012-12-25     |2012-12-31   |CDA    |[2012-12-26 00:00:00, 2013-01-02 00:00:00]|23.252  |0.5489262245511686|\n",
      "|[2013-01-01 19:00:00, 2013-01-01 21:00:00]|CDA    |13.64      |2012-12-25     |2012-12-31   |CDA    |[2012-12-31 00:00:00, 2013-01-07 00:00:00]|23.252  |0.5489262245511686|\n",
      "|[2013-01-01 19:00:00, 2013-01-01 21:00:00]|CDA    |13.64      |2012-12-25     |2012-12-31   |CDA    |[2012-12-28 00:00:00, 2013-01-04 00:00:00]|23.252  |0.5489262245511686|\n",
      "|[2013-01-01 19:00:00, 2013-01-01 21:00:00]|CDA    |13.64      |2012-12-25     |2012-12-31   |CDA    |[2012-12-27 00:00:00, 2013-01-03 00:00:00]|23.252  |0.5489262245511686|\n",
      "|[2013-01-01 19:00:00, 2013-01-01 21:00:00]|CDA    |13.64      |2012-12-25     |2012-12-31   |CDA    |[2012-12-30 00:00:00, 2013-01-06 00:00:00]|23.252  |0.5489262245511686|\n",
      "|[2013-01-01 19:00:00, 2013-01-01 21:00:00]|CDA    |13.64      |2012-12-25     |2012-12-31   |CDA    |[2012-12-29 00:00:00, 2013-01-05 00:00:00]|23.252  |0.5489262245511686|\n",
      "|[2013-01-01 19:00:00, 2013-01-01 21:00:00]|CDA    |12.92      |2012-12-25     |2012-12-31   |CDA    |[2012-12-26 00:00:00, 2013-01-02 00:00:00]|23.252  |0.5489262245511686|\n",
      "|[2013-01-01 19:00:00, 2013-01-01 21:00:00]|CDA    |12.92      |2012-12-25     |2012-12-31   |CDA    |[2012-12-31 00:00:00, 2013-01-07 00:00:00]|23.252  |0.5489262245511686|\n",
      "+------------------------------------------+-------+-----------+---------------+-------------+-------+------------------------------------------+--------+------------------+\n",
      "only showing top 20 rows\n",
      "\n"
     ]
    },
    {
     "name": "stderr",
     "output_type": "stream",
     "text": [
      "23/04/12 16:57:56 WARN ProcessingTimeExecutor: Current batch is falling behind. The trigger interval is 10000 milliseconds, but spent 38087 milliseconds\n",
      "                                                                                \r"
     ]
    },
    {
     "name": "stdout",
     "output_type": "stream",
     "text": [
      "-------------------------------------------\n",
      "Batch: 42\n",
      "-------------------------------------------\n",
      "+------+-------+-----------+-------+------+--------+-----------+\n",
      "|Window|station|temperature|station|window|avg_temp|stddev_temp|\n",
      "+------+-------+-----------+-------+------+--------+-----------+\n",
      "+------+-------+-----------+-------+------+--------+-----------+\n",
      "\n"
     ]
    },
    {
     "name": "stderr",
     "output_type": "stream",
     "text": [
      "23/04/12 16:58:03 WARN ProcessingTimeExecutor: Current batch is falling behind. The trigger interval is 10000 milliseconds, but spent 38957 milliseconds\n",
      "[Stage 911:(28 + 2) / 200][Stage 913:=> (1 + 0) / 2][Stage 914:>  (0 + 0) / 1]2]\r"
     ]
    }
   ],
   "source": [
    "final_query= (df_anomalous_requests\n",
    "            .writeStream\n",
    "            .outputMode(\"complete\")\n",
    "            .format(\"console\")\n",
    "            .option(\"truncate\",'false')\n",
    "            .trigger(processingTime=\"10 seconds\")\n",
    "            .start())"
   ]
  },
  {
   "cell_type": "code",
   "execution_count": 47,
   "metadata": {
    "collapsed": true,
    "jupyter": {
     "outputs_hidden": true
    }
   },
   "outputs": [
    {
     "name": "stderr",
     "output_type": "stream",
     "text": [
      "                                                                                \r"
     ]
    },
    {
     "name": "stdout",
     "output_type": "stream",
     "text": [
      "-------------------------------------------\n",
      "Batch: 113\n",
      "-------------------------------------------\n",
      "+------------------------------------------+-------+-----------+\n",
      "|Window                                    |station|temperature|\n",
      "+------------------------------------------+-------+-----------+\n",
      "|[2013-01-01 22:00:00, 2013-01-02 00:00:00]|RUT    |14.0       |\n",
      "|[2013-01-01 22:00:00, 2013-01-02 00:00:00]|RUT    |14.0       |\n",
      "|[2013-01-01 14:00:00, 2013-01-01 16:00:00]|VSF    |26.06      |\n",
      "|[2013-01-01 14:00:00, 2013-01-01 16:00:00]|VSF    |24.98      |\n",
      "|[2013-01-01 06:00:00, 2013-01-01 08:00:00]|RUT    |30.2       |\n",
      "|[2013-01-01 06:00:00, 2013-01-01 08:00:00]|RUT    |30.2       |\n",
      "|[2013-01-01 06:00:00, 2013-01-01 08:00:00]|RUT    |30.2       |\n",
      "|[2013-01-01 06:00:00, 2013-01-01 08:00:00]|RUT    |30.2       |\n",
      "|[2013-01-01 06:00:00, 2013-01-01 08:00:00]|RUT    |30.2       |\n",
      "|[2013-01-01 22:00:00, 2013-01-02 00:00:00]|FSO    |6.98       |\n",
      "|[2013-01-01 22:00:00, 2013-01-02 00:00:00]|FSO    |6.8        |\n",
      "|[2013-01-01 19:00:00, 2013-01-01 21:00:00]|CDA    |14.0       |\n",
      "|[2013-01-01 19:00:00, 2013-01-01 21:00:00]|CDA    |14.36      |\n",
      "|[2013-01-01 19:00:00, 2013-01-01 21:00:00]|CDA    |13.64      |\n",
      "|[2013-01-01 19:00:00, 2013-01-01 21:00:00]|CDA    |12.92      |\n",
      "|[2013-01-01 19:00:00, 2013-01-01 21:00:00]|CDA    |12.2       |\n",
      "|[2013-01-01 19:00:00, 2013-01-01 21:00:00]|CDA    |11.66      |\n",
      "|[2013-01-01 19:00:00, 2013-01-01 21:00:00]|BTV    |17.06      |\n",
      "|[2013-01-01 19:00:00, 2013-01-01 21:00:00]|BTV    |15.98      |\n",
      "|[2013-01-01 18:00:00, 2013-01-01 20:00:00]|EFK    |12.02      |\n",
      "+------------------------------------------+-------+-----------+\n",
      "only showing top 20 rows\n",
      "\n"
     ]
    },
    {
     "name": "stderr",
     "output_type": "stream",
     "text": [
      "23/04/12 17:01:17 WARN ProcessingTimeExecutor: Current batch is falling behind. The trigger interval is 10000 milliseconds, but spent 25255 milliseconds\n",
      "[Stage 1004:(199 + 1) / 200][Stage 1007:(1 + 1) / 200][Stage 1008:> (0 + 0) / 1]\r"
     ]
    },
    {
     "name": "stdout",
     "output_type": "stream",
     "text": [
      "-------------------------------------------\n",
      "Batch: 51\n",
      "-------------------------------------------\n",
      "+------+-------+-----------+-------+------+--------+-----------+\n",
      "|Window|station|temperature|station|window|avg_temp|stddev_temp|\n",
      "+------+-------+-----------+-------+------+--------+-----------+\n",
      "+------+-------+-----------+-------+------+--------+-----------+\n",
      "\n"
     ]
    },
    {
     "name": "stderr",
     "output_type": "stream",
     "text": [
      "23/04/12 17:01:22 WARN ProcessingTimeExecutor: Current batch is falling behind. The trigger interval is 10000 milliseconds, but spent 19095 milliseconds\n",
      "                                                                                \r"
     ]
    },
    {
     "name": "stdout",
     "output_type": "stream",
     "text": [
      "-------------------------------------------\n",
      "Batch: 84\n",
      "-------------------------------------------\n",
      "+------------------------------------------+-------+-----------+-------+------------------------------------------+--------+-----------+\n",
      "|Window                                    |station|temperature|station|window                                    |avg_temp|stddev_temp|\n",
      "+------------------------------------------+-------+-----------+-------+------------------------------------------+--------+-----------+\n",
      "|[2013-01-01 22:00:00, 2013-01-02 00:00:00]|RUT    |14.0       |RUT    |[2012-12-29 00:00:00, 2013-01-05 00:00:00]|30.2    |0.0        |\n",
      "|[2013-01-01 22:00:00, 2013-01-02 00:00:00]|RUT    |14.0       |RUT    |[2013-01-01 00:00:00, 2013-01-08 00:00:00]|30.2    |0.0        |\n",
      "|[2013-01-01 22:00:00, 2013-01-02 00:00:00]|RUT    |14.0       |RUT    |[2012-12-28 00:00:00, 2013-01-04 00:00:00]|30.2    |0.0        |\n",
      "|[2013-01-01 22:00:00, 2013-01-02 00:00:00]|RUT    |14.0       |RUT    |[2012-12-31 00:00:00, 2013-01-07 00:00:00]|30.2    |0.0        |\n",
      "|[2013-01-01 22:00:00, 2013-01-02 00:00:00]|RUT    |14.0       |RUT    |[2012-12-26 00:00:00, 2013-01-02 00:00:00]|30.2    |0.0        |\n",
      "|[2013-01-01 22:00:00, 2013-01-02 00:00:00]|RUT    |14.0       |RUT    |[2012-12-30 00:00:00, 2013-01-06 00:00:00]|30.2    |0.0        |\n",
      "|[2013-01-01 22:00:00, 2013-01-02 00:00:00]|RUT    |14.0       |RUT    |[2012-12-27 00:00:00, 2013-01-03 00:00:00]|30.2    |0.0        |\n",
      "|[2013-01-01 22:00:00, 2013-01-02 00:00:00]|RUT    |14.0       |RUT    |[2012-12-29 00:00:00, 2013-01-05 00:00:00]|30.2    |0.0        |\n",
      "|[2013-01-01 22:00:00, 2013-01-02 00:00:00]|RUT    |14.0       |RUT    |[2013-01-01 00:00:00, 2013-01-08 00:00:00]|30.2    |0.0        |\n",
      "|[2013-01-01 22:00:00, 2013-01-02 00:00:00]|RUT    |14.0       |RUT    |[2012-12-28 00:00:00, 2013-01-04 00:00:00]|30.2    |0.0        |\n",
      "|[2013-01-01 22:00:00, 2013-01-02 00:00:00]|RUT    |14.0       |RUT    |[2012-12-31 00:00:00, 2013-01-07 00:00:00]|30.2    |0.0        |\n",
      "|[2013-01-01 22:00:00, 2013-01-02 00:00:00]|RUT    |14.0       |RUT    |[2012-12-26 00:00:00, 2013-01-02 00:00:00]|30.2    |0.0        |\n",
      "|[2013-01-01 22:00:00, 2013-01-02 00:00:00]|RUT    |14.0       |RUT    |[2012-12-30 00:00:00, 2013-01-06 00:00:00]|30.2    |0.0        |\n",
      "|[2013-01-01 22:00:00, 2013-01-02 00:00:00]|RUT    |14.0       |RUT    |[2012-12-27 00:00:00, 2013-01-03 00:00:00]|30.2    |0.0        |\n",
      "|[2013-01-01 14:00:00, 2013-01-01 16:00:00]|VSF    |26.06      |VSF    |[2012-12-30 00:00:00, 2013-01-06 00:00:00]|32.0    |0.0        |\n",
      "|[2013-01-01 14:00:00, 2013-01-01 16:00:00]|VSF    |26.06      |VSF    |[2012-12-28 00:00:00, 2013-01-04 00:00:00]|32.0    |0.0        |\n",
      "|[2013-01-01 14:00:00, 2013-01-01 16:00:00]|VSF    |26.06      |VSF    |[2012-12-29 00:00:00, 2013-01-05 00:00:00]|32.0    |0.0        |\n",
      "|[2013-01-01 14:00:00, 2013-01-01 16:00:00]|VSF    |26.06      |VSF    |[2013-01-01 00:00:00, 2013-01-08 00:00:00]|32.0    |0.0        |\n",
      "|[2013-01-01 14:00:00, 2013-01-01 16:00:00]|VSF    |26.06      |VSF    |[2012-12-26 00:00:00, 2013-01-02 00:00:00]|32.0    |0.0        |\n",
      "|[2013-01-01 14:00:00, 2013-01-01 16:00:00]|VSF    |26.06      |VSF    |[2012-12-27 00:00:00, 2013-01-03 00:00:00]|32.0    |0.0        |\n",
      "+------------------------------------------+-------+-----------+-------+------------------------------------------+--------+-----------+\n",
      "only showing top 20 rows\n",
      "\n"
     ]
    },
    {
     "name": "stderr",
     "output_type": "stream",
     "text": [
      "23/04/12 17:01:28 WARN ProcessingTimeExecutor: Current batch is falling behind. The trigger interval is 10000 milliseconds, but spent 18050 milliseconds\n",
      "                                                                                \r"
     ]
    },
    {
     "name": "stdout",
     "output_type": "stream",
     "text": [
      "-------------------------------------------\n",
      "Batch: 114\n",
      "-------------------------------------------\n",
      "+------------------------------------------+-------+-----------+\n",
      "|Window                                    |station|temperature|\n",
      "+------------------------------------------+-------+-----------+\n",
      "|[2013-01-01 22:00:00, 2013-01-02 00:00:00]|RUT    |14.0       |\n",
      "|[2013-01-01 22:00:00, 2013-01-02 00:00:00]|RUT    |14.0       |\n",
      "|[2013-01-01 14:00:00, 2013-01-01 16:00:00]|VSF    |26.06      |\n",
      "|[2013-01-01 14:00:00, 2013-01-01 16:00:00]|VSF    |24.98      |\n",
      "|[2013-01-01 06:00:00, 2013-01-01 08:00:00]|RUT    |30.2       |\n",
      "|[2013-01-01 06:00:00, 2013-01-01 08:00:00]|RUT    |30.2       |\n",
      "|[2013-01-01 06:00:00, 2013-01-01 08:00:00]|RUT    |30.2       |\n",
      "|[2013-01-01 06:00:00, 2013-01-01 08:00:00]|RUT    |30.2       |\n",
      "|[2013-01-01 06:00:00, 2013-01-01 08:00:00]|RUT    |30.2       |\n",
      "|[2013-01-01 22:00:00, 2013-01-02 00:00:00]|FSO    |6.98       |\n",
      "|[2013-01-01 22:00:00, 2013-01-02 00:00:00]|FSO    |6.8        |\n",
      "|[2013-01-01 19:00:00, 2013-01-01 21:00:00]|CDA    |14.0       |\n",
      "|[2013-01-01 19:00:00, 2013-01-01 21:00:00]|CDA    |14.36      |\n",
      "|[2013-01-01 19:00:00, 2013-01-01 21:00:00]|CDA    |13.64      |\n",
      "|[2013-01-01 19:00:00, 2013-01-01 21:00:00]|CDA    |12.92      |\n",
      "|[2013-01-01 19:00:00, 2013-01-01 21:00:00]|CDA    |12.2       |\n",
      "|[2013-01-01 19:00:00, 2013-01-01 21:00:00]|CDA    |11.66      |\n",
      "|[2013-01-01 19:00:00, 2013-01-01 21:00:00]|BTV    |17.06      |\n",
      "|[2013-01-01 19:00:00, 2013-01-01 21:00:00]|BTV    |15.98      |\n",
      "|[2013-01-01 18:00:00, 2013-01-01 20:00:00]|EFK    |12.02      |\n",
      "+------------------------------------------+-------+-----------+\n",
      "only showing top 20 rows\n",
      "\n"
     ]
    },
    {
     "name": "stderr",
     "output_type": "stream",
     "text": [
      "23/04/12 17:01:34 WARN ProcessingTimeExecutor: Current batch is falling behind. The trigger interval is 10000 milliseconds, but spent 17169 milliseconds\n",
      "23/04/12 17:01:41 WARN ProcessingTimeExecutor: Current batch is falling behind. The trigger interval is 10000 milliseconds, but spent 18172 milliseconds\n"
     ]
    },
    {
     "name": "stdout",
     "output_type": "stream",
     "text": [
      "-------------------------------------------\n",
      "Batch: 52\n",
      "-------------------------------------------\n",
      "+------+-------+-----------+-------+------+--------+-----------+\n",
      "|Window|station|temperature|station|window|avg_temp|stddev_temp|\n",
      "+------+-------+-----------+-------+------+--------+-----------+\n",
      "+------+-------+-----------+-------+------+--------+-----------+\n",
      "\n"
     ]
    },
    {
     "name": "stderr",
     "output_type": "stream",
     "text": [
      "                                                                                \r"
     ]
    },
    {
     "name": "stdout",
     "output_type": "stream",
     "text": [
      "-------------------------------------------\n",
      "Batch: 85\n",
      "-------------------------------------------\n",
      "+------------------------------------------+-------+-----------+-------+------------------------------------------+--------+-----------+\n",
      "|Window                                    |station|temperature|station|window                                    |avg_temp|stddev_temp|\n",
      "+------------------------------------------+-------+-----------+-------+------------------------------------------+--------+-----------+\n",
      "|[2013-01-01 22:00:00, 2013-01-02 00:00:00]|RUT    |14.0       |RUT    |[2012-12-29 00:00:00, 2013-01-05 00:00:00]|30.2    |0.0        |\n",
      "|[2013-01-01 22:00:00, 2013-01-02 00:00:00]|RUT    |14.0       |RUT    |[2013-01-01 00:00:00, 2013-01-08 00:00:00]|30.2    |0.0        |\n",
      "|[2013-01-01 22:00:00, 2013-01-02 00:00:00]|RUT    |14.0       |RUT    |[2012-12-28 00:00:00, 2013-01-04 00:00:00]|30.2    |0.0        |\n",
      "|[2013-01-01 22:00:00, 2013-01-02 00:00:00]|RUT    |14.0       |RUT    |[2012-12-31 00:00:00, 2013-01-07 00:00:00]|30.2    |0.0        |\n",
      "|[2013-01-01 22:00:00, 2013-01-02 00:00:00]|RUT    |14.0       |RUT    |[2012-12-26 00:00:00, 2013-01-02 00:00:00]|30.2    |0.0        |\n",
      "|[2013-01-01 22:00:00, 2013-01-02 00:00:00]|RUT    |14.0       |RUT    |[2012-12-30 00:00:00, 2013-01-06 00:00:00]|30.2    |0.0        |\n",
      "|[2013-01-01 22:00:00, 2013-01-02 00:00:00]|RUT    |14.0       |RUT    |[2012-12-27 00:00:00, 2013-01-03 00:00:00]|30.2    |0.0        |\n",
      "|[2013-01-01 22:00:00, 2013-01-02 00:00:00]|RUT    |14.0       |RUT    |[2012-12-29 00:00:00, 2013-01-05 00:00:00]|30.2    |0.0        |\n",
      "|[2013-01-01 22:00:00, 2013-01-02 00:00:00]|RUT    |14.0       |RUT    |[2013-01-01 00:00:00, 2013-01-08 00:00:00]|30.2    |0.0        |\n",
      "|[2013-01-01 22:00:00, 2013-01-02 00:00:00]|RUT    |14.0       |RUT    |[2012-12-28 00:00:00, 2013-01-04 00:00:00]|30.2    |0.0        |\n",
      "|[2013-01-01 22:00:00, 2013-01-02 00:00:00]|RUT    |14.0       |RUT    |[2012-12-31 00:00:00, 2013-01-07 00:00:00]|30.2    |0.0        |\n",
      "|[2013-01-01 22:00:00, 2013-01-02 00:00:00]|RUT    |14.0       |RUT    |[2012-12-26 00:00:00, 2013-01-02 00:00:00]|30.2    |0.0        |\n",
      "|[2013-01-01 22:00:00, 2013-01-02 00:00:00]|RUT    |14.0       |RUT    |[2012-12-30 00:00:00, 2013-01-06 00:00:00]|30.2    |0.0        |\n",
      "|[2013-01-01 22:00:00, 2013-01-02 00:00:00]|RUT    |14.0       |RUT    |[2012-12-27 00:00:00, 2013-01-03 00:00:00]|30.2    |0.0        |\n",
      "|[2013-01-01 22:00:00, 2013-01-02 00:00:00]|RUT    |14.0       |RUT    |[2012-12-29 00:00:00, 2013-01-05 00:00:00]|30.2    |0.0        |\n",
      "|[2013-01-01 22:00:00, 2013-01-02 00:00:00]|RUT    |14.0       |RUT    |[2013-01-01 00:00:00, 2013-01-08 00:00:00]|30.2    |0.0        |\n",
      "|[2013-01-01 22:00:00, 2013-01-02 00:00:00]|RUT    |14.0       |RUT    |[2012-12-28 00:00:00, 2013-01-04 00:00:00]|30.2    |0.0        |\n",
      "|[2013-01-01 22:00:00, 2013-01-02 00:00:00]|RUT    |14.0       |RUT    |[2012-12-31 00:00:00, 2013-01-07 00:00:00]|30.2    |0.0        |\n",
      "|[2013-01-01 22:00:00, 2013-01-02 00:00:00]|RUT    |14.0       |RUT    |[2012-12-26 00:00:00, 2013-01-02 00:00:00]|30.2    |0.0        |\n",
      "|[2013-01-01 22:00:00, 2013-01-02 00:00:00]|RUT    |14.0       |RUT    |[2012-12-30 00:00:00, 2013-01-06 00:00:00]|30.2    |0.0        |\n",
      "+------------------------------------------+-------+-----------+-------+------------------------------------------+--------+-----------+\n",
      "only showing top 20 rows\n",
      "\n"
     ]
    },
    {
     "name": "stderr",
     "output_type": "stream",
     "text": [
      "23/04/12 17:01:49 WARN ProcessingTimeExecutor: Current batch is falling behind. The trigger interval is 10000 milliseconds, but spent 20453 milliseconds\n",
      "                                                                                \r"
     ]
    },
    {
     "name": "stdout",
     "output_type": "stream",
     "text": [
      "-------------------------------------------\n",
      "Batch: 115\n",
      "-------------------------------------------\n",
      "+------------------------------------------+-------+-----------+\n",
      "|Window                                    |station|temperature|\n",
      "+------------------------------------------+-------+-----------+\n",
      "|[2013-01-01 22:00:00, 2013-01-02 00:00:00]|RUT    |14.0       |\n",
      "|[2013-01-01 22:00:00, 2013-01-02 00:00:00]|RUT    |14.0       |\n",
      "|[2013-01-01 22:00:00, 2013-01-02 00:00:00]|RUT    |14.0       |\n",
      "|[2013-01-01 14:00:00, 2013-01-01 16:00:00]|VSF    |26.06      |\n",
      "|[2013-01-01 14:00:00, 2013-01-01 16:00:00]|VSF    |24.98      |\n",
      "|[2013-01-01 06:00:00, 2013-01-01 08:00:00]|RUT    |30.2       |\n",
      "|[2013-01-01 06:00:00, 2013-01-01 08:00:00]|RUT    |30.2       |\n",
      "|[2013-01-01 06:00:00, 2013-01-01 08:00:00]|RUT    |30.2       |\n",
      "|[2013-01-01 06:00:00, 2013-01-01 08:00:00]|RUT    |30.2       |\n",
      "|[2013-01-01 06:00:00, 2013-01-01 08:00:00]|RUT    |30.2       |\n",
      "|[2013-01-01 22:00:00, 2013-01-02 00:00:00]|FSO    |6.98       |\n",
      "|[2013-01-01 22:00:00, 2013-01-02 00:00:00]|FSO    |6.8        |\n",
      "|[2013-01-01 22:00:00, 2013-01-02 00:00:00]|FSO    |6.8        |\n",
      "|[2013-01-01 19:00:00, 2013-01-01 21:00:00]|CDA    |14.0       |\n",
      "|[2013-01-01 19:00:00, 2013-01-01 21:00:00]|CDA    |14.36      |\n",
      "|[2013-01-01 19:00:00, 2013-01-01 21:00:00]|CDA    |13.64      |\n",
      "|[2013-01-01 19:00:00, 2013-01-01 21:00:00]|CDA    |12.92      |\n",
      "|[2013-01-01 19:00:00, 2013-01-01 21:00:00]|CDA    |12.2       |\n",
      "|[2013-01-01 19:00:00, 2013-01-01 21:00:00]|CDA    |11.66      |\n",
      "|[2013-01-01 19:00:00, 2013-01-01 21:00:00]|BTV    |17.06      |\n",
      "+------------------------------------------+-------+-----------+\n",
      "only showing top 20 rows\n",
      "\n"
     ]
    },
    {
     "name": "stderr",
     "output_type": "stream",
     "text": [
      "23/04/12 17:01:55 WARN ProcessingTimeExecutor: Current batch is falling behind. The trigger interval is 10000 milliseconds, but spent 20656 milliseconds\n",
      "                                                                                \r"
     ]
    },
    {
     "name": "stdout",
     "output_type": "stream",
     "text": [
      "-------------------------------------------\n",
      "Batch: 53\n",
      "-------------------------------------------\n",
      "+------+-------+-----------+-------+------+--------+-----------+\n",
      "|Window|station|temperature|station|window|avg_temp|stddev_temp|\n",
      "+------+-------+-----------+-------+------+--------+-----------+\n",
      "+------+-------+-----------+-------+------+--------+-----------+\n",
      "\n"
     ]
    },
    {
     "name": "stderr",
     "output_type": "stream",
     "text": [
      "23/04/12 17:02:01 WARN ProcessingTimeExecutor: Current batch is falling behind. The trigger interval is 10000 milliseconds, but spent 20460 milliseconds\n",
      "                                                                                \r"
     ]
    },
    {
     "name": "stdout",
     "output_type": "stream",
     "text": [
      "-------------------------------------------\n",
      "Batch: 86\n",
      "-------------------------------------------\n",
      "+------------------------------------------+-------+-----------+-------+------------------------------------------+--------+-----------+\n",
      "|Window                                    |station|temperature|station|window                                    |avg_temp|stddev_temp|\n",
      "+------------------------------------------+-------+-----------+-------+------------------------------------------+--------+-----------+\n",
      "|[2013-01-01 22:00:00, 2013-01-02 00:00:00]|RUT    |14.0       |RUT    |[2012-12-29 00:00:00, 2013-01-05 00:00:00]|30.2    |0.0        |\n",
      "|[2013-01-01 22:00:00, 2013-01-02 00:00:00]|RUT    |14.0       |RUT    |[2013-01-01 00:00:00, 2013-01-08 00:00:00]|30.2    |0.0        |\n",
      "|[2013-01-01 22:00:00, 2013-01-02 00:00:00]|RUT    |14.0       |RUT    |[2012-12-28 00:00:00, 2013-01-04 00:00:00]|30.2    |0.0        |\n",
      "|[2013-01-01 22:00:00, 2013-01-02 00:00:00]|RUT    |14.0       |RUT    |[2012-12-31 00:00:00, 2013-01-07 00:00:00]|30.2    |0.0        |\n",
      "|[2013-01-01 22:00:00, 2013-01-02 00:00:00]|RUT    |14.0       |RUT    |[2012-12-26 00:00:00, 2013-01-02 00:00:00]|30.2    |0.0        |\n",
      "|[2013-01-01 22:00:00, 2013-01-02 00:00:00]|RUT    |14.0       |RUT    |[2012-12-30 00:00:00, 2013-01-06 00:00:00]|30.2    |0.0        |\n",
      "|[2013-01-01 22:00:00, 2013-01-02 00:00:00]|RUT    |14.0       |RUT    |[2012-12-27 00:00:00, 2013-01-03 00:00:00]|30.2    |0.0        |\n",
      "|[2013-01-01 22:00:00, 2013-01-02 00:00:00]|RUT    |14.0       |RUT    |[2012-12-29 00:00:00, 2013-01-05 00:00:00]|30.2    |0.0        |\n",
      "|[2013-01-01 22:00:00, 2013-01-02 00:00:00]|RUT    |14.0       |RUT    |[2013-01-01 00:00:00, 2013-01-08 00:00:00]|30.2    |0.0        |\n",
      "|[2013-01-01 22:00:00, 2013-01-02 00:00:00]|RUT    |14.0       |RUT    |[2012-12-28 00:00:00, 2013-01-04 00:00:00]|30.2    |0.0        |\n",
      "|[2013-01-01 22:00:00, 2013-01-02 00:00:00]|RUT    |14.0       |RUT    |[2012-12-31 00:00:00, 2013-01-07 00:00:00]|30.2    |0.0        |\n",
      "|[2013-01-01 22:00:00, 2013-01-02 00:00:00]|RUT    |14.0       |RUT    |[2012-12-26 00:00:00, 2013-01-02 00:00:00]|30.2    |0.0        |\n",
      "|[2013-01-01 22:00:00, 2013-01-02 00:00:00]|RUT    |14.0       |RUT    |[2012-12-30 00:00:00, 2013-01-06 00:00:00]|30.2    |0.0        |\n",
      "|[2013-01-01 22:00:00, 2013-01-02 00:00:00]|RUT    |14.0       |RUT    |[2012-12-27 00:00:00, 2013-01-03 00:00:00]|30.2    |0.0        |\n",
      "|[2013-01-01 22:00:00, 2013-01-02 00:00:00]|RUT    |14.0       |RUT    |[2012-12-29 00:00:00, 2013-01-05 00:00:00]|30.2    |0.0        |\n",
      "|[2013-01-01 22:00:00, 2013-01-02 00:00:00]|RUT    |14.0       |RUT    |[2013-01-01 00:00:00, 2013-01-08 00:00:00]|30.2    |0.0        |\n",
      "|[2013-01-01 22:00:00, 2013-01-02 00:00:00]|RUT    |14.0       |RUT    |[2012-12-28 00:00:00, 2013-01-04 00:00:00]|30.2    |0.0        |\n",
      "|[2013-01-01 22:00:00, 2013-01-02 00:00:00]|RUT    |14.0       |RUT    |[2012-12-31 00:00:00, 2013-01-07 00:00:00]|30.2    |0.0        |\n",
      "|[2013-01-01 22:00:00, 2013-01-02 00:00:00]|RUT    |14.0       |RUT    |[2012-12-26 00:00:00, 2013-01-02 00:00:00]|30.2    |0.0        |\n",
      "|[2013-01-01 22:00:00, 2013-01-02 00:00:00]|RUT    |14.0       |RUT    |[2012-12-30 00:00:00, 2013-01-06 00:00:00]|30.2    |0.0        |\n",
      "+------------------------------------------+-------+-----------+-------+------------------------------------------+--------+-----------+\n",
      "only showing top 20 rows\n",
      "\n"
     ]
    },
    {
     "name": "stderr",
     "output_type": "stream",
     "text": [
      "23/04/12 17:02:07 WARN ProcessingTimeExecutor: Current batch is falling behind. The trigger interval is 10000 milliseconds, but spent 18069 milliseconds\n",
      "                                                                                \r"
     ]
    },
    {
     "name": "stdout",
     "output_type": "stream",
     "text": [
      "-------------------------------------------\n",
      "Batch: 116\n",
      "-------------------------------------------\n",
      "+------------------------------------------+-------+-----------+\n",
      "|Window                                    |station|temperature|\n",
      "+------------------------------------------+-------+-----------+\n",
      "|[2013-01-01 22:00:00, 2013-01-02 00:00:00]|RUT    |14.0       |\n",
      "|[2013-01-01 22:00:00, 2013-01-02 00:00:00]|RUT    |14.0       |\n",
      "|[2013-01-01 22:00:00, 2013-01-02 00:00:00]|RUT    |14.0       |\n",
      "|[2013-01-01 14:00:00, 2013-01-01 16:00:00]|VSF    |26.06      |\n",
      "|[2013-01-01 14:00:00, 2013-01-01 16:00:00]|VSF    |24.98      |\n",
      "|[2013-01-01 06:00:00, 2013-01-01 08:00:00]|RUT    |30.2       |\n",
      "|[2013-01-01 06:00:00, 2013-01-01 08:00:00]|RUT    |30.2       |\n",
      "|[2013-01-01 06:00:00, 2013-01-01 08:00:00]|RUT    |30.2       |\n",
      "|[2013-01-01 06:00:00, 2013-01-01 08:00:00]|RUT    |30.2       |\n",
      "|[2013-01-01 06:00:00, 2013-01-01 08:00:00]|RUT    |30.2       |\n",
      "|[2013-01-01 22:00:00, 2013-01-02 00:00:00]|FSO    |6.98       |\n",
      "|[2013-01-01 22:00:00, 2013-01-02 00:00:00]|FSO    |6.8        |\n",
      "|[2013-01-01 22:00:00, 2013-01-02 00:00:00]|FSO    |6.8        |\n",
      "|[2013-01-01 22:00:00, 2013-01-02 00:00:00]|FSO    |6.8        |\n",
      "|[2013-01-01 19:00:00, 2013-01-01 21:00:00]|CDA    |14.0       |\n",
      "|[2013-01-01 19:00:00, 2013-01-01 21:00:00]|CDA    |14.36      |\n",
      "|[2013-01-01 19:00:00, 2013-01-01 21:00:00]|CDA    |13.64      |\n",
      "|[2013-01-01 19:00:00, 2013-01-01 21:00:00]|CDA    |12.92      |\n",
      "|[2013-01-01 19:00:00, 2013-01-01 21:00:00]|CDA    |12.2       |\n",
      "|[2013-01-01 19:00:00, 2013-01-01 21:00:00]|CDA    |11.66      |\n",
      "+------------------------------------------+-------+-----------+\n",
      "only showing top 20 rows\n",
      "\n"
     ]
    },
    {
     "name": "stderr",
     "output_type": "stream",
     "text": [
      "23/04/12 17:02:12 WARN ProcessingTimeExecutor: Current batch is falling behind. The trigger interval is 10000 milliseconds, but spent 17516 milliseconds\n",
      "23/04/12 17:02:18 WARN ProcessingTimeExecutor: Current batch is falling behind. The trigger interval is 10000 milliseconds, but spent 17222 milliseconds\n"
     ]
    },
    {
     "name": "stdout",
     "output_type": "stream",
     "text": [
      "-------------------------------------------\n",
      "Batch: 54\n",
      "-------------------------------------------\n",
      "+------+-------+-----------+-------+------+--------+-----------+\n",
      "|Window|station|temperature|station|window|avg_temp|stddev_temp|\n",
      "+------+-------+-----------+-------+------+--------+-----------+\n",
      "+------+-------+-----------+-------+------+--------+-----------+\n",
      "\n"
     ]
    },
    {
     "name": "stderr",
     "output_type": "stream",
     "text": [
      "                                                                                \r"
     ]
    },
    {
     "name": "stdout",
     "output_type": "stream",
     "text": [
      "-------------------------------------------\n",
      "Batch: 87\n",
      "-------------------------------------------\n",
      "+------------------------------------------+-------+-----------+-------+------------------------------------------+--------+-----------+\n",
      "|Window                                    |station|temperature|station|window                                    |avg_temp|stddev_temp|\n",
      "+------------------------------------------+-------+-----------+-------+------------------------------------------+--------+-----------+\n",
      "|[2013-01-01 22:00:00, 2013-01-02 00:00:00]|RUT    |14.0       |RUT    |[2012-12-29 00:00:00, 2013-01-05 00:00:00]|30.2    |0.0        |\n",
      "|[2013-01-01 22:00:00, 2013-01-02 00:00:00]|RUT    |14.0       |RUT    |[2013-01-01 00:00:00, 2013-01-08 00:00:00]|30.2    |0.0        |\n",
      "|[2013-01-01 22:00:00, 2013-01-02 00:00:00]|RUT    |14.0       |RUT    |[2012-12-28 00:00:00, 2013-01-04 00:00:00]|30.2    |0.0        |\n",
      "|[2013-01-01 22:00:00, 2013-01-02 00:00:00]|RUT    |14.0       |RUT    |[2012-12-31 00:00:00, 2013-01-07 00:00:00]|30.2    |0.0        |\n",
      "|[2013-01-01 22:00:00, 2013-01-02 00:00:00]|RUT    |14.0       |RUT    |[2012-12-26 00:00:00, 2013-01-02 00:00:00]|30.2    |0.0        |\n",
      "|[2013-01-01 22:00:00, 2013-01-02 00:00:00]|RUT    |14.0       |RUT    |[2012-12-30 00:00:00, 2013-01-06 00:00:00]|30.2    |0.0        |\n",
      "|[2013-01-01 22:00:00, 2013-01-02 00:00:00]|RUT    |14.0       |RUT    |[2012-12-27 00:00:00, 2013-01-03 00:00:00]|30.2    |0.0        |\n",
      "|[2013-01-01 22:00:00, 2013-01-02 00:00:00]|RUT    |14.0       |RUT    |[2012-12-29 00:00:00, 2013-01-05 00:00:00]|30.2    |0.0        |\n",
      "|[2013-01-01 22:00:00, 2013-01-02 00:00:00]|RUT    |14.0       |RUT    |[2013-01-01 00:00:00, 2013-01-08 00:00:00]|30.2    |0.0        |\n",
      "|[2013-01-01 22:00:00, 2013-01-02 00:00:00]|RUT    |14.0       |RUT    |[2012-12-28 00:00:00, 2013-01-04 00:00:00]|30.2    |0.0        |\n",
      "|[2013-01-01 22:00:00, 2013-01-02 00:00:00]|RUT    |14.0       |RUT    |[2012-12-31 00:00:00, 2013-01-07 00:00:00]|30.2    |0.0        |\n",
      "|[2013-01-01 22:00:00, 2013-01-02 00:00:00]|RUT    |14.0       |RUT    |[2012-12-26 00:00:00, 2013-01-02 00:00:00]|30.2    |0.0        |\n",
      "|[2013-01-01 22:00:00, 2013-01-02 00:00:00]|RUT    |14.0       |RUT    |[2012-12-30 00:00:00, 2013-01-06 00:00:00]|30.2    |0.0        |\n",
      "|[2013-01-01 22:00:00, 2013-01-02 00:00:00]|RUT    |14.0       |RUT    |[2012-12-27 00:00:00, 2013-01-03 00:00:00]|30.2    |0.0        |\n",
      "|[2013-01-01 22:00:00, 2013-01-02 00:00:00]|RUT    |14.0       |RUT    |[2012-12-29 00:00:00, 2013-01-05 00:00:00]|30.2    |0.0        |\n",
      "|[2013-01-01 22:00:00, 2013-01-02 00:00:00]|RUT    |14.0       |RUT    |[2013-01-01 00:00:00, 2013-01-08 00:00:00]|30.2    |0.0        |\n",
      "|[2013-01-01 22:00:00, 2013-01-02 00:00:00]|RUT    |14.0       |RUT    |[2012-12-28 00:00:00, 2013-01-04 00:00:00]|30.2    |0.0        |\n",
      "|[2013-01-01 22:00:00, 2013-01-02 00:00:00]|RUT    |14.0       |RUT    |[2012-12-31 00:00:00, 2013-01-07 00:00:00]|30.2    |0.0        |\n",
      "|[2013-01-01 22:00:00, 2013-01-02 00:00:00]|RUT    |14.0       |RUT    |[2012-12-26 00:00:00, 2013-01-02 00:00:00]|30.2    |0.0        |\n",
      "|[2013-01-01 22:00:00, 2013-01-02 00:00:00]|RUT    |14.0       |RUT    |[2012-12-30 00:00:00, 2013-01-06 00:00:00]|30.2    |0.0        |\n",
      "+------------------------------------------+-------+-----------+-------+------------------------------------------+--------+-----------+\n",
      "only showing top 20 rows\n",
      "\n"
     ]
    },
    {
     "name": "stderr",
     "output_type": "stream",
     "text": [
      "23/04/12 17:02:28 WARN ProcessingTimeExecutor: Current batch is falling behind. The trigger interval is 10000 milliseconds, but spent 21082 milliseconds\n",
      "                                                                                \r"
     ]
    },
    {
     "name": "stdout",
     "output_type": "stream",
     "text": [
      "-------------------------------------------\n",
      "Batch: 117\n",
      "-------------------------------------------\n",
      "+------------------------------------------+-------+-----------+\n",
      "|Window                                    |station|temperature|\n",
      "+------------------------------------------+-------+-----------+\n",
      "|[2013-01-01 22:00:00, 2013-01-02 00:00:00]|RUT    |14.0       |\n",
      "|[2013-01-01 22:00:00, 2013-01-02 00:00:00]|RUT    |14.0       |\n",
      "|[2013-01-01 22:00:00, 2013-01-02 00:00:00]|RUT    |14.0       |\n",
      "|[2013-01-01 22:00:00, 2013-01-02 00:00:00]|RUT    |12.2       |\n",
      "|[2013-01-01 14:00:00, 2013-01-01 16:00:00]|VSF    |26.06      |\n",
      "|[2013-01-01 14:00:00, 2013-01-01 16:00:00]|VSF    |24.98      |\n",
      "|[2013-01-01 06:00:00, 2013-01-01 08:00:00]|RUT    |30.2       |\n",
      "|[2013-01-01 06:00:00, 2013-01-01 08:00:00]|RUT    |30.2       |\n",
      "|[2013-01-01 06:00:00, 2013-01-01 08:00:00]|RUT    |30.2       |\n",
      "|[2013-01-01 06:00:00, 2013-01-01 08:00:00]|RUT    |30.2       |\n",
      "|[2013-01-01 06:00:00, 2013-01-01 08:00:00]|RUT    |30.2       |\n",
      "|[2013-01-01 22:00:00, 2013-01-02 00:00:00]|FSO    |6.98       |\n",
      "|[2013-01-01 22:00:00, 2013-01-02 00:00:00]|FSO    |6.8        |\n",
      "|[2013-01-01 22:00:00, 2013-01-02 00:00:00]|FSO    |6.8        |\n",
      "|[2013-01-01 22:00:00, 2013-01-02 00:00:00]|FSO    |6.8        |\n",
      "|[2013-01-01 22:00:00, 2013-01-02 00:00:00]|FSO    |6.8        |\n",
      "|[2013-01-01 19:00:00, 2013-01-01 21:00:00]|CDA    |14.0       |\n",
      "|[2013-01-01 19:00:00, 2013-01-01 21:00:00]|CDA    |14.36      |\n",
      "|[2013-01-01 19:00:00, 2013-01-01 21:00:00]|CDA    |13.64      |\n",
      "|[2013-01-01 19:00:00, 2013-01-01 21:00:00]|CDA    |12.92      |\n",
      "+------------------------------------------+-------+-----------+\n",
      "only showing top 20 rows\n",
      "\n"
     ]
    },
    {
     "name": "stderr",
     "output_type": "stream",
     "text": [
      "23/04/12 17:02:35 WARN ProcessingTimeExecutor: Current batch is falling behind. The trigger interval is 10000 milliseconds, but spent 23190 milliseconds\n",
      "                                                                                \r"
     ]
    },
    {
     "name": "stdout",
     "output_type": "stream",
     "text": [
      "-------------------------------------------\n",
      "Batch: 55\n",
      "-------------------------------------------\n",
      "+------+-------+-----------+-------+------+--------+-----------+\n",
      "|Window|station|temperature|station|window|avg_temp|stddev_temp|\n",
      "+------+-------+-----------+-------+------+--------+-----------+\n",
      "+------+-------+-----------+-------+------+--------+-----------+\n",
      "\n"
     ]
    },
    {
     "name": "stderr",
     "output_type": "stream",
     "text": [
      "23/04/12 17:02:42 WARN ProcessingTimeExecutor: Current batch is falling behind. The trigger interval is 10000 milliseconds, but spent 23754 milliseconds\n",
      "                                                                                \r"
     ]
    },
    {
     "name": "stdout",
     "output_type": "stream",
     "text": [
      "-------------------------------------------\n",
      "Batch: 88\n",
      "-------------------------------------------\n",
      "+------------------------------------------+-------+-----------+-------+------------------------------------------+--------+-----------+\n",
      "|Window                                    |station|temperature|station|window                                    |avg_temp|stddev_temp|\n",
      "+------------------------------------------+-------+-----------+-------+------------------------------------------+--------+-----------+\n",
      "|[2013-01-01 22:00:00, 2013-01-02 00:00:00]|RUT    |14.0       |RUT    |[2012-12-29 00:00:00, 2013-01-05 00:00:00]|30.2    |0.0        |\n",
      "|[2013-01-01 22:00:00, 2013-01-02 00:00:00]|RUT    |14.0       |RUT    |[2013-01-01 00:00:00, 2013-01-08 00:00:00]|30.2    |0.0        |\n",
      "|[2013-01-01 22:00:00, 2013-01-02 00:00:00]|RUT    |14.0       |RUT    |[2012-12-28 00:00:00, 2013-01-04 00:00:00]|30.2    |0.0        |\n",
      "|[2013-01-01 22:00:00, 2013-01-02 00:00:00]|RUT    |14.0       |RUT    |[2012-12-31 00:00:00, 2013-01-07 00:00:00]|30.2    |0.0        |\n",
      "|[2013-01-01 22:00:00, 2013-01-02 00:00:00]|RUT    |14.0       |RUT    |[2012-12-26 00:00:00, 2013-01-02 00:00:00]|30.2    |0.0        |\n",
      "|[2013-01-01 22:00:00, 2013-01-02 00:00:00]|RUT    |14.0       |RUT    |[2012-12-30 00:00:00, 2013-01-06 00:00:00]|30.2    |0.0        |\n",
      "|[2013-01-01 22:00:00, 2013-01-02 00:00:00]|RUT    |14.0       |RUT    |[2012-12-27 00:00:00, 2013-01-03 00:00:00]|30.2    |0.0        |\n",
      "|[2013-01-01 22:00:00, 2013-01-02 00:00:00]|RUT    |14.0       |RUT    |[2012-12-29 00:00:00, 2013-01-05 00:00:00]|30.2    |0.0        |\n",
      "|[2013-01-01 22:00:00, 2013-01-02 00:00:00]|RUT    |14.0       |RUT    |[2013-01-01 00:00:00, 2013-01-08 00:00:00]|30.2    |0.0        |\n",
      "|[2013-01-01 22:00:00, 2013-01-02 00:00:00]|RUT    |14.0       |RUT    |[2012-12-28 00:00:00, 2013-01-04 00:00:00]|30.2    |0.0        |\n",
      "|[2013-01-01 22:00:00, 2013-01-02 00:00:00]|RUT    |14.0       |RUT    |[2012-12-31 00:00:00, 2013-01-07 00:00:00]|30.2    |0.0        |\n",
      "|[2013-01-01 22:00:00, 2013-01-02 00:00:00]|RUT    |14.0       |RUT    |[2012-12-26 00:00:00, 2013-01-02 00:00:00]|30.2    |0.0        |\n",
      "|[2013-01-01 22:00:00, 2013-01-02 00:00:00]|RUT    |14.0       |RUT    |[2012-12-30 00:00:00, 2013-01-06 00:00:00]|30.2    |0.0        |\n",
      "|[2013-01-01 22:00:00, 2013-01-02 00:00:00]|RUT    |14.0       |RUT    |[2012-12-27 00:00:00, 2013-01-03 00:00:00]|30.2    |0.0        |\n",
      "|[2013-01-01 22:00:00, 2013-01-02 00:00:00]|RUT    |14.0       |RUT    |[2012-12-29 00:00:00, 2013-01-05 00:00:00]|30.2    |0.0        |\n",
      "|[2013-01-01 22:00:00, 2013-01-02 00:00:00]|RUT    |14.0       |RUT    |[2013-01-01 00:00:00, 2013-01-08 00:00:00]|30.2    |0.0        |\n",
      "|[2013-01-01 22:00:00, 2013-01-02 00:00:00]|RUT    |14.0       |RUT    |[2012-12-28 00:00:00, 2013-01-04 00:00:00]|30.2    |0.0        |\n",
      "|[2013-01-01 22:00:00, 2013-01-02 00:00:00]|RUT    |14.0       |RUT    |[2012-12-31 00:00:00, 2013-01-07 00:00:00]|30.2    |0.0        |\n",
      "|[2013-01-01 22:00:00, 2013-01-02 00:00:00]|RUT    |14.0       |RUT    |[2012-12-26 00:00:00, 2013-01-02 00:00:00]|30.2    |0.0        |\n",
      "|[2013-01-01 22:00:00, 2013-01-02 00:00:00]|RUT    |14.0       |RUT    |[2012-12-30 00:00:00, 2013-01-06 00:00:00]|30.2    |0.0        |\n",
      "+------------------------------------------+-------+-----------+-------+------------------------------------------+--------+-----------+\n",
      "only showing top 20 rows\n",
      "\n"
     ]
    },
    {
     "name": "stderr",
     "output_type": "stream",
     "text": [
      "23/04/12 17:02:51 WARN ProcessingTimeExecutor: Current batch is falling behind. The trigger interval is 10000 milliseconds, but spent 23478 milliseconds\n",
      "                                                                                \r"
     ]
    },
    {
     "name": "stdout",
     "output_type": "stream",
     "text": [
      "-------------------------------------------\n",
      "Batch: 118\n",
      "-------------------------------------------\n",
      "+------------------------------------------+-------+-----------+\n",
      "|Window                                    |station|temperature|\n",
      "+------------------------------------------+-------+-----------+\n",
      "|[2013-01-01 22:00:00, 2013-01-02 00:00:00]|RUT    |14.0       |\n",
      "|[2013-01-01 22:00:00, 2013-01-02 00:00:00]|RUT    |14.0       |\n",
      "|[2013-01-01 22:00:00, 2013-01-02 00:00:00]|RUT    |14.0       |\n",
      "|[2013-01-01 22:00:00, 2013-01-02 00:00:00]|RUT    |12.2       |\n",
      "|[2013-01-01 14:00:00, 2013-01-01 16:00:00]|VSF    |26.06      |\n",
      "|[2013-01-01 14:00:00, 2013-01-01 16:00:00]|VSF    |24.98      |\n",
      "|[2013-01-01 06:00:00, 2013-01-01 08:00:00]|RUT    |30.2       |\n",
      "|[2013-01-01 06:00:00, 2013-01-01 08:00:00]|RUT    |30.2       |\n",
      "|[2013-01-01 06:00:00, 2013-01-01 08:00:00]|RUT    |30.2       |\n",
      "|[2013-01-01 06:00:00, 2013-01-01 08:00:00]|RUT    |30.2       |\n",
      "|[2013-01-01 06:00:00, 2013-01-01 08:00:00]|RUT    |30.2       |\n",
      "|[2013-01-01 22:00:00, 2013-01-02 00:00:00]|FSO    |6.98       |\n",
      "|[2013-01-01 22:00:00, 2013-01-02 00:00:00]|FSO    |6.8        |\n",
      "|[2013-01-01 22:00:00, 2013-01-02 00:00:00]|FSO    |6.8        |\n",
      "|[2013-01-01 22:00:00, 2013-01-02 00:00:00]|FSO    |6.8        |\n",
      "|[2013-01-01 22:00:00, 2013-01-02 00:00:00]|FSO    |6.8        |\n",
      "|[2013-01-01 19:00:00, 2013-01-01 21:00:00]|CDA    |14.0       |\n",
      "|[2013-01-01 19:00:00, 2013-01-01 21:00:00]|CDA    |14.36      |\n",
      "|[2013-01-01 19:00:00, 2013-01-01 21:00:00]|CDA    |13.64      |\n",
      "|[2013-01-01 19:00:00, 2013-01-01 21:00:00]|CDA    |12.92      |\n",
      "+------------------------------------------+-------+-----------+\n",
      "only showing top 20 rows\n",
      "\n"
     ]
    },
    {
     "name": "stderr",
     "output_type": "stream",
     "text": [
      "23/04/12 17:02:57 WARN ProcessingTimeExecutor: Current batch is falling behind. The trigger interval is 10000 milliseconds, but spent 21979 milliseconds\n",
      "23/04/12 17:03:03 WARN ProcessingTimeExecutor: Current batch is falling behind. The trigger interval is 10000 milliseconds, but spent 21427 milliseconds\n"
     ]
    },
    {
     "name": "stdout",
     "output_type": "stream",
     "text": [
      "-------------------------------------------\n",
      "Batch: 56\n",
      "-------------------------------------------\n",
      "+------+-------+-----------+-------+------+--------+-----------+\n",
      "|Window|station|temperature|station|window|avg_temp|stddev_temp|\n",
      "+------+-------+-----------+-------+------+--------+-----------+\n",
      "+------+-------+-----------+-------+------+--------+-----------+\n",
      "\n"
     ]
    },
    {
     "name": "stderr",
     "output_type": "stream",
     "text": [
      "                                                                                \r"
     ]
    },
    {
     "name": "stdout",
     "output_type": "stream",
     "text": [
      "-------------------------------------------\n",
      "Batch: 89\n",
      "-------------------------------------------\n",
      "+------------------------------------------+-------+-----------+-------+------------------------------------------+--------+-----------+\n",
      "|Window                                    |station|temperature|station|window                                    |avg_temp|stddev_temp|\n",
      "+------------------------------------------+-------+-----------+-------+------------------------------------------+--------+-----------+\n",
      "|[2013-01-01 22:00:00, 2013-01-02 00:00:00]|RUT    |14.0       |RUT    |[2012-12-29 00:00:00, 2013-01-05 00:00:00]|30.2    |0.0        |\n",
      "|[2013-01-01 22:00:00, 2013-01-02 00:00:00]|RUT    |14.0       |RUT    |[2013-01-01 00:00:00, 2013-01-08 00:00:00]|30.2    |0.0        |\n",
      "|[2013-01-01 22:00:00, 2013-01-02 00:00:00]|RUT    |14.0       |RUT    |[2012-12-28 00:00:00, 2013-01-04 00:00:00]|30.2    |0.0        |\n",
      "|[2013-01-01 22:00:00, 2013-01-02 00:00:00]|RUT    |14.0       |RUT    |[2012-12-31 00:00:00, 2013-01-07 00:00:00]|30.2    |0.0        |\n",
      "|[2013-01-01 22:00:00, 2013-01-02 00:00:00]|RUT    |14.0       |RUT    |[2012-12-26 00:00:00, 2013-01-02 00:00:00]|30.2    |0.0        |\n",
      "|[2013-01-01 22:00:00, 2013-01-02 00:00:00]|RUT    |14.0       |RUT    |[2012-12-30 00:00:00, 2013-01-06 00:00:00]|30.2    |0.0        |\n",
      "|[2013-01-01 22:00:00, 2013-01-02 00:00:00]|RUT    |14.0       |RUT    |[2012-12-27 00:00:00, 2013-01-03 00:00:00]|30.2    |0.0        |\n",
      "|[2013-01-01 22:00:00, 2013-01-02 00:00:00]|RUT    |14.0       |RUT    |[2012-12-29 00:00:00, 2013-01-05 00:00:00]|30.2    |0.0        |\n",
      "|[2013-01-01 22:00:00, 2013-01-02 00:00:00]|RUT    |14.0       |RUT    |[2013-01-01 00:00:00, 2013-01-08 00:00:00]|30.2    |0.0        |\n",
      "|[2013-01-01 22:00:00, 2013-01-02 00:00:00]|RUT    |14.0       |RUT    |[2012-12-28 00:00:00, 2013-01-04 00:00:00]|30.2    |0.0        |\n",
      "|[2013-01-01 22:00:00, 2013-01-02 00:00:00]|RUT    |14.0       |RUT    |[2012-12-31 00:00:00, 2013-01-07 00:00:00]|30.2    |0.0        |\n",
      "|[2013-01-01 22:00:00, 2013-01-02 00:00:00]|RUT    |14.0       |RUT    |[2012-12-26 00:00:00, 2013-01-02 00:00:00]|30.2    |0.0        |\n",
      "|[2013-01-01 22:00:00, 2013-01-02 00:00:00]|RUT    |14.0       |RUT    |[2012-12-30 00:00:00, 2013-01-06 00:00:00]|30.2    |0.0        |\n",
      "|[2013-01-01 22:00:00, 2013-01-02 00:00:00]|RUT    |14.0       |RUT    |[2012-12-27 00:00:00, 2013-01-03 00:00:00]|30.2    |0.0        |\n",
      "|[2013-01-01 22:00:00, 2013-01-02 00:00:00]|RUT    |14.0       |RUT    |[2012-12-29 00:00:00, 2013-01-05 00:00:00]|30.2    |0.0        |\n",
      "|[2013-01-01 22:00:00, 2013-01-02 00:00:00]|RUT    |14.0       |RUT    |[2013-01-01 00:00:00, 2013-01-08 00:00:00]|30.2    |0.0        |\n",
      "|[2013-01-01 22:00:00, 2013-01-02 00:00:00]|RUT    |14.0       |RUT    |[2012-12-28 00:00:00, 2013-01-04 00:00:00]|30.2    |0.0        |\n",
      "|[2013-01-01 22:00:00, 2013-01-02 00:00:00]|RUT    |14.0       |RUT    |[2012-12-31 00:00:00, 2013-01-07 00:00:00]|30.2    |0.0        |\n",
      "|[2013-01-01 22:00:00, 2013-01-02 00:00:00]|RUT    |14.0       |RUT    |[2012-12-26 00:00:00, 2013-01-02 00:00:00]|30.2    |0.0        |\n",
      "|[2013-01-01 22:00:00, 2013-01-02 00:00:00]|RUT    |14.0       |RUT    |[2012-12-30 00:00:00, 2013-01-06 00:00:00]|30.2    |0.0        |\n",
      "+------------------------------------------+-------+-----------+-------+------------------------------------------+--------+-----------+\n",
      "only showing top 20 rows\n",
      "\n"
     ]
    },
    {
     "name": "stderr",
     "output_type": "stream",
     "text": [
      "23/04/12 17:03:10 WARN ProcessingTimeExecutor: Current batch is falling behind. The trigger interval is 10000 milliseconds, but spent 18569 milliseconds\n",
      "                                                                                \r"
     ]
    },
    {
     "name": "stdout",
     "output_type": "stream",
     "text": [
      "-------------------------------------------\n",
      "Batch: 119\n",
      "-------------------------------------------\n",
      "+------------------------------------------+-------+-----------+\n",
      "|Window                                    |station|temperature|\n",
      "+------------------------------------------+-------+-----------+\n",
      "|[2013-01-01 22:00:00, 2013-01-02 00:00:00]|RUT    |14.0       |\n",
      "|[2013-01-01 22:00:00, 2013-01-02 00:00:00]|RUT    |14.0       |\n",
      "|[2013-01-01 22:00:00, 2013-01-02 00:00:00]|RUT    |14.0       |\n",
      "|[2013-01-01 22:00:00, 2013-01-02 00:00:00]|RUT    |12.2       |\n",
      "|[2013-01-01 22:00:00, 2013-01-02 00:00:00]|RUT    |12.2       |\n",
      "|[2013-01-01 14:00:00, 2013-01-01 16:00:00]|VSF    |26.06      |\n",
      "|[2013-01-01 14:00:00, 2013-01-01 16:00:00]|VSF    |24.98      |\n",
      "|[2013-01-01 06:00:00, 2013-01-01 08:00:00]|RUT    |30.2       |\n",
      "|[2013-01-01 06:00:00, 2013-01-01 08:00:00]|RUT    |30.2       |\n",
      "|[2013-01-01 06:00:00, 2013-01-01 08:00:00]|RUT    |30.2       |\n",
      "|[2013-01-01 06:00:00, 2013-01-01 08:00:00]|RUT    |30.2       |\n",
      "|[2013-01-01 06:00:00, 2013-01-01 08:00:00]|RUT    |30.2       |\n",
      "|[2013-01-01 22:00:00, 2013-01-02 00:00:00]|FSO    |6.98       |\n",
      "|[2013-01-01 22:00:00, 2013-01-02 00:00:00]|FSO    |6.8        |\n",
      "|[2013-01-01 22:00:00, 2013-01-02 00:00:00]|FSO    |6.8        |\n",
      "|[2013-01-01 22:00:00, 2013-01-02 00:00:00]|FSO    |6.8        |\n",
      "|[2013-01-01 22:00:00, 2013-01-02 00:00:00]|FSO    |6.8        |\n",
      "|[2013-01-01 22:00:00, 2013-01-02 00:00:00]|FSO    |6.8        |\n",
      "|[2013-01-01 19:00:00, 2013-01-01 21:00:00]|CDA    |14.0       |\n",
      "|[2013-01-01 19:00:00, 2013-01-01 21:00:00]|CDA    |14.36      |\n",
      "+------------------------------------------+-------+-----------+\n",
      "only showing top 20 rows\n",
      "\n"
     ]
    },
    {
     "name": "stderr",
     "output_type": "stream",
     "text": [
      "23/04/12 17:03:16 WARN ProcessingTimeExecutor: Current batch is falling behind. The trigger interval is 10000 milliseconds, but spent 18538 milliseconds\n",
      "                                                                                \r"
     ]
    },
    {
     "name": "stdout",
     "output_type": "stream",
     "text": [
      "-------------------------------------------\n",
      "Batch: 57\n",
      "-------------------------------------------\n",
      "+------+-------+-----------+-------+------+--------+-----------+\n",
      "|Window|station|temperature|station|window|avg_temp|stddev_temp|\n",
      "+------+-------+-----------+-------+------+--------+-----------+\n",
      "+------+-------+-----------+-------+------+--------+-----------+\n",
      "\n"
     ]
    },
    {
     "name": "stderr",
     "output_type": "stream",
     "text": [
      "23/04/12 17:03:23 WARN ProcessingTimeExecutor: Current batch is falling behind. The trigger interval is 10000 milliseconds, but spent 19899 milliseconds\n",
      "                                                                                \r"
     ]
    },
    {
     "name": "stdout",
     "output_type": "stream",
     "text": [
      "-------------------------------------------\n",
      "Batch: 90\n",
      "-------------------------------------------\n",
      "+------------------------------------------+-------+-----------+-------+------------------------------------------+--------+-----------+\n",
      "|Window                                    |station|temperature|station|window                                    |avg_temp|stddev_temp|\n",
      "+------------------------------------------+-------+-----------+-------+------------------------------------------+--------+-----------+\n",
      "|[2013-01-01 22:00:00, 2013-01-02 00:00:00]|RUT    |14.0       |RUT    |[2012-12-29 00:00:00, 2013-01-05 00:00:00]|30.2    |0.0        |\n",
      "|[2013-01-01 22:00:00, 2013-01-02 00:00:00]|RUT    |14.0       |RUT    |[2013-01-01 00:00:00, 2013-01-08 00:00:00]|30.2    |0.0        |\n",
      "|[2013-01-01 22:00:00, 2013-01-02 00:00:00]|RUT    |14.0       |RUT    |[2012-12-28 00:00:00, 2013-01-04 00:00:00]|30.2    |0.0        |\n",
      "|[2013-01-01 22:00:00, 2013-01-02 00:00:00]|RUT    |14.0       |RUT    |[2012-12-31 00:00:00, 2013-01-07 00:00:00]|30.2    |0.0        |\n",
      "|[2013-01-01 22:00:00, 2013-01-02 00:00:00]|RUT    |14.0       |RUT    |[2012-12-26 00:00:00, 2013-01-02 00:00:00]|30.2    |0.0        |\n",
      "|[2013-01-01 22:00:00, 2013-01-02 00:00:00]|RUT    |14.0       |RUT    |[2012-12-30 00:00:00, 2013-01-06 00:00:00]|30.2    |0.0        |\n",
      "|[2013-01-01 22:00:00, 2013-01-02 00:00:00]|RUT    |14.0       |RUT    |[2012-12-27 00:00:00, 2013-01-03 00:00:00]|30.2    |0.0        |\n",
      "|[2013-01-01 22:00:00, 2013-01-02 00:00:00]|RUT    |14.0       |RUT    |[2012-12-29 00:00:00, 2013-01-05 00:00:00]|30.2    |0.0        |\n",
      "|[2013-01-01 22:00:00, 2013-01-02 00:00:00]|RUT    |14.0       |RUT    |[2013-01-01 00:00:00, 2013-01-08 00:00:00]|30.2    |0.0        |\n",
      "|[2013-01-01 22:00:00, 2013-01-02 00:00:00]|RUT    |14.0       |RUT    |[2012-12-28 00:00:00, 2013-01-04 00:00:00]|30.2    |0.0        |\n",
      "|[2013-01-01 22:00:00, 2013-01-02 00:00:00]|RUT    |14.0       |RUT    |[2012-12-31 00:00:00, 2013-01-07 00:00:00]|30.2    |0.0        |\n",
      "|[2013-01-01 22:00:00, 2013-01-02 00:00:00]|RUT    |14.0       |RUT    |[2012-12-26 00:00:00, 2013-01-02 00:00:00]|30.2    |0.0        |\n",
      "|[2013-01-01 22:00:00, 2013-01-02 00:00:00]|RUT    |14.0       |RUT    |[2012-12-30 00:00:00, 2013-01-06 00:00:00]|30.2    |0.0        |\n",
      "|[2013-01-01 22:00:00, 2013-01-02 00:00:00]|RUT    |14.0       |RUT    |[2012-12-27 00:00:00, 2013-01-03 00:00:00]|30.2    |0.0        |\n",
      "|[2013-01-01 22:00:00, 2013-01-02 00:00:00]|RUT    |14.0       |RUT    |[2012-12-29 00:00:00, 2013-01-05 00:00:00]|30.2    |0.0        |\n",
      "|[2013-01-01 22:00:00, 2013-01-02 00:00:00]|RUT    |14.0       |RUT    |[2013-01-01 00:00:00, 2013-01-08 00:00:00]|30.2    |0.0        |\n",
      "|[2013-01-01 22:00:00, 2013-01-02 00:00:00]|RUT    |14.0       |RUT    |[2012-12-28 00:00:00, 2013-01-04 00:00:00]|30.2    |0.0        |\n",
      "|[2013-01-01 22:00:00, 2013-01-02 00:00:00]|RUT    |14.0       |RUT    |[2012-12-31 00:00:00, 2013-01-07 00:00:00]|30.2    |0.0        |\n",
      "|[2013-01-01 22:00:00, 2013-01-02 00:00:00]|RUT    |14.0       |RUT    |[2012-12-26 00:00:00, 2013-01-02 00:00:00]|30.2    |0.0        |\n",
      "|[2013-01-01 22:00:00, 2013-01-02 00:00:00]|RUT    |14.0       |RUT    |[2012-12-30 00:00:00, 2013-01-06 00:00:00]|30.2    |0.0        |\n",
      "+------------------------------------------+-------+-----------+-------+------------------------------------------+--------+-----------+\n",
      "only showing top 20 rows\n",
      "\n"
     ]
    },
    {
     "name": "stderr",
     "output_type": "stream",
     "text": [
      "23/04/12 17:03:29 WARN ProcessingTimeExecutor: Current batch is falling behind. The trigger interval is 10000 milliseconds, but spent 19445 milliseconds\n",
      "                                                                                \r"
     ]
    },
    {
     "name": "stdout",
     "output_type": "stream",
     "text": [
      "-------------------------------------------\n",
      "Batch: 120\n",
      "-------------------------------------------\n",
      "+------------------------------------------+-------+-----------+\n",
      "|Window                                    |station|temperature|\n",
      "+------------------------------------------+-------+-----------+\n",
      "|[2013-01-01 22:00:00, 2013-01-02 00:00:00]|RUT    |14.0       |\n",
      "|[2013-01-01 22:00:00, 2013-01-02 00:00:00]|RUT    |14.0       |\n",
      "|[2013-01-01 22:00:00, 2013-01-02 00:00:00]|RUT    |14.0       |\n",
      "|[2013-01-01 22:00:00, 2013-01-02 00:00:00]|RUT    |12.2       |\n",
      "|[2013-01-01 22:00:00, 2013-01-02 00:00:00]|RUT    |12.2       |\n",
      "|[2013-01-01 14:00:00, 2013-01-01 16:00:00]|VSF    |26.06      |\n",
      "|[2013-01-01 14:00:00, 2013-01-01 16:00:00]|VSF    |24.98      |\n",
      "|[2013-01-01 06:00:00, 2013-01-01 08:00:00]|RUT    |30.2       |\n",
      "|[2013-01-01 06:00:00, 2013-01-01 08:00:00]|RUT    |30.2       |\n",
      "|[2013-01-01 06:00:00, 2013-01-01 08:00:00]|RUT    |30.2       |\n",
      "|[2013-01-01 06:00:00, 2013-01-01 08:00:00]|RUT    |30.2       |\n",
      "|[2013-01-01 06:00:00, 2013-01-01 08:00:00]|RUT    |30.2       |\n",
      "|[2013-01-01 22:00:00, 2013-01-02 00:00:00]|FSO    |6.98       |\n",
      "|[2013-01-01 22:00:00, 2013-01-02 00:00:00]|FSO    |6.8        |\n",
      "|[2013-01-01 22:00:00, 2013-01-02 00:00:00]|FSO    |6.8        |\n",
      "|[2013-01-01 22:00:00, 2013-01-02 00:00:00]|FSO    |6.8        |\n",
      "|[2013-01-01 22:00:00, 2013-01-02 00:00:00]|FSO    |6.8        |\n",
      "|[2013-01-01 22:00:00, 2013-01-02 00:00:00]|FSO    |6.8        |\n",
      "|[2013-01-01 19:00:00, 2013-01-01 21:00:00]|CDA    |14.0       |\n",
      "|[2013-01-01 19:00:00, 2013-01-01 21:00:00]|CDA    |14.36      |\n",
      "+------------------------------------------+-------+-----------+\n",
      "only showing top 20 rows\n",
      "\n"
     ]
    },
    {
     "name": "stderr",
     "output_type": "stream",
     "text": [
      "23/04/12 17:03:35 WARN ProcessingTimeExecutor: Current batch is falling behind. The trigger interval is 10000 milliseconds, but spent 19235 milliseconds\n",
      "                                                                                \r"
     ]
    },
    {
     "name": "stdout",
     "output_type": "stream",
     "text": [
      "-------------------------------------------\n",
      "Batch: 91\n",
      "-------------------------------------------\n",
      "+------------------------------------------+-------+-----------+-------+------------------------------------------+--------+-----------+\n",
      "|Window                                    |station|temperature|station|window                                    |avg_temp|stddev_temp|\n",
      "+------------------------------------------+-------+-----------+-------+------------------------------------------+--------+-----------+\n",
      "|[2013-01-01 22:00:00, 2013-01-02 00:00:00]|RUT    |14.0       |RUT    |[2012-12-29 00:00:00, 2013-01-05 00:00:00]|30.2    |0.0        |\n",
      "|[2013-01-01 22:00:00, 2013-01-02 00:00:00]|RUT    |14.0       |RUT    |[2013-01-01 00:00:00, 2013-01-08 00:00:00]|30.2    |0.0        |\n",
      "|[2013-01-01 22:00:00, 2013-01-02 00:00:00]|RUT    |14.0       |RUT    |[2012-12-28 00:00:00, 2013-01-04 00:00:00]|30.2    |0.0        |\n",
      "|[2013-01-01 22:00:00, 2013-01-02 00:00:00]|RUT    |14.0       |RUT    |[2012-12-31 00:00:00, 2013-01-07 00:00:00]|30.2    |0.0        |\n",
      "|[2013-01-01 22:00:00, 2013-01-02 00:00:00]|RUT    |14.0       |RUT    |[2012-12-26 00:00:00, 2013-01-02 00:00:00]|30.2    |0.0        |\n",
      "|[2013-01-01 22:00:00, 2013-01-02 00:00:00]|RUT    |14.0       |RUT    |[2012-12-30 00:00:00, 2013-01-06 00:00:00]|30.2    |0.0        |\n",
      "|[2013-01-01 22:00:00, 2013-01-02 00:00:00]|RUT    |14.0       |RUT    |[2012-12-27 00:00:00, 2013-01-03 00:00:00]|30.2    |0.0        |\n",
      "|[2013-01-01 22:00:00, 2013-01-02 00:00:00]|RUT    |14.0       |RUT    |[2012-12-29 00:00:00, 2013-01-05 00:00:00]|30.2    |0.0        |\n",
      "|[2013-01-01 22:00:00, 2013-01-02 00:00:00]|RUT    |14.0       |RUT    |[2013-01-01 00:00:00, 2013-01-08 00:00:00]|30.2    |0.0        |\n",
      "|[2013-01-01 22:00:00, 2013-01-02 00:00:00]|RUT    |14.0       |RUT    |[2012-12-28 00:00:00, 2013-01-04 00:00:00]|30.2    |0.0        |\n",
      "|[2013-01-01 22:00:00, 2013-01-02 00:00:00]|RUT    |14.0       |RUT    |[2012-12-31 00:00:00, 2013-01-07 00:00:00]|30.2    |0.0        |\n",
      "|[2013-01-01 22:00:00, 2013-01-02 00:00:00]|RUT    |14.0       |RUT    |[2012-12-26 00:00:00, 2013-01-02 00:00:00]|30.2    |0.0        |\n",
      "|[2013-01-01 22:00:00, 2013-01-02 00:00:00]|RUT    |14.0       |RUT    |[2012-12-30 00:00:00, 2013-01-06 00:00:00]|30.2    |0.0        |\n",
      "|[2013-01-01 22:00:00, 2013-01-02 00:00:00]|RUT    |14.0       |RUT    |[2012-12-27 00:00:00, 2013-01-03 00:00:00]|30.2    |0.0        |\n",
      "|[2013-01-01 22:00:00, 2013-01-02 00:00:00]|RUT    |14.0       |RUT    |[2012-12-29 00:00:00, 2013-01-05 00:00:00]|30.2    |0.0        |\n",
      "|[2013-01-01 22:00:00, 2013-01-02 00:00:00]|RUT    |14.0       |RUT    |[2013-01-01 00:00:00, 2013-01-08 00:00:00]|30.2    |0.0        |\n",
      "|[2013-01-01 22:00:00, 2013-01-02 00:00:00]|RUT    |14.0       |RUT    |[2012-12-28 00:00:00, 2013-01-04 00:00:00]|30.2    |0.0        |\n",
      "|[2013-01-01 22:00:00, 2013-01-02 00:00:00]|RUT    |14.0       |RUT    |[2012-12-31 00:00:00, 2013-01-07 00:00:00]|30.2    |0.0        |\n",
      "|[2013-01-01 22:00:00, 2013-01-02 00:00:00]|RUT    |14.0       |RUT    |[2012-12-26 00:00:00, 2013-01-02 00:00:00]|30.2    |0.0        |\n",
      "|[2013-01-01 22:00:00, 2013-01-02 00:00:00]|RUT    |14.0       |RUT    |[2012-12-30 00:00:00, 2013-01-06 00:00:00]|30.2    |0.0        |\n",
      "+------------------------------------------+-------+-----------+-------+------------------------------------------+--------+-----------+\n",
      "only showing top 20 rows\n",
      "\n"
     ]
    },
    {
     "name": "stderr",
     "output_type": "stream",
     "text": [
      "23/04/12 17:03:41 WARN ProcessingTimeExecutor: Current batch is falling behind. The trigger interval is 10000 milliseconds, but spent 11785 milliseconds\n",
      "                                                                                \r"
     ]
    },
    {
     "name": "stdout",
     "output_type": "stream",
     "text": [
      "-------------------------------------------\n",
      "Batch: 58\n",
      "-------------------------------------------\n",
      "+------+-------+-----------+-------+------+--------+-----------+\n",
      "|Window|station|temperature|station|window|avg_temp|stddev_temp|\n",
      "+------+-------+-----------+-------+------+--------+-----------+\n",
      "+------+-------+-----------+-------+------+--------+-----------+\n",
      "\n"
     ]
    },
    {
     "name": "stderr",
     "output_type": "stream",
     "text": [
      "23/04/12 17:03:51 WARN ProcessingTimeExecutor: Current batch is falling behind. The trigger interval is 10000 milliseconds, but spent 27885 milliseconds\n",
      "                                                                                \r"
     ]
    },
    {
     "name": "stdout",
     "output_type": "stream",
     "text": [
      "-------------------------------------------\n",
      "Batch: 121\n",
      "-------------------------------------------\n",
      "+------------------------------------------+-------+-----------+\n",
      "|Window                                    |station|temperature|\n",
      "+------------------------------------------+-------+-----------+\n",
      "|[2013-01-01 22:00:00, 2013-01-02 00:00:00]|RUT    |14.0       |\n",
      "|[2013-01-01 22:00:00, 2013-01-02 00:00:00]|RUT    |14.0       |\n",
      "|[2013-01-01 22:00:00, 2013-01-02 00:00:00]|RUT    |14.0       |\n",
      "|[2013-01-01 22:00:00, 2013-01-02 00:00:00]|RUT    |12.2       |\n",
      "|[2013-01-01 22:00:00, 2013-01-02 00:00:00]|RUT    |12.2       |\n",
      "|[2013-01-01 14:00:00, 2013-01-01 16:00:00]|VSF    |26.06      |\n",
      "|[2013-01-01 14:00:00, 2013-01-01 16:00:00]|VSF    |24.98      |\n",
      "|[2013-01-01 06:00:00, 2013-01-01 08:00:00]|RUT    |30.2       |\n",
      "|[2013-01-01 06:00:00, 2013-01-01 08:00:00]|RUT    |30.2       |\n",
      "|[2013-01-01 06:00:00, 2013-01-01 08:00:00]|RUT    |30.2       |\n",
      "|[2013-01-01 06:00:00, 2013-01-01 08:00:00]|RUT    |30.2       |\n",
      "|[2013-01-01 06:00:00, 2013-01-01 08:00:00]|RUT    |30.2       |\n",
      "|[2013-01-01 22:00:00, 2013-01-02 00:00:00]|FSO    |6.98       |\n",
      "|[2013-01-01 22:00:00, 2013-01-02 00:00:00]|FSO    |6.8        |\n",
      "|[2013-01-01 22:00:00, 2013-01-02 00:00:00]|FSO    |6.8        |\n",
      "|[2013-01-01 22:00:00, 2013-01-02 00:00:00]|FSO    |6.8        |\n",
      "|[2013-01-01 22:00:00, 2013-01-02 00:00:00]|FSO    |6.8        |\n",
      "|[2013-01-01 22:00:00, 2013-01-02 00:00:00]|FSO    |6.8        |\n",
      "|[2013-01-01 19:00:00, 2013-01-01 21:00:00]|CDA    |14.0       |\n",
      "|[2013-01-01 19:00:00, 2013-01-01 21:00:00]|CDA    |14.36      |\n",
      "+------------------------------------------+-------+-----------+\n",
      "only showing top 20 rows\n",
      "\n"
     ]
    },
    {
     "name": "stderr",
     "output_type": "stream",
     "text": [
      "23/04/12 17:04:02 WARN ProcessingTimeExecutor: Current batch is falling behind. The trigger interval is 10000 milliseconds, but spent 26424 milliseconds\n",
      "                                                                                \r"
     ]
    },
    {
     "name": "stdout",
     "output_type": "stream",
     "text": [
      "-------------------------------------------\n",
      "Batch: 92\n",
      "-------------------------------------------\n",
      "+------------------------------------------+-------+-----------+-------+------------------------------------------+--------+-----------+\n",
      "|Window                                    |station|temperature|station|window                                    |avg_temp|stddev_temp|\n",
      "+------------------------------------------+-------+-----------+-------+------------------------------------------+--------+-----------+\n",
      "|[2013-01-01 22:00:00, 2013-01-02 00:00:00]|RUT    |14.0       |RUT    |[2012-12-29 00:00:00, 2013-01-05 00:00:00]|30.2    |0.0        |\n",
      "|[2013-01-01 22:00:00, 2013-01-02 00:00:00]|RUT    |14.0       |RUT    |[2013-01-01 00:00:00, 2013-01-08 00:00:00]|30.2    |0.0        |\n",
      "|[2013-01-01 22:00:00, 2013-01-02 00:00:00]|RUT    |14.0       |RUT    |[2012-12-28 00:00:00, 2013-01-04 00:00:00]|30.2    |0.0        |\n",
      "|[2013-01-01 22:00:00, 2013-01-02 00:00:00]|RUT    |14.0       |RUT    |[2012-12-31 00:00:00, 2013-01-07 00:00:00]|30.2    |0.0        |\n",
      "|[2013-01-01 22:00:00, 2013-01-02 00:00:00]|RUT    |14.0       |RUT    |[2012-12-26 00:00:00, 2013-01-02 00:00:00]|30.2    |0.0        |\n",
      "|[2013-01-01 22:00:00, 2013-01-02 00:00:00]|RUT    |14.0       |RUT    |[2012-12-30 00:00:00, 2013-01-06 00:00:00]|30.2    |0.0        |\n",
      "|[2013-01-01 22:00:00, 2013-01-02 00:00:00]|RUT    |14.0       |RUT    |[2012-12-27 00:00:00, 2013-01-03 00:00:00]|30.2    |0.0        |\n",
      "|[2013-01-01 22:00:00, 2013-01-02 00:00:00]|RUT    |14.0       |RUT    |[2012-12-29 00:00:00, 2013-01-05 00:00:00]|30.2    |0.0        |\n",
      "|[2013-01-01 22:00:00, 2013-01-02 00:00:00]|RUT    |14.0       |RUT    |[2013-01-01 00:00:00, 2013-01-08 00:00:00]|30.2    |0.0        |\n",
      "|[2013-01-01 22:00:00, 2013-01-02 00:00:00]|RUT    |14.0       |RUT    |[2012-12-28 00:00:00, 2013-01-04 00:00:00]|30.2    |0.0        |\n",
      "|[2013-01-01 22:00:00, 2013-01-02 00:00:00]|RUT    |14.0       |RUT    |[2012-12-31 00:00:00, 2013-01-07 00:00:00]|30.2    |0.0        |\n",
      "|[2013-01-01 22:00:00, 2013-01-02 00:00:00]|RUT    |14.0       |RUT    |[2012-12-26 00:00:00, 2013-01-02 00:00:00]|30.2    |0.0        |\n",
      "|[2013-01-01 22:00:00, 2013-01-02 00:00:00]|RUT    |14.0       |RUT    |[2012-12-30 00:00:00, 2013-01-06 00:00:00]|30.2    |0.0        |\n",
      "|[2013-01-01 22:00:00, 2013-01-02 00:00:00]|RUT    |14.0       |RUT    |[2012-12-27 00:00:00, 2013-01-03 00:00:00]|30.2    |0.0        |\n",
      "|[2013-01-01 22:00:00, 2013-01-02 00:00:00]|RUT    |14.0       |RUT    |[2012-12-29 00:00:00, 2013-01-05 00:00:00]|30.2    |0.0        |\n",
      "|[2013-01-01 22:00:00, 2013-01-02 00:00:00]|RUT    |14.0       |RUT    |[2013-01-01 00:00:00, 2013-01-08 00:00:00]|30.2    |0.0        |\n",
      "|[2013-01-01 22:00:00, 2013-01-02 00:00:00]|RUT    |14.0       |RUT    |[2012-12-28 00:00:00, 2013-01-04 00:00:00]|30.2    |0.0        |\n",
      "|[2013-01-01 22:00:00, 2013-01-02 00:00:00]|RUT    |14.0       |RUT    |[2012-12-31 00:00:00, 2013-01-07 00:00:00]|30.2    |0.0        |\n",
      "|[2013-01-01 22:00:00, 2013-01-02 00:00:00]|RUT    |14.0       |RUT    |[2012-12-26 00:00:00, 2013-01-02 00:00:00]|30.2    |0.0        |\n",
      "|[2013-01-01 22:00:00, 2013-01-02 00:00:00]|RUT    |14.0       |RUT    |[2012-12-30 00:00:00, 2013-01-06 00:00:00]|30.2    |0.0        |\n",
      "+------------------------------------------+-------+-----------+-------+------------------------------------------+--------+-----------+\n",
      "only showing top 20 rows\n",
      "\n"
     ]
    },
    {
     "name": "stderr",
     "output_type": "stream",
     "text": [
      "23/04/12 17:04:10 WARN ProcessingTimeExecutor: Current batch is falling behind. The trigger interval is 10000 milliseconds, but spent 29204 milliseconds\n",
      "                                                                                \r"
     ]
    },
    {
     "name": "stdout",
     "output_type": "stream",
     "text": [
      "-------------------------------------------\n",
      "Batch: 59\n",
      "-------------------------------------------\n",
      "+------+-------+-----------+-------+------+--------+-----------+\n",
      "|Window|station|temperature|station|window|avg_temp|stddev_temp|\n",
      "+------+-------+-----------+-------+------+--------+-----------+\n",
      "+------+-------+-----------+-------+------+--------+-----------+\n",
      "\n"
     ]
    },
    {
     "name": "stderr",
     "output_type": "stream",
     "text": [
      "23/04/12 17:04:17 WARN ProcessingTimeExecutor: Current batch is falling behind. The trigger interval is 10000 milliseconds, but spent 26137 milliseconds\n",
      "                                                                                \r"
     ]
    },
    {
     "name": "stdout",
     "output_type": "stream",
     "text": [
      "-------------------------------------------\n",
      "Batch: 122\n",
      "-------------------------------------------\n",
      "+------------------------------------------+-------+-----------+\n",
      "|Window                                    |station|temperature|\n",
      "+------------------------------------------+-------+-----------+\n",
      "|[2013-01-01 22:00:00, 2013-01-02 00:00:00]|RUT    |14.0       |\n",
      "|[2013-01-01 22:00:00, 2013-01-02 00:00:00]|RUT    |14.0       |\n",
      "|[2013-01-01 22:00:00, 2013-01-02 00:00:00]|RUT    |14.0       |\n",
      "|[2013-01-01 22:00:00, 2013-01-02 00:00:00]|RUT    |12.2       |\n",
      "|[2013-01-01 22:00:00, 2013-01-02 00:00:00]|RUT    |12.2       |\n",
      "|[2013-01-01 14:00:00, 2013-01-01 16:00:00]|VSF    |26.06      |\n",
      "|[2013-01-01 14:00:00, 2013-01-01 16:00:00]|VSF    |24.98      |\n",
      "|[2013-01-01 06:00:00, 2013-01-01 08:00:00]|RUT    |30.2       |\n",
      "|[2013-01-01 06:00:00, 2013-01-01 08:00:00]|RUT    |30.2       |\n",
      "|[2013-01-01 06:00:00, 2013-01-01 08:00:00]|RUT    |30.2       |\n",
      "|[2013-01-01 06:00:00, 2013-01-01 08:00:00]|RUT    |30.2       |\n",
      "|[2013-01-01 06:00:00, 2013-01-01 08:00:00]|RUT    |30.2       |\n",
      "|[2013-01-01 22:00:00, 2013-01-02 00:00:00]|FSO    |6.98       |\n",
      "|[2013-01-01 22:00:00, 2013-01-02 00:00:00]|FSO    |6.8        |\n",
      "|[2013-01-01 22:00:00, 2013-01-02 00:00:00]|FSO    |6.8        |\n",
      "|[2013-01-01 22:00:00, 2013-01-02 00:00:00]|FSO    |6.8        |\n",
      "|[2013-01-01 22:00:00, 2013-01-02 00:00:00]|FSO    |6.8        |\n",
      "|[2013-01-01 22:00:00, 2013-01-02 00:00:00]|FSO    |6.8        |\n",
      "|[2013-01-01 19:00:00, 2013-01-01 21:00:00]|CDA    |14.0       |\n",
      "|[2013-01-01 19:00:00, 2013-01-01 21:00:00]|CDA    |14.36      |\n",
      "+------------------------------------------+-------+-----------+\n",
      "only showing top 20 rows\n",
      "\n"
     ]
    },
    {
     "name": "stderr",
     "output_type": "stream",
     "text": [
      "23/04/12 17:04:24 WARN ProcessingTimeExecutor: Current batch is falling behind. The trigger interval is 10000 milliseconds, but spent 22647 milliseconds\n",
      "                                                                                \r"
     ]
    },
    {
     "name": "stdout",
     "output_type": "stream",
     "text": [
      "-------------------------------------------\n",
      "Batch: 93\n",
      "-------------------------------------------\n",
      "+------------------------------------------+-------+-----------+-------+------------------------------------------+--------+-----------+\n",
      "|Window                                    |station|temperature|station|window                                    |avg_temp|stddev_temp|\n",
      "+------------------------------------------+-------+-----------+-------+------------------------------------------+--------+-----------+\n",
      "|[2013-01-01 22:00:00, 2013-01-02 00:00:00]|RUT    |14.0       |RUT    |[2012-12-29 00:00:00, 2013-01-05 00:00:00]|30.2    |0.0        |\n",
      "|[2013-01-01 22:00:00, 2013-01-02 00:00:00]|RUT    |14.0       |RUT    |[2013-01-01 00:00:00, 2013-01-08 00:00:00]|30.2    |0.0        |\n",
      "|[2013-01-01 22:00:00, 2013-01-02 00:00:00]|RUT    |14.0       |RUT    |[2012-12-28 00:00:00, 2013-01-04 00:00:00]|30.2    |0.0        |\n",
      "|[2013-01-01 22:00:00, 2013-01-02 00:00:00]|RUT    |14.0       |RUT    |[2012-12-31 00:00:00, 2013-01-07 00:00:00]|30.2    |0.0        |\n",
      "|[2013-01-01 22:00:00, 2013-01-02 00:00:00]|RUT    |14.0       |RUT    |[2012-12-26 00:00:00, 2013-01-02 00:00:00]|30.2    |0.0        |\n",
      "|[2013-01-01 22:00:00, 2013-01-02 00:00:00]|RUT    |14.0       |RUT    |[2012-12-30 00:00:00, 2013-01-06 00:00:00]|30.2    |0.0        |\n",
      "|[2013-01-01 22:00:00, 2013-01-02 00:00:00]|RUT    |14.0       |RUT    |[2012-12-27 00:00:00, 2013-01-03 00:00:00]|30.2    |0.0        |\n",
      "|[2013-01-01 22:00:00, 2013-01-02 00:00:00]|RUT    |14.0       |RUT    |[2012-12-29 00:00:00, 2013-01-05 00:00:00]|30.2    |0.0        |\n",
      "|[2013-01-01 22:00:00, 2013-01-02 00:00:00]|RUT    |14.0       |RUT    |[2013-01-01 00:00:00, 2013-01-08 00:00:00]|30.2    |0.0        |\n",
      "|[2013-01-01 22:00:00, 2013-01-02 00:00:00]|RUT    |14.0       |RUT    |[2012-12-28 00:00:00, 2013-01-04 00:00:00]|30.2    |0.0        |\n",
      "|[2013-01-01 22:00:00, 2013-01-02 00:00:00]|RUT    |14.0       |RUT    |[2012-12-31 00:00:00, 2013-01-07 00:00:00]|30.2    |0.0        |\n",
      "|[2013-01-01 22:00:00, 2013-01-02 00:00:00]|RUT    |14.0       |RUT    |[2012-12-26 00:00:00, 2013-01-02 00:00:00]|30.2    |0.0        |\n",
      "|[2013-01-01 22:00:00, 2013-01-02 00:00:00]|RUT    |14.0       |RUT    |[2012-12-30 00:00:00, 2013-01-06 00:00:00]|30.2    |0.0        |\n",
      "|[2013-01-01 22:00:00, 2013-01-02 00:00:00]|RUT    |14.0       |RUT    |[2012-12-27 00:00:00, 2013-01-03 00:00:00]|30.2    |0.0        |\n",
      "|[2013-01-01 22:00:00, 2013-01-02 00:00:00]|RUT    |14.0       |RUT    |[2012-12-29 00:00:00, 2013-01-05 00:00:00]|30.2    |0.0        |\n",
      "|[2013-01-01 22:00:00, 2013-01-02 00:00:00]|RUT    |14.0       |RUT    |[2013-01-01 00:00:00, 2013-01-08 00:00:00]|30.2    |0.0        |\n",
      "|[2013-01-01 22:00:00, 2013-01-02 00:00:00]|RUT    |14.0       |RUT    |[2012-12-28 00:00:00, 2013-01-04 00:00:00]|30.2    |0.0        |\n",
      "|[2013-01-01 22:00:00, 2013-01-02 00:00:00]|RUT    |14.0       |RUT    |[2012-12-31 00:00:00, 2013-01-07 00:00:00]|30.2    |0.0        |\n",
      "|[2013-01-01 22:00:00, 2013-01-02 00:00:00]|RUT    |14.0       |RUT    |[2012-12-26 00:00:00, 2013-01-02 00:00:00]|30.2    |0.0        |\n",
      "|[2013-01-01 22:00:00, 2013-01-02 00:00:00]|RUT    |14.0       |RUT    |[2012-12-30 00:00:00, 2013-01-06 00:00:00]|30.2    |0.0        |\n",
      "+------------------------------------------+-------+-----------+-------+------------------------------------------+--------+-----------+\n",
      "only showing top 20 rows\n",
      "\n"
     ]
    },
    {
     "name": "stderr",
     "output_type": "stream",
     "text": [
      "23/04/12 17:04:31 WARN ProcessingTimeExecutor: Current batch is falling behind. The trigger interval is 10000 milliseconds, but spent 20318 milliseconds\n",
      "[Stage 1099:(196 + 2) / 200][Stage 1101:(0 + 0) / 200][Stage 1102:> (0 + 0) / 1]\r"
     ]
    },
    {
     "name": "stdout",
     "output_type": "stream",
     "text": [
      "-------------------------------------------\n",
      "Batch: 60\n",
      "-------------------------------------------\n",
      "+------+-------+-----------+-------+------+--------+-----------+\n",
      "|Window|station|temperature|station|window|avg_temp|stddev_temp|\n",
      "+------+-------+-----------+-------+------+--------+-----------+\n",
      "+------+-------+-----------+-------+------+--------+-----------+\n",
      "\n"
     ]
    },
    {
     "name": "stderr",
     "output_type": "stream",
     "text": [
      "23/04/12 17:04:37 WARN ProcessingTimeExecutor: Current batch is falling behind. The trigger interval is 10000 milliseconds, but spent 19329 milliseconds\n",
      "                                                                                \r"
     ]
    },
    {
     "name": "stdout",
     "output_type": "stream",
     "text": [
      "-------------------------------------------\n",
      "Batch: 123\n",
      "-------------------------------------------\n",
      "+------------------------------------------+-------+-----------+\n",
      "|Window                                    |station|temperature|\n",
      "+------------------------------------------+-------+-----------+\n",
      "|[2013-01-01 22:00:00, 2013-01-02 00:00:00]|RUT    |14.0       |\n",
      "|[2013-01-01 22:00:00, 2013-01-02 00:00:00]|RUT    |14.0       |\n",
      "|[2013-01-01 22:00:00, 2013-01-02 00:00:00]|RUT    |14.0       |\n",
      "|[2013-01-01 22:00:00, 2013-01-02 00:00:00]|RUT    |12.2       |\n",
      "|[2013-01-01 22:00:00, 2013-01-02 00:00:00]|RUT    |12.2       |\n",
      "|[2013-01-01 14:00:00, 2013-01-01 16:00:00]|VSF    |26.06      |\n",
      "|[2013-01-01 14:00:00, 2013-01-01 16:00:00]|VSF    |24.98      |\n",
      "|[2013-01-01 06:00:00, 2013-01-01 08:00:00]|RUT    |30.2       |\n",
      "|[2013-01-01 06:00:00, 2013-01-01 08:00:00]|RUT    |30.2       |\n",
      "|[2013-01-01 06:00:00, 2013-01-01 08:00:00]|RUT    |30.2       |\n",
      "|[2013-01-01 06:00:00, 2013-01-01 08:00:00]|RUT    |30.2       |\n",
      "|[2013-01-01 06:00:00, 2013-01-01 08:00:00]|RUT    |30.2       |\n",
      "|[2013-01-01 22:00:00, 2013-01-02 00:00:00]|FSO    |6.98       |\n",
      "|[2013-01-01 22:00:00, 2013-01-02 00:00:00]|FSO    |6.8        |\n",
      "|[2013-01-01 22:00:00, 2013-01-02 00:00:00]|FSO    |6.8        |\n",
      "|[2013-01-01 22:00:00, 2013-01-02 00:00:00]|FSO    |6.8        |\n",
      "|[2013-01-01 22:00:00, 2013-01-02 00:00:00]|FSO    |6.8        |\n",
      "|[2013-01-01 22:00:00, 2013-01-02 00:00:00]|FSO    |6.8        |\n",
      "|[2013-01-01 19:00:00, 2013-01-01 21:00:00]|CDA    |14.0       |\n",
      "|[2013-01-01 19:00:00, 2013-01-01 21:00:00]|CDA    |14.36      |\n",
      "+------------------------------------------+-------+-----------+\n",
      "only showing top 20 rows\n",
      "\n"
     ]
    },
    {
     "name": "stderr",
     "output_type": "stream",
     "text": [
      "23/04/12 17:04:43 WARN ProcessingTimeExecutor: Current batch is falling behind. The trigger interval is 10000 milliseconds, but spent 18921 milliseconds\n",
      "                                                                                \r"
     ]
    },
    {
     "name": "stdout",
     "output_type": "stream",
     "text": [
      "-------------------------------------------\n",
      "Batch: 94\n",
      "-------------------------------------------\n",
      "+------------------------------------------+-------+-----------+-------+------------------------------------------+--------+-----------+\n",
      "|Window                                    |station|temperature|station|window                                    |avg_temp|stddev_temp|\n",
      "+------------------------------------------+-------+-----------+-------+------------------------------------------+--------+-----------+\n",
      "|[2013-01-01 22:00:00, 2013-01-02 00:00:00]|RUT    |14.0       |RUT    |[2012-12-29 00:00:00, 2013-01-05 00:00:00]|30.2    |0.0        |\n",
      "|[2013-01-01 22:00:00, 2013-01-02 00:00:00]|RUT    |14.0       |RUT    |[2013-01-01 00:00:00, 2013-01-08 00:00:00]|30.2    |0.0        |\n",
      "|[2013-01-01 22:00:00, 2013-01-02 00:00:00]|RUT    |14.0       |RUT    |[2012-12-28 00:00:00, 2013-01-04 00:00:00]|30.2    |0.0        |\n",
      "|[2013-01-01 22:00:00, 2013-01-02 00:00:00]|RUT    |14.0       |RUT    |[2012-12-31 00:00:00, 2013-01-07 00:00:00]|30.2    |0.0        |\n",
      "|[2013-01-01 22:00:00, 2013-01-02 00:00:00]|RUT    |14.0       |RUT    |[2012-12-26 00:00:00, 2013-01-02 00:00:00]|30.2    |0.0        |\n",
      "|[2013-01-01 22:00:00, 2013-01-02 00:00:00]|RUT    |14.0       |RUT    |[2012-12-30 00:00:00, 2013-01-06 00:00:00]|30.2    |0.0        |\n",
      "|[2013-01-01 22:00:00, 2013-01-02 00:00:00]|RUT    |14.0       |RUT    |[2012-12-27 00:00:00, 2013-01-03 00:00:00]|30.2    |0.0        |\n",
      "|[2013-01-01 22:00:00, 2013-01-02 00:00:00]|RUT    |14.0       |RUT    |[2012-12-29 00:00:00, 2013-01-05 00:00:00]|30.2    |0.0        |\n",
      "|[2013-01-01 22:00:00, 2013-01-02 00:00:00]|RUT    |14.0       |RUT    |[2013-01-01 00:00:00, 2013-01-08 00:00:00]|30.2    |0.0        |\n",
      "|[2013-01-01 22:00:00, 2013-01-02 00:00:00]|RUT    |14.0       |RUT    |[2012-12-28 00:00:00, 2013-01-04 00:00:00]|30.2    |0.0        |\n",
      "|[2013-01-01 22:00:00, 2013-01-02 00:00:00]|RUT    |14.0       |RUT    |[2012-12-31 00:00:00, 2013-01-07 00:00:00]|30.2    |0.0        |\n",
      "|[2013-01-01 22:00:00, 2013-01-02 00:00:00]|RUT    |14.0       |RUT    |[2012-12-26 00:00:00, 2013-01-02 00:00:00]|30.2    |0.0        |\n",
      "|[2013-01-01 22:00:00, 2013-01-02 00:00:00]|RUT    |14.0       |RUT    |[2012-12-30 00:00:00, 2013-01-06 00:00:00]|30.2    |0.0        |\n",
      "|[2013-01-01 22:00:00, 2013-01-02 00:00:00]|RUT    |14.0       |RUT    |[2012-12-27 00:00:00, 2013-01-03 00:00:00]|30.2    |0.0        |\n",
      "|[2013-01-01 22:00:00, 2013-01-02 00:00:00]|RUT    |14.0       |RUT    |[2012-12-29 00:00:00, 2013-01-05 00:00:00]|30.2    |0.0        |\n",
      "|[2013-01-01 22:00:00, 2013-01-02 00:00:00]|RUT    |14.0       |RUT    |[2013-01-01 00:00:00, 2013-01-08 00:00:00]|30.2    |0.0        |\n",
      "|[2013-01-01 22:00:00, 2013-01-02 00:00:00]|RUT    |14.0       |RUT    |[2012-12-28 00:00:00, 2013-01-04 00:00:00]|30.2    |0.0        |\n",
      "|[2013-01-01 22:00:00, 2013-01-02 00:00:00]|RUT    |14.0       |RUT    |[2012-12-31 00:00:00, 2013-01-07 00:00:00]|30.2    |0.0        |\n",
      "|[2013-01-01 22:00:00, 2013-01-02 00:00:00]|RUT    |14.0       |RUT    |[2012-12-26 00:00:00, 2013-01-02 00:00:00]|30.2    |0.0        |\n",
      "|[2013-01-01 22:00:00, 2013-01-02 00:00:00]|RUT    |14.0       |RUT    |[2012-12-30 00:00:00, 2013-01-06 00:00:00]|30.2    |0.0        |\n",
      "+------------------------------------------+-------+-----------+-------+------------------------------------------+--------+-----------+\n",
      "only showing top 20 rows\n",
      "\n"
     ]
    },
    {
     "name": "stderr",
     "output_type": "stream",
     "text": [
      "23/04/12 17:04:54 WARN ProcessingTimeExecutor: Current batch is falling behind. The trigger interval is 10000 milliseconds, but spent 23404 milliseconds\n",
      "                                                                                \r"
     ]
    },
    {
     "name": "stdout",
     "output_type": "stream",
     "text": [
      "-------------------------------------------\n",
      "Batch: 61\n",
      "-------------------------------------------\n",
      "+------+-------+-----------+-------+------+--------+-----------+\n",
      "|Window|station|temperature|station|window|avg_temp|stddev_temp|\n",
      "+------+-------+-----------+-------+------+--------+-----------+\n",
      "+------+-------+-----------+-------+------+--------+-----------+\n",
      "\n"
     ]
    },
    {
     "name": "stderr",
     "output_type": "stream",
     "text": [
      "23/04/12 17:05:03 WARN ProcessingTimeExecutor: Current batch is falling behind. The trigger interval is 10000 milliseconds, but spent 26031 milliseconds\n",
      "                                                                                \r"
     ]
    },
    {
     "name": "stdout",
     "output_type": "stream",
     "text": [
      "-------------------------------------------\n",
      "Batch: 124\n",
      "-------------------------------------------\n",
      "+------------------------------------------+-------+-----------+\n",
      "|Window                                    |station|temperature|\n",
      "+------------------------------------------+-------+-----------+\n",
      "|[2013-01-01 22:00:00, 2013-01-02 00:00:00]|RUT    |14.0       |\n",
      "|[2013-01-01 22:00:00, 2013-01-02 00:00:00]|RUT    |14.0       |\n",
      "|[2013-01-01 22:00:00, 2013-01-02 00:00:00]|RUT    |14.0       |\n",
      "|[2013-01-01 22:00:00, 2013-01-02 00:00:00]|RUT    |12.2       |\n",
      "|[2013-01-01 22:00:00, 2013-01-02 00:00:00]|RUT    |12.2       |\n",
      "|[2013-01-01 14:00:00, 2013-01-01 16:00:00]|VSF    |26.06      |\n",
      "|[2013-01-01 14:00:00, 2013-01-01 16:00:00]|VSF    |24.98      |\n",
      "|[2013-01-01 06:00:00, 2013-01-01 08:00:00]|RUT    |30.2       |\n",
      "|[2013-01-01 06:00:00, 2013-01-01 08:00:00]|RUT    |30.2       |\n",
      "|[2013-01-01 06:00:00, 2013-01-01 08:00:00]|RUT    |30.2       |\n",
      "|[2013-01-01 06:00:00, 2013-01-01 08:00:00]|RUT    |30.2       |\n",
      "|[2013-01-01 06:00:00, 2013-01-01 08:00:00]|RUT    |30.2       |\n",
      "|[2013-01-01 22:00:00, 2013-01-02 00:00:00]|FSO    |6.98       |\n",
      "|[2013-01-01 22:00:00, 2013-01-02 00:00:00]|FSO    |6.8        |\n",
      "|[2013-01-01 22:00:00, 2013-01-02 00:00:00]|FSO    |6.8        |\n",
      "|[2013-01-01 22:00:00, 2013-01-02 00:00:00]|FSO    |6.8        |\n",
      "|[2013-01-01 22:00:00, 2013-01-02 00:00:00]|FSO    |6.8        |\n",
      "|[2013-01-01 22:00:00, 2013-01-02 00:00:00]|FSO    |6.8        |\n",
      "|[2013-01-01 19:00:00, 2013-01-01 21:00:00]|CDA    |14.0       |\n",
      "|[2013-01-01 19:00:00, 2013-01-01 21:00:00]|CDA    |14.36      |\n",
      "+------------------------------------------+-------+-----------+\n",
      "only showing top 20 rows\n",
      "\n"
     ]
    },
    {
     "name": "stderr",
     "output_type": "stream",
     "text": [
      "23/04/12 17:05:09 WARN ProcessingTimeExecutor: Current batch is falling behind. The trigger interval is 10000 milliseconds, but spent 26002 milliseconds\n",
      "                                                                                \r"
     ]
    },
    {
     "name": "stdout",
     "output_type": "stream",
     "text": [
      "-------------------------------------------\n",
      "Batch: 95\n",
      "-------------------------------------------\n",
      "+------------------------------------------+-------+-----------+-------+------------------------------------------+--------+-----------+\n",
      "|Window                                    |station|temperature|station|window                                    |avg_temp|stddev_temp|\n",
      "+------------------------------------------+-------+-----------+-------+------------------------------------------+--------+-----------+\n",
      "|[2013-01-01 22:00:00, 2013-01-02 00:00:00]|RUT    |14.0       |RUT    |[2012-12-29 00:00:00, 2013-01-05 00:00:00]|30.2    |0.0        |\n",
      "|[2013-01-01 22:00:00, 2013-01-02 00:00:00]|RUT    |14.0       |RUT    |[2013-01-01 00:00:00, 2013-01-08 00:00:00]|30.2    |0.0        |\n",
      "|[2013-01-01 22:00:00, 2013-01-02 00:00:00]|RUT    |14.0       |RUT    |[2012-12-28 00:00:00, 2013-01-04 00:00:00]|30.2    |0.0        |\n",
      "|[2013-01-01 22:00:00, 2013-01-02 00:00:00]|RUT    |14.0       |RUT    |[2012-12-31 00:00:00, 2013-01-07 00:00:00]|30.2    |0.0        |\n",
      "|[2013-01-01 22:00:00, 2013-01-02 00:00:00]|RUT    |14.0       |RUT    |[2012-12-26 00:00:00, 2013-01-02 00:00:00]|30.2    |0.0        |\n",
      "|[2013-01-01 22:00:00, 2013-01-02 00:00:00]|RUT    |14.0       |RUT    |[2012-12-30 00:00:00, 2013-01-06 00:00:00]|30.2    |0.0        |\n",
      "|[2013-01-01 22:00:00, 2013-01-02 00:00:00]|RUT    |14.0       |RUT    |[2012-12-27 00:00:00, 2013-01-03 00:00:00]|30.2    |0.0        |\n",
      "|[2013-01-01 22:00:00, 2013-01-02 00:00:00]|RUT    |14.0       |RUT    |[2012-12-29 00:00:00, 2013-01-05 00:00:00]|30.2    |0.0        |\n",
      "|[2013-01-01 22:00:00, 2013-01-02 00:00:00]|RUT    |14.0       |RUT    |[2013-01-01 00:00:00, 2013-01-08 00:00:00]|30.2    |0.0        |\n",
      "|[2013-01-01 22:00:00, 2013-01-02 00:00:00]|RUT    |14.0       |RUT    |[2012-12-28 00:00:00, 2013-01-04 00:00:00]|30.2    |0.0        |\n",
      "|[2013-01-01 22:00:00, 2013-01-02 00:00:00]|RUT    |14.0       |RUT    |[2012-12-31 00:00:00, 2013-01-07 00:00:00]|30.2    |0.0        |\n",
      "|[2013-01-01 22:00:00, 2013-01-02 00:00:00]|RUT    |14.0       |RUT    |[2012-12-26 00:00:00, 2013-01-02 00:00:00]|30.2    |0.0        |\n",
      "|[2013-01-01 22:00:00, 2013-01-02 00:00:00]|RUT    |14.0       |RUT    |[2012-12-30 00:00:00, 2013-01-06 00:00:00]|30.2    |0.0        |\n",
      "|[2013-01-01 22:00:00, 2013-01-02 00:00:00]|RUT    |14.0       |RUT    |[2012-12-27 00:00:00, 2013-01-03 00:00:00]|30.2    |0.0        |\n",
      "|[2013-01-01 22:00:00, 2013-01-02 00:00:00]|RUT    |14.0       |RUT    |[2012-12-29 00:00:00, 2013-01-05 00:00:00]|30.2    |0.0        |\n",
      "|[2013-01-01 22:00:00, 2013-01-02 00:00:00]|RUT    |14.0       |RUT    |[2013-01-01 00:00:00, 2013-01-08 00:00:00]|30.2    |0.0        |\n",
      "|[2013-01-01 22:00:00, 2013-01-02 00:00:00]|RUT    |14.0       |RUT    |[2012-12-28 00:00:00, 2013-01-04 00:00:00]|30.2    |0.0        |\n",
      "|[2013-01-01 22:00:00, 2013-01-02 00:00:00]|RUT    |14.0       |RUT    |[2012-12-31 00:00:00, 2013-01-07 00:00:00]|30.2    |0.0        |\n",
      "|[2013-01-01 22:00:00, 2013-01-02 00:00:00]|RUT    |14.0       |RUT    |[2012-12-26 00:00:00, 2013-01-02 00:00:00]|30.2    |0.0        |\n",
      "|[2013-01-01 22:00:00, 2013-01-02 00:00:00]|RUT    |14.0       |RUT    |[2012-12-30 00:00:00, 2013-01-06 00:00:00]|30.2    |0.0        |\n",
      "+------------------------------------------+-------+-----------+-------+------------------------------------------+--------+-----------+\n",
      "only showing top 20 rows\n",
      "\n"
     ]
    },
    {
     "name": "stderr",
     "output_type": "stream",
     "text": [
      "23/04/12 17:05:16 WARN ProcessingTimeExecutor: Current batch is falling behind. The trigger interval is 10000 milliseconds, but spent 21794 milliseconds\n",
      "[Stage 1119:(196 + 2) / 200][Stage 1120:> (0 + 0) / 1][Stage 1121:> (0 + 0) / 1]\r"
     ]
    },
    {
     "name": "stdout",
     "output_type": "stream",
     "text": [
      "-------------------------------------------\n",
      "Batch: 62\n",
      "-------------------------------------------\n",
      "+------+-------+-----------+-------+------+--------+-----------+\n",
      "|Window|station|temperature|station|window|avg_temp|stddev_temp|\n",
      "+------+-------+-----------+-------+------+--------+-----------+\n",
      "+------+-------+-----------+-------+------+--------+-----------+\n",
      "\n"
     ]
    },
    {
     "name": "stderr",
     "output_type": "stream",
     "text": [
      "23/04/12 17:05:22 WARN ProcessingTimeExecutor: Current batch is falling behind. The trigger interval is 10000 milliseconds, but spent 19190 milliseconds\n",
      "                                                                                \r"
     ]
    },
    {
     "name": "stdout",
     "output_type": "stream",
     "text": [
      "-------------------------------------------\n",
      "Batch: 125\n",
      "-------------------------------------------\n",
      "+------------------------------------------+-------+-----------+\n",
      "|Window                                    |station|temperature|\n",
      "+------------------------------------------+-------+-----------+\n",
      "|[2013-01-01 22:00:00, 2013-01-02 00:00:00]|RUT    |14.0       |\n",
      "|[2013-01-01 22:00:00, 2013-01-02 00:00:00]|RUT    |14.0       |\n",
      "|[2013-01-01 22:00:00, 2013-01-02 00:00:00]|RUT    |14.0       |\n",
      "|[2013-01-01 22:00:00, 2013-01-02 00:00:00]|RUT    |12.2       |\n",
      "|[2013-01-01 22:00:00, 2013-01-02 00:00:00]|RUT    |12.2       |\n",
      "|[2013-01-01 14:00:00, 2013-01-01 16:00:00]|VSF    |26.06      |\n",
      "|[2013-01-01 14:00:00, 2013-01-01 16:00:00]|VSF    |24.98      |\n",
      "|[2013-01-01 06:00:00, 2013-01-01 08:00:00]|RUT    |30.2       |\n",
      "|[2013-01-01 06:00:00, 2013-01-01 08:00:00]|RUT    |30.2       |\n",
      "|[2013-01-01 06:00:00, 2013-01-01 08:00:00]|RUT    |30.2       |\n",
      "|[2013-01-01 06:00:00, 2013-01-01 08:00:00]|RUT    |30.2       |\n",
      "|[2013-01-01 06:00:00, 2013-01-01 08:00:00]|RUT    |30.2       |\n",
      "|[2013-01-01 22:00:00, 2013-01-02 00:00:00]|FSO    |6.98       |\n",
      "|[2013-01-01 22:00:00, 2013-01-02 00:00:00]|FSO    |6.8        |\n",
      "|[2013-01-01 22:00:00, 2013-01-02 00:00:00]|FSO    |6.8        |\n",
      "|[2013-01-01 22:00:00, 2013-01-02 00:00:00]|FSO    |6.8        |\n",
      "|[2013-01-01 22:00:00, 2013-01-02 00:00:00]|FSO    |6.8        |\n",
      "|[2013-01-01 22:00:00, 2013-01-02 00:00:00]|FSO    |6.8        |\n",
      "|[2013-01-01 19:00:00, 2013-01-01 21:00:00]|CDA    |14.0       |\n",
      "|[2013-01-01 19:00:00, 2013-01-01 21:00:00]|CDA    |14.36      |\n",
      "+------------------------------------------+-------+-----------+\n",
      "only showing top 20 rows\n",
      "\n"
     ]
    },
    {
     "name": "stderr",
     "output_type": "stream",
     "text": [
      "23/04/12 17:05:29 WARN ProcessingTimeExecutor: Current batch is falling behind. The trigger interval is 10000 milliseconds, but spent 20000 milliseconds\n",
      "                                                                                \r"
     ]
    },
    {
     "name": "stdout",
     "output_type": "stream",
     "text": [
      "-------------------------------------------\n",
      "Batch: 96\n",
      "-------------------------------------------\n"
     ]
    },
    {
     "name": "stderr",
     "output_type": "stream",
     "text": [
      "23/04/12 17:05:36 WARN ProcessingTimeExecutor: Current batch is falling behind. The trigger interval is 10000 milliseconds, but spent 19978 milliseconds\n"
     ]
    },
    {
     "name": "stdout",
     "output_type": "stream",
     "text": [
      "+------------------------------------------+-------+-----------+-------+------------------------------------------+--------+-----------+\n",
      "|Window                                    |station|temperature|station|window                                    |avg_temp|stddev_temp|\n",
      "+------------------------------------------+-------+-----------+-------+------------------------------------------+--------+-----------+\n",
      "|[2013-01-01 22:00:00, 2013-01-02 00:00:00]|RUT    |14.0       |RUT    |[2012-12-29 00:00:00, 2013-01-05 00:00:00]|30.2    |0.0        |\n",
      "|[2013-01-01 22:00:00, 2013-01-02 00:00:00]|RUT    |14.0       |RUT    |[2013-01-01 00:00:00, 2013-01-08 00:00:00]|30.2    |0.0        |\n",
      "|[2013-01-01 22:00:00, 2013-01-02 00:00:00]|RUT    |14.0       |RUT    |[2012-12-28 00:00:00, 2013-01-04 00:00:00]|30.2    |0.0        |\n",
      "|[2013-01-01 22:00:00, 2013-01-02 00:00:00]|RUT    |14.0       |RUT    |[2012-12-31 00:00:00, 2013-01-07 00:00:00]|30.2    |0.0        |\n",
      "|[2013-01-01 22:00:00, 2013-01-02 00:00:00]|RUT    |14.0       |RUT    |[2012-12-26 00:00:00, 2013-01-02 00:00:00]|30.2    |0.0        |\n",
      "|[2013-01-01 22:00:00, 2013-01-02 00:00:00]|RUT    |14.0       |RUT    |[2012-12-30 00:00:00, 2013-01-06 00:00:00]|30.2    |0.0        |\n",
      "|[2013-01-01 22:00:00, 2013-01-02 00:00:00]|RUT    |14.0       |RUT    |[2012-12-27 00:00:00, 2013-01-03 00:00:00]|30.2    |0.0        |\n",
      "|[2013-01-01 22:00:00, 2013-01-02 00:00:00]|RUT    |14.0       |RUT    |[2012-12-29 00:00:00, 2013-01-05 00:00:00]|30.2    |0.0        |\n",
      "|[2013-01-01 22:00:00, 2013-01-02 00:00:00]|RUT    |14.0       |RUT    |[2013-01-01 00:00:00, 2013-01-08 00:00:00]|30.2    |0.0        |\n",
      "|[2013-01-01 22:00:00, 2013-01-02 00:00:00]|RUT    |14.0       |RUT    |[2012-12-28 00:00:00, 2013-01-04 00:00:00]|30.2    |0.0        |\n",
      "|[2013-01-01 22:00:00, 2013-01-02 00:00:00]|RUT    |14.0       |RUT    |[2012-12-31 00:00:00, 2013-01-07 00:00:00]|30.2    |0.0        |\n",
      "|[2013-01-01 22:00:00, 2013-01-02 00:00:00]|RUT    |14.0       |RUT    |[2012-12-26 00:00:00, 2013-01-02 00:00:00]|30.2    |0.0        |\n",
      "|[2013-01-01 22:00:00, 2013-01-02 00:00:00]|RUT    |14.0       |RUT    |[2012-12-30 00:00:00, 2013-01-06 00:00:00]|30.2    |0.0        |\n",
      "|[2013-01-01 22:00:00, 2013-01-02 00:00:00]|RUT    |14.0       |RUT    |[2012-12-27 00:00:00, 2013-01-03 00:00:00]|30.2    |0.0        |\n",
      "|[2013-01-01 22:00:00, 2013-01-02 00:00:00]|RUT    |14.0       |RUT    |[2012-12-29 00:00:00, 2013-01-05 00:00:00]|30.2    |0.0        |\n",
      "|[2013-01-01 22:00:00, 2013-01-02 00:00:00]|RUT    |14.0       |RUT    |[2013-01-01 00:00:00, 2013-01-08 00:00:00]|30.2    |0.0        |\n",
      "|[2013-01-01 22:00:00, 2013-01-02 00:00:00]|RUT    |14.0       |RUT    |[2012-12-28 00:00:00, 2013-01-04 00:00:00]|30.2    |0.0        |\n",
      "|[2013-01-01 22:00:00, 2013-01-02 00:00:00]|RUT    |14.0       |RUT    |[2012-12-31 00:00:00, 2013-01-07 00:00:00]|30.2    |0.0        |\n",
      "|[2013-01-01 22:00:00, 2013-01-02 00:00:00]|RUT    |14.0       |RUT    |[2012-12-26 00:00:00, 2013-01-02 00:00:00]|30.2    |0.0        |\n",
      "|[2013-01-01 22:00:00, 2013-01-02 00:00:00]|RUT    |14.0       |RUT    |[2012-12-30 00:00:00, 2013-01-06 00:00:00]|30.2    |0.0        |\n",
      "+------------------------------------------+-------+-----------+-------+------------------------------------------+--------+-----------+\n",
      "only showing top 20 rows\n",
      "\n"
     ]
    },
    {
     "name": "stderr",
     "output_type": "stream",
     "text": [
      "                                                                                \r"
     ]
    },
    {
     "name": "stdout",
     "output_type": "stream",
     "text": [
      "-------------------------------------------\n",
      "Batch: 126\n",
      "-------------------------------------------\n",
      "+------------------------------------------+-------+-----------+\n",
      "|Window                                    |station|temperature|\n",
      "+------------------------------------------+-------+-----------+\n",
      "|[2013-01-01 22:00:00, 2013-01-02 00:00:00]|RUT    |14.0       |\n",
      "|[2013-01-01 22:00:00, 2013-01-02 00:00:00]|RUT    |14.0       |\n",
      "|[2013-01-01 22:00:00, 2013-01-02 00:00:00]|RUT    |14.0       |\n",
      "|[2013-01-01 22:00:00, 2013-01-02 00:00:00]|RUT    |12.2       |\n",
      "|[2013-01-01 22:00:00, 2013-01-02 00:00:00]|RUT    |12.2       |\n",
      "|[2013-01-01 14:00:00, 2013-01-01 16:00:00]|VSF    |26.06      |\n",
      "|[2013-01-01 14:00:00, 2013-01-01 16:00:00]|VSF    |24.98      |\n",
      "|[2013-01-01 06:00:00, 2013-01-01 08:00:00]|RUT    |30.2       |\n",
      "|[2013-01-01 06:00:00, 2013-01-01 08:00:00]|RUT    |30.2       |\n",
      "|[2013-01-01 06:00:00, 2013-01-01 08:00:00]|RUT    |30.2       |\n",
      "|[2013-01-01 06:00:00, 2013-01-01 08:00:00]|RUT    |30.2       |\n",
      "|[2013-01-01 06:00:00, 2013-01-01 08:00:00]|RUT    |30.2       |\n",
      "|[2013-01-01 22:00:00, 2013-01-02 00:00:00]|FSO    |6.98       |\n",
      "|[2013-01-01 22:00:00, 2013-01-02 00:00:00]|FSO    |6.8        |\n",
      "|[2013-01-01 22:00:00, 2013-01-02 00:00:00]|FSO    |6.8        |\n",
      "|[2013-01-01 22:00:00, 2013-01-02 00:00:00]|FSO    |6.8        |\n",
      "|[2013-01-01 22:00:00, 2013-01-02 00:00:00]|FSO    |6.8        |\n",
      "|[2013-01-01 22:00:00, 2013-01-02 00:00:00]|FSO    |6.8        |\n",
      "|[2013-01-01 19:00:00, 2013-01-01 21:00:00]|CDA    |14.0       |\n",
      "|[2013-01-01 19:00:00, 2013-01-01 21:00:00]|CDA    |14.36      |\n",
      "+------------------------------------------+-------+-----------+\n",
      "only showing top 20 rows\n",
      "\n"
     ]
    },
    {
     "name": "stderr",
     "output_type": "stream",
     "text": [
      "23/04/12 17:05:43 WARN ProcessingTimeExecutor: Current batch is falling behind. The trigger interval is 10000 milliseconds, but spent 14101 milliseconds\n",
      "                                                                                \r"
     ]
    },
    {
     "name": "stdout",
     "output_type": "stream",
     "text": [
      "-------------------------------------------\n",
      "Batch: 63\n",
      "-------------------------------------------\n",
      "+------+-------+-----------+-------+------+--------+-----------+\n",
      "|Window|station|temperature|station|window|avg_temp|stddev_temp|\n",
      "+------+-------+-----------+-------+------+--------+-----------+\n",
      "+------+-------+-----------+-------+------+--------+-----------+\n",
      "\n"
     ]
    },
    {
     "name": "stderr",
     "output_type": "stream",
     "text": [
      "23/04/12 17:05:54 WARN ProcessingTimeExecutor: Current batch is falling behind. The trigger interval is 10000 milliseconds, but spent 31687 milliseconds\n",
      "                                                                                \r"
     ]
    },
    {
     "name": "stdout",
     "output_type": "stream",
     "text": [
      "-------------------------------------------\n",
      "Batch: 97\n",
      "-------------------------------------------\n",
      "+------------------------------------------+-------+-----------+-------+------------------------------------------+--------+-----------+\n",
      "|Window                                    |station|temperature|station|window                                    |avg_temp|stddev_temp|\n",
      "+------------------------------------------+-------+-----------+-------+------------------------------------------+--------+-----------+\n",
      "|[2013-01-01 22:00:00, 2013-01-02 00:00:00]|RUT    |14.0       |RUT    |[2012-12-29 00:00:00, 2013-01-05 00:00:00]|30.2    |0.0        |\n",
      "|[2013-01-01 22:00:00, 2013-01-02 00:00:00]|RUT    |14.0       |RUT    |[2013-01-01 00:00:00, 2013-01-08 00:00:00]|30.2    |0.0        |\n",
      "|[2013-01-01 22:00:00, 2013-01-02 00:00:00]|RUT    |14.0       |RUT    |[2012-12-28 00:00:00, 2013-01-04 00:00:00]|30.2    |0.0        |\n",
      "|[2013-01-01 22:00:00, 2013-01-02 00:00:00]|RUT    |14.0       |RUT    |[2012-12-31 00:00:00, 2013-01-07 00:00:00]|30.2    |0.0        |\n",
      "|[2013-01-01 22:00:00, 2013-01-02 00:00:00]|RUT    |14.0       |RUT    |[2012-12-26 00:00:00, 2013-01-02 00:00:00]|30.2    |0.0        |\n",
      "|[2013-01-01 22:00:00, 2013-01-02 00:00:00]|RUT    |14.0       |RUT    |[2012-12-30 00:00:00, 2013-01-06 00:00:00]|30.2    |0.0        |\n",
      "|[2013-01-01 22:00:00, 2013-01-02 00:00:00]|RUT    |14.0       |RUT    |[2012-12-27 00:00:00, 2013-01-03 00:00:00]|30.2    |0.0        |\n",
      "|[2013-01-01 22:00:00, 2013-01-02 00:00:00]|RUT    |14.0       |RUT    |[2012-12-29 00:00:00, 2013-01-05 00:00:00]|30.2    |0.0        |\n",
      "|[2013-01-01 22:00:00, 2013-01-02 00:00:00]|RUT    |14.0       |RUT    |[2013-01-01 00:00:00, 2013-01-08 00:00:00]|30.2    |0.0        |\n",
      "|[2013-01-01 22:00:00, 2013-01-02 00:00:00]|RUT    |14.0       |RUT    |[2012-12-28 00:00:00, 2013-01-04 00:00:00]|30.2    |0.0        |\n",
      "|[2013-01-01 22:00:00, 2013-01-02 00:00:00]|RUT    |14.0       |RUT    |[2012-12-31 00:00:00, 2013-01-07 00:00:00]|30.2    |0.0        |\n",
      "|[2013-01-01 22:00:00, 2013-01-02 00:00:00]|RUT    |14.0       |RUT    |[2012-12-26 00:00:00, 2013-01-02 00:00:00]|30.2    |0.0        |\n",
      "|[2013-01-01 22:00:00, 2013-01-02 00:00:00]|RUT    |14.0       |RUT    |[2012-12-30 00:00:00, 2013-01-06 00:00:00]|30.2    |0.0        |\n",
      "|[2013-01-01 22:00:00, 2013-01-02 00:00:00]|RUT    |14.0       |RUT    |[2012-12-27 00:00:00, 2013-01-03 00:00:00]|30.2    |0.0        |\n",
      "|[2013-01-01 22:00:00, 2013-01-02 00:00:00]|RUT    |14.0       |RUT    |[2012-12-29 00:00:00, 2013-01-05 00:00:00]|30.2    |0.0        |\n",
      "|[2013-01-01 22:00:00, 2013-01-02 00:00:00]|RUT    |14.0       |RUT    |[2013-01-01 00:00:00, 2013-01-08 00:00:00]|30.2    |0.0        |\n",
      "|[2013-01-01 22:00:00, 2013-01-02 00:00:00]|RUT    |14.0       |RUT    |[2012-12-28 00:00:00, 2013-01-04 00:00:00]|30.2    |0.0        |\n",
      "|[2013-01-01 22:00:00, 2013-01-02 00:00:00]|RUT    |14.0       |RUT    |[2012-12-31 00:00:00, 2013-01-07 00:00:00]|30.2    |0.0        |\n",
      "|[2013-01-01 22:00:00, 2013-01-02 00:00:00]|RUT    |14.0       |RUT    |[2012-12-26 00:00:00, 2013-01-02 00:00:00]|30.2    |0.0        |\n",
      "|[2013-01-01 22:00:00, 2013-01-02 00:00:00]|RUT    |14.0       |RUT    |[2012-12-30 00:00:00, 2013-01-06 00:00:00]|30.2    |0.0        |\n",
      "+------------------------------------------+-------+-----------+-------+------------------------------------------+--------+-----------+\n",
      "only showing top 20 rows\n",
      "\n"
     ]
    },
    {
     "name": "stderr",
     "output_type": "stream",
     "text": [
      "23/04/12 17:06:01 WARN ProcessingTimeExecutor: Current batch is falling behind. The trigger interval is 10000 milliseconds, but spent 24939 milliseconds\n",
      "                                                                                \r"
     ]
    },
    {
     "name": "stdout",
     "output_type": "stream",
     "text": [
      "-------------------------------------------\n",
      "Batch: 127\n",
      "-------------------------------------------\n",
      "+------------------------------------------+-------+-----------+\n",
      "|Window                                    |station|temperature|\n",
      "+------------------------------------------+-------+-----------+\n",
      "|[2013-01-01 22:00:00, 2013-01-02 00:00:00]|RUT    |14.0       |\n",
      "|[2013-01-01 22:00:00, 2013-01-02 00:00:00]|RUT    |14.0       |\n",
      "|[2013-01-01 22:00:00, 2013-01-02 00:00:00]|RUT    |14.0       |\n",
      "|[2013-01-01 22:00:00, 2013-01-02 00:00:00]|RUT    |12.2       |\n",
      "|[2013-01-01 22:00:00, 2013-01-02 00:00:00]|RUT    |12.2       |\n",
      "|[2013-01-01 14:00:00, 2013-01-01 16:00:00]|VSF    |26.06      |\n",
      "|[2013-01-01 14:00:00, 2013-01-01 16:00:00]|VSF    |24.98      |\n",
      "|[2013-01-01 06:00:00, 2013-01-01 08:00:00]|RUT    |30.2       |\n",
      "|[2013-01-01 06:00:00, 2013-01-01 08:00:00]|RUT    |30.2       |\n",
      "|[2013-01-01 06:00:00, 2013-01-01 08:00:00]|RUT    |30.2       |\n",
      "|[2013-01-01 06:00:00, 2013-01-01 08:00:00]|RUT    |30.2       |\n",
      "|[2013-01-01 06:00:00, 2013-01-01 08:00:00]|RUT    |30.2       |\n",
      "|[2013-01-01 22:00:00, 2013-01-02 00:00:00]|FSO    |6.98       |\n",
      "|[2013-01-01 22:00:00, 2013-01-02 00:00:00]|FSO    |6.8        |\n",
      "|[2013-01-01 22:00:00, 2013-01-02 00:00:00]|FSO    |6.8        |\n",
      "|[2013-01-01 22:00:00, 2013-01-02 00:00:00]|FSO    |6.8        |\n",
      "|[2013-01-01 22:00:00, 2013-01-02 00:00:00]|FSO    |6.8        |\n",
      "|[2013-01-01 22:00:00, 2013-01-02 00:00:00]|FSO    |6.8        |\n",
      "|[2013-01-01 19:00:00, 2013-01-01 21:00:00]|CDA    |14.0       |\n",
      "|[2013-01-01 19:00:00, 2013-01-01 21:00:00]|CDA    |14.36      |\n",
      "+------------------------------------------+-------+-----------+\n",
      "only showing top 20 rows\n",
      "\n"
     ]
    },
    {
     "name": "stderr",
     "output_type": "stream",
     "text": [
      "23/04/12 17:06:08 WARN ProcessingTimeExecutor: Current batch is falling behind. The trigger interval is 10000 milliseconds, but spent 24685 milliseconds\n",
      "                                                                                \r"
     ]
    },
    {
     "name": "stdout",
     "output_type": "stream",
     "text": [
      "-------------------------------------------\n",
      "Batch: 98\n",
      "-------------------------------------------\n",
      "+------------------------------------------+-------+-----------+-------+------------------------------------------+--------+-----------+\n",
      "|Window                                    |station|temperature|station|window                                    |avg_temp|stddev_temp|\n",
      "+------------------------------------------+-------+-----------+-------+------------------------------------------+--------+-----------+\n",
      "|[2013-01-01 22:00:00, 2013-01-02 00:00:00]|RUT    |14.0       |RUT    |[2012-12-29 00:00:00, 2013-01-05 00:00:00]|30.2    |0.0        |\n",
      "|[2013-01-01 22:00:00, 2013-01-02 00:00:00]|RUT    |14.0       |RUT    |[2013-01-01 00:00:00, 2013-01-08 00:00:00]|30.2    |0.0        |\n",
      "|[2013-01-01 22:00:00, 2013-01-02 00:00:00]|RUT    |14.0       |RUT    |[2012-12-28 00:00:00, 2013-01-04 00:00:00]|30.2    |0.0        |\n",
      "|[2013-01-01 22:00:00, 2013-01-02 00:00:00]|RUT    |14.0       |RUT    |[2012-12-31 00:00:00, 2013-01-07 00:00:00]|30.2    |0.0        |\n",
      "|[2013-01-01 22:00:00, 2013-01-02 00:00:00]|RUT    |14.0       |RUT    |[2012-12-26 00:00:00, 2013-01-02 00:00:00]|30.2    |0.0        |\n",
      "|[2013-01-01 22:00:00, 2013-01-02 00:00:00]|RUT    |14.0       |RUT    |[2012-12-30 00:00:00, 2013-01-06 00:00:00]|30.2    |0.0        |\n",
      "|[2013-01-01 22:00:00, 2013-01-02 00:00:00]|RUT    |14.0       |RUT    |[2012-12-27 00:00:00, 2013-01-03 00:00:00]|30.2    |0.0        |\n",
      "|[2013-01-01 22:00:00, 2013-01-02 00:00:00]|RUT    |14.0       |RUT    |[2012-12-29 00:00:00, 2013-01-05 00:00:00]|30.2    |0.0        |\n",
      "|[2013-01-01 22:00:00, 2013-01-02 00:00:00]|RUT    |14.0       |RUT    |[2013-01-01 00:00:00, 2013-01-08 00:00:00]|30.2    |0.0        |\n",
      "|[2013-01-01 22:00:00, 2013-01-02 00:00:00]|RUT    |14.0       |RUT    |[2012-12-28 00:00:00, 2013-01-04 00:00:00]|30.2    |0.0        |\n",
      "|[2013-01-01 22:00:00, 2013-01-02 00:00:00]|RUT    |14.0       |RUT    |[2012-12-31 00:00:00, 2013-01-07 00:00:00]|30.2    |0.0        |\n",
      "|[2013-01-01 22:00:00, 2013-01-02 00:00:00]|RUT    |14.0       |RUT    |[2012-12-26 00:00:00, 2013-01-02 00:00:00]|30.2    |0.0        |\n",
      "|[2013-01-01 22:00:00, 2013-01-02 00:00:00]|RUT    |14.0       |RUT    |[2012-12-30 00:00:00, 2013-01-06 00:00:00]|30.2    |0.0        |\n",
      "|[2013-01-01 22:00:00, 2013-01-02 00:00:00]|RUT    |14.0       |RUT    |[2012-12-27 00:00:00, 2013-01-03 00:00:00]|30.2    |0.0        |\n",
      "|[2013-01-01 22:00:00, 2013-01-02 00:00:00]|RUT    |14.0       |RUT    |[2012-12-29 00:00:00, 2013-01-05 00:00:00]|30.2    |0.0        |\n",
      "|[2013-01-01 22:00:00, 2013-01-02 00:00:00]|RUT    |14.0       |RUT    |[2013-01-01 00:00:00, 2013-01-08 00:00:00]|30.2    |0.0        |\n",
      "|[2013-01-01 22:00:00, 2013-01-02 00:00:00]|RUT    |14.0       |RUT    |[2012-12-28 00:00:00, 2013-01-04 00:00:00]|30.2    |0.0        |\n",
      "|[2013-01-01 22:00:00, 2013-01-02 00:00:00]|RUT    |14.0       |RUT    |[2012-12-31 00:00:00, 2013-01-07 00:00:00]|30.2    |0.0        |\n",
      "|[2013-01-01 22:00:00, 2013-01-02 00:00:00]|RUT    |14.0       |RUT    |[2012-12-26 00:00:00, 2013-01-02 00:00:00]|30.2    |0.0        |\n",
      "|[2013-01-01 22:00:00, 2013-01-02 00:00:00]|RUT    |14.0       |RUT    |[2012-12-30 00:00:00, 2013-01-06 00:00:00]|30.2    |0.0        |\n",
      "+------------------------------------------+-------+-----------+-------+------------------------------------------+--------+-----------+\n",
      "only showing top 20 rows\n",
      "\n"
     ]
    },
    {
     "name": "stderr",
     "output_type": "stream",
     "text": [
      "23/04/12 17:06:14 WARN ProcessingTimeExecutor: Current batch is falling behind. The trigger interval is 10000 milliseconds, but spent 13370 milliseconds\n",
      "23/04/12 17:06:21 WARN ProcessingTimeExecutor: Current batch is falling behind. The trigger interval is 10000 milliseconds, but spent 27028 milliseconds\n"
     ]
    },
    {
     "name": "stdout",
     "output_type": "stream",
     "text": [
      "-------------------------------------------\n",
      "Batch: 64\n",
      "-------------------------------------------\n",
      "+------+-------+-----------+-------+------+--------+-----------+\n",
      "|Window|station|temperature|station|window|avg_temp|stddev_temp|\n",
      "+------+-------+-----------+-------+------+--------+-----------+\n",
      "+------+-------+-----------+-------+------+--------+-----------+\n",
      "\n"
     ]
    },
    {
     "name": "stderr",
     "output_type": "stream",
     "text": [
      "                                                                                \r"
     ]
    },
    {
     "name": "stdout",
     "output_type": "stream",
     "text": [
      "-------------------------------------------\n",
      "Batch: 128\n",
      "-------------------------------------------\n",
      "+------------------------------------------+-------+-----------+\n",
      "|Window                                    |station|temperature|\n",
      "+------------------------------------------+-------+-----------+\n",
      "|[2013-01-01 22:00:00, 2013-01-02 00:00:00]|RUT    |14.0       |\n",
      "|[2013-01-01 22:00:00, 2013-01-02 00:00:00]|RUT    |14.0       |\n",
      "|[2013-01-01 22:00:00, 2013-01-02 00:00:00]|RUT    |14.0       |\n",
      "|[2013-01-01 22:00:00, 2013-01-02 00:00:00]|RUT    |12.2       |\n",
      "|[2013-01-01 22:00:00, 2013-01-02 00:00:00]|RUT    |12.2       |\n",
      "|[2013-01-01 14:00:00, 2013-01-01 16:00:00]|VSF    |26.06      |\n",
      "|[2013-01-01 14:00:00, 2013-01-01 16:00:00]|VSF    |24.98      |\n",
      "|[2013-01-01 06:00:00, 2013-01-01 08:00:00]|RUT    |30.2       |\n",
      "|[2013-01-01 06:00:00, 2013-01-01 08:00:00]|RUT    |30.2       |\n",
      "|[2013-01-01 06:00:00, 2013-01-01 08:00:00]|RUT    |30.2       |\n",
      "|[2013-01-01 06:00:00, 2013-01-01 08:00:00]|RUT    |30.2       |\n",
      "|[2013-01-01 06:00:00, 2013-01-01 08:00:00]|RUT    |30.2       |\n",
      "|[2013-01-01 22:00:00, 2013-01-02 00:00:00]|FSO    |6.98       |\n",
      "|[2013-01-01 22:00:00, 2013-01-02 00:00:00]|FSO    |6.8        |\n",
      "|[2013-01-01 22:00:00, 2013-01-02 00:00:00]|FSO    |6.8        |\n",
      "|[2013-01-01 22:00:00, 2013-01-02 00:00:00]|FSO    |6.8        |\n",
      "|[2013-01-01 22:00:00, 2013-01-02 00:00:00]|FSO    |6.8        |\n",
      "|[2013-01-01 22:00:00, 2013-01-02 00:00:00]|FSO    |6.8        |\n",
      "|[2013-01-01 19:00:00, 2013-01-01 21:00:00]|CDA    |14.0       |\n",
      "|[2013-01-01 19:00:00, 2013-01-01 21:00:00]|CDA    |14.36      |\n",
      "+------------------------------------------+-------+-----------+\n",
      "only showing top 20 rows\n",
      "\n"
     ]
    },
    {
     "name": "stderr",
     "output_type": "stream",
     "text": [
      "23/04/12 17:06:28 WARN ProcessingTimeExecutor: Current batch is falling behind. The trigger interval is 10000 milliseconds, but spent 20273 milliseconds\n",
      "                                                                                \r"
     ]
    },
    {
     "name": "stdout",
     "output_type": "stream",
     "text": [
      "-------------------------------------------\n",
      "Batch: 99\n",
      "-------------------------------------------\n"
     ]
    },
    {
     "name": "stderr",
     "output_type": "stream",
     "text": [
      "23/04/12 17:06:36 WARN ProcessingTimeExecutor: Current batch is falling behind. The trigger interval is 10000 milliseconds, but spent 21477 milliseconds\n",
      "[Stage 1156:>            (11 + 2) / 200][Stage 1159:>             (0 + 0) / 200]\r"
     ]
    },
    {
     "name": "stdout",
     "output_type": "stream",
     "text": [
      "+------------------------------------------+-------+-----------+-------+------------------------------------------+--------+-----------+\n",
      "|Window                                    |station|temperature|station|window                                    |avg_temp|stddev_temp|\n",
      "+------------------------------------------+-------+-----------+-------+------------------------------------------+--------+-----------+\n",
      "|[2013-01-01 22:00:00, 2013-01-02 00:00:00]|RUT    |14.0       |RUT    |[2012-12-29 00:00:00, 2013-01-05 00:00:00]|30.2    |0.0        |\n",
      "|[2013-01-01 22:00:00, 2013-01-02 00:00:00]|RUT    |14.0       |RUT    |[2013-01-01 00:00:00, 2013-01-08 00:00:00]|30.2    |0.0        |\n",
      "|[2013-01-01 22:00:00, 2013-01-02 00:00:00]|RUT    |14.0       |RUT    |[2012-12-28 00:00:00, 2013-01-04 00:00:00]|30.2    |0.0        |\n",
      "|[2013-01-01 22:00:00, 2013-01-02 00:00:00]|RUT    |14.0       |RUT    |[2012-12-31 00:00:00, 2013-01-07 00:00:00]|30.2    |0.0        |\n",
      "|[2013-01-01 22:00:00, 2013-01-02 00:00:00]|RUT    |14.0       |RUT    |[2012-12-26 00:00:00, 2013-01-02 00:00:00]|30.2    |0.0        |\n",
      "|[2013-01-01 22:00:00, 2013-01-02 00:00:00]|RUT    |14.0       |RUT    |[2012-12-30 00:00:00, 2013-01-06 00:00:00]|30.2    |0.0        |\n",
      "|[2013-01-01 22:00:00, 2013-01-02 00:00:00]|RUT    |14.0       |RUT    |[2012-12-27 00:00:00, 2013-01-03 00:00:00]|30.2    |0.0        |\n",
      "|[2013-01-01 22:00:00, 2013-01-02 00:00:00]|RUT    |14.0       |RUT    |[2012-12-29 00:00:00, 2013-01-05 00:00:00]|30.2    |0.0        |\n",
      "|[2013-01-01 22:00:00, 2013-01-02 00:00:00]|RUT    |14.0       |RUT    |[2013-01-01 00:00:00, 2013-01-08 00:00:00]|30.2    |0.0        |\n",
      "|[2013-01-01 22:00:00, 2013-01-02 00:00:00]|RUT    |14.0       |RUT    |[2012-12-28 00:00:00, 2013-01-04 00:00:00]|30.2    |0.0        |\n",
      "|[2013-01-01 22:00:00, 2013-01-02 00:00:00]|RUT    |14.0       |RUT    |[2012-12-31 00:00:00, 2013-01-07 00:00:00]|30.2    |0.0        |\n",
      "|[2013-01-01 22:00:00, 2013-01-02 00:00:00]|RUT    |14.0       |RUT    |[2012-12-26 00:00:00, 2013-01-02 00:00:00]|30.2    |0.0        |\n",
      "|[2013-01-01 22:00:00, 2013-01-02 00:00:00]|RUT    |14.0       |RUT    |[2012-12-30 00:00:00, 2013-01-06 00:00:00]|30.2    |0.0        |\n",
      "|[2013-01-01 22:00:00, 2013-01-02 00:00:00]|RUT    |14.0       |RUT    |[2012-12-27 00:00:00, 2013-01-03 00:00:00]|30.2    |0.0        |\n",
      "|[2013-01-01 22:00:00, 2013-01-02 00:00:00]|RUT    |14.0       |RUT    |[2012-12-29 00:00:00, 2013-01-05 00:00:00]|30.2    |0.0        |\n",
      "|[2013-01-01 22:00:00, 2013-01-02 00:00:00]|RUT    |14.0       |RUT    |[2013-01-01 00:00:00, 2013-01-08 00:00:00]|30.2    |0.0        |\n",
      "|[2013-01-01 22:00:00, 2013-01-02 00:00:00]|RUT    |14.0       |RUT    |[2012-12-28 00:00:00, 2013-01-04 00:00:00]|30.2    |0.0        |\n",
      "|[2013-01-01 22:00:00, 2013-01-02 00:00:00]|RUT    |14.0       |RUT    |[2012-12-31 00:00:00, 2013-01-07 00:00:00]|30.2    |0.0        |\n",
      "|[2013-01-01 22:00:00, 2013-01-02 00:00:00]|RUT    |14.0       |RUT    |[2012-12-26 00:00:00, 2013-01-02 00:00:00]|30.2    |0.0        |\n",
      "|[2013-01-01 22:00:00, 2013-01-02 00:00:00]|RUT    |14.0       |RUT    |[2012-12-30 00:00:00, 2013-01-06 00:00:00]|30.2    |0.0        |\n",
      "+------------------------------------------+-------+-----------+-------+------------------------------------------+--------+-----------+\n",
      "only showing top 20 rows\n",
      "\n"
     ]
    },
    {
     "name": "stderr",
     "output_type": "stream",
     "text": [
      "23/04/12 17:06:44 WARN ProcessingTimeExecutor: Current batch is falling behind. The trigger interval is 10000 milliseconds, but spent 23437 milliseconds\n"
     ]
    },
    {
     "name": "stdout",
     "output_type": "stream",
     "text": [
      "-------------------------------------------\n",
      "Batch: 65\n",
      "-------------------------------------------\n",
      "+------+-------+-----------+-------+------+--------+-----------+\n",
      "|Window|station|temperature|station|window|avg_temp|stddev_temp|\n",
      "+------+-------+-----------+-------+------+--------+-----------+\n",
      "+------+-------+-----------+-------+------+--------+-----------+\n",
      "\n"
     ]
    },
    {
     "name": "stderr",
     "output_type": "stream",
     "text": [
      "                                                                                \r"
     ]
    },
    {
     "name": "stdout",
     "output_type": "stream",
     "text": [
      "-------------------------------------------\n",
      "Batch: 129\n",
      "-------------------------------------------\n",
      "+------------------------------------------+-------+-----------+\n",
      "|Window                                    |station|temperature|\n",
      "+------------------------------------------+-------+-----------+\n",
      "|[2013-01-01 22:00:00, 2013-01-02 00:00:00]|RUT    |14.0       |\n",
      "|[2013-01-01 22:00:00, 2013-01-02 00:00:00]|RUT    |14.0       |\n",
      "|[2013-01-01 22:00:00, 2013-01-02 00:00:00]|RUT    |14.0       |\n",
      "|[2013-01-01 22:00:00, 2013-01-02 00:00:00]|RUT    |12.2       |\n",
      "|[2013-01-01 22:00:00, 2013-01-02 00:00:00]|RUT    |12.2       |\n",
      "|[2013-01-01 14:00:00, 2013-01-01 16:00:00]|VSF    |26.06      |\n",
      "|[2013-01-01 14:00:00, 2013-01-01 16:00:00]|VSF    |24.98      |\n",
      "|[2013-01-01 06:00:00, 2013-01-01 08:00:00]|RUT    |30.2       |\n",
      "|[2013-01-01 06:00:00, 2013-01-01 08:00:00]|RUT    |30.2       |\n",
      "|[2013-01-01 06:00:00, 2013-01-01 08:00:00]|RUT    |30.2       |\n",
      "|[2013-01-01 06:00:00, 2013-01-01 08:00:00]|RUT    |30.2       |\n",
      "|[2013-01-01 06:00:00, 2013-01-01 08:00:00]|RUT    |30.2       |\n",
      "|[2013-01-01 22:00:00, 2013-01-02 00:00:00]|FSO    |6.98       |\n",
      "|[2013-01-01 22:00:00, 2013-01-02 00:00:00]|FSO    |6.8        |\n",
      "|[2013-01-01 22:00:00, 2013-01-02 00:00:00]|FSO    |6.8        |\n",
      "|[2013-01-01 22:00:00, 2013-01-02 00:00:00]|FSO    |6.8        |\n",
      "|[2013-01-01 22:00:00, 2013-01-02 00:00:00]|FSO    |6.8        |\n",
      "|[2013-01-01 22:00:00, 2013-01-02 00:00:00]|FSO    |6.8        |\n",
      "|[2013-01-01 19:00:00, 2013-01-01 21:00:00]|CDA    |14.0       |\n",
      "|[2013-01-01 19:00:00, 2013-01-01 21:00:00]|CDA    |14.36      |\n",
      "+------------------------------------------+-------+-----------+\n",
      "only showing top 20 rows\n",
      "\n"
     ]
    },
    {
     "name": "stderr",
     "output_type": "stream",
     "text": [
      "23/04/12 17:07:01 WARN ProcessingTimeExecutor: Current batch is falling behind. The trigger interval is 10000 milliseconds, but spent 33039 milliseconds\n",
      "                                                                                \r"
     ]
    },
    {
     "name": "stdout",
     "output_type": "stream",
     "text": [
      "-------------------------------------------\n",
      "Batch: 100\n",
      "-------------------------------------------\n",
      "+------------------------------------------+-------+-----------+-------+------------------------------------------+--------+-----------+\n",
      "|Window                                    |station|temperature|station|window                                    |avg_temp|stddev_temp|\n",
      "+------------------------------------------+-------+-----------+-------+------------------------------------------+--------+-----------+\n",
      "|[2013-01-01 22:00:00, 2013-01-02 00:00:00]|RUT    |14.0       |RUT    |[2012-12-29 00:00:00, 2013-01-05 00:00:00]|30.2    |0.0        |\n",
      "|[2013-01-01 22:00:00, 2013-01-02 00:00:00]|RUT    |14.0       |RUT    |[2013-01-01 00:00:00, 2013-01-08 00:00:00]|30.2    |0.0        |\n",
      "|[2013-01-01 22:00:00, 2013-01-02 00:00:00]|RUT    |14.0       |RUT    |[2012-12-28 00:00:00, 2013-01-04 00:00:00]|30.2    |0.0        |\n",
      "|[2013-01-01 22:00:00, 2013-01-02 00:00:00]|RUT    |14.0       |RUT    |[2012-12-31 00:00:00, 2013-01-07 00:00:00]|30.2    |0.0        |\n",
      "|[2013-01-01 22:00:00, 2013-01-02 00:00:00]|RUT    |14.0       |RUT    |[2012-12-26 00:00:00, 2013-01-02 00:00:00]|30.2    |0.0        |\n",
      "|[2013-01-01 22:00:00, 2013-01-02 00:00:00]|RUT    |14.0       |RUT    |[2012-12-30 00:00:00, 2013-01-06 00:00:00]|30.2    |0.0        |\n",
      "|[2013-01-01 22:00:00, 2013-01-02 00:00:00]|RUT    |14.0       |RUT    |[2012-12-27 00:00:00, 2013-01-03 00:00:00]|30.2    |0.0        |\n",
      "|[2013-01-01 22:00:00, 2013-01-02 00:00:00]|RUT    |14.0       |RUT    |[2012-12-29 00:00:00, 2013-01-05 00:00:00]|30.2    |0.0        |\n",
      "|[2013-01-01 22:00:00, 2013-01-02 00:00:00]|RUT    |14.0       |RUT    |[2013-01-01 00:00:00, 2013-01-08 00:00:00]|30.2    |0.0        |\n",
      "|[2013-01-01 22:00:00, 2013-01-02 00:00:00]|RUT    |14.0       |RUT    |[2012-12-28 00:00:00, 2013-01-04 00:00:00]|30.2    |0.0        |\n",
      "|[2013-01-01 22:00:00, 2013-01-02 00:00:00]|RUT    |14.0       |RUT    |[2012-12-31 00:00:00, 2013-01-07 00:00:00]|30.2    |0.0        |\n",
      "|[2013-01-01 22:00:00, 2013-01-02 00:00:00]|RUT    |14.0       |RUT    |[2012-12-26 00:00:00, 2013-01-02 00:00:00]|30.2    |0.0        |\n",
      "|[2013-01-01 22:00:00, 2013-01-02 00:00:00]|RUT    |14.0       |RUT    |[2012-12-30 00:00:00, 2013-01-06 00:00:00]|30.2    |0.0        |\n",
      "|[2013-01-01 22:00:00, 2013-01-02 00:00:00]|RUT    |14.0       |RUT    |[2012-12-27 00:00:00, 2013-01-03 00:00:00]|30.2    |0.0        |\n",
      "|[2013-01-01 22:00:00, 2013-01-02 00:00:00]|RUT    |14.0       |RUT    |[2012-12-29 00:00:00, 2013-01-05 00:00:00]|30.2    |0.0        |\n",
      "|[2013-01-01 22:00:00, 2013-01-02 00:00:00]|RUT    |14.0       |RUT    |[2013-01-01 00:00:00, 2013-01-08 00:00:00]|30.2    |0.0        |\n",
      "|[2013-01-01 22:00:00, 2013-01-02 00:00:00]|RUT    |14.0       |RUT    |[2012-12-28 00:00:00, 2013-01-04 00:00:00]|30.2    |0.0        |\n",
      "|[2013-01-01 22:00:00, 2013-01-02 00:00:00]|RUT    |14.0       |RUT    |[2012-12-31 00:00:00, 2013-01-07 00:00:00]|30.2    |0.0        |\n",
      "|[2013-01-01 22:00:00, 2013-01-02 00:00:00]|RUT    |14.0       |RUT    |[2012-12-26 00:00:00, 2013-01-02 00:00:00]|30.2    |0.0        |\n",
      "|[2013-01-01 22:00:00, 2013-01-02 00:00:00]|RUT    |14.0       |RUT    |[2012-12-30 00:00:00, 2013-01-06 00:00:00]|30.2    |0.0        |\n",
      "+------------------------------------------+-------+-----------+-------+------------------------------------------+--------+-----------+\n",
      "only showing top 20 rows\n",
      "\n"
     ]
    },
    {
     "name": "stderr",
     "output_type": "stream",
     "text": [
      "23/04/12 17:07:12 WARN ProcessingTimeExecutor: Current batch is falling behind. The trigger interval is 10000 milliseconds, but spent 36524 milliseconds\n",
      "                                                                                \r"
     ]
    },
    {
     "name": "stdout",
     "output_type": "stream",
     "text": [
      "-------------------------------------------\n",
      "Batch: 66\n",
      "-------------------------------------------\n",
      "+------+-------+-----------+-------+------+--------+-----------+\n",
      "|Window|station|temperature|station|window|avg_temp|stddev_temp|\n",
      "+------+-------+-----------+-------+------+--------+-----------+\n",
      "+------+-------+-----------+-------+------+--------+-----------+\n",
      "\n"
     ]
    },
    {
     "name": "stderr",
     "output_type": "stream",
     "text": [
      "23/04/12 17:07:23 WARN ProcessingTimeExecutor: Current batch is falling behind. The trigger interval is 10000 milliseconds, but spent 39275 milliseconds\n",
      "                                                                                \r"
     ]
    },
    {
     "name": "stdout",
     "output_type": "stream",
     "text": [
      "-------------------------------------------\n",
      "Batch: 130\n",
      "-------------------------------------------\n",
      "+------------------------------------------+-------+-----------+\n",
      "|Window                                    |station|temperature|\n",
      "+------------------------------------------+-------+-----------+\n",
      "|[2013-01-01 22:00:00, 2013-01-02 00:00:00]|RUT    |14.0       |\n",
      "|[2013-01-01 22:00:00, 2013-01-02 00:00:00]|RUT    |14.0       |\n",
      "|[2013-01-01 22:00:00, 2013-01-02 00:00:00]|RUT    |14.0       |\n",
      "|[2013-01-01 22:00:00, 2013-01-02 00:00:00]|RUT    |12.2       |\n",
      "|[2013-01-01 22:00:00, 2013-01-02 00:00:00]|RUT    |12.2       |\n",
      "|[2013-01-01 14:00:00, 2013-01-01 16:00:00]|VSF    |26.06      |\n",
      "|[2013-01-01 14:00:00, 2013-01-01 16:00:00]|VSF    |24.98      |\n",
      "|[2013-01-01 06:00:00, 2013-01-01 08:00:00]|RUT    |30.2       |\n",
      "|[2013-01-01 06:00:00, 2013-01-01 08:00:00]|RUT    |30.2       |\n",
      "|[2013-01-01 06:00:00, 2013-01-01 08:00:00]|RUT    |30.2       |\n",
      "|[2013-01-01 06:00:00, 2013-01-01 08:00:00]|RUT    |30.2       |\n",
      "|[2013-01-01 06:00:00, 2013-01-01 08:00:00]|RUT    |30.2       |\n",
      "|[2013-01-01 22:00:00, 2013-01-02 00:00:00]|FSO    |6.98       |\n",
      "|[2013-01-01 22:00:00, 2013-01-02 00:00:00]|FSO    |6.8        |\n",
      "|[2013-01-01 22:00:00, 2013-01-02 00:00:00]|FSO    |6.8        |\n",
      "|[2013-01-01 22:00:00, 2013-01-02 00:00:00]|FSO    |6.8        |\n",
      "|[2013-01-01 22:00:00, 2013-01-02 00:00:00]|FSO    |6.8        |\n",
      "|[2013-01-01 22:00:00, 2013-01-02 00:00:00]|FSO    |6.8        |\n",
      "|[2013-01-01 19:00:00, 2013-01-01 21:00:00]|CDA    |14.0       |\n",
      "|[2013-01-01 19:00:00, 2013-01-01 21:00:00]|CDA    |14.36      |\n",
      "+------------------------------------------+-------+-----------+\n",
      "only showing top 20 rows\n",
      "\n"
     ]
    },
    {
     "name": "stderr",
     "output_type": "stream",
     "text": [
      "23/04/12 17:07:32 WARN ProcessingTimeExecutor: Current batch is falling behind. The trigger interval is 10000 milliseconds, but spent 31238 milliseconds\n",
      "                                                                                \r"
     ]
    },
    {
     "name": "stdout",
     "output_type": "stream",
     "text": [
      "-------------------------------------------\n",
      "Batch: 101\n",
      "-------------------------------------------\n",
      "+------------------------------------------+-------+-----------+-------+------------------------------------------+--------+-----------+\n",
      "|Window                                    |station|temperature|station|window                                    |avg_temp|stddev_temp|\n",
      "+------------------------------------------+-------+-----------+-------+------------------------------------------+--------+-----------+\n",
      "|[2013-01-01 22:00:00, 2013-01-02 00:00:00]|RUT    |14.0       |RUT    |[2012-12-29 00:00:00, 2013-01-05 00:00:00]|30.2    |0.0        |\n",
      "|[2013-01-01 22:00:00, 2013-01-02 00:00:00]|RUT    |14.0       |RUT    |[2013-01-01 00:00:00, 2013-01-08 00:00:00]|30.2    |0.0        |\n",
      "|[2013-01-01 22:00:00, 2013-01-02 00:00:00]|RUT    |14.0       |RUT    |[2012-12-28 00:00:00, 2013-01-04 00:00:00]|30.2    |0.0        |\n",
      "|[2013-01-01 22:00:00, 2013-01-02 00:00:00]|RUT    |14.0       |RUT    |[2012-12-31 00:00:00, 2013-01-07 00:00:00]|30.2    |0.0        |\n",
      "|[2013-01-01 22:00:00, 2013-01-02 00:00:00]|RUT    |14.0       |RUT    |[2012-12-26 00:00:00, 2013-01-02 00:00:00]|30.2    |0.0        |\n",
      "|[2013-01-01 22:00:00, 2013-01-02 00:00:00]|RUT    |14.0       |RUT    |[2012-12-30 00:00:00, 2013-01-06 00:00:00]|30.2    |0.0        |\n",
      "|[2013-01-01 22:00:00, 2013-01-02 00:00:00]|RUT    |14.0       |RUT    |[2012-12-27 00:00:00, 2013-01-03 00:00:00]|30.2    |0.0        |\n",
      "|[2013-01-01 22:00:00, 2013-01-02 00:00:00]|RUT    |14.0       |RUT    |[2012-12-29 00:00:00, 2013-01-05 00:00:00]|30.2    |0.0        |\n",
      "|[2013-01-01 22:00:00, 2013-01-02 00:00:00]|RUT    |14.0       |RUT    |[2013-01-01 00:00:00, 2013-01-08 00:00:00]|30.2    |0.0        |\n",
      "|[2013-01-01 22:00:00, 2013-01-02 00:00:00]|RUT    |14.0       |RUT    |[2012-12-28 00:00:00, 2013-01-04 00:00:00]|30.2    |0.0        |\n",
      "|[2013-01-01 22:00:00, 2013-01-02 00:00:00]|RUT    |14.0       |RUT    |[2012-12-31 00:00:00, 2013-01-07 00:00:00]|30.2    |0.0        |\n",
      "|[2013-01-01 22:00:00, 2013-01-02 00:00:00]|RUT    |14.0       |RUT    |[2012-12-26 00:00:00, 2013-01-02 00:00:00]|30.2    |0.0        |\n",
      "|[2013-01-01 22:00:00, 2013-01-02 00:00:00]|RUT    |14.0       |RUT    |[2012-12-30 00:00:00, 2013-01-06 00:00:00]|30.2    |0.0        |\n",
      "|[2013-01-01 22:00:00, 2013-01-02 00:00:00]|RUT    |14.0       |RUT    |[2012-12-27 00:00:00, 2013-01-03 00:00:00]|30.2    |0.0        |\n",
      "|[2013-01-01 22:00:00, 2013-01-02 00:00:00]|RUT    |14.0       |RUT    |[2012-12-29 00:00:00, 2013-01-05 00:00:00]|30.2    |0.0        |\n",
      "|[2013-01-01 22:00:00, 2013-01-02 00:00:00]|RUT    |14.0       |RUT    |[2013-01-01 00:00:00, 2013-01-08 00:00:00]|30.2    |0.0        |\n",
      "|[2013-01-01 22:00:00, 2013-01-02 00:00:00]|RUT    |14.0       |RUT    |[2012-12-28 00:00:00, 2013-01-04 00:00:00]|30.2    |0.0        |\n",
      "|[2013-01-01 22:00:00, 2013-01-02 00:00:00]|RUT    |14.0       |RUT    |[2012-12-31 00:00:00, 2013-01-07 00:00:00]|30.2    |0.0        |\n",
      "|[2013-01-01 22:00:00, 2013-01-02 00:00:00]|RUT    |14.0       |RUT    |[2012-12-26 00:00:00, 2013-01-02 00:00:00]|30.2    |0.0        |\n",
      "|[2013-01-01 22:00:00, 2013-01-02 00:00:00]|RUT    |14.0       |RUT    |[2012-12-30 00:00:00, 2013-01-06 00:00:00]|30.2    |0.0        |\n",
      "+------------------------------------------+-------+-----------+-------+------------------------------------------+--------+-----------+\n",
      "only showing top 20 rows\n",
      "\n"
     ]
    },
    {
     "name": "stderr",
     "output_type": "stream",
     "text": [
      "23/04/12 17:07:42 WARN ProcessingTimeExecutor: Current batch is falling behind. The trigger interval is 10000 milliseconds, but spent 30079 milliseconds\n",
      "                                                                                \r"
     ]
    },
    {
     "name": "stdout",
     "output_type": "stream",
     "text": [
      "-------------------------------------------\n",
      "Batch: 67\n",
      "-------------------------------------------\n",
      "+------+-------+-----------+-------+------+--------+-----------+\n",
      "|Window|station|temperature|station|window|avg_temp|stddev_temp|\n",
      "+------+-------+-----------+-------+------+--------+-----------+\n",
      "+------+-------+-----------+-------+------+--------+-----------+\n",
      "\n"
     ]
    },
    {
     "name": "stderr",
     "output_type": "stream",
     "text": [
      "23/04/12 17:07:57 WARN ProcessingTimeExecutor: Current batch is falling behind. The trigger interval is 10000 milliseconds, but spent 33566 milliseconds\n",
      "                                                                                \r"
     ]
    },
    {
     "name": "stdout",
     "output_type": "stream",
     "text": [
      "-------------------------------------------\n",
      "Batch: 131\n",
      "-------------------------------------------\n",
      "+------------------------------------------+-------+-----------+\n",
      "|Window                                    |station|temperature|\n",
      "+------------------------------------------+-------+-----------+\n",
      "|[2013-01-01 22:00:00, 2013-01-02 00:00:00]|RUT    |14.0       |\n",
      "|[2013-01-01 22:00:00, 2013-01-02 00:00:00]|RUT    |14.0       |\n",
      "|[2013-01-01 22:00:00, 2013-01-02 00:00:00]|RUT    |14.0       |\n",
      "|[2013-01-01 22:00:00, 2013-01-02 00:00:00]|RUT    |12.2       |\n",
      "|[2013-01-01 22:00:00, 2013-01-02 00:00:00]|RUT    |12.2       |\n",
      "|[2013-01-01 14:00:00, 2013-01-01 16:00:00]|VSF    |26.06      |\n",
      "|[2013-01-01 14:00:00, 2013-01-01 16:00:00]|VSF    |24.98      |\n",
      "|[2013-01-01 06:00:00, 2013-01-01 08:00:00]|RUT    |30.2       |\n",
      "|[2013-01-01 06:00:00, 2013-01-01 08:00:00]|RUT    |30.2       |\n",
      "|[2013-01-01 06:00:00, 2013-01-01 08:00:00]|RUT    |30.2       |\n",
      "|[2013-01-01 06:00:00, 2013-01-01 08:00:00]|RUT    |30.2       |\n",
      "|[2013-01-01 06:00:00, 2013-01-01 08:00:00]|RUT    |30.2       |\n",
      "|[2013-01-01 22:00:00, 2013-01-02 00:00:00]|FSO    |6.98       |\n",
      "|[2013-01-01 22:00:00, 2013-01-02 00:00:00]|FSO    |6.8        |\n",
      "|[2013-01-01 22:00:00, 2013-01-02 00:00:00]|FSO    |6.8        |\n",
      "|[2013-01-01 22:00:00, 2013-01-02 00:00:00]|FSO    |6.8        |\n",
      "|[2013-01-01 22:00:00, 2013-01-02 00:00:00]|FSO    |6.8        |\n",
      "|[2013-01-01 22:00:00, 2013-01-02 00:00:00]|FSO    |6.8        |\n",
      "|[2013-01-01 19:00:00, 2013-01-01 21:00:00]|CDA    |14.0       |\n",
      "|[2013-01-01 19:00:00, 2013-01-01 21:00:00]|CDA    |14.36      |\n",
      "+------------------------------------------+-------+-----------+\n",
      "only showing top 20 rows\n",
      "\n"
     ]
    },
    {
     "name": "stderr",
     "output_type": "stream",
     "text": [
      "23/04/12 17:08:06 WARN ProcessingTimeExecutor: Current batch is falling behind. The trigger interval is 10000 milliseconds, but spent 33963 milliseconds\n",
      "                                                                                \r"
     ]
    },
    {
     "name": "stdout",
     "output_type": "stream",
     "text": [
      "-------------------------------------------\n",
      "Batch: 68\n",
      "-------------------------------------------\n",
      "+------+-------+-----------+-------+------+--------+-----------+\n",
      "|Window|station|temperature|station|window|avg_temp|stddev_temp|\n",
      "+------+-------+-----------+-------+------+--------+-----------+\n",
      "+------+-------+-----------+-------+------+--------+-----------+\n",
      "\n"
     ]
    },
    {
     "name": "stderr",
     "output_type": "stream",
     "text": [
      "23/04/12 17:08:16 WARN ProcessingTimeExecutor: Current batch is falling behind. The trigger interval is 10000 milliseconds, but spent 19081 milliseconds\n",
      "                                                                                \r"
     ]
    },
    {
     "name": "stdout",
     "output_type": "stream",
     "text": [
      "-------------------------------------------\n",
      "Batch: 102\n",
      "-------------------------------------------\n",
      "+------------------------------------------+-------+-----------+-------+------------------------------------------+--------+-----------+\n",
      "|Window                                    |station|temperature|station|window                                    |avg_temp|stddev_temp|\n",
      "+------------------------------------------+-------+-----------+-------+------------------------------------------+--------+-----------+\n",
      "|[2013-01-01 22:00:00, 2013-01-02 00:00:00]|RUT    |14.0       |RUT    |[2012-12-29 00:00:00, 2013-01-05 00:00:00]|30.2    |0.0        |\n",
      "|[2013-01-01 22:00:00, 2013-01-02 00:00:00]|RUT    |14.0       |RUT    |[2013-01-01 00:00:00, 2013-01-08 00:00:00]|30.2    |0.0        |\n",
      "|[2013-01-01 22:00:00, 2013-01-02 00:00:00]|RUT    |14.0       |RUT    |[2012-12-28 00:00:00, 2013-01-04 00:00:00]|30.2    |0.0        |\n",
      "|[2013-01-01 22:00:00, 2013-01-02 00:00:00]|RUT    |14.0       |RUT    |[2012-12-31 00:00:00, 2013-01-07 00:00:00]|30.2    |0.0        |\n",
      "|[2013-01-01 22:00:00, 2013-01-02 00:00:00]|RUT    |14.0       |RUT    |[2012-12-26 00:00:00, 2013-01-02 00:00:00]|30.2    |0.0        |\n",
      "|[2013-01-01 22:00:00, 2013-01-02 00:00:00]|RUT    |14.0       |RUT    |[2012-12-30 00:00:00, 2013-01-06 00:00:00]|30.2    |0.0        |\n",
      "|[2013-01-01 22:00:00, 2013-01-02 00:00:00]|RUT    |14.0       |RUT    |[2012-12-27 00:00:00, 2013-01-03 00:00:00]|30.2    |0.0        |\n",
      "|[2013-01-01 22:00:00, 2013-01-02 00:00:00]|RUT    |14.0       |RUT    |[2012-12-29 00:00:00, 2013-01-05 00:00:00]|30.2    |0.0        |\n",
      "|[2013-01-01 22:00:00, 2013-01-02 00:00:00]|RUT    |14.0       |RUT    |[2013-01-01 00:00:00, 2013-01-08 00:00:00]|30.2    |0.0        |\n",
      "|[2013-01-01 22:00:00, 2013-01-02 00:00:00]|RUT    |14.0       |RUT    |[2012-12-28 00:00:00, 2013-01-04 00:00:00]|30.2    |0.0        |\n",
      "|[2013-01-01 22:00:00, 2013-01-02 00:00:00]|RUT    |14.0       |RUT    |[2012-12-31 00:00:00, 2013-01-07 00:00:00]|30.2    |0.0        |\n",
      "|[2013-01-01 22:00:00, 2013-01-02 00:00:00]|RUT    |14.0       |RUT    |[2012-12-26 00:00:00, 2013-01-02 00:00:00]|30.2    |0.0        |\n",
      "|[2013-01-01 22:00:00, 2013-01-02 00:00:00]|RUT    |14.0       |RUT    |[2012-12-30 00:00:00, 2013-01-06 00:00:00]|30.2    |0.0        |\n",
      "|[2013-01-01 22:00:00, 2013-01-02 00:00:00]|RUT    |14.0       |RUT    |[2012-12-27 00:00:00, 2013-01-03 00:00:00]|30.2    |0.0        |\n",
      "|[2013-01-01 22:00:00, 2013-01-02 00:00:00]|RUT    |14.0       |RUT    |[2012-12-29 00:00:00, 2013-01-05 00:00:00]|30.2    |0.0        |\n",
      "|[2013-01-01 22:00:00, 2013-01-02 00:00:00]|RUT    |14.0       |RUT    |[2013-01-01 00:00:00, 2013-01-08 00:00:00]|30.2    |0.0        |\n",
      "|[2013-01-01 22:00:00, 2013-01-02 00:00:00]|RUT    |14.0       |RUT    |[2012-12-28 00:00:00, 2013-01-04 00:00:00]|30.2    |0.0        |\n",
      "|[2013-01-01 22:00:00, 2013-01-02 00:00:00]|RUT    |14.0       |RUT    |[2012-12-31 00:00:00, 2013-01-07 00:00:00]|30.2    |0.0        |\n",
      "|[2013-01-01 22:00:00, 2013-01-02 00:00:00]|RUT    |14.0       |RUT    |[2012-12-26 00:00:00, 2013-01-02 00:00:00]|30.2    |0.0        |\n",
      "|[2013-01-01 22:00:00, 2013-01-02 00:00:00]|RUT    |14.0       |RUT    |[2012-12-30 00:00:00, 2013-01-06 00:00:00]|30.2    |0.0        |\n",
      "+------------------------------------------+-------+-----------+-------+------------------------------------------+--------+-----------+\n",
      "only showing top 20 rows\n",
      "\n"
     ]
    },
    {
     "name": "stderr",
     "output_type": "stream",
     "text": [
      "23/04/12 17:08:26 WARN ProcessingTimeExecutor: Current batch is falling behind. The trigger interval is 10000 milliseconds, but spent 43151 milliseconds\n",
      "                                                                                \r"
     ]
    },
    {
     "name": "stdout",
     "output_type": "stream",
     "text": [
      "-------------------------------------------\n",
      "Batch: 132\n",
      "-------------------------------------------\n",
      "+------------------------------------------+-------+-----------+\n",
      "|Window                                    |station|temperature|\n",
      "+------------------------------------------+-------+-----------+\n",
      "|[2013-01-01 22:00:00, 2013-01-02 00:00:00]|RUT    |14.0       |\n",
      "|[2013-01-01 22:00:00, 2013-01-02 00:00:00]|RUT    |14.0       |\n",
      "|[2013-01-01 22:00:00, 2013-01-02 00:00:00]|RUT    |14.0       |\n",
      "|[2013-01-01 22:00:00, 2013-01-02 00:00:00]|RUT    |12.2       |\n",
      "|[2013-01-01 22:00:00, 2013-01-02 00:00:00]|RUT    |12.2       |\n",
      "|[2013-01-01 14:00:00, 2013-01-01 16:00:00]|VSF    |26.06      |\n",
      "|[2013-01-01 14:00:00, 2013-01-01 16:00:00]|VSF    |24.98      |\n",
      "|[2013-01-01 06:00:00, 2013-01-01 08:00:00]|RUT    |30.2       |\n",
      "|[2013-01-01 06:00:00, 2013-01-01 08:00:00]|RUT    |30.2       |\n",
      "|[2013-01-01 06:00:00, 2013-01-01 08:00:00]|RUT    |30.2       |\n",
      "|[2013-01-01 06:00:00, 2013-01-01 08:00:00]|RUT    |30.2       |\n",
      "|[2013-01-01 06:00:00, 2013-01-01 08:00:00]|RUT    |30.2       |\n",
      "|[2013-01-01 22:00:00, 2013-01-02 00:00:00]|FSO    |6.98       |\n",
      "|[2013-01-01 22:00:00, 2013-01-02 00:00:00]|FSO    |6.8        |\n",
      "|[2013-01-01 22:00:00, 2013-01-02 00:00:00]|FSO    |6.8        |\n",
      "|[2013-01-01 22:00:00, 2013-01-02 00:00:00]|FSO    |6.8        |\n",
      "|[2013-01-01 22:00:00, 2013-01-02 00:00:00]|FSO    |6.8        |\n",
      "|[2013-01-01 22:00:00, 2013-01-02 00:00:00]|FSO    |6.8        |\n",
      "|[2013-01-01 19:00:00, 2013-01-01 21:00:00]|CDA    |14.0       |\n",
      "|[2013-01-01 19:00:00, 2013-01-01 21:00:00]|CDA    |14.36      |\n",
      "+------------------------------------------+-------+-----------+\n",
      "only showing top 20 rows\n",
      "\n"
     ]
    },
    {
     "name": "stderr",
     "output_type": "stream",
     "text": [
      "23/04/12 17:08:34 WARN ProcessingTimeExecutor: Current batch is falling behind. The trigger interval is 10000 milliseconds, but spent 27571 milliseconds\n",
      "                                                                                \r"
     ]
    },
    {
     "name": "stdout",
     "output_type": "stream",
     "text": [
      "-------------------------------------------\n",
      "Batch: 69\n",
      "-------------------------------------------\n",
      "+------+-------+-----------+-------+------+--------+-----------+\n",
      "|Window|station|temperature|station|window|avg_temp|stddev_temp|\n",
      "+------+-------+-----------+-------+------+--------+-----------+\n",
      "+------+-------+-----------+-------+------+--------+-----------+\n",
      "\n"
     ]
    },
    {
     "name": "stderr",
     "output_type": "stream",
     "text": [
      "23/04/12 17:08:41 WARN ProcessingTimeExecutor: Current batch is falling behind. The trigger interval is 10000 milliseconds, but spent 24578 milliseconds\n",
      "[Stage 1198:(176 + 2) / 200][Stage 1199:> (0 + 0) / 1][Stage 1200:> (0 + 0) / 1]\r"
     ]
    }
   ],
   "source": [
    "final_query.stop()"
   ]
  }
 ],
 "metadata": {
  "kernelspec": {
   "display_name": "Python 3 (ipykernel)",
   "language": "python",
   "name": "python3"
  },
  "language_info": {
   "codemirror_mode": {
    "name": "ipython",
    "version": 3
   },
   "file_extension": ".py",
   "mimetype": "text/x-python",
   "name": "python",
   "nbconvert_exporter": "python",
   "pygments_lexer": "ipython3",
   "version": "3.9.2"
  }
 },
 "nbformat": 4,
 "nbformat_minor": 4
}
